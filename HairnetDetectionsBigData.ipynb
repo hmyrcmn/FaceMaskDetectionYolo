{
  "nbformat": 4,
  "nbformat_minor": 0,
  "metadata": {
    "colab": {
      "provenance": [],
      "authorship_tag": "ABX9TyMKOcmRhVVVkMW8sdUfF57M",
      "include_colab_link": true
    },
    "kernelspec": {
      "name": "python3",
      "display_name": "Python 3"
    },
    "language_info": {
      "name": "python"
    }
  },
  "cells": [
    {
      "cell_type": "markdown",
      "metadata": {
        "id": "view-in-github",
        "colab_type": "text"
      },
      "source": [
        "<a href=\"https://colab.research.google.com/github/hmyrcmn/FaceMaskDetectionYolo/blob/main/HairnetDetectionsBigData.ipynb\" target=\"_parent\"><img src=\"https://colab.research.google.com/assets/colab-badge.svg\" alt=\"Open In Colab\"/></a>"
      ]
    },
    {
      "cell_type": "code",
      "execution_count": 1,
      "metadata": {
        "colab": {
          "base_uri": "https://localhost:8080/",
          "height": 128
        },
        "id": "J9nh1hFk-0i9",
        "outputId": "22859a5d-ddfb-4570-cc57-f8a4fb26ef46"
      },
      "outputs": [
        {
          "data": {
            "text/html": [
              "\n",
              "     <input type=\"file\" id=\"files-56d4ad89-1b52-463e-8516-ce4b53968060\" name=\"files[]\" multiple disabled\n",
              "        style=\"border:none\" />\n",
              "     <output id=\"result-56d4ad89-1b52-463e-8516-ce4b53968060\">\n",
              "      Upload widget is only available when the cell has been executed in the\n",
              "      current browser session. Please rerun this cell to enable.\n",
              "      </output>\n",
              "      <script>// Copyright 2017 Google LLC\n",
              "//\n",
              "// Licensed under the Apache License, Version 2.0 (the \"License\");\n",
              "// you may not use this file except in compliance with the License.\n",
              "// You may obtain a copy of the License at\n",
              "//\n",
              "//      http://www.apache.org/licenses/LICENSE-2.0\n",
              "//\n",
              "// Unless required by applicable law or agreed to in writing, software\n",
              "// distributed under the License is distributed on an \"AS IS\" BASIS,\n",
              "// WITHOUT WARRANTIES OR CONDITIONS OF ANY KIND, either express or implied.\n",
              "// See the License for the specific language governing permissions and\n",
              "// limitations under the License.\n",
              "\n",
              "/**\n",
              " * @fileoverview Helpers for google.colab Python module.\n",
              " */\n",
              "(function(scope) {\n",
              "function span(text, styleAttributes = {}) {\n",
              "  const element = document.createElement('span');\n",
              "  element.textContent = text;\n",
              "  for (const key of Object.keys(styleAttributes)) {\n",
              "    element.style[key] = styleAttributes[key];\n",
              "  }\n",
              "  return element;\n",
              "}\n",
              "\n",
              "// Max number of bytes which will be uploaded at a time.\n",
              "const MAX_PAYLOAD_SIZE = 100 * 1024;\n",
              "\n",
              "function _uploadFiles(inputId, outputId) {\n",
              "  const steps = uploadFilesStep(inputId, outputId);\n",
              "  const outputElement = document.getElementById(outputId);\n",
              "  // Cache steps on the outputElement to make it available for the next call\n",
              "  // to uploadFilesContinue from Python.\n",
              "  outputElement.steps = steps;\n",
              "\n",
              "  return _uploadFilesContinue(outputId);\n",
              "}\n",
              "\n",
              "// This is roughly an async generator (not supported in the browser yet),\n",
              "// where there are multiple asynchronous steps and the Python side is going\n",
              "// to poll for completion of each step.\n",
              "// This uses a Promise to block the python side on completion of each step,\n",
              "// then passes the result of the previous step as the input to the next step.\n",
              "function _uploadFilesContinue(outputId) {\n",
              "  const outputElement = document.getElementById(outputId);\n",
              "  const steps = outputElement.steps;\n",
              "\n",
              "  const next = steps.next(outputElement.lastPromiseValue);\n",
              "  return Promise.resolve(next.value.promise).then((value) => {\n",
              "    // Cache the last promise value to make it available to the next\n",
              "    // step of the generator.\n",
              "    outputElement.lastPromiseValue = value;\n",
              "    return next.value.response;\n",
              "  });\n",
              "}\n",
              "\n",
              "/**\n",
              " * Generator function which is called between each async step of the upload\n",
              " * process.\n",
              " * @param {string} inputId Element ID of the input file picker element.\n",
              " * @param {string} outputId Element ID of the output display.\n",
              " * @return {!Iterable<!Object>} Iterable of next steps.\n",
              " */\n",
              "function* uploadFilesStep(inputId, outputId) {\n",
              "  const inputElement = document.getElementById(inputId);\n",
              "  inputElement.disabled = false;\n",
              "\n",
              "  const outputElement = document.getElementById(outputId);\n",
              "  outputElement.innerHTML = '';\n",
              "\n",
              "  const pickedPromise = new Promise((resolve) => {\n",
              "    inputElement.addEventListener('change', (e) => {\n",
              "      resolve(e.target.files);\n",
              "    });\n",
              "  });\n",
              "\n",
              "  const cancel = document.createElement('button');\n",
              "  inputElement.parentElement.appendChild(cancel);\n",
              "  cancel.textContent = 'Cancel upload';\n",
              "  const cancelPromise = new Promise((resolve) => {\n",
              "    cancel.onclick = () => {\n",
              "      resolve(null);\n",
              "    };\n",
              "  });\n",
              "\n",
              "  // Wait for the user to pick the files.\n",
              "  const files = yield {\n",
              "    promise: Promise.race([pickedPromise, cancelPromise]),\n",
              "    response: {\n",
              "      action: 'starting',\n",
              "    }\n",
              "  };\n",
              "\n",
              "  cancel.remove();\n",
              "\n",
              "  // Disable the input element since further picks are not allowed.\n",
              "  inputElement.disabled = true;\n",
              "\n",
              "  if (!files) {\n",
              "    return {\n",
              "      response: {\n",
              "        action: 'complete',\n",
              "      }\n",
              "    };\n",
              "  }\n",
              "\n",
              "  for (const file of files) {\n",
              "    const li = document.createElement('li');\n",
              "    li.append(span(file.name, {fontWeight: 'bold'}));\n",
              "    li.append(span(\n",
              "        `(${file.type || 'n/a'}) - ${file.size} bytes, ` +\n",
              "        `last modified: ${\n",
              "            file.lastModifiedDate ? file.lastModifiedDate.toLocaleDateString() :\n",
              "                                    'n/a'} - `));\n",
              "    const percent = span('0% done');\n",
              "    li.appendChild(percent);\n",
              "\n",
              "    outputElement.appendChild(li);\n",
              "\n",
              "    const fileDataPromise = new Promise((resolve) => {\n",
              "      const reader = new FileReader();\n",
              "      reader.onload = (e) => {\n",
              "        resolve(e.target.result);\n",
              "      };\n",
              "      reader.readAsArrayBuffer(file);\n",
              "    });\n",
              "    // Wait for the data to be ready.\n",
              "    let fileData = yield {\n",
              "      promise: fileDataPromise,\n",
              "      response: {\n",
              "        action: 'continue',\n",
              "      }\n",
              "    };\n",
              "\n",
              "    // Use a chunked sending to avoid message size limits. See b/62115660.\n",
              "    let position = 0;\n",
              "    do {\n",
              "      const length = Math.min(fileData.byteLength - position, MAX_PAYLOAD_SIZE);\n",
              "      const chunk = new Uint8Array(fileData, position, length);\n",
              "      position += length;\n",
              "\n",
              "      const base64 = btoa(String.fromCharCode.apply(null, chunk));\n",
              "      yield {\n",
              "        response: {\n",
              "          action: 'append',\n",
              "          file: file.name,\n",
              "          data: base64,\n",
              "        },\n",
              "      };\n",
              "\n",
              "      let percentDone = fileData.byteLength === 0 ?\n",
              "          100 :\n",
              "          Math.round((position / fileData.byteLength) * 100);\n",
              "      percent.textContent = `${percentDone}% done`;\n",
              "\n",
              "    } while (position < fileData.byteLength);\n",
              "  }\n",
              "\n",
              "  // All done.\n",
              "  yield {\n",
              "    response: {\n",
              "      action: 'complete',\n",
              "    }\n",
              "  };\n",
              "}\n",
              "\n",
              "scope.google = scope.google || {};\n",
              "scope.google.colab = scope.google.colab || {};\n",
              "scope.google.colab._files = {\n",
              "  _uploadFiles,\n",
              "  _uploadFilesContinue,\n",
              "};\n",
              "})(self);\n",
              "</script> "
            ],
            "text/plain": [
              "<IPython.core.display.HTML object>"
            ]
          },
          "metadata": {},
          "output_type": "display_data"
        },
        {
          "metadata": {
            "tags": null
          },
          "name": "stdout",
          "output_type": "stream",
          "text": [
            "Saving kaggle.json to kaggle.json\n",
            "Downloading hairnetbig.zip to /content\n",
            "100% 4.12G/4.12G [00:47<00:00, 73.5MB/s]\n",
            "100% 4.12G/4.12G [00:47<00:00, 93.8MB/s]\n"
          ]
        }
      ],
      "source": [
        "# 1. Kaggle API anahtarını yükleyin\n",
        "from google.colab import files\n",
        "files.upload()\n",
        "\n",
        "# 2. API anahtarını taşıyın ve gizli bir şekilde saklayın\n",
        "!mkdir -p ~/.kaggle\n",
        "!mv kaggle.json ~/.kaggle/\n",
        "!chmod 600 ~/.kaggle/kaggle.json\n",
        "\n",
        "# 3. Veri setini indirin\n",
        "!kaggle datasets download -d kierangriffin/hairnetbig\n",
        "\n",
        "# 4. Veri setini çıkartın\n",
        "!unzip -q hairnetbig.zip -d ./hairnetbig-detection\n"
      ]
    },
    {
      "cell_type": "code",
      "source": [
        "# An image in the Data Set(Veri Seti içerisinde bir resim)\n",
        "Image.open(\"/content/hairnetbig-detection/data/strands00002_00029_10000_v0.png\")\n"
      ],
      "metadata": {
        "colab": {
          "base_uri": "https://localhost:8080/",
          "height": 217
        },
        "id": "Z6k5bSzpB675",
        "outputId": "260798e6-42f7-4ae0-f65b-40b50f6ffeb2"
      },
      "execution_count": 2,
      "outputs": [
        {
          "output_type": "error",
          "ename": "NameError",
          "evalue": "ignored",
          "traceback": [
            "\u001b[0;31m---------------------------------------------------------------------------\u001b[0m",
            "\u001b[0;31mNameError\u001b[0m                                 Traceback (most recent call last)",
            "\u001b[0;32m<ipython-input-2-ef087c7d4378>\u001b[0m in \u001b[0;36m<cell line: 2>\u001b[0;34m()\u001b[0m\n\u001b[1;32m      1\u001b[0m \u001b[0;31m# An image in the Data Set(Veri Seti içerisinde bir resim)\u001b[0m\u001b[0;34m\u001b[0m\u001b[0;34m\u001b[0m\u001b[0m\n\u001b[0;32m----> 2\u001b[0;31m \u001b[0mImage\u001b[0m\u001b[0;34m.\u001b[0m\u001b[0mopen\u001b[0m\u001b[0;34m(\u001b[0m\u001b[0;34m\"/content/hairnetbig-detection/data/strands00002_00029_10000_v0.png\"\u001b[0m\u001b[0;34m)\u001b[0m\u001b[0;34m\u001b[0m\u001b[0;34m\u001b[0m\u001b[0m\n\u001b[0m",
            "\u001b[0;31mNameError\u001b[0m: name 'Image' is not defined"
          ]
        }
      ]
    },
    {
      "cell_type": "code",
      "source": [
        "import cv2\n",
        "import numpy as np\n",
        "import torch\n",
        "from IPython.display import Image, display\n"
      ],
      "metadata": {
        "id": "gqt531Y1FpZl"
      },
      "execution_count": null,
      "outputs": []
    },
    {
      "cell_type": "code",
      "source": [
        "!pip install ultralytics\n",
        "\n",
        "import torch\n",
        "\n",
        "# Modeli GitHub'dan çekin\n",
        "model_url = \"https://github.com/hmyrcmn/FaceMaskDetectionYolo/raw/main/yolov8n.pt\"\n",
        "model_path = \"yolov8n.pt\"\n",
        "torch.hub.download_url_to_file(model_url, model_path)\n",
        "\n",
        "# Modeli yükle\n",
        "model = torch.load(model_path)"
      ],
      "metadata": {
        "id": "qgY723NgFAS6"
      },
      "execution_count": null,
      "outputs": []
    },
    {
      "cell_type": "code",
      "source": [
        "test_image_path = \"/content/hairnetbig-detection/data/strands00002_00004_10000_v0.png\"  # Test için bir resim seçin\n",
        "# Resmi okuyun\n",
        "image = cv2.imread(test_image_path)\n",
        "\n",
        "# Resmi YOLOv8 modeliyle işleyin\n",
        "results = model(image)\n",
        "\n",
        "# Sonuçları görselleştirin\n",
        "for result in results.pred[0]:\n",
        "    label = result[-1]\n",
        "    confidence = result[4]\n",
        "    if confidence > 0.5:  # Belirli bir güven eşiği belirleyin\n",
        "        x1, y1, x2, y2 = map(int, result[:4])\n",
        "        cv2.rectangle(image, (x1, y1), (x2, y2), (0, 255, 0), 2)\n",
        "        cv2.putText(image, label, (x1, y1 - 10), cv2.FONT_HERSHEY_SIMPLEX, 0.5, (0, 255, 0), 2)\n",
        "\n",
        "# Sonuçları görselleştirin\n",
        "display(Image(cv2.cvtColor(image, cv2.COLOR_BGR2RGB)))\n"
      ],
      "metadata": {
        "id": "9sNMBGKrFxb1"
      },
      "execution_count": null,
      "outputs": []
    },
    {
      "cell_type": "code",
      "source": [
        "# Resmi okuyun\n",
        "image = cv2.imread(test_image_path)\n",
        "\n",
        "# Resmi YOLOv8 modeliyle işleyin\n",
        "results = model(image)\n",
        "\n",
        "# Sonuçları görselleştirin\n",
        "for result in results.pred[0]:\n",
        "    label = result[-1]\n",
        "    confidence = result[4]\n",
        "    if confidence > 0.5:  # Belirli bir güven eşiği belirleyin\n",
        "        x1, y1, x2, y2 = map(int, result[:4])\n",
        "        cv2.rectangle(image, (x1, y1), (x2, y2), (0, 255, 0), 2)\n",
        "        cv2.putText(image, label, (x1, y1 - 10), cv2.FONT_HERSHEY_SIMPLEX, 0.5, (0, 255, 0), 2)\n",
        "\n",
        "# Sonuçları görselleştirin\n",
        "display(Image(cv2.cvtColor(image, cv2.COLOR_BGR2RGB)))\n"
      ],
      "metadata": {
        "id": "uylZuu6lFd24"
      },
      "execution_count": null,
      "outputs": []
    },
    {
      "cell_type": "code",
      "source": [
        "# Gerekli kütüphaneleri içe aktarın\n",
        "import numpy as np\n",
        "\n",
        "# Dosyanın yolunu belirtin\n",
        "file_path = '/content/hairnetbig-detection/convdata/strands00002_00034_10000.convdata'\n",
        "\n",
        "# Dosyayı açın ve verileri okuyun\n",
        "with open(file_path, 'rb') as file:\n",
        "    # Verileri okuyun\n",
        "    data = file.read()\n",
        "\n",
        "# Veriyi işleyin\n",
        "# Örnek olarak, verinin ilk 10 baytını görüntüleyelim\n",
        "print(data[:10])\n"
      ],
      "metadata": {
        "id": "SH4z0Gr-CSp4"
      },
      "execution_count": null,
      "outputs": []
    },
    {
      "cell_type": "code",
      "source": [
        "# I import libraries that I will use.(Kullanacağım kütüphaneleri import ediyorum.)\n",
        "import numpy as np\n",
        "import pandas as pd\n",
        "import matplotlib.pyplot as plt\n",
        "\n",
        "# For preparing (Hazırlık için)\n",
        "import xml.etree.cElementTree as ET\n",
        "import glob\n",
        "import os\n",
        "import json\n",
        "import random\n",
        "import shutil\n",
        "\n",
        "from PIL import Image, ImageOps"
      ],
      "metadata": {
        "id": "q4DuZpWV_kZs"
      },
      "execution_count": null,
      "outputs": []
    },
    {
      "cell_type": "code",
      "source": [
        "# Tagged data in XML format(Etiketlenmiş verilerin XML formatındaki hali)\n",
        "with open('/content/face-mask-detection/annotations/maksssksksss0.xml') as f:\n",
        "    contents = f.read()\n",
        "    print(contents)"
      ],
      "metadata": {
        "id": "_157Jw7p_kXi"
      },
      "execution_count": null,
      "outputs": []
    },
    {
      "cell_type": "code",
      "source": [
        "# Converting XML format data to TXT format(XML formatındaki verileri TXT formatına dönüştürme)\n",
        "def xml_to_yolo_bbox(bbox, w, h):\n",
        "    # xmin, ymin, xmax, ymax\n",
        "    x_center = ((bbox[2] + bbox[0]) / 2) / w\n",
        "    y_center = ((bbox[3] + bbox[1]) / 2) / h\n",
        "\n",
        "    width = (bbox[2] - bbox[0]) / w\n",
        "    height = (bbox[3] - bbox[1]) / h\n",
        "\n",
        "    return [x_center, y_center, width, height]\n",
        "\n",
        "def yolo_to_xml_bbox(bbox, w, h):\n",
        "    # x_center, y_center, width, height\n",
        "    w_half_len = (bbox[2] * w) / 2\n",
        "    h_half_len = (bbox[3] * h) / 2\n",
        "\n",
        "    xmin = int((bbox[0] * w) - w_half_len)\n",
        "    ymin = int((bbox[1] * h) - h_half_len)\n",
        "    xmax = int((bbox[0] * w) + w_half_len)\n",
        "    ymax = int((bbox[1] * h) + h_half_len)\n",
        "\n",
        "    return [xmin, ymin, xmax, ymax]\n",
        "\n",
        "classes = [\"without_hairnet\", \"with_hairnet\", \"hairnet_weared_incorrect\"]\n",
        "\n",
        "input_dir = \"/content/face-mask-detection/annotations\"\n",
        "output_dir = \"/content/labels\"\n",
        "image_dir = \"/content/face-mask-detection/images\"\n",
        "\n",
        "\n",
        "if not os.path.isdir(output_dir):\n",
        "    os.mkdir(output_dir)\n",
        "\n",
        "import glob\n",
        "\n",
        "files = glob.glob(os.path.join(input_dir, \"*.xml\"))\n",
        "for fil in files:\n",
        "    basename = os.path.basename(fil)\n",
        "    filename = os.path.splitext(basename)[0]\n",
        "    if not os.path.exists(os.path.join(image_dir, f\"{filename}.png\")):\n",
        "        print(f\"{filename} image does not exist!\")\n",
        "        continue\n",
        "\n",
        "    result = []\n",
        "\n",
        "    # Parse the content of the xml file(Xml dosyasının içeriğini ayrıştırın)\n",
        "    tree = ET.parse(fil)\n",
        "    root = tree.getroot()\n",
        "    width = int(root.find(\"size\").find(\"width\").text)\n",
        "    height = int(root.find(\"size\").find(\"height\").text)\n",
        "\n",
        "    for obj in root.findall(\"object\"):\n",
        "        label = obj.find(\"name\").text\n",
        "\n",
        "        # check for new classes and append to list(yeni sınıfları kontrol edin ve listeye ekleyin)\n",
        "        if label not in classes:\n",
        "            classes.append(label)\n",
        "        index = classes.index(label)\n",
        "        pil_bbox = [int(x.text) for x in obj.find(\"bndbox\")]\n",
        "        yolo_bbox = xml_to_yolo_bbox(pil_bbox, width, height)\n",
        "\n",
        "        # convert data to string(verileri dizeye dönüştür)\n",
        "        bbox_string = \" \".join([str(x) for x in yolo_bbox])\n",
        "        result.append(f\"{index} {bbox_string}\")\n",
        "\n",
        "    if result:\n",
        "        # generate a yolo format text file for each xml file(her xml dosyası için yolo formatında bir metin dosyası oluşturun)\n",
        "        with open(os.path.join(output_dir, f\"{filename}.txt\"), \"w\", encoding = \"utf-8\") as f:\n",
        "            f.write(\"\\n\".join(result))\n",
        "# generate the classes file as reference(sınıf dosyasını referans olarak oluştur)\n",
        "with open(\"/content/classes.txt\", \"w\", encoding = \"utf-8\") as f:\n",
        "    f.write(json.dumps(classes))"
      ],
      "metadata": {
        "id": "W9z8Ibiw_kSx"
      },
      "execution_count": null,
      "outputs": []
    },
    {
      "cell_type": "code",
      "source": [
        "# An image in the Data Set(Veri Seti içerisinde bir resim)\n",
        "Image.open(\"/content/face-mask-detection/images/maksssksksss0.png\")\n"
      ],
      "metadata": {
        "id": "YNQhO06a_kQf"
      },
      "execution_count": null,
      "outputs": []
    },
    {
      "cell_type": "code",
      "source": [],
      "metadata": {
        "id": "KJjA45fR_kON"
      },
      "execution_count": null,
      "outputs": []
    },
    {
      "cell_type": "code",
      "source": [],
      "metadata": {
        "id": "3L8U7ACo_kMA"
      },
      "execution_count": null,
      "outputs": []
    }
  ]
}