{
  "nbformat": 4,
  "nbformat_minor": 0,
  "metadata": {
    "colab": {
      "provenance": [],
      "authorship_tag": "ABX9TyODJssjU6Lo0EvFXlALo324",
      "include_colab_link": true
    },
    "kernelspec": {
      "name": "python3",
      "display_name": "Python 3"
    },
    "language_info": {
      "name": "python"
    }
  },
  "cells": [
    {
      "cell_type": "markdown",
      "metadata": {
        "id": "view-in-github",
        "colab_type": "text"
      },
      "source": [
        "<a href=\"https://colab.research.google.com/github/hmyrcmn/FaceMaskDetectionYolo/blob/main/GoogleSearchImageDownloadWithCode.ipynb\" target=\"_parent\"><img src=\"https://colab.research.google.com/assets/colab-badge.svg\" alt=\"Open In Colab\"/></a>"
      ]
    },
    {
      "cell_type": "code",
      "source": [
        "!pip install google_images_download\n"
      ],
      "metadata": {
        "colab": {
          "base_uri": "https://localhost:8080/"
        },
        "id": "4HZELAZKmJuc",
        "outputId": "e6bb7f72-b9c8-4c63-cfae-30305ec8f67d"
      },
      "execution_count": null,
      "outputs": [
        {
          "output_type": "stream",
          "name": "stdout",
          "text": [
            "Collecting google_images_download\n",
            "  Downloading google_images_download-2.8.0.tar.gz (14 kB)\n",
            "  Preparing metadata (setup.py) ... \u001b[?25l\u001b[?25hdone\n",
            "Collecting selenium (from google_images_download)\n",
            "  Downloading selenium-4.15.0-py3-none-any.whl (10.2 MB)\n",
            "\u001b[2K     \u001b[90m━━━━━━━━━━━━━━━━━━━━━━━━━━━━━━━━━━━━━━━━\u001b[0m \u001b[32m10.2/10.2 MB\u001b[0m \u001b[31m30.2 MB/s\u001b[0m eta \u001b[36m0:00:00\u001b[0m\n",
            "\u001b[?25hRequirement already satisfied: urllib3[socks]<3,>=1.26 in /usr/local/lib/python3.10/dist-packages (from selenium->google_images_download) (2.0.7)\n",
            "Collecting trio~=0.17 (from selenium->google_images_download)\n",
            "  Downloading trio-0.22.2-py3-none-any.whl (400 kB)\n",
            "\u001b[2K     \u001b[90m━━━━━━━━━━━━━━━━━━━━━━━━━━━━━━━━━━━━━━━━\u001b[0m \u001b[32m400.2/400.2 kB\u001b[0m \u001b[31m30.2 MB/s\u001b[0m eta \u001b[36m0:00:00\u001b[0m\n",
            "\u001b[?25hCollecting trio-websocket~=0.9 (from selenium->google_images_download)\n",
            "  Downloading trio_websocket-0.11.1-py3-none-any.whl (17 kB)\n",
            "Requirement already satisfied: certifi>=2021.10.8 in /usr/local/lib/python3.10/dist-packages (from selenium->google_images_download) (2023.7.22)\n",
            "Requirement already satisfied: attrs>=20.1.0 in /usr/local/lib/python3.10/dist-packages (from trio~=0.17->selenium->google_images_download) (23.1.0)\n",
            "Requirement already satisfied: sortedcontainers in /usr/local/lib/python3.10/dist-packages (from trio~=0.17->selenium->google_images_download) (2.4.0)\n",
            "Requirement already satisfied: idna in /usr/local/lib/python3.10/dist-packages (from trio~=0.17->selenium->google_images_download) (3.4)\n",
            "Collecting outcome (from trio~=0.17->selenium->google_images_download)\n",
            "  Downloading outcome-1.3.0.post0-py2.py3-none-any.whl (10 kB)\n",
            "Requirement already satisfied: sniffio in /usr/local/lib/python3.10/dist-packages (from trio~=0.17->selenium->google_images_download) (1.3.0)\n",
            "Requirement already satisfied: exceptiongroup>=1.0.0rc9 in /usr/local/lib/python3.10/dist-packages (from trio~=0.17->selenium->google_images_download) (1.1.3)\n",
            "Collecting wsproto>=0.14 (from trio-websocket~=0.9->selenium->google_images_download)\n",
            "  Downloading wsproto-1.2.0-py3-none-any.whl (24 kB)\n",
            "Requirement already satisfied: pysocks!=1.5.7,<2.0,>=1.5.6 in /usr/local/lib/python3.10/dist-packages (from urllib3[socks]<3,>=1.26->selenium->google_images_download) (1.7.1)\n",
            "Collecting h11<1,>=0.9.0 (from wsproto>=0.14->trio-websocket~=0.9->selenium->google_images_download)\n",
            "  Downloading h11-0.14.0-py3-none-any.whl (58 kB)\n",
            "\u001b[2K     \u001b[90m━━━━━━━━━━━━━━━━━━━━━━━━━━━━━━━━━━━━━━━━\u001b[0m \u001b[32m58.3/58.3 kB\u001b[0m \u001b[31m2.3 MB/s\u001b[0m eta \u001b[36m0:00:00\u001b[0m\n",
            "\u001b[?25hBuilding wheels for collected packages: google_images_download\n",
            "  Building wheel for google_images_download (setup.py) ... \u001b[?25l\u001b[?25hdone\n",
            "  Created wheel for google_images_download: filename=google_images_download-2.8.0-py2.py3-none-any.whl size=14533 sha256=b7cc1b00e3180eafd388622fdacb13069aa5e6f77a3fccc8ba9cc424cb41b212\n",
            "  Stored in directory: /root/.cache/pip/wheels/5b/f2/64/0eecb22fee5cbc0321d332492ddcc45b03c6373b5616ee95c8\n",
            "Successfully built google_images_download\n",
            "Installing collected packages: outcome, h11, wsproto, trio, trio-websocket, selenium, google_images_download\n",
            "Successfully installed google_images_download-2.8.0 h11-0.14.0 outcome-1.3.0.post0 selenium-4.15.0 trio-0.22.2 trio-websocket-0.11.1 wsproto-1.2.0\n"
          ]
        }
      ]
    },
    {
      "cell_type": "code",
      "execution_count": null,
      "metadata": {
        "colab": {
          "base_uri": "https://localhost:8080/"
        },
        "id": "z2C5_YuIkfpv",
        "outputId": "c3e2c720-2403-49ca-c0e6-b9a86348636b"
      },
      "outputs": [
        {
          "output_type": "stream",
          "name": "stdout",
          "text": [
            "Resim 1 başarıyla indirildi.\n",
            "Resim 2 başarıyla indirildi.\n",
            "Resim 3 başarıyla indirildi.\n",
            "Resim 4 başarıyla indirildi.\n",
            "Resim 5 başarıyla indirildi.\n",
            "Resim 6 başarıyla indirildi.\n",
            "Resim 7 başarıyla indirildi.\n",
            "Resim 8 başarıyla indirildi.\n",
            "Resim 9 başarıyla indirildi.\n",
            "Resim 10 başarıyla indirildi.\n",
            "Resim 11 başarıyla indirildi.\n",
            "Resim 12 başarıyla indirildi.\n",
            "Resim 13 başarıyla indirildi.\n",
            "Resim 14 başarıyla indirildi.\n",
            "Resim 15 başarıyla indirildi.\n",
            "Resim 16 başarıyla indirildi.\n",
            "Resim 17 başarıyla indirildi.\n",
            "Resim 18 başarıyla indirildi.\n",
            "Resim 19 başarıyla indirildi.\n",
            "Resim 20 başarıyla indirildi.\n",
            "Resim 21 başarıyla indirildi.\n",
            "Resim 22 başarıyla indirildi.\n",
            "Resim 23 başarıyla indirildi.\n",
            "Resim 24 başarıyla indirildi.\n",
            "Resim 25 başarıyla indirildi.\n",
            "Resim 26 başarıyla indirildi.\n",
            "Resim 27 başarıyla indirildi.\n",
            "Resim 28 başarıyla indirildi.\n",
            "Resim 29 başarıyla indirildi.\n",
            "Resim 30 başarıyla indirildi.\n",
            "Resim 31 başarıyla indirildi.\n",
            "Toplamda 31 resim başarıyla indirildi.\n"
          ]
        }
      ],
      "source": [
        "import requests\n",
        "from bs4 import BeautifulSoup\n",
        "import re\n",
        "import os\n",
        "\n",
        "# Hedef URL\n",
        "url=\"https://www.yandex.com.tr/gorsel/search?from=tabbar&text=people%20in%20food%20%20factory\"\n",
        "response = requests.get(url)\n",
        "page_content = response.text\n",
        "\n",
        "# Sayfayı BeautifulSoup ile analiz etme\n",
        "soup = BeautifulSoup(page_content, \"html.parser\")\n",
        "\n",
        "# Görsel URL'lerini toplama\n",
        "image_urls = []\n",
        "\n",
        "for img in soup.find_all(\"img\"):\n",
        "    img_url = img.get(\"src\")\n",
        "    if img_url:\n",
        "        if img_url.startswith(\"//\"):\n",
        "            img_url = \"https:\" + img_url\n",
        "        image_urls.append(img_url)\n",
        "\n",
        "# Resimleri indirme ve kaydetme\n",
        "download_folder = \"food_industry_images11\"\n",
        "os.makedirs(download_folder, exist_ok=True)\n",
        "\n",
        "for i, img_url in enumerate(image_urls):\n",
        "    try:\n",
        "        img_data = requests.get(img_url).content\n",
        "        with open(f\"{download_folder}/image_{i+255}.jpg\", \"wb\") as img_file:\n",
        "            img_file.write(img_data)\n",
        "        print(f\"Resim {i+1} başarıyla indirildi.\")\n",
        "    except Exception as e:\n",
        "        print(f\"Hata oluştu: {e}\")\n",
        "\n",
        "print(\"Toplamda\", len(image_urls), \"resim başarıyla indirildi.\")\n"
      ]
    },
    {
      "cell_type": "markdown",
      "source": [
        "from google.colab import files\n",
        "import shutil\n",
        "\n",
        "# İndirilecek klasörü bir zip dosyası olarak sıkıştır\n",
        "shutil.make_archive(\"/content/food_industry_images11\", 'zip', \"/content/food_industry_images11\")\n",
        "\n",
        "# Sıkıştırılmış dosyayı indir\n",
        "files.download(\"/content/food_industry_images11\")\n"
      ],
      "metadata": {
        "id": "OOXAUrlBnmca"
      }
    },
    {
      "cell_type": "code",
      "source": [
        "from google.colab import files\n",
        "import shutil\n",
        "\n",
        "# İndirilecek klasörü bir zip dosyası olarak sıkıştır\n",
        "shutil.make_archive(\"/content/food_industry_images11\", 'zip', \"/content/food_industry_images\")\n",
        "\n",
        "# Sıkıştırılmış dosyayı indir\n",
        "files.download(\"/content/food_industry_images.zip\")\n"
      ],
      "metadata": {
        "colab": {
          "base_uri": "https://localhost:8080/",
          "height": 34
        },
        "id": "nCKMgqncn8jr",
        "outputId": "8d2e1b89-7204-4b7c-9bf4-ee0a31fafa48"
      },
      "execution_count": null,
      "outputs": [
        {
          "output_type": "display_data",
          "data": {
            "text/plain": [
              "<IPython.core.display.Javascript object>"
            ],
            "application/javascript": [
              "\n",
              "    async function download(id, filename, size) {\n",
              "      if (!google.colab.kernel.accessAllowed) {\n",
              "        return;\n",
              "      }\n",
              "      const div = document.createElement('div');\n",
              "      const label = document.createElement('label');\n",
              "      label.textContent = `Downloading \"${filename}\": `;\n",
              "      div.appendChild(label);\n",
              "      const progress = document.createElement('progress');\n",
              "      progress.max = size;\n",
              "      div.appendChild(progress);\n",
              "      document.body.appendChild(div);\n",
              "\n",
              "      const buffers = [];\n",
              "      let downloaded = 0;\n",
              "\n",
              "      const channel = await google.colab.kernel.comms.open(id);\n",
              "      // Send a message to notify the kernel that we're ready.\n",
              "      channel.send({})\n",
              "\n",
              "      for await (const message of channel.messages) {\n",
              "        // Send a message to notify the kernel that we're ready.\n",
              "        channel.send({})\n",
              "        if (message.buffers) {\n",
              "          for (const buffer of message.buffers) {\n",
              "            buffers.push(buffer);\n",
              "            downloaded += buffer.byteLength;\n",
              "            progress.value = downloaded;\n",
              "          }\n",
              "        }\n",
              "      }\n",
              "      const blob = new Blob(buffers, {type: 'application/binary'});\n",
              "      const a = document.createElement('a');\n",
              "      a.href = window.URL.createObjectURL(blob);\n",
              "      a.download = filename;\n",
              "      div.appendChild(a);\n",
              "      a.click();\n",
              "      div.remove();\n",
              "    }\n",
              "  "
            ]
          },
          "metadata": {}
        },
        {
          "output_type": "display_data",
          "data": {
            "text/plain": [
              "<IPython.core.display.Javascript object>"
            ],
            "application/javascript": [
              "download(\"download_0b5841c3-d227-485d-acfb-601d1fdfd780\", \"food_industry_images.zip\", 3127162)"
            ]
          },
          "metadata": {}
        }
      ]
    },
    {
      "cell_type": "code",
      "source": [
        "from google.colab import files\n",
        "import shutil\n",
        "\n",
        "# İndirilecek klasörü bir zip dosyası olarak sıkıştır\n",
        "shutil.make_archive(\"/content/food_industry_images6\", 'zip', \"/content/food_industry_images6\")\n",
        "\n",
        "# Sıkıştırılmış dosyayı indir\n",
        "files.download(\"/content/food_industry_images6.zip\")\n"
      ],
      "metadata": {
        "colab": {
          "base_uri": "https://localhost:8080/",
          "height": 17
        },
        "id": "JRC8q1qZn_5t",
        "outputId": "f4bda6e1-8b76-4615-b1c5-2e88a996e63f"
      },
      "execution_count": null,
      "outputs": [
        {
          "output_type": "display_data",
          "data": {
            "text/plain": [
              "<IPython.core.display.Javascript object>"
            ],
            "application/javascript": [
              "\n",
              "    async function download(id, filename, size) {\n",
              "      if (!google.colab.kernel.accessAllowed) {\n",
              "        return;\n",
              "      }\n",
              "      const div = document.createElement('div');\n",
              "      const label = document.createElement('label');\n",
              "      label.textContent = `Downloading \"${filename}\": `;\n",
              "      div.appendChild(label);\n",
              "      const progress = document.createElement('progress');\n",
              "      progress.max = size;\n",
              "      div.appendChild(progress);\n",
              "      document.body.appendChild(div);\n",
              "\n",
              "      const buffers = [];\n",
              "      let downloaded = 0;\n",
              "\n",
              "      const channel = await google.colab.kernel.comms.open(id);\n",
              "      // Send a message to notify the kernel that we're ready.\n",
              "      channel.send({})\n",
              "\n",
              "      for await (const message of channel.messages) {\n",
              "        // Send a message to notify the kernel that we're ready.\n",
              "        channel.send({})\n",
              "        if (message.buffers) {\n",
              "          for (const buffer of message.buffers) {\n",
              "            buffers.push(buffer);\n",
              "            downloaded += buffer.byteLength;\n",
              "            progress.value = downloaded;\n",
              "          }\n",
              "        }\n",
              "      }\n",
              "      const blob = new Blob(buffers, {type: 'application/binary'});\n",
              "      const a = document.createElement('a');\n",
              "      a.href = window.URL.createObjectURL(blob);\n",
              "      a.download = filename;\n",
              "      div.appendChild(a);\n",
              "      a.click();\n",
              "      div.remove();\n",
              "    }\n",
              "  "
            ]
          },
          "metadata": {}
        },
        {
          "output_type": "display_data",
          "data": {
            "text/plain": [
              "<IPython.core.display.Javascript object>"
            ],
            "application/javascript": [
              "download(\"download_0dd80bf4-57a5-463e-bff8-e3697d8facdf\", \"food_industry_images6.zip\", 1301913)"
            ]
          },
          "metadata": {}
        }
      ]
    },
    {
      "cell_type": "code",
      "source": [],
      "metadata": {
        "id": "lw6elQFfNtGO"
      },
      "execution_count": null,
      "outputs": []
    },
    {
      "cell_type": "code",
      "source": [
        "import requests\n",
        "from bs4 import BeautifulSoup\n",
        "import re\n",
        "import os\n",
        "\n",
        "# Hedef URL\n",
        "url=\"https://www.yandex.com.tr/gorsel/search?from=tabbar&text=mask%20and%20hairnet%20img%20food%20industry\"\n",
        "# Sayfa içeriğini çekme\n",
        "response = requests.get(url)\n",
        "page_content = response.text\n",
        "\n",
        "# Sayfayı BeautifulSoup ile analiz etme\n",
        "soup = BeautifulSoup(page_content, \"html.parser\")\n",
        "\n",
        "# Görsel URL'lerini toplama\n",
        "image_urls = []\n",
        "\n",
        "for img in soup.find_all(\"img\"):\n",
        "    img_url = img.get(\"src\")\n",
        "    if img_url:\n",
        "        if img_url.startswith(\"//\"):\n",
        "            img_url = \"https:\" + img_url\n",
        "        image_urls.append(img_url)\n",
        "\n",
        "# Resimleri indirme ve kaydetme\n",
        "download_folder = \"food_industry_images\"\n",
        "os.makedirs(download_folder, exist_ok=True)\n",
        "\n",
        "for i, img_url in enumerate(image_urls):\n",
        "    try:\n",
        "        img_data = requests.get(img_url).content\n",
        "        with open(f\"{download_folder}/image_{i+32}.jpg\", \"wb\") as img_file:\n",
        "            img_file.write(img_data)\n",
        "        print(f\"Resim {i+1} başarıyla indirildi.\")\n",
        "    except Exception as e:\n",
        "        print(f\"Hata oluştu: {e}\")\n",
        "\n",
        "print(\"Toplamda\", len(image_urls), \"resim başarıyla indirildi.\")\n"
      ],
      "metadata": {
        "colab": {
          "base_uri": "https://localhost:8080/"
        },
        "id": "HKtCfYKVn_MY",
        "outputId": "54ae377b-2662-407e-e6be-fdda8c794728"
      },
      "execution_count": null,
      "outputs": [
        {
          "output_type": "stream",
          "name": "stdout",
          "text": [
            "Resim 1 başarıyla indirildi.\n",
            "Resim 2 başarıyla indirildi.\n",
            "Resim 3 başarıyla indirildi.\n",
            "Resim 4 başarıyla indirildi.\n",
            "Resim 5 başarıyla indirildi.\n",
            "Resim 6 başarıyla indirildi.\n",
            "Resim 7 başarıyla indirildi.\n",
            "Resim 8 başarıyla indirildi.\n",
            "Resim 9 başarıyla indirildi.\n",
            "Resim 10 başarıyla indirildi.\n",
            "Resim 11 başarıyla indirildi.\n",
            "Resim 12 başarıyla indirildi.\n",
            "Resim 13 başarıyla indirildi.\n",
            "Resim 14 başarıyla indirildi.\n",
            "Resim 15 başarıyla indirildi.\n",
            "Resim 16 başarıyla indirildi.\n",
            "Resim 17 başarıyla indirildi.\n",
            "Resim 18 başarıyla indirildi.\n",
            "Resim 19 başarıyla indirildi.\n",
            "Resim 20 başarıyla indirildi.\n",
            "Resim 21 başarıyla indirildi.\n",
            "Resim 22 başarıyla indirildi.\n",
            "Resim 23 başarıyla indirildi.\n",
            "Resim 24 başarıyla indirildi.\n",
            "Resim 25 başarıyla indirildi.\n",
            "Resim 26 başarıyla indirildi.\n",
            "Resim 27 başarıyla indirildi.\n",
            "Resim 28 başarıyla indirildi.\n",
            "Resim 29 başarıyla indirildi.\n",
            "Resim 30 başarıyla indirildi.\n",
            "Resim 31 başarıyla indirildi.\n",
            "Toplamda 31 resim başarıyla indirildi.\n"
          ]
        }
      ]
    },
    {
      "cell_type": "code",
      "source": [
        "https://www.yandex.com.tr/gorsel/search?cbir_id=2079563%2FavUCats9Vi6U5_rJ7z-NuQ2818&cbir_page=similar&from=tabbar&lr=11508&rpt=imageview&source-serpid=aga4815uszWU9dYeEy1vRA&url=https%3A%2F%2Favatars.mds.yandex.net%2Fget-images-cbir%2F2079563%2FavUCats9Vi6U5_rJ7z-NuQ2818%2Forig"
      ],
      "metadata": {
        "id": "dMdqgmWYu2CY"
      },
      "execution_count": null,
      "outputs": []
    },
    {
      "cell_type": "code",
      "source": [
        "import requests\n",
        "from bs4 import BeautifulSoup\n",
        "import re\n",
        "import os\n",
        "\n",
        "# Hedef URL\n",
        "url=\"https://www.yandex.com.tr/gorsel/search?cbir_id=2407743%2FiXKhbSo2MDDxuB0BCA5F-w4240&cbir_page=similar&from=tabbar&lr=11508&rpt=imageview&source-serpid=YKI7oLJgxfh6rOP5S6h7zQ&url=https%3A%2F%2Favatars.mds.yandex.net%2Fget-images-cbir%2F2407743%2FiXKhbSo2MDDxuB0BCA5F-w4240%2Forig\"\n",
        "response = requests.get(url)\n",
        "page_content = response.text\n",
        "\n",
        "# Sayfayı BeautifulSoup ile analiz etme\n",
        "soup = BeautifulSoup(page_content, \"html.parser\")\n",
        "\n",
        "# Görsel URL'lerini toplama\n",
        "image_urls = []\n",
        "\n",
        "for img in soup.find_all(\"img\"):\n",
        "    img_url = img.get(\"src\")\n",
        "    if img_url:\n",
        "        if img_url.startswith(\"//\"):\n",
        "            img_url = \"https:\" + img_url\n",
        "        image_urls.append(img_url)\n",
        "\n",
        "# Resimleri indirme ve kaydetme\n",
        "download_folder = \"food_industry_images\"\n",
        "os.makedirs(download_folder, exist_ok=True)\n",
        "\n",
        "for i, img_url in enumerate(image_urls):\n",
        "    try:\n",
        "        img_data = requests.get(img_url).content\n",
        "        with open(f\"{download_folder}/image_{i+65}.jpg\", \"wb\") as img_file:\n",
        "            img_file.write(img_data)\n",
        "        print(f\"Resim {i+1} başarıyla indirildi.\")\n",
        "    except Exception as e:\n",
        "        print(f\"Hata oluştu: {e}\")\n",
        "\n",
        "print(\"Toplamda\", len(image_urls), \"resim başarıyla indirildi.\")\n"
      ],
      "metadata": {
        "colab": {
          "base_uri": "https://localhost:8080/"
        },
        "id": "TdzOEn0Mu2am",
        "outputId": "7a26c0b7-b671-4e71-9ed7-d0222c38b158"
      },
      "execution_count": null,
      "outputs": [
        {
          "output_type": "stream",
          "name": "stdout",
          "text": [
            "Resim 1 başarıyla indirildi.\n",
            "Resim 2 başarıyla indirildi.\n",
            "Toplamda 2 resim başarıyla indirildi.\n"
          ]
        }
      ]
    },
    {
      "cell_type": "code",
      "source": [
        "https://www.yandex.com.tr/gorsel/search?cbir_id=1632369%2FavUCats9Vi6U5_rJ7z-NuQ4438&cbir_page=similar&from=tabbar&lr=11508&rpt=imageview&source-serpid=XjOG2MSbtJkewlUmKYPPYw&url=https%3A%2F%2Favatars.mds.yandex.net%2Fget-images-cbir%2F1632369%2FavUCats9Vi6U5_rJ7z-NuQ4438%2Forig"
      ],
      "metadata": {
        "id": "1moO9qkI1Bxq"
      },
      "execution_count": null,
      "outputs": []
    },
    {
      "cell_type": "code",
      "source": [
        "import requests\n",
        "from bs4 import BeautifulSoup\n",
        "import re\n",
        "import os\n",
        "\n",
        "# Hedef URL\n",
        "url=\"https://www.yandex.com.tr/gorsel/search?cbir_id=2407743%2FiXKhbSo2MDDxuB0BCA5F-w4240&cbir_page=similar&from=tabbar&lr=11508&rpt=imageview&source-serpid=YKI7oLJgxfh6rOP5S6h7zQ&url=https%3A%2F%2Favatars.mds.yandex.net%2Fget-images-cbir%2F2407743%2FiXKhbSo2MDDxuB0BCA5F-w4240%2Forig\"\n",
        "response = requests.get(url)\n",
        "page_content = response.text\n",
        "\n",
        "# Sayfayı BeautifulSoup ile analiz etme\n",
        "soup = BeautifulSoup(page_content, \"html.parser\")\n",
        "\n",
        "# Görsel URL'lerini toplama\n",
        "image_urls = []\n",
        "\n",
        "for img in soup.find_all(\"img\"):\n",
        "    img_url = img.get(\"src\")\n",
        "    if img_url:\n",
        "        if img_url.startswith(\"//\"):\n",
        "            img_url = \"https:\" + img_url\n",
        "        image_urls.append(img_url)\n",
        "\n",
        "# Resimleri indirme ve kaydetme\n",
        "download_folder = \"food_industry_images\"\n",
        "os.makedirs(download_folder, exist_ok=True)\n",
        "\n",
        "for i, img_url in enumerate(image_urls):\n",
        "    try:\n",
        "        img_data = requests.get(img_url).content\n",
        "        with open(f\"{download_folder}/image_{i+105}.jpg\", \"wb\") as img_file:\n",
        "            img_file.write(img_data)\n",
        "        print(f\"Resim {i+1} başarıyla indirildi.\")\n",
        "    except Exception as e:\n",
        "        print(f\"Hata oluştu: {e}\")\n",
        "\n",
        "print(\"Toplamda\", len(image_urls), \"resim başarıyla indirildi.\")\n"
      ],
      "metadata": {
        "colab": {
          "base_uri": "https://localhost:8080/"
        },
        "id": "3PNfhs0E1C7G",
        "outputId": "f3bf26dc-039d-4540-afe7-1c5d0d95cf33"
      },
      "execution_count": null,
      "outputs": [
        {
          "output_type": "stream",
          "name": "stdout",
          "text": [
            "Resim 1 başarıyla indirildi.\n",
            "Resim 2 başarıyla indirildi.\n",
            "Toplamda 2 resim başarıyla indirildi.\n"
          ]
        }
      ]
    }
  ]
}