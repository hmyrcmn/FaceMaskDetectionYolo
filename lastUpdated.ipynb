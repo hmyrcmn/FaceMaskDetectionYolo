{
  "cells": [
    {
      "cell_type": "markdown",
      "metadata": {
        "id": "view-in-github",
        "colab_type": "text"
      },
      "source": [
        "<a href=\"https://colab.research.google.com/github/hmyrcmn/FaceMaskDetectionYolo/blob/main/lastUpdated.ipynb\" target=\"_parent\"><img src=\"https://colab.research.google.com/assets/colab-badge.svg\" alt=\"Open In Colab\"/></a>"
      ]
    },
    {
      "cell_type": "markdown",
      "source": [
        "# yolo import and connect drive\n",
        "\n"
      ],
      "metadata": {
        "id": "aqZ8apaWE7gW"
      }
    },
    {
      "cell_type": "code",
      "execution_count": 1,
      "metadata": {
        "colab": {
          "base_uri": "https://localhost:8080/"
        },
        "id": "Ijt2EFvkJ-7e",
        "outputId": "9bfe255c-150c-4964-e814-afe65cb6c368"
      },
      "outputs": [
        {
          "output_type": "stream",
          "name": "stdout",
          "text": [
            "Collecting ultralytics\n",
            "  Downloading ultralytics-8.0.223-py3-none-any.whl (659 kB)\n",
            "\u001b[?25l     \u001b[90m━━━━━━━━━━━━━━━━━━━━━━━━━━━━━━━━━━━━━━━━\u001b[0m \u001b[32m0.0/659.4 kB\u001b[0m \u001b[31m?\u001b[0m eta \u001b[36m-:--:--\u001b[0m\r\u001b[2K     \u001b[91m━━━━━━━━━━━━━━━━━━━━━\u001b[0m\u001b[91m╸\u001b[0m\u001b[90m━━━━━━━━━━━━━━━━━━\u001b[0m \u001b[32m358.4/659.4 kB\u001b[0m \u001b[31m10.6 MB/s\u001b[0m eta \u001b[36m0:00:01\u001b[0m\r\u001b[2K     \u001b[90m━━━━━━━━━━━━━━━━━━━━━━━━━━━━━━━━━━━━━━━━\u001b[0m \u001b[32m659.4/659.4 kB\u001b[0m \u001b[31m12.9 MB/s\u001b[0m eta \u001b[36m0:00:00\u001b[0m\n",
            "\u001b[?25hRequirement already satisfied: matplotlib>=3.3.0 in /usr/local/lib/python3.10/dist-packages (from ultralytics) (3.7.1)\n",
            "Requirement already satisfied: numpy>=1.22.2 in /usr/local/lib/python3.10/dist-packages (from ultralytics) (1.23.5)\n",
            "Requirement already satisfied: opencv-python>=4.6.0 in /usr/local/lib/python3.10/dist-packages (from ultralytics) (4.8.0.76)\n",
            "Requirement already satisfied: pillow>=7.1.2 in /usr/local/lib/python3.10/dist-packages (from ultralytics) (9.4.0)\n",
            "Requirement already satisfied: pyyaml>=5.3.1 in /usr/local/lib/python3.10/dist-packages (from ultralytics) (6.0.1)\n",
            "Requirement already satisfied: requests>=2.23.0 in /usr/local/lib/python3.10/dist-packages (from ultralytics) (2.31.0)\n",
            "Requirement already satisfied: scipy>=1.4.1 in /usr/local/lib/python3.10/dist-packages (from ultralytics) (1.11.4)\n",
            "Requirement already satisfied: torch>=1.8.0 in /usr/local/lib/python3.10/dist-packages (from ultralytics) (2.1.0+cu118)\n",
            "Requirement already satisfied: torchvision>=0.9.0 in /usr/local/lib/python3.10/dist-packages (from ultralytics) (0.16.0+cu118)\n",
            "Requirement already satisfied: tqdm>=4.64.0 in /usr/local/lib/python3.10/dist-packages (from ultralytics) (4.66.1)\n",
            "Requirement already satisfied: pandas>=1.1.4 in /usr/local/lib/python3.10/dist-packages (from ultralytics) (1.5.3)\n",
            "Requirement already satisfied: seaborn>=0.11.0 in /usr/local/lib/python3.10/dist-packages (from ultralytics) (0.12.2)\n",
            "Requirement already satisfied: psutil in /usr/local/lib/python3.10/dist-packages (from ultralytics) (5.9.5)\n",
            "Requirement already satisfied: py-cpuinfo in /usr/local/lib/python3.10/dist-packages (from ultralytics) (9.0.0)\n",
            "Collecting thop>=0.1.1 (from ultralytics)\n",
            "  Downloading thop-0.1.1.post2209072238-py3-none-any.whl (15 kB)\n",
            "Requirement already satisfied: contourpy>=1.0.1 in /usr/local/lib/python3.10/dist-packages (from matplotlib>=3.3.0->ultralytics) (1.2.0)\n",
            "Requirement already satisfied: cycler>=0.10 in /usr/local/lib/python3.10/dist-packages (from matplotlib>=3.3.0->ultralytics) (0.12.1)\n",
            "Requirement already satisfied: fonttools>=4.22.0 in /usr/local/lib/python3.10/dist-packages (from matplotlib>=3.3.0->ultralytics) (4.45.1)\n",
            "Requirement already satisfied: kiwisolver>=1.0.1 in /usr/local/lib/python3.10/dist-packages (from matplotlib>=3.3.0->ultralytics) (1.4.5)\n",
            "Requirement already satisfied: packaging>=20.0 in /usr/local/lib/python3.10/dist-packages (from matplotlib>=3.3.0->ultralytics) (23.2)\n",
            "Requirement already satisfied: pyparsing>=2.3.1 in /usr/local/lib/python3.10/dist-packages (from matplotlib>=3.3.0->ultralytics) (3.1.1)\n",
            "Requirement already satisfied: python-dateutil>=2.7 in /usr/local/lib/python3.10/dist-packages (from matplotlib>=3.3.0->ultralytics) (2.8.2)\n",
            "Requirement already satisfied: pytz>=2020.1 in /usr/local/lib/python3.10/dist-packages (from pandas>=1.1.4->ultralytics) (2023.3.post1)\n",
            "Requirement already satisfied: charset-normalizer<4,>=2 in /usr/local/lib/python3.10/dist-packages (from requests>=2.23.0->ultralytics) (3.3.2)\n",
            "Requirement already satisfied: idna<4,>=2.5 in /usr/local/lib/python3.10/dist-packages (from requests>=2.23.0->ultralytics) (3.6)\n",
            "Requirement already satisfied: urllib3<3,>=1.21.1 in /usr/local/lib/python3.10/dist-packages (from requests>=2.23.0->ultralytics) (2.0.7)\n",
            "Requirement already satisfied: certifi>=2017.4.17 in /usr/local/lib/python3.10/dist-packages (from requests>=2.23.0->ultralytics) (2023.11.17)\n",
            "Requirement already satisfied: filelock in /usr/local/lib/python3.10/dist-packages (from torch>=1.8.0->ultralytics) (3.13.1)\n",
            "Requirement already satisfied: typing-extensions in /usr/local/lib/python3.10/dist-packages (from torch>=1.8.0->ultralytics) (4.5.0)\n",
            "Requirement already satisfied: sympy in /usr/local/lib/python3.10/dist-packages (from torch>=1.8.0->ultralytics) (1.12)\n",
            "Requirement already satisfied: networkx in /usr/local/lib/python3.10/dist-packages (from torch>=1.8.0->ultralytics) (3.2.1)\n",
            "Requirement already satisfied: jinja2 in /usr/local/lib/python3.10/dist-packages (from torch>=1.8.0->ultralytics) (3.1.2)\n",
            "Requirement already satisfied: fsspec in /usr/local/lib/python3.10/dist-packages (from torch>=1.8.0->ultralytics) (2023.6.0)\n",
            "Requirement already satisfied: triton==2.1.0 in /usr/local/lib/python3.10/dist-packages (from torch>=1.8.0->ultralytics) (2.1.0)\n",
            "Requirement already satisfied: six>=1.5 in /usr/local/lib/python3.10/dist-packages (from python-dateutil>=2.7->matplotlib>=3.3.0->ultralytics) (1.16.0)\n",
            "Requirement already satisfied: MarkupSafe>=2.0 in /usr/local/lib/python3.10/dist-packages (from jinja2->torch>=1.8.0->ultralytics) (2.1.3)\n",
            "Requirement already satisfied: mpmath>=0.19 in /usr/local/lib/python3.10/dist-packages (from sympy->torch>=1.8.0->ultralytics) (1.3.0)\n",
            "Installing collected packages: thop, ultralytics\n",
            "Successfully installed thop-0.1.1.post2209072238 ultralytics-8.0.223\n",
            "Thu Dec  7 06:34:42 2023       \n",
            "+-----------------------------------------------------------------------------+\n",
            "| NVIDIA-SMI 525.105.17   Driver Version: 525.105.17   CUDA Version: 12.0     |\n",
            "|-------------------------------+----------------------+----------------------+\n",
            "| GPU  Name        Persistence-M| Bus-Id        Disp.A | Volatile Uncorr. ECC |\n",
            "| Fan  Temp  Perf  Pwr:Usage/Cap|         Memory-Usage | GPU-Util  Compute M. |\n",
            "|                               |                      |               MIG M. |\n",
            "|===============================+======================+======================|\n",
            "|   0  Tesla T4            Off  | 00000000:00:04.0 Off |                    0 |\n",
            "| N/A   41C    P8     9W /  70W |      0MiB / 15360MiB |      0%      Default |\n",
            "|                               |                      |                  N/A |\n",
            "+-------------------------------+----------------------+----------------------+\n",
            "                                                                               \n",
            "+-----------------------------------------------------------------------------+\n",
            "| Processes:                                                                  |\n",
            "|  GPU   GI   CI        PID   Type   Process name                  GPU Memory |\n",
            "|        ID   ID                                                   Usage      |\n",
            "|=============================================================================|\n",
            "|  No running processes found                                                 |\n",
            "+-----------------------------------------------------------------------------+\n",
            "Mounted at /content/drive\n"
          ]
        }
      ],
      "source": [
        "!pip install ultralytics\n",
        "!nvidia-smi\n",
        "from google.colab import drive\n",
        "\n",
        "# Drive'ı bağla\n",
        "drive.mount('/content/drive')\n"
      ]
    },
    {
      "cell_type": "markdown",
      "source": [
        "#model upload and optimization\n",
        "\n",
        "\n"
      ],
      "metadata": {
        "id": "xp1frX_uFQz_"
      }
    },
    {
      "cell_type": "code",
      "source": [
        "from ultralytics import YOLO\n",
        "\n",
        "model=YOLO(\"/content/drive/MyDrive/IMEP/models/train3/weights/best.pt\")\n",
        "model.train(data=\"/content/drive/MyDrive/IMEP/data.yaml\", epochs=10, imgsz=640,lr0=0.001 ,batch=32 ,optimizer ='auto', weight_decay=0.0001, momentum=0.9)"
      ],
      "metadata": {
        "id": "nF7zJ-8cqGA-",
        "colab": {
          "base_uri": "https://localhost:8080/"
        },
        "outputId": "9dea08f4-d834-47b9-c3d1-50376ef4649b"
      },
      "execution_count": 2,
      "outputs": [
        {
          "output_type": "stream",
          "name": "stdout",
          "text": [
            "Ultralytics YOLOv8.0.223 🚀 Python-3.10.12 torch-2.1.0+cu118 CUDA:0 (Tesla T4, 15102MiB)\n",
            "\u001b[34m\u001b[1mengine/trainer: \u001b[0mtask=detect, mode=train, model=/content/drive/MyDrive/IMEP/models/train3/weights/best.pt, data=/content/drive/MyDrive/IMEP/data.yaml, epochs=10, patience=50, batch=32, imgsz=640, save=True, save_period=-1, cache=False, device=None, workers=8, project=None, name=train, exist_ok=False, pretrained=True, optimizer=auto, verbose=True, seed=0, deterministic=True, single_cls=False, rect=False, cos_lr=False, close_mosaic=10, resume=False, amp=True, fraction=1.0, profile=False, freeze=None, overlap_mask=True, mask_ratio=4, dropout=0.0, val=True, split=val, save_json=False, save_hybrid=False, conf=None, iou=0.7, max_det=300, half=False, dnn=False, plots=True, source=None, vid_stride=1, stream_buffer=False, visualize=False, augment=False, agnostic_nms=False, classes=None, retina_masks=False, show=False, save_frames=False, save_txt=False, save_conf=False, save_crop=False, show_labels=True, show_conf=True, show_boxes=True, line_width=None, format=torchscript, keras=False, optimize=False, int8=False, dynamic=False, simplify=False, opset=None, workspace=4, nms=False, lr0=0.001, lrf=0.01, momentum=0.9, weight_decay=0.0001, warmup_epochs=3.0, warmup_momentum=0.8, warmup_bias_lr=0.1, box=7.5, cls=0.5, dfl=1.5, pose=12.0, kobj=1.0, label_smoothing=0.0, nbs=64, hsv_h=0.015, hsv_s=0.7, hsv_v=0.4, degrees=0.0, translate=0.1, scale=0.5, shear=0.0, perspective=0.0, flipud=0.0, fliplr=0.5, mosaic=1.0, mixup=0.0, copy_paste=0.0, cfg=None, tracker=botsort.yaml, save_dir=runs/detect/train\n",
            "Downloading https://ultralytics.com/assets/Arial.ttf to '/root/.config/Ultralytics/Arial.ttf'...\n"
          ]
        },
        {
          "output_type": "stream",
          "name": "stderr",
          "text": [
            "100%|██████████| 755k/755k [00:00<00:00, 19.0MB/s]\n"
          ]
        },
        {
          "output_type": "stream",
          "name": "stdout",
          "text": [
            "\n",
            "                   from  n    params  module                                       arguments                     \n",
            "  0                  -1  1       464  ultralytics.nn.modules.conv.Conv             [3, 16, 3, 2]                 \n",
            "  1                  -1  1      4672  ultralytics.nn.modules.conv.Conv             [16, 32, 3, 2]                \n",
            "  2                  -1  1      7360  ultralytics.nn.modules.block.C2f             [32, 32, 1, True]             \n",
            "  3                  -1  1     18560  ultralytics.nn.modules.conv.Conv             [32, 64, 3, 2]                \n",
            "  4                  -1  2     49664  ultralytics.nn.modules.block.C2f             [64, 64, 2, True]             \n",
            "  5                  -1  1     73984  ultralytics.nn.modules.conv.Conv             [64, 128, 3, 2]               \n",
            "  6                  -1  2    197632  ultralytics.nn.modules.block.C2f             [128, 128, 2, True]           \n",
            "  7                  -1  1    295424  ultralytics.nn.modules.conv.Conv             [128, 256, 3, 2]              \n",
            "  8                  -1  1    460288  ultralytics.nn.modules.block.C2f             [256, 256, 1, True]           \n",
            "  9                  -1  1    164608  ultralytics.nn.modules.block.SPPF            [256, 256, 5]                 \n",
            " 10                  -1  1         0  torch.nn.modules.upsampling.Upsample         [None, 2, 'nearest']          \n",
            " 11             [-1, 6]  1         0  ultralytics.nn.modules.conv.Concat           [1]                           \n",
            " 12                  -1  1    148224  ultralytics.nn.modules.block.C2f             [384, 128, 1]                 \n",
            " 13                  -1  1         0  torch.nn.modules.upsampling.Upsample         [None, 2, 'nearest']          \n",
            " 14             [-1, 4]  1         0  ultralytics.nn.modules.conv.Concat           [1]                           \n",
            " 15                  -1  1     37248  ultralytics.nn.modules.block.C2f             [192, 64, 1]                  \n",
            " 16                  -1  1     36992  ultralytics.nn.modules.conv.Conv             [64, 64, 3, 2]                \n",
            " 17            [-1, 12]  1         0  ultralytics.nn.modules.conv.Concat           [1]                           \n",
            " 18                  -1  1    123648  ultralytics.nn.modules.block.C2f             [192, 128, 1]                 \n",
            " 19                  -1  1    147712  ultralytics.nn.modules.conv.Conv             [128, 128, 3, 2]              \n",
            " 20             [-1, 9]  1         0  ultralytics.nn.modules.conv.Concat           [1]                           \n",
            " 21                  -1  1    493056  ultralytics.nn.modules.block.C2f             [384, 256, 1]                 \n",
            " 22        [15, 18, 21]  1    752482  ultralytics.nn.modules.head.Detect           [6, [64, 128, 256]]           \n",
            "Model summary: 225 layers, 3012018 parameters, 3012002 gradients, 8.2 GFLOPs\n",
            "\n",
            "Transferred 355/355 items from pretrained weights\n",
            "\u001b[34m\u001b[1mTensorBoard: \u001b[0mStart with 'tensorboard --logdir runs/detect/train', view at http://localhost:6006/\n",
            "Freezing layer 'model.22.dfl.conv.weight'\n",
            "\u001b[34m\u001b[1mAMP: \u001b[0mrunning Automatic Mixed Precision (AMP) checks with YOLOv8n...\n",
            "Downloading https://github.com/ultralytics/assets/releases/download/v0.0.0/yolov8n.pt to 'yolov8n.pt'...\n"
          ]
        },
        {
          "output_type": "stream",
          "name": "stderr",
          "text": [
            "100%|██████████| 6.23M/6.23M [00:00<00:00, 79.0MB/s]\n"
          ]
        },
        {
          "output_type": "stream",
          "name": "stdout",
          "text": [
            "\u001b[34m\u001b[1mAMP: \u001b[0mchecks passed ✅\n"
          ]
        },
        {
          "output_type": "stream",
          "name": "stderr",
          "text": [
            "\u001b[34m\u001b[1mtrain: \u001b[0mScanning /content/drive/MyDrive/IMEP/data/labels.cache... 214 images, 6 backgrounds, 1 corrupt: 100%|██████████| 220/220 [00:00<?, ?it/s]"
          ]
        },
        {
          "output_type": "stream",
          "name": "stdout",
          "text": [
            "\u001b[34m\u001b[1mtrain: \u001b[0mWARNING ⚠️ /content/drive/MyDrive/IMEP/data/images/re__image_1.jpg: ignoring corrupt image/label: setting an array element with a sequence. The requested array has an inhomogeneous shape after 1 dimensions. The detected shape was (3,) + inhomogeneous part.\n"
          ]
        },
        {
          "output_type": "stream",
          "name": "stderr",
          "text": [
            "\n"
          ]
        },
        {
          "output_type": "stream",
          "name": "stdout",
          "text": [
            "\u001b[34m\u001b[1malbumentations: \u001b[0mBlur(p=0.01, blur_limit=(3, 7)), MedianBlur(p=0.01, blur_limit=(3, 7)), ToGray(p=0.01), CLAHE(p=0.01, clip_limit=(1, 4.0), tile_grid_size=(8, 8))\n"
          ]
        },
        {
          "output_type": "stream",
          "name": "stderr",
          "text": [
            "\u001b[34m\u001b[1mval: \u001b[0mScanning /content/drive/MyDrive/IMEP/data/labels.cache... 214 images, 6 backgrounds, 1 corrupt: 100%|██████████| 220/220 [00:00<?, ?it/s]"
          ]
        },
        {
          "output_type": "stream",
          "name": "stdout",
          "text": [
            "\u001b[34m\u001b[1mtrain: \u001b[0mWARNING ⚠️ /content/drive/MyDrive/IMEP/data/images/re__image_1.jpg: ignoring corrupt image/label: setting an array element with a sequence. The requested array has an inhomogeneous shape after 1 dimensions. The detected shape was (3,) + inhomogeneous part.\n"
          ]
        },
        {
          "output_type": "stream",
          "name": "stderr",
          "text": [
            "\n"
          ]
        },
        {
          "output_type": "stream",
          "name": "stdout",
          "text": [
            "Plotting labels to runs/detect/train/labels.jpg... \n",
            "\u001b[34m\u001b[1moptimizer:\u001b[0m 'optimizer=auto' found, ignoring 'lr0=0.001' and 'momentum=0.9' and determining best 'optimizer', 'lr0' and 'momentum' automatically... \n",
            "\u001b[34m\u001b[1moptimizer:\u001b[0m AdamW(lr=0.001, momentum=0.9) with parameter groups 57 weight(decay=0.0), 64 weight(decay=0.0001), 63 bias(decay=0.0)\n",
            "Image sizes 640 train, 640 val\n",
            "Using 2 dataloader workers\n",
            "Logging results to \u001b[1mruns/detect/train\u001b[0m\n",
            "Starting training for 10 epochs...\n",
            "Closing dataloader mosaic\n",
            "\u001b[34m\u001b[1malbumentations: \u001b[0mBlur(p=0.01, blur_limit=(3, 7)), MedianBlur(p=0.01, blur_limit=(3, 7)), ToGray(p=0.01), CLAHE(p=0.01, clip_limit=(1, 4.0), tile_grid_size=(8, 8))\n",
            "\n",
            "      Epoch    GPU_mem   box_loss   cls_loss   dfl_loss  Instances       Size\n"
          ]
        },
        {
          "output_type": "stream",
          "name": "stderr",
          "text": [
            "       1/10      4.68G     0.9022     0.7643      1.025         57        640: 100%|██████████| 7/7 [00:13<00:00,  1.86s/it]\n",
            "                 Class     Images  Instances      Box(P          R      mAP50  mAP50-95): 100%|██████████| 4/4 [00:04<00:00,  1.20s/it]"
          ]
        },
        {
          "output_type": "stream",
          "name": "stdout",
          "text": [
            "                   all        219        650      0.879      0.913      0.947      0.775\n"
          ]
        },
        {
          "output_type": "stream",
          "name": "stderr",
          "text": [
            "\n"
          ]
        },
        {
          "output_type": "stream",
          "name": "stdout",
          "text": [
            "\n",
            "      Epoch    GPU_mem   box_loss   cls_loss   dfl_loss  Instances       Size\n"
          ]
        },
        {
          "output_type": "stream",
          "name": "stderr",
          "text": [
            "       2/10      4.31G      0.936     0.7258      1.058         82        640: 100%|██████████| 7/7 [00:02<00:00,  2.92it/s]\n",
            "                 Class     Images  Instances      Box(P          R      mAP50  mAP50-95): 100%|██████████| 4/4 [00:03<00:00,  1.18it/s]"
          ]
        },
        {
          "output_type": "stream",
          "name": "stdout",
          "text": [
            "                   all        219        650      0.903       0.84      0.943      0.769\n"
          ]
        },
        {
          "output_type": "stream",
          "name": "stderr",
          "text": [
            "\n"
          ]
        },
        {
          "output_type": "stream",
          "name": "stdout",
          "text": [
            "\n",
            "      Epoch    GPU_mem   box_loss   cls_loss   dfl_loss  Instances       Size\n"
          ]
        },
        {
          "output_type": "stream",
          "name": "stderr",
          "text": [
            "       3/10      4.34G     0.9349      0.742      1.056         81        640: 100%|██████████| 7/7 [00:03<00:00,  1.77it/s]\n",
            "                 Class     Images  Instances      Box(P          R      mAP50  mAP50-95): 100%|██████████| 4/4 [00:04<00:00,  1.08s/it]"
          ]
        },
        {
          "output_type": "stream",
          "name": "stdout",
          "text": [
            "                   all        219        650      0.899      0.863      0.943       0.76\n"
          ]
        },
        {
          "output_type": "stream",
          "name": "stderr",
          "text": [
            "\n"
          ]
        },
        {
          "output_type": "stream",
          "name": "stdout",
          "text": [
            "\n",
            "      Epoch    GPU_mem   box_loss   cls_loss   dfl_loss  Instances       Size\n"
          ]
        },
        {
          "output_type": "stream",
          "name": "stderr",
          "text": [
            "       4/10      4.34G     0.9441     0.7354      1.051         72        640: 100%|██████████| 7/7 [00:02<00:00,  2.84it/s]\n",
            "                 Class     Images  Instances      Box(P          R      mAP50  mAP50-95): 100%|██████████| 4/4 [00:03<00:00,  1.12it/s]"
          ]
        },
        {
          "output_type": "stream",
          "name": "stdout",
          "text": [
            "                   all        219        650      0.841      0.904      0.947      0.752\n"
          ]
        },
        {
          "output_type": "stream",
          "name": "stderr",
          "text": [
            "\n"
          ]
        },
        {
          "output_type": "stream",
          "name": "stdout",
          "text": [
            "\n",
            "      Epoch    GPU_mem   box_loss   cls_loss   dfl_loss  Instances       Size\n"
          ]
        },
        {
          "output_type": "stream",
          "name": "stderr",
          "text": [
            "       5/10      4.31G     0.9396     0.7124      1.032         61        640: 100%|██████████| 7/7 [00:03<00:00,  2.19it/s]\n",
            "                 Class     Images  Instances      Box(P          R      mAP50  mAP50-95): 100%|██████████| 4/4 [00:05<00:00,  1.27s/it]"
          ]
        },
        {
          "output_type": "stream",
          "name": "stdout",
          "text": [
            "                   all        219        650       0.88       0.89      0.953      0.767\n"
          ]
        },
        {
          "output_type": "stream",
          "name": "stderr",
          "text": [
            "\n"
          ]
        },
        {
          "output_type": "stream",
          "name": "stdout",
          "text": [
            "\n",
            "      Epoch    GPU_mem   box_loss   cls_loss   dfl_loss  Instances       Size\n"
          ]
        },
        {
          "output_type": "stream",
          "name": "stderr",
          "text": [
            "       6/10      4.28G     0.9419     0.6876      1.044         73        640: 100%|██████████| 7/7 [00:02<00:00,  2.85it/s]\n",
            "                 Class     Images  Instances      Box(P          R      mAP50  mAP50-95): 100%|██████████| 4/4 [00:02<00:00,  1.40it/s]"
          ]
        },
        {
          "output_type": "stream",
          "name": "stdout",
          "text": [
            "                   all        219        650      0.914       0.91      0.964      0.763\n"
          ]
        },
        {
          "output_type": "stream",
          "name": "stderr",
          "text": [
            "\n"
          ]
        },
        {
          "output_type": "stream",
          "name": "stdout",
          "text": [
            "\n",
            "      Epoch    GPU_mem   box_loss   cls_loss   dfl_loss  Instances       Size\n"
          ]
        },
        {
          "output_type": "stream",
          "name": "stderr",
          "text": [
            "       7/10      4.33G     0.9227     0.6677      1.047         74        640: 100%|██████████| 7/7 [00:02<00:00,  3.09it/s]\n",
            "                 Class     Images  Instances      Box(P          R      mAP50  mAP50-95): 100%|██████████| 4/4 [00:04<00:00,  1.07s/it]"
          ]
        },
        {
          "output_type": "stream",
          "name": "stdout",
          "text": [
            "                   all        219        650      0.964      0.898      0.973      0.783\n"
          ]
        },
        {
          "output_type": "stream",
          "name": "stderr",
          "text": [
            "\n"
          ]
        },
        {
          "output_type": "stream",
          "name": "stdout",
          "text": [
            "\n",
            "      Epoch    GPU_mem   box_loss   cls_loss   dfl_loss  Instances       Size\n"
          ]
        },
        {
          "output_type": "stream",
          "name": "stderr",
          "text": [
            "       8/10      4.33G     0.9214     0.6763      1.046         95        640: 100%|██████████| 7/7 [00:02<00:00,  2.36it/s]\n",
            "                 Class     Images  Instances      Box(P          R      mAP50  mAP50-95): 100%|██████████| 4/4 [00:02<00:00,  1.50it/s]"
          ]
        },
        {
          "output_type": "stream",
          "name": "stdout",
          "text": [
            "                   all        219        650      0.947       0.92      0.971      0.795\n"
          ]
        },
        {
          "output_type": "stream",
          "name": "stderr",
          "text": [
            "\n"
          ]
        },
        {
          "output_type": "stream",
          "name": "stdout",
          "text": [
            "\n",
            "      Epoch    GPU_mem   box_loss   cls_loss   dfl_loss  Instances       Size\n"
          ]
        },
        {
          "output_type": "stream",
          "name": "stderr",
          "text": [
            "       9/10      4.31G      0.862     0.6604       1.02         96        640: 100%|██████████| 7/7 [00:02<00:00,  3.16it/s]\n",
            "                 Class     Images  Instances      Box(P          R      mAP50  mAP50-95): 100%|██████████| 4/4 [00:03<00:00,  1.20it/s]"
          ]
        },
        {
          "output_type": "stream",
          "name": "stdout",
          "text": [
            "                   all        219        650       0.92      0.938      0.973      0.798\n"
          ]
        },
        {
          "output_type": "stream",
          "name": "stderr",
          "text": [
            "\n"
          ]
        },
        {
          "output_type": "stream",
          "name": "stdout",
          "text": [
            "\n",
            "      Epoch    GPU_mem   box_loss   cls_loss   dfl_loss  Instances       Size\n"
          ]
        },
        {
          "output_type": "stream",
          "name": "stderr",
          "text": [
            "      10/10      4.32G     0.8785     0.6609      1.009         79        640: 100%|██████████| 7/7 [00:03<00:00,  2.09it/s]\n",
            "                 Class     Images  Instances      Box(P          R      mAP50  mAP50-95): 100%|██████████| 4/4 [00:04<00:00,  1.05s/it]"
          ]
        },
        {
          "output_type": "stream",
          "name": "stdout",
          "text": [
            "                   all        219        650      0.923      0.926      0.973      0.806\n"
          ]
        },
        {
          "output_type": "stream",
          "name": "stderr",
          "text": [
            "\n"
          ]
        },
        {
          "output_type": "stream",
          "name": "stdout",
          "text": [
            "\n",
            "10 epochs completed in 0.026 hours.\n",
            "Optimizer stripped from runs/detect/train/weights/last.pt, 6.2MB\n",
            "Optimizer stripped from runs/detect/train/weights/best.pt, 6.2MB\n",
            "\n",
            "Validating runs/detect/train/weights/best.pt...\n",
            "Ultralytics YOLOv8.0.223 🚀 Python-3.10.12 torch-2.1.0+cu118 CUDA:0 (Tesla T4, 15102MiB)\n",
            "Model summary (fused): 168 layers, 3006818 parameters, 0 gradients, 8.1 GFLOPs\n"
          ]
        },
        {
          "output_type": "stream",
          "name": "stderr",
          "text": [
            "                 Class     Images  Instances      Box(P          R      mAP50  mAP50-95): 100%|██████████| 4/4 [00:06<00:00,  1.51s/it]\n"
          ]
        },
        {
          "output_type": "stream",
          "name": "stdout",
          "text": [
            "                   all        219        650      0.923      0.928      0.973      0.806\n",
            "                boneli        219         94      0.957      0.938       0.98      0.792\n",
            "               bonesiz        219        130      0.898      0.953       0.98       0.82\n",
            "               maskeli        219        179       0.92      0.896      0.959      0.755\n",
            "              maskesiz        219        153      0.938      0.793       0.93      0.719\n",
            "               onluklu        219         80      0.977      0.988      0.995      0.879\n",
            "              onluksuz        219         14      0.849          1      0.995      0.869\n",
            "Speed: 0.2ms preprocess, 3.5ms inference, 0.0ms loss, 4.0ms postprocess per image\n",
            "Results saved to \u001b[1mruns/detect/train\u001b[0m\n"
          ]
        },
        {
          "output_type": "execute_result",
          "data": {
            "text/plain": [
              "ultralytics.utils.metrics.DetMetrics object with attributes:\n",
              "\n",
              "ap_class_index: array([0, 1, 2, 3, 4, 5])\n",
              "box: ultralytics.utils.metrics.Metric object\n",
              "confusion_matrix: <ultralytics.utils.metrics.ConfusionMatrix object at 0x7da8fc0aab60>\n",
              "curves: ['Precision-Recall(B)', 'F1-Confidence(B)', 'Precision-Confidence(B)', 'Recall-Confidence(B)']\n",
              "curves_results: [[array([          0,    0.001001,    0.002002,    0.003003,    0.004004,    0.005005,    0.006006,    0.007007,    0.008008,    0.009009,     0.01001,    0.011011,    0.012012,    0.013013,    0.014014,    0.015015,    0.016016,    0.017017,    0.018018,    0.019019,     0.02002,    0.021021,    0.022022,    0.023023,\n",
              "          0.024024,    0.025025,    0.026026,    0.027027,    0.028028,    0.029029,     0.03003,    0.031031,    0.032032,    0.033033,    0.034034,    0.035035,    0.036036,    0.037037,    0.038038,    0.039039,     0.04004,    0.041041,    0.042042,    0.043043,    0.044044,    0.045045,    0.046046,    0.047047,\n",
              "          0.048048,    0.049049,     0.05005,    0.051051,    0.052052,    0.053053,    0.054054,    0.055055,    0.056056,    0.057057,    0.058058,    0.059059,     0.06006,    0.061061,    0.062062,    0.063063,    0.064064,    0.065065,    0.066066,    0.067067,    0.068068,    0.069069,     0.07007,    0.071071,\n",
              "          0.072072,    0.073073,    0.074074,    0.075075,    0.076076,    0.077077,    0.078078,    0.079079,     0.08008,    0.081081,    0.082082,    0.083083,    0.084084,    0.085085,    0.086086,    0.087087,    0.088088,    0.089089,     0.09009,    0.091091,    0.092092,    0.093093,    0.094094,    0.095095,\n",
              "          0.096096,    0.097097,    0.098098,    0.099099,      0.1001,      0.1011,      0.1021,      0.1031,      0.1041,     0.10511,     0.10611,     0.10711,     0.10811,     0.10911,     0.11011,     0.11111,     0.11211,     0.11311,     0.11411,     0.11512,     0.11612,     0.11712,     0.11812,     0.11912,\n",
              "           0.12012,     0.12112,     0.12212,     0.12312,     0.12412,     0.12513,     0.12613,     0.12713,     0.12813,     0.12913,     0.13013,     0.13113,     0.13213,     0.13313,     0.13413,     0.13514,     0.13614,     0.13714,     0.13814,     0.13914,     0.14014,     0.14114,     0.14214,     0.14314,\n",
              "           0.14414,     0.14515,     0.14615,     0.14715,     0.14815,     0.14915,     0.15015,     0.15115,     0.15215,     0.15315,     0.15415,     0.15516,     0.15616,     0.15716,     0.15816,     0.15916,     0.16016,     0.16116,     0.16216,     0.16316,     0.16416,     0.16517,     0.16617,     0.16717,\n",
              "           0.16817,     0.16917,     0.17017,     0.17117,     0.17217,     0.17317,     0.17417,     0.17518,     0.17618,     0.17718,     0.17818,     0.17918,     0.18018,     0.18118,     0.18218,     0.18318,     0.18418,     0.18519,     0.18619,     0.18719,     0.18819,     0.18919,     0.19019,     0.19119,\n",
              "           0.19219,     0.19319,     0.19419,      0.1952,      0.1962,      0.1972,      0.1982,      0.1992,      0.2002,      0.2012,      0.2022,      0.2032,      0.2042,     0.20521,     0.20621,     0.20721,     0.20821,     0.20921,     0.21021,     0.21121,     0.21221,     0.21321,     0.21421,     0.21522,\n",
              "           0.21622,     0.21722,     0.21822,     0.21922,     0.22022,     0.22122,     0.22222,     0.22322,     0.22422,     0.22523,     0.22623,     0.22723,     0.22823,     0.22923,     0.23023,     0.23123,     0.23223,     0.23323,     0.23423,     0.23524,     0.23624,     0.23724,     0.23824,     0.23924,\n",
              "           0.24024,     0.24124,     0.24224,     0.24324,     0.24424,     0.24525,     0.24625,     0.24725,     0.24825,     0.24925,     0.25025,     0.25125,     0.25225,     0.25325,     0.25425,     0.25526,     0.25626,     0.25726,     0.25826,     0.25926,     0.26026,     0.26126,     0.26226,     0.26326,\n",
              "           0.26426,     0.26527,     0.26627,     0.26727,     0.26827,     0.26927,     0.27027,     0.27127,     0.27227,     0.27327,     0.27427,     0.27528,     0.27628,     0.27728,     0.27828,     0.27928,     0.28028,     0.28128,     0.28228,     0.28328,     0.28428,     0.28529,     0.28629,     0.28729,\n",
              "           0.28829,     0.28929,     0.29029,     0.29129,     0.29229,     0.29329,     0.29429,      0.2953,      0.2963,      0.2973,      0.2983,      0.2993,      0.3003,      0.3013,      0.3023,      0.3033,      0.3043,     0.30531,     0.30631,     0.30731,     0.30831,     0.30931,     0.31031,     0.31131,\n",
              "           0.31231,     0.31331,     0.31431,     0.31532,     0.31632,     0.31732,     0.31832,     0.31932,     0.32032,     0.32132,     0.32232,     0.32332,     0.32432,     0.32533,     0.32633,     0.32733,     0.32833,     0.32933,     0.33033,     0.33133,     0.33233,     0.33333,     0.33433,     0.33534,\n",
              "           0.33634,     0.33734,     0.33834,     0.33934,     0.34034,     0.34134,     0.34234,     0.34334,     0.34434,     0.34535,     0.34635,     0.34735,     0.34835,     0.34935,     0.35035,     0.35135,     0.35235,     0.35335,     0.35435,     0.35536,     0.35636,     0.35736,     0.35836,     0.35936,\n",
              "           0.36036,     0.36136,     0.36236,     0.36336,     0.36436,     0.36537,     0.36637,     0.36737,     0.36837,     0.36937,     0.37037,     0.37137,     0.37237,     0.37337,     0.37437,     0.37538,     0.37638,     0.37738,     0.37838,     0.37938,     0.38038,     0.38138,     0.38238,     0.38338,\n",
              "           0.38438,     0.38539,     0.38639,     0.38739,     0.38839,     0.38939,     0.39039,     0.39139,     0.39239,     0.39339,     0.39439,      0.3954,      0.3964,      0.3974,      0.3984,      0.3994,      0.4004,      0.4014,      0.4024,      0.4034,      0.4044,     0.40541,     0.40641,     0.40741,\n",
              "           0.40841,     0.40941,     0.41041,     0.41141,     0.41241,     0.41341,     0.41441,     0.41542,     0.41642,     0.41742,     0.41842,     0.41942,     0.42042,     0.42142,     0.42242,     0.42342,     0.42442,     0.42543,     0.42643,     0.42743,     0.42843,     0.42943,     0.43043,     0.43143,\n",
              "           0.43243,     0.43343,     0.43443,     0.43544,     0.43644,     0.43744,     0.43844,     0.43944,     0.44044,     0.44144,     0.44244,     0.44344,     0.44444,     0.44545,     0.44645,     0.44745,     0.44845,     0.44945,     0.45045,     0.45145,     0.45245,     0.45345,     0.45445,     0.45546,\n",
              "           0.45646,     0.45746,     0.45846,     0.45946,     0.46046,     0.46146,     0.46246,     0.46346,     0.46446,     0.46547,     0.46647,     0.46747,     0.46847,     0.46947,     0.47047,     0.47147,     0.47247,     0.47347,     0.47447,     0.47548,     0.47648,     0.47748,     0.47848,     0.47948,\n",
              "           0.48048,     0.48148,     0.48248,     0.48348,     0.48448,     0.48549,     0.48649,     0.48749,     0.48849,     0.48949,     0.49049,     0.49149,     0.49249,     0.49349,     0.49449,      0.4955,      0.4965,      0.4975,      0.4985,      0.4995,      0.5005,      0.5015,      0.5025,      0.5035,\n",
              "            0.5045,     0.50551,     0.50651,     0.50751,     0.50851,     0.50951,     0.51051,     0.51151,     0.51251,     0.51351,     0.51451,     0.51552,     0.51652,     0.51752,     0.51852,     0.51952,     0.52052,     0.52152,     0.52252,     0.52352,     0.52452,     0.52553,     0.52653,     0.52753,\n",
              "           0.52853,     0.52953,     0.53053,     0.53153,     0.53253,     0.53353,     0.53453,     0.53554,     0.53654,     0.53754,     0.53854,     0.53954,     0.54054,     0.54154,     0.54254,     0.54354,     0.54454,     0.54555,     0.54655,     0.54755,     0.54855,     0.54955,     0.55055,     0.55155,\n",
              "           0.55255,     0.55355,     0.55455,     0.55556,     0.55656,     0.55756,     0.55856,     0.55956,     0.56056,     0.56156,     0.56256,     0.56356,     0.56456,     0.56557,     0.56657,     0.56757,     0.56857,     0.56957,     0.57057,     0.57157,     0.57257,     0.57357,     0.57457,     0.57558,\n",
              "           0.57658,     0.57758,     0.57858,     0.57958,     0.58058,     0.58158,     0.58258,     0.58358,     0.58458,     0.58559,     0.58659,     0.58759,     0.58859,     0.58959,     0.59059,     0.59159,     0.59259,     0.59359,     0.59459,      0.5956,      0.5966,      0.5976,      0.5986,      0.5996,\n",
              "            0.6006,      0.6016,      0.6026,      0.6036,      0.6046,     0.60561,     0.60661,     0.60761,     0.60861,     0.60961,     0.61061,     0.61161,     0.61261,     0.61361,     0.61461,     0.61562,     0.61662,     0.61762,     0.61862,     0.61962,     0.62062,     0.62162,     0.62262,     0.62362,\n",
              "           0.62462,     0.62563,     0.62663,     0.62763,     0.62863,     0.62963,     0.63063,     0.63163,     0.63263,     0.63363,     0.63463,     0.63564,     0.63664,     0.63764,     0.63864,     0.63964,     0.64064,     0.64164,     0.64264,     0.64364,     0.64464,     0.64565,     0.64665,     0.64765,\n",
              "           0.64865,     0.64965,     0.65065,     0.65165,     0.65265,     0.65365,     0.65465,     0.65566,     0.65666,     0.65766,     0.65866,     0.65966,     0.66066,     0.66166,     0.66266,     0.66366,     0.66466,     0.66567,     0.66667,     0.66767,     0.66867,     0.66967,     0.67067,     0.67167,\n",
              "           0.67267,     0.67367,     0.67467,     0.67568,     0.67668,     0.67768,     0.67868,     0.67968,     0.68068,     0.68168,     0.68268,     0.68368,     0.68468,     0.68569,     0.68669,     0.68769,     0.68869,     0.68969,     0.69069,     0.69169,     0.69269,     0.69369,     0.69469,      0.6957,\n",
              "            0.6967,      0.6977,      0.6987,      0.6997,      0.7007,      0.7017,      0.7027,      0.7037,      0.7047,     0.70571,     0.70671,     0.70771,     0.70871,     0.70971,     0.71071,     0.71171,     0.71271,     0.71371,     0.71471,     0.71572,     0.71672,     0.71772,     0.71872,     0.71972,\n",
              "           0.72072,     0.72172,     0.72272,     0.72372,     0.72472,     0.72573,     0.72673,     0.72773,     0.72873,     0.72973,     0.73073,     0.73173,     0.73273,     0.73373,     0.73473,     0.73574,     0.73674,     0.73774,     0.73874,     0.73974,     0.74074,     0.74174,     0.74274,     0.74374,\n",
              "           0.74474,     0.74575,     0.74675,     0.74775,     0.74875,     0.74975,     0.75075,     0.75175,     0.75275,     0.75375,     0.75475,     0.75576,     0.75676,     0.75776,     0.75876,     0.75976,     0.76076,     0.76176,     0.76276,     0.76376,     0.76476,     0.76577,     0.76677,     0.76777,\n",
              "           0.76877,     0.76977,     0.77077,     0.77177,     0.77277,     0.77377,     0.77477,     0.77578,     0.77678,     0.77778,     0.77878,     0.77978,     0.78078,     0.78178,     0.78278,     0.78378,     0.78478,     0.78579,     0.78679,     0.78779,     0.78879,     0.78979,     0.79079,     0.79179,\n",
              "           0.79279,     0.79379,     0.79479,      0.7958,      0.7968,      0.7978,      0.7988,      0.7998,      0.8008,      0.8018,      0.8028,      0.8038,      0.8048,     0.80581,     0.80681,     0.80781,     0.80881,     0.80981,     0.81081,     0.81181,     0.81281,     0.81381,     0.81481,     0.81582,\n",
              "           0.81682,     0.81782,     0.81882,     0.81982,     0.82082,     0.82182,     0.82282,     0.82382,     0.82482,     0.82583,     0.82683,     0.82783,     0.82883,     0.82983,     0.83083,     0.83183,     0.83283,     0.83383,     0.83483,     0.83584,     0.83684,     0.83784,     0.83884,     0.83984,\n",
              "           0.84084,     0.84184,     0.84284,     0.84384,     0.84484,     0.84585,     0.84685,     0.84785,     0.84885,     0.84985,     0.85085,     0.85185,     0.85285,     0.85385,     0.85485,     0.85586,     0.85686,     0.85786,     0.85886,     0.85986,     0.86086,     0.86186,     0.86286,     0.86386,\n",
              "           0.86486,     0.86587,     0.86687,     0.86787,     0.86887,     0.86987,     0.87087,     0.87187,     0.87287,     0.87387,     0.87487,     0.87588,     0.87688,     0.87788,     0.87888,     0.87988,     0.88088,     0.88188,     0.88288,     0.88388,     0.88488,     0.88589,     0.88689,     0.88789,\n",
              "           0.88889,     0.88989,     0.89089,     0.89189,     0.89289,     0.89389,     0.89489,      0.8959,      0.8969,      0.8979,      0.8989,      0.8999,      0.9009,      0.9019,      0.9029,      0.9039,      0.9049,     0.90591,     0.90691,     0.90791,     0.90891,     0.90991,     0.91091,     0.91191,\n",
              "           0.91291,     0.91391,     0.91491,     0.91592,     0.91692,     0.91792,     0.91892,     0.91992,     0.92092,     0.92192,     0.92292,     0.92392,     0.92492,     0.92593,     0.92693,     0.92793,     0.92893,     0.92993,     0.93093,     0.93193,     0.93293,     0.93393,     0.93493,     0.93594,\n",
              "           0.93694,     0.93794,     0.93894,     0.93994,     0.94094,     0.94194,     0.94294,     0.94394,     0.94494,     0.94595,     0.94695,     0.94795,     0.94895,     0.94995,     0.95095,     0.95195,     0.95295,     0.95395,     0.95495,     0.95596,     0.95696,     0.95796,     0.95896,     0.95996,\n",
              "           0.96096,     0.96196,     0.96296,     0.96396,     0.96496,     0.96597,     0.96697,     0.96797,     0.96897,     0.96997,     0.97097,     0.97197,     0.97297,     0.97397,     0.97497,     0.97598,     0.97698,     0.97798,     0.97898,     0.97998,     0.98098,     0.98198,     0.98298,     0.98398,\n",
              "           0.98498,     0.98599,     0.98699,     0.98799,     0.98899,     0.98999,     0.99099,     0.99199,     0.99299,     0.99399,     0.99499,       0.996,       0.997,       0.998,       0.999,           1]), array([[          1,           1,           1, ...,     0.62667,     0.62667,           0],\n",
              "       [          1,           1,           1, ...,     0.33854,     0.33854,           0],\n",
              "       [          1,           1,           1, ...,    0.017498,    0.008749,           0],\n",
              "       [          1,           1,           1, ...,    0.011502,    0.005751,           0],\n",
              "       [          1,           1,           1, ...,     0.97561,     0.97561,           0],\n",
              "       [          1,           1,           1, ...,           1,           1,           0]]), 'Recall', 'Precision'], [array([          0,    0.001001,    0.002002,    0.003003,    0.004004,    0.005005,    0.006006,    0.007007,    0.008008,    0.009009,     0.01001,    0.011011,    0.012012,    0.013013,    0.014014,    0.015015,    0.016016,    0.017017,    0.018018,    0.019019,     0.02002,    0.021021,    0.022022,    0.023023,\n",
              "          0.024024,    0.025025,    0.026026,    0.027027,    0.028028,    0.029029,     0.03003,    0.031031,    0.032032,    0.033033,    0.034034,    0.035035,    0.036036,    0.037037,    0.038038,    0.039039,     0.04004,    0.041041,    0.042042,    0.043043,    0.044044,    0.045045,    0.046046,    0.047047,\n",
              "          0.048048,    0.049049,     0.05005,    0.051051,    0.052052,    0.053053,    0.054054,    0.055055,    0.056056,    0.057057,    0.058058,    0.059059,     0.06006,    0.061061,    0.062062,    0.063063,    0.064064,    0.065065,    0.066066,    0.067067,    0.068068,    0.069069,     0.07007,    0.071071,\n",
              "          0.072072,    0.073073,    0.074074,    0.075075,    0.076076,    0.077077,    0.078078,    0.079079,     0.08008,    0.081081,    0.082082,    0.083083,    0.084084,    0.085085,    0.086086,    0.087087,    0.088088,    0.089089,     0.09009,    0.091091,    0.092092,    0.093093,    0.094094,    0.095095,\n",
              "          0.096096,    0.097097,    0.098098,    0.099099,      0.1001,      0.1011,      0.1021,      0.1031,      0.1041,     0.10511,     0.10611,     0.10711,     0.10811,     0.10911,     0.11011,     0.11111,     0.11211,     0.11311,     0.11411,     0.11512,     0.11612,     0.11712,     0.11812,     0.11912,\n",
              "           0.12012,     0.12112,     0.12212,     0.12312,     0.12412,     0.12513,     0.12613,     0.12713,     0.12813,     0.12913,     0.13013,     0.13113,     0.13213,     0.13313,     0.13413,     0.13514,     0.13614,     0.13714,     0.13814,     0.13914,     0.14014,     0.14114,     0.14214,     0.14314,\n",
              "           0.14414,     0.14515,     0.14615,     0.14715,     0.14815,     0.14915,     0.15015,     0.15115,     0.15215,     0.15315,     0.15415,     0.15516,     0.15616,     0.15716,     0.15816,     0.15916,     0.16016,     0.16116,     0.16216,     0.16316,     0.16416,     0.16517,     0.16617,     0.16717,\n",
              "           0.16817,     0.16917,     0.17017,     0.17117,     0.17217,     0.17317,     0.17417,     0.17518,     0.17618,     0.17718,     0.17818,     0.17918,     0.18018,     0.18118,     0.18218,     0.18318,     0.18418,     0.18519,     0.18619,     0.18719,     0.18819,     0.18919,     0.19019,     0.19119,\n",
              "           0.19219,     0.19319,     0.19419,      0.1952,      0.1962,      0.1972,      0.1982,      0.1992,      0.2002,      0.2012,      0.2022,      0.2032,      0.2042,     0.20521,     0.20621,     0.20721,     0.20821,     0.20921,     0.21021,     0.21121,     0.21221,     0.21321,     0.21421,     0.21522,\n",
              "           0.21622,     0.21722,     0.21822,     0.21922,     0.22022,     0.22122,     0.22222,     0.22322,     0.22422,     0.22523,     0.22623,     0.22723,     0.22823,     0.22923,     0.23023,     0.23123,     0.23223,     0.23323,     0.23423,     0.23524,     0.23624,     0.23724,     0.23824,     0.23924,\n",
              "           0.24024,     0.24124,     0.24224,     0.24324,     0.24424,     0.24525,     0.24625,     0.24725,     0.24825,     0.24925,     0.25025,     0.25125,     0.25225,     0.25325,     0.25425,     0.25526,     0.25626,     0.25726,     0.25826,     0.25926,     0.26026,     0.26126,     0.26226,     0.26326,\n",
              "           0.26426,     0.26527,     0.26627,     0.26727,     0.26827,     0.26927,     0.27027,     0.27127,     0.27227,     0.27327,     0.27427,     0.27528,     0.27628,     0.27728,     0.27828,     0.27928,     0.28028,     0.28128,     0.28228,     0.28328,     0.28428,     0.28529,     0.28629,     0.28729,\n",
              "           0.28829,     0.28929,     0.29029,     0.29129,     0.29229,     0.29329,     0.29429,      0.2953,      0.2963,      0.2973,      0.2983,      0.2993,      0.3003,      0.3013,      0.3023,      0.3033,      0.3043,     0.30531,     0.30631,     0.30731,     0.30831,     0.30931,     0.31031,     0.31131,\n",
              "           0.31231,     0.31331,     0.31431,     0.31532,     0.31632,     0.31732,     0.31832,     0.31932,     0.32032,     0.32132,     0.32232,     0.32332,     0.32432,     0.32533,     0.32633,     0.32733,     0.32833,     0.32933,     0.33033,     0.33133,     0.33233,     0.33333,     0.33433,     0.33534,\n",
              "           0.33634,     0.33734,     0.33834,     0.33934,     0.34034,     0.34134,     0.34234,     0.34334,     0.34434,     0.34535,     0.34635,     0.34735,     0.34835,     0.34935,     0.35035,     0.35135,     0.35235,     0.35335,     0.35435,     0.35536,     0.35636,     0.35736,     0.35836,     0.35936,\n",
              "           0.36036,     0.36136,     0.36236,     0.36336,     0.36436,     0.36537,     0.36637,     0.36737,     0.36837,     0.36937,     0.37037,     0.37137,     0.37237,     0.37337,     0.37437,     0.37538,     0.37638,     0.37738,     0.37838,     0.37938,     0.38038,     0.38138,     0.38238,     0.38338,\n",
              "           0.38438,     0.38539,     0.38639,     0.38739,     0.38839,     0.38939,     0.39039,     0.39139,     0.39239,     0.39339,     0.39439,      0.3954,      0.3964,      0.3974,      0.3984,      0.3994,      0.4004,      0.4014,      0.4024,      0.4034,      0.4044,     0.40541,     0.40641,     0.40741,\n",
              "           0.40841,     0.40941,     0.41041,     0.41141,     0.41241,     0.41341,     0.41441,     0.41542,     0.41642,     0.41742,     0.41842,     0.41942,     0.42042,     0.42142,     0.42242,     0.42342,     0.42442,     0.42543,     0.42643,     0.42743,     0.42843,     0.42943,     0.43043,     0.43143,\n",
              "           0.43243,     0.43343,     0.43443,     0.43544,     0.43644,     0.43744,     0.43844,     0.43944,     0.44044,     0.44144,     0.44244,     0.44344,     0.44444,     0.44545,     0.44645,     0.44745,     0.44845,     0.44945,     0.45045,     0.45145,     0.45245,     0.45345,     0.45445,     0.45546,\n",
              "           0.45646,     0.45746,     0.45846,     0.45946,     0.46046,     0.46146,     0.46246,     0.46346,     0.46446,     0.46547,     0.46647,     0.46747,     0.46847,     0.46947,     0.47047,     0.47147,     0.47247,     0.47347,     0.47447,     0.47548,     0.47648,     0.47748,     0.47848,     0.47948,\n",
              "           0.48048,     0.48148,     0.48248,     0.48348,     0.48448,     0.48549,     0.48649,     0.48749,     0.48849,     0.48949,     0.49049,     0.49149,     0.49249,     0.49349,     0.49449,      0.4955,      0.4965,      0.4975,      0.4985,      0.4995,      0.5005,      0.5015,      0.5025,      0.5035,\n",
              "            0.5045,     0.50551,     0.50651,     0.50751,     0.50851,     0.50951,     0.51051,     0.51151,     0.51251,     0.51351,     0.51451,     0.51552,     0.51652,     0.51752,     0.51852,     0.51952,     0.52052,     0.52152,     0.52252,     0.52352,     0.52452,     0.52553,     0.52653,     0.52753,\n",
              "           0.52853,     0.52953,     0.53053,     0.53153,     0.53253,     0.53353,     0.53453,     0.53554,     0.53654,     0.53754,     0.53854,     0.53954,     0.54054,     0.54154,     0.54254,     0.54354,     0.54454,     0.54555,     0.54655,     0.54755,     0.54855,     0.54955,     0.55055,     0.55155,\n",
              "           0.55255,     0.55355,     0.55455,     0.55556,     0.55656,     0.55756,     0.55856,     0.55956,     0.56056,     0.56156,     0.56256,     0.56356,     0.56456,     0.56557,     0.56657,     0.56757,     0.56857,     0.56957,     0.57057,     0.57157,     0.57257,     0.57357,     0.57457,     0.57558,\n",
              "           0.57658,     0.57758,     0.57858,     0.57958,     0.58058,     0.58158,     0.58258,     0.58358,     0.58458,     0.58559,     0.58659,     0.58759,     0.58859,     0.58959,     0.59059,     0.59159,     0.59259,     0.59359,     0.59459,      0.5956,      0.5966,      0.5976,      0.5986,      0.5996,\n",
              "            0.6006,      0.6016,      0.6026,      0.6036,      0.6046,     0.60561,     0.60661,     0.60761,     0.60861,     0.60961,     0.61061,     0.61161,     0.61261,     0.61361,     0.61461,     0.61562,     0.61662,     0.61762,     0.61862,     0.61962,     0.62062,     0.62162,     0.62262,     0.62362,\n",
              "           0.62462,     0.62563,     0.62663,     0.62763,     0.62863,     0.62963,     0.63063,     0.63163,     0.63263,     0.63363,     0.63463,     0.63564,     0.63664,     0.63764,     0.63864,     0.63964,     0.64064,     0.64164,     0.64264,     0.64364,     0.64464,     0.64565,     0.64665,     0.64765,\n",
              "           0.64865,     0.64965,     0.65065,     0.65165,     0.65265,     0.65365,     0.65465,     0.65566,     0.65666,     0.65766,     0.65866,     0.65966,     0.66066,     0.66166,     0.66266,     0.66366,     0.66466,     0.66567,     0.66667,     0.66767,     0.66867,     0.66967,     0.67067,     0.67167,\n",
              "           0.67267,     0.67367,     0.67467,     0.67568,     0.67668,     0.67768,     0.67868,     0.67968,     0.68068,     0.68168,     0.68268,     0.68368,     0.68468,     0.68569,     0.68669,     0.68769,     0.68869,     0.68969,     0.69069,     0.69169,     0.69269,     0.69369,     0.69469,      0.6957,\n",
              "            0.6967,      0.6977,      0.6987,      0.6997,      0.7007,      0.7017,      0.7027,      0.7037,      0.7047,     0.70571,     0.70671,     0.70771,     0.70871,     0.70971,     0.71071,     0.71171,     0.71271,     0.71371,     0.71471,     0.71572,     0.71672,     0.71772,     0.71872,     0.71972,\n",
              "           0.72072,     0.72172,     0.72272,     0.72372,     0.72472,     0.72573,     0.72673,     0.72773,     0.72873,     0.72973,     0.73073,     0.73173,     0.73273,     0.73373,     0.73473,     0.73574,     0.73674,     0.73774,     0.73874,     0.73974,     0.74074,     0.74174,     0.74274,     0.74374,\n",
              "           0.74474,     0.74575,     0.74675,     0.74775,     0.74875,     0.74975,     0.75075,     0.75175,     0.75275,     0.75375,     0.75475,     0.75576,     0.75676,     0.75776,     0.75876,     0.75976,     0.76076,     0.76176,     0.76276,     0.76376,     0.76476,     0.76577,     0.76677,     0.76777,\n",
              "           0.76877,     0.76977,     0.77077,     0.77177,     0.77277,     0.77377,     0.77477,     0.77578,     0.77678,     0.77778,     0.77878,     0.77978,     0.78078,     0.78178,     0.78278,     0.78378,     0.78478,     0.78579,     0.78679,     0.78779,     0.78879,     0.78979,     0.79079,     0.79179,\n",
              "           0.79279,     0.79379,     0.79479,      0.7958,      0.7968,      0.7978,      0.7988,      0.7998,      0.8008,      0.8018,      0.8028,      0.8038,      0.8048,     0.80581,     0.80681,     0.80781,     0.80881,     0.80981,     0.81081,     0.81181,     0.81281,     0.81381,     0.81481,     0.81582,\n",
              "           0.81682,     0.81782,     0.81882,     0.81982,     0.82082,     0.82182,     0.82282,     0.82382,     0.82482,     0.82583,     0.82683,     0.82783,     0.82883,     0.82983,     0.83083,     0.83183,     0.83283,     0.83383,     0.83483,     0.83584,     0.83684,     0.83784,     0.83884,     0.83984,\n",
              "           0.84084,     0.84184,     0.84284,     0.84384,     0.84484,     0.84585,     0.84685,     0.84785,     0.84885,     0.84985,     0.85085,     0.85185,     0.85285,     0.85385,     0.85485,     0.85586,     0.85686,     0.85786,     0.85886,     0.85986,     0.86086,     0.86186,     0.86286,     0.86386,\n",
              "           0.86486,     0.86587,     0.86687,     0.86787,     0.86887,     0.86987,     0.87087,     0.87187,     0.87287,     0.87387,     0.87487,     0.87588,     0.87688,     0.87788,     0.87888,     0.87988,     0.88088,     0.88188,     0.88288,     0.88388,     0.88488,     0.88589,     0.88689,     0.88789,\n",
              "           0.88889,     0.88989,     0.89089,     0.89189,     0.89289,     0.89389,     0.89489,      0.8959,      0.8969,      0.8979,      0.8989,      0.8999,      0.9009,      0.9019,      0.9029,      0.9039,      0.9049,     0.90591,     0.90691,     0.90791,     0.90891,     0.90991,     0.91091,     0.91191,\n",
              "           0.91291,     0.91391,     0.91491,     0.91592,     0.91692,     0.91792,     0.91892,     0.91992,     0.92092,     0.92192,     0.92292,     0.92392,     0.92492,     0.92593,     0.92693,     0.92793,     0.92893,     0.92993,     0.93093,     0.93193,     0.93293,     0.93393,     0.93493,     0.93594,\n",
              "           0.93694,     0.93794,     0.93894,     0.93994,     0.94094,     0.94194,     0.94294,     0.94394,     0.94494,     0.94595,     0.94695,     0.94795,     0.94895,     0.94995,     0.95095,     0.95195,     0.95295,     0.95395,     0.95495,     0.95596,     0.95696,     0.95796,     0.95896,     0.95996,\n",
              "           0.96096,     0.96196,     0.96296,     0.96396,     0.96496,     0.96597,     0.96697,     0.96797,     0.96897,     0.96997,     0.97097,     0.97197,     0.97297,     0.97397,     0.97497,     0.97598,     0.97698,     0.97798,     0.97898,     0.97998,     0.98098,     0.98198,     0.98298,     0.98398,\n",
              "           0.98498,     0.98599,     0.98699,     0.98799,     0.98899,     0.98999,     0.99099,     0.99199,     0.99299,     0.99399,     0.99499,       0.996,       0.997,       0.998,       0.999,           1]), array([[    0.21835,     0.21835,     0.29279, ...,           0,           0,           0],\n",
              "       [    0.25366,     0.25366,     0.34044, ...,           0,           0,           0],\n",
              "       [    0.32558,     0.32558,     0.42266, ...,           0,           0,           0],\n",
              "       [    0.26026,     0.26026,     0.32818, ...,           0,           0,           0],\n",
              "       [    0.23564,     0.23564,     0.36778, ...,           0,           0,           0],\n",
              "       [   0.068127,    0.068127,     0.10604, ...,           0,           0,           0]]), 'Confidence', 'F1'], [array([          0,    0.001001,    0.002002,    0.003003,    0.004004,    0.005005,    0.006006,    0.007007,    0.008008,    0.009009,     0.01001,    0.011011,    0.012012,    0.013013,    0.014014,    0.015015,    0.016016,    0.017017,    0.018018,    0.019019,     0.02002,    0.021021,    0.022022,    0.023023,\n",
              "          0.024024,    0.025025,    0.026026,    0.027027,    0.028028,    0.029029,     0.03003,    0.031031,    0.032032,    0.033033,    0.034034,    0.035035,    0.036036,    0.037037,    0.038038,    0.039039,     0.04004,    0.041041,    0.042042,    0.043043,    0.044044,    0.045045,    0.046046,    0.047047,\n",
              "          0.048048,    0.049049,     0.05005,    0.051051,    0.052052,    0.053053,    0.054054,    0.055055,    0.056056,    0.057057,    0.058058,    0.059059,     0.06006,    0.061061,    0.062062,    0.063063,    0.064064,    0.065065,    0.066066,    0.067067,    0.068068,    0.069069,     0.07007,    0.071071,\n",
              "          0.072072,    0.073073,    0.074074,    0.075075,    0.076076,    0.077077,    0.078078,    0.079079,     0.08008,    0.081081,    0.082082,    0.083083,    0.084084,    0.085085,    0.086086,    0.087087,    0.088088,    0.089089,     0.09009,    0.091091,    0.092092,    0.093093,    0.094094,    0.095095,\n",
              "          0.096096,    0.097097,    0.098098,    0.099099,      0.1001,      0.1011,      0.1021,      0.1031,      0.1041,     0.10511,     0.10611,     0.10711,     0.10811,     0.10911,     0.11011,     0.11111,     0.11211,     0.11311,     0.11411,     0.11512,     0.11612,     0.11712,     0.11812,     0.11912,\n",
              "           0.12012,     0.12112,     0.12212,     0.12312,     0.12412,     0.12513,     0.12613,     0.12713,     0.12813,     0.12913,     0.13013,     0.13113,     0.13213,     0.13313,     0.13413,     0.13514,     0.13614,     0.13714,     0.13814,     0.13914,     0.14014,     0.14114,     0.14214,     0.14314,\n",
              "           0.14414,     0.14515,     0.14615,     0.14715,     0.14815,     0.14915,     0.15015,     0.15115,     0.15215,     0.15315,     0.15415,     0.15516,     0.15616,     0.15716,     0.15816,     0.15916,     0.16016,     0.16116,     0.16216,     0.16316,     0.16416,     0.16517,     0.16617,     0.16717,\n",
              "           0.16817,     0.16917,     0.17017,     0.17117,     0.17217,     0.17317,     0.17417,     0.17518,     0.17618,     0.17718,     0.17818,     0.17918,     0.18018,     0.18118,     0.18218,     0.18318,     0.18418,     0.18519,     0.18619,     0.18719,     0.18819,     0.18919,     0.19019,     0.19119,\n",
              "           0.19219,     0.19319,     0.19419,      0.1952,      0.1962,      0.1972,      0.1982,      0.1992,      0.2002,      0.2012,      0.2022,      0.2032,      0.2042,     0.20521,     0.20621,     0.20721,     0.20821,     0.20921,     0.21021,     0.21121,     0.21221,     0.21321,     0.21421,     0.21522,\n",
              "           0.21622,     0.21722,     0.21822,     0.21922,     0.22022,     0.22122,     0.22222,     0.22322,     0.22422,     0.22523,     0.22623,     0.22723,     0.22823,     0.22923,     0.23023,     0.23123,     0.23223,     0.23323,     0.23423,     0.23524,     0.23624,     0.23724,     0.23824,     0.23924,\n",
              "           0.24024,     0.24124,     0.24224,     0.24324,     0.24424,     0.24525,     0.24625,     0.24725,     0.24825,     0.24925,     0.25025,     0.25125,     0.25225,     0.25325,     0.25425,     0.25526,     0.25626,     0.25726,     0.25826,     0.25926,     0.26026,     0.26126,     0.26226,     0.26326,\n",
              "           0.26426,     0.26527,     0.26627,     0.26727,     0.26827,     0.26927,     0.27027,     0.27127,     0.27227,     0.27327,     0.27427,     0.27528,     0.27628,     0.27728,     0.27828,     0.27928,     0.28028,     0.28128,     0.28228,     0.28328,     0.28428,     0.28529,     0.28629,     0.28729,\n",
              "           0.28829,     0.28929,     0.29029,     0.29129,     0.29229,     0.29329,     0.29429,      0.2953,      0.2963,      0.2973,      0.2983,      0.2993,      0.3003,      0.3013,      0.3023,      0.3033,      0.3043,     0.30531,     0.30631,     0.30731,     0.30831,     0.30931,     0.31031,     0.31131,\n",
              "           0.31231,     0.31331,     0.31431,     0.31532,     0.31632,     0.31732,     0.31832,     0.31932,     0.32032,     0.32132,     0.32232,     0.32332,     0.32432,     0.32533,     0.32633,     0.32733,     0.32833,     0.32933,     0.33033,     0.33133,     0.33233,     0.33333,     0.33433,     0.33534,\n",
              "           0.33634,     0.33734,     0.33834,     0.33934,     0.34034,     0.34134,     0.34234,     0.34334,     0.34434,     0.34535,     0.34635,     0.34735,     0.34835,     0.34935,     0.35035,     0.35135,     0.35235,     0.35335,     0.35435,     0.35536,     0.35636,     0.35736,     0.35836,     0.35936,\n",
              "           0.36036,     0.36136,     0.36236,     0.36336,     0.36436,     0.36537,     0.36637,     0.36737,     0.36837,     0.36937,     0.37037,     0.37137,     0.37237,     0.37337,     0.37437,     0.37538,     0.37638,     0.37738,     0.37838,     0.37938,     0.38038,     0.38138,     0.38238,     0.38338,\n",
              "           0.38438,     0.38539,     0.38639,     0.38739,     0.38839,     0.38939,     0.39039,     0.39139,     0.39239,     0.39339,     0.39439,      0.3954,      0.3964,      0.3974,      0.3984,      0.3994,      0.4004,      0.4014,      0.4024,      0.4034,      0.4044,     0.40541,     0.40641,     0.40741,\n",
              "           0.40841,     0.40941,     0.41041,     0.41141,     0.41241,     0.41341,     0.41441,     0.41542,     0.41642,     0.41742,     0.41842,     0.41942,     0.42042,     0.42142,     0.42242,     0.42342,     0.42442,     0.42543,     0.42643,     0.42743,     0.42843,     0.42943,     0.43043,     0.43143,\n",
              "           0.43243,     0.43343,     0.43443,     0.43544,     0.43644,     0.43744,     0.43844,     0.43944,     0.44044,     0.44144,     0.44244,     0.44344,     0.44444,     0.44545,     0.44645,     0.44745,     0.44845,     0.44945,     0.45045,     0.45145,     0.45245,     0.45345,     0.45445,     0.45546,\n",
              "           0.45646,     0.45746,     0.45846,     0.45946,     0.46046,     0.46146,     0.46246,     0.46346,     0.46446,     0.46547,     0.46647,     0.46747,     0.46847,     0.46947,     0.47047,     0.47147,     0.47247,     0.47347,     0.47447,     0.47548,     0.47648,     0.47748,     0.47848,     0.47948,\n",
              "           0.48048,     0.48148,     0.48248,     0.48348,     0.48448,     0.48549,     0.48649,     0.48749,     0.48849,     0.48949,     0.49049,     0.49149,     0.49249,     0.49349,     0.49449,      0.4955,      0.4965,      0.4975,      0.4985,      0.4995,      0.5005,      0.5015,      0.5025,      0.5035,\n",
              "            0.5045,     0.50551,     0.50651,     0.50751,     0.50851,     0.50951,     0.51051,     0.51151,     0.51251,     0.51351,     0.51451,     0.51552,     0.51652,     0.51752,     0.51852,     0.51952,     0.52052,     0.52152,     0.52252,     0.52352,     0.52452,     0.52553,     0.52653,     0.52753,\n",
              "           0.52853,     0.52953,     0.53053,     0.53153,     0.53253,     0.53353,     0.53453,     0.53554,     0.53654,     0.53754,     0.53854,     0.53954,     0.54054,     0.54154,     0.54254,     0.54354,     0.54454,     0.54555,     0.54655,     0.54755,     0.54855,     0.54955,     0.55055,     0.55155,\n",
              "           0.55255,     0.55355,     0.55455,     0.55556,     0.55656,     0.55756,     0.55856,     0.55956,     0.56056,     0.56156,     0.56256,     0.56356,     0.56456,     0.56557,     0.56657,     0.56757,     0.56857,     0.56957,     0.57057,     0.57157,     0.57257,     0.57357,     0.57457,     0.57558,\n",
              "           0.57658,     0.57758,     0.57858,     0.57958,     0.58058,     0.58158,     0.58258,     0.58358,     0.58458,     0.58559,     0.58659,     0.58759,     0.58859,     0.58959,     0.59059,     0.59159,     0.59259,     0.59359,     0.59459,      0.5956,      0.5966,      0.5976,      0.5986,      0.5996,\n",
              "            0.6006,      0.6016,      0.6026,      0.6036,      0.6046,     0.60561,     0.60661,     0.60761,     0.60861,     0.60961,     0.61061,     0.61161,     0.61261,     0.61361,     0.61461,     0.61562,     0.61662,     0.61762,     0.61862,     0.61962,     0.62062,     0.62162,     0.62262,     0.62362,\n",
              "           0.62462,     0.62563,     0.62663,     0.62763,     0.62863,     0.62963,     0.63063,     0.63163,     0.63263,     0.63363,     0.63463,     0.63564,     0.63664,     0.63764,     0.63864,     0.63964,     0.64064,     0.64164,     0.64264,     0.64364,     0.64464,     0.64565,     0.64665,     0.64765,\n",
              "           0.64865,     0.64965,     0.65065,     0.65165,     0.65265,     0.65365,     0.65465,     0.65566,     0.65666,     0.65766,     0.65866,     0.65966,     0.66066,     0.66166,     0.66266,     0.66366,     0.66466,     0.66567,     0.66667,     0.66767,     0.66867,     0.66967,     0.67067,     0.67167,\n",
              "           0.67267,     0.67367,     0.67467,     0.67568,     0.67668,     0.67768,     0.67868,     0.67968,     0.68068,     0.68168,     0.68268,     0.68368,     0.68468,     0.68569,     0.68669,     0.68769,     0.68869,     0.68969,     0.69069,     0.69169,     0.69269,     0.69369,     0.69469,      0.6957,\n",
              "            0.6967,      0.6977,      0.6987,      0.6997,      0.7007,      0.7017,      0.7027,      0.7037,      0.7047,     0.70571,     0.70671,     0.70771,     0.70871,     0.70971,     0.71071,     0.71171,     0.71271,     0.71371,     0.71471,     0.71572,     0.71672,     0.71772,     0.71872,     0.71972,\n",
              "           0.72072,     0.72172,     0.72272,     0.72372,     0.72472,     0.72573,     0.72673,     0.72773,     0.72873,     0.72973,     0.73073,     0.73173,     0.73273,     0.73373,     0.73473,     0.73574,     0.73674,     0.73774,     0.73874,     0.73974,     0.74074,     0.74174,     0.74274,     0.74374,\n",
              "           0.74474,     0.74575,     0.74675,     0.74775,     0.74875,     0.74975,     0.75075,     0.75175,     0.75275,     0.75375,     0.75475,     0.75576,     0.75676,     0.75776,     0.75876,     0.75976,     0.76076,     0.76176,     0.76276,     0.76376,     0.76476,     0.76577,     0.76677,     0.76777,\n",
              "           0.76877,     0.76977,     0.77077,     0.77177,     0.77277,     0.77377,     0.77477,     0.77578,     0.77678,     0.77778,     0.77878,     0.77978,     0.78078,     0.78178,     0.78278,     0.78378,     0.78478,     0.78579,     0.78679,     0.78779,     0.78879,     0.78979,     0.79079,     0.79179,\n",
              "           0.79279,     0.79379,     0.79479,      0.7958,      0.7968,      0.7978,      0.7988,      0.7998,      0.8008,      0.8018,      0.8028,      0.8038,      0.8048,     0.80581,     0.80681,     0.80781,     0.80881,     0.80981,     0.81081,     0.81181,     0.81281,     0.81381,     0.81481,     0.81582,\n",
              "           0.81682,     0.81782,     0.81882,     0.81982,     0.82082,     0.82182,     0.82282,     0.82382,     0.82482,     0.82583,     0.82683,     0.82783,     0.82883,     0.82983,     0.83083,     0.83183,     0.83283,     0.83383,     0.83483,     0.83584,     0.83684,     0.83784,     0.83884,     0.83984,\n",
              "           0.84084,     0.84184,     0.84284,     0.84384,     0.84484,     0.84585,     0.84685,     0.84785,     0.84885,     0.84985,     0.85085,     0.85185,     0.85285,     0.85385,     0.85485,     0.85586,     0.85686,     0.85786,     0.85886,     0.85986,     0.86086,     0.86186,     0.86286,     0.86386,\n",
              "           0.86486,     0.86587,     0.86687,     0.86787,     0.86887,     0.86987,     0.87087,     0.87187,     0.87287,     0.87387,     0.87487,     0.87588,     0.87688,     0.87788,     0.87888,     0.87988,     0.88088,     0.88188,     0.88288,     0.88388,     0.88488,     0.88589,     0.88689,     0.88789,\n",
              "           0.88889,     0.88989,     0.89089,     0.89189,     0.89289,     0.89389,     0.89489,      0.8959,      0.8969,      0.8979,      0.8989,      0.8999,      0.9009,      0.9019,      0.9029,      0.9039,      0.9049,     0.90591,     0.90691,     0.90791,     0.90891,     0.90991,     0.91091,     0.91191,\n",
              "           0.91291,     0.91391,     0.91491,     0.91592,     0.91692,     0.91792,     0.91892,     0.91992,     0.92092,     0.92192,     0.92292,     0.92392,     0.92492,     0.92593,     0.92693,     0.92793,     0.92893,     0.92993,     0.93093,     0.93193,     0.93293,     0.93393,     0.93493,     0.93594,\n",
              "           0.93694,     0.93794,     0.93894,     0.93994,     0.94094,     0.94194,     0.94294,     0.94394,     0.94494,     0.94595,     0.94695,     0.94795,     0.94895,     0.94995,     0.95095,     0.95195,     0.95295,     0.95395,     0.95495,     0.95596,     0.95696,     0.95796,     0.95896,     0.95996,\n",
              "           0.96096,     0.96196,     0.96296,     0.96396,     0.96496,     0.96597,     0.96697,     0.96797,     0.96897,     0.96997,     0.97097,     0.97197,     0.97297,     0.97397,     0.97497,     0.97598,     0.97698,     0.97798,     0.97898,     0.97998,     0.98098,     0.98198,     0.98298,     0.98398,\n",
              "           0.98498,     0.98599,     0.98699,     0.98799,     0.98899,     0.98999,     0.99099,     0.99199,     0.99299,     0.99399,     0.99499,       0.996,       0.997,       0.998,       0.999,           1]), array([[    0.12256,     0.12256,      0.1715, ...,           1,           1,           1],\n",
              "       [    0.14525,     0.14525,     0.20514, ...,           1,           1,           1],\n",
              "       [    0.19531,     0.19531,     0.26961, ...,           1,           1,           1],\n",
              "       [     0.1502,      0.1502,     0.19734, ...,           1,           1,           1],\n",
              "       [    0.13356,     0.13356,     0.22532, ...,           1,           1,           1],\n",
              "       [   0.035264,    0.035264,     0.05599, ...,           1,           1,           1]]), 'Confidence', 'Precision'], [array([          0,    0.001001,    0.002002,    0.003003,    0.004004,    0.005005,    0.006006,    0.007007,    0.008008,    0.009009,     0.01001,    0.011011,    0.012012,    0.013013,    0.014014,    0.015015,    0.016016,    0.017017,    0.018018,    0.019019,     0.02002,    0.021021,    0.022022,    0.023023,\n",
              "          0.024024,    0.025025,    0.026026,    0.027027,    0.028028,    0.029029,     0.03003,    0.031031,    0.032032,    0.033033,    0.034034,    0.035035,    0.036036,    0.037037,    0.038038,    0.039039,     0.04004,    0.041041,    0.042042,    0.043043,    0.044044,    0.045045,    0.046046,    0.047047,\n",
              "          0.048048,    0.049049,     0.05005,    0.051051,    0.052052,    0.053053,    0.054054,    0.055055,    0.056056,    0.057057,    0.058058,    0.059059,     0.06006,    0.061061,    0.062062,    0.063063,    0.064064,    0.065065,    0.066066,    0.067067,    0.068068,    0.069069,     0.07007,    0.071071,\n",
              "          0.072072,    0.073073,    0.074074,    0.075075,    0.076076,    0.077077,    0.078078,    0.079079,     0.08008,    0.081081,    0.082082,    0.083083,    0.084084,    0.085085,    0.086086,    0.087087,    0.088088,    0.089089,     0.09009,    0.091091,    0.092092,    0.093093,    0.094094,    0.095095,\n",
              "          0.096096,    0.097097,    0.098098,    0.099099,      0.1001,      0.1011,      0.1021,      0.1031,      0.1041,     0.10511,     0.10611,     0.10711,     0.10811,     0.10911,     0.11011,     0.11111,     0.11211,     0.11311,     0.11411,     0.11512,     0.11612,     0.11712,     0.11812,     0.11912,\n",
              "           0.12012,     0.12112,     0.12212,     0.12312,     0.12412,     0.12513,     0.12613,     0.12713,     0.12813,     0.12913,     0.13013,     0.13113,     0.13213,     0.13313,     0.13413,     0.13514,     0.13614,     0.13714,     0.13814,     0.13914,     0.14014,     0.14114,     0.14214,     0.14314,\n",
              "           0.14414,     0.14515,     0.14615,     0.14715,     0.14815,     0.14915,     0.15015,     0.15115,     0.15215,     0.15315,     0.15415,     0.15516,     0.15616,     0.15716,     0.15816,     0.15916,     0.16016,     0.16116,     0.16216,     0.16316,     0.16416,     0.16517,     0.16617,     0.16717,\n",
              "           0.16817,     0.16917,     0.17017,     0.17117,     0.17217,     0.17317,     0.17417,     0.17518,     0.17618,     0.17718,     0.17818,     0.17918,     0.18018,     0.18118,     0.18218,     0.18318,     0.18418,     0.18519,     0.18619,     0.18719,     0.18819,     0.18919,     0.19019,     0.19119,\n",
              "           0.19219,     0.19319,     0.19419,      0.1952,      0.1962,      0.1972,      0.1982,      0.1992,      0.2002,      0.2012,      0.2022,      0.2032,      0.2042,     0.20521,     0.20621,     0.20721,     0.20821,     0.20921,     0.21021,     0.21121,     0.21221,     0.21321,     0.21421,     0.21522,\n",
              "           0.21622,     0.21722,     0.21822,     0.21922,     0.22022,     0.22122,     0.22222,     0.22322,     0.22422,     0.22523,     0.22623,     0.22723,     0.22823,     0.22923,     0.23023,     0.23123,     0.23223,     0.23323,     0.23423,     0.23524,     0.23624,     0.23724,     0.23824,     0.23924,\n",
              "           0.24024,     0.24124,     0.24224,     0.24324,     0.24424,     0.24525,     0.24625,     0.24725,     0.24825,     0.24925,     0.25025,     0.25125,     0.25225,     0.25325,     0.25425,     0.25526,     0.25626,     0.25726,     0.25826,     0.25926,     0.26026,     0.26126,     0.26226,     0.26326,\n",
              "           0.26426,     0.26527,     0.26627,     0.26727,     0.26827,     0.26927,     0.27027,     0.27127,     0.27227,     0.27327,     0.27427,     0.27528,     0.27628,     0.27728,     0.27828,     0.27928,     0.28028,     0.28128,     0.28228,     0.28328,     0.28428,     0.28529,     0.28629,     0.28729,\n",
              "           0.28829,     0.28929,     0.29029,     0.29129,     0.29229,     0.29329,     0.29429,      0.2953,      0.2963,      0.2973,      0.2983,      0.2993,      0.3003,      0.3013,      0.3023,      0.3033,      0.3043,     0.30531,     0.30631,     0.30731,     0.30831,     0.30931,     0.31031,     0.31131,\n",
              "           0.31231,     0.31331,     0.31431,     0.31532,     0.31632,     0.31732,     0.31832,     0.31932,     0.32032,     0.32132,     0.32232,     0.32332,     0.32432,     0.32533,     0.32633,     0.32733,     0.32833,     0.32933,     0.33033,     0.33133,     0.33233,     0.33333,     0.33433,     0.33534,\n",
              "           0.33634,     0.33734,     0.33834,     0.33934,     0.34034,     0.34134,     0.34234,     0.34334,     0.34434,     0.34535,     0.34635,     0.34735,     0.34835,     0.34935,     0.35035,     0.35135,     0.35235,     0.35335,     0.35435,     0.35536,     0.35636,     0.35736,     0.35836,     0.35936,\n",
              "           0.36036,     0.36136,     0.36236,     0.36336,     0.36436,     0.36537,     0.36637,     0.36737,     0.36837,     0.36937,     0.37037,     0.37137,     0.37237,     0.37337,     0.37437,     0.37538,     0.37638,     0.37738,     0.37838,     0.37938,     0.38038,     0.38138,     0.38238,     0.38338,\n",
              "           0.38438,     0.38539,     0.38639,     0.38739,     0.38839,     0.38939,     0.39039,     0.39139,     0.39239,     0.39339,     0.39439,      0.3954,      0.3964,      0.3974,      0.3984,      0.3994,      0.4004,      0.4014,      0.4024,      0.4034,      0.4044,     0.40541,     0.40641,     0.40741,\n",
              "           0.40841,     0.40941,     0.41041,     0.41141,     0.41241,     0.41341,     0.41441,     0.41542,     0.41642,     0.41742,     0.41842,     0.41942,     0.42042,     0.42142,     0.42242,     0.42342,     0.42442,     0.42543,     0.42643,     0.42743,     0.42843,     0.42943,     0.43043,     0.43143,\n",
              "           0.43243,     0.43343,     0.43443,     0.43544,     0.43644,     0.43744,     0.43844,     0.43944,     0.44044,     0.44144,     0.44244,     0.44344,     0.44444,     0.44545,     0.44645,     0.44745,     0.44845,     0.44945,     0.45045,     0.45145,     0.45245,     0.45345,     0.45445,     0.45546,\n",
              "           0.45646,     0.45746,     0.45846,     0.45946,     0.46046,     0.46146,     0.46246,     0.46346,     0.46446,     0.46547,     0.46647,     0.46747,     0.46847,     0.46947,     0.47047,     0.47147,     0.47247,     0.47347,     0.47447,     0.47548,     0.47648,     0.47748,     0.47848,     0.47948,\n",
              "           0.48048,     0.48148,     0.48248,     0.48348,     0.48448,     0.48549,     0.48649,     0.48749,     0.48849,     0.48949,     0.49049,     0.49149,     0.49249,     0.49349,     0.49449,      0.4955,      0.4965,      0.4975,      0.4985,      0.4995,      0.5005,      0.5015,      0.5025,      0.5035,\n",
              "            0.5045,     0.50551,     0.50651,     0.50751,     0.50851,     0.50951,     0.51051,     0.51151,     0.51251,     0.51351,     0.51451,     0.51552,     0.51652,     0.51752,     0.51852,     0.51952,     0.52052,     0.52152,     0.52252,     0.52352,     0.52452,     0.52553,     0.52653,     0.52753,\n",
              "           0.52853,     0.52953,     0.53053,     0.53153,     0.53253,     0.53353,     0.53453,     0.53554,     0.53654,     0.53754,     0.53854,     0.53954,     0.54054,     0.54154,     0.54254,     0.54354,     0.54454,     0.54555,     0.54655,     0.54755,     0.54855,     0.54955,     0.55055,     0.55155,\n",
              "           0.55255,     0.55355,     0.55455,     0.55556,     0.55656,     0.55756,     0.55856,     0.55956,     0.56056,     0.56156,     0.56256,     0.56356,     0.56456,     0.56557,     0.56657,     0.56757,     0.56857,     0.56957,     0.57057,     0.57157,     0.57257,     0.57357,     0.57457,     0.57558,\n",
              "           0.57658,     0.57758,     0.57858,     0.57958,     0.58058,     0.58158,     0.58258,     0.58358,     0.58458,     0.58559,     0.58659,     0.58759,     0.58859,     0.58959,     0.59059,     0.59159,     0.59259,     0.59359,     0.59459,      0.5956,      0.5966,      0.5976,      0.5986,      0.5996,\n",
              "            0.6006,      0.6016,      0.6026,      0.6036,      0.6046,     0.60561,     0.60661,     0.60761,     0.60861,     0.60961,     0.61061,     0.61161,     0.61261,     0.61361,     0.61461,     0.61562,     0.61662,     0.61762,     0.61862,     0.61962,     0.62062,     0.62162,     0.62262,     0.62362,\n",
              "           0.62462,     0.62563,     0.62663,     0.62763,     0.62863,     0.62963,     0.63063,     0.63163,     0.63263,     0.63363,     0.63463,     0.63564,     0.63664,     0.63764,     0.63864,     0.63964,     0.64064,     0.64164,     0.64264,     0.64364,     0.64464,     0.64565,     0.64665,     0.64765,\n",
              "           0.64865,     0.64965,     0.65065,     0.65165,     0.65265,     0.65365,     0.65465,     0.65566,     0.65666,     0.65766,     0.65866,     0.65966,     0.66066,     0.66166,     0.66266,     0.66366,     0.66466,     0.66567,     0.66667,     0.66767,     0.66867,     0.66967,     0.67067,     0.67167,\n",
              "           0.67267,     0.67367,     0.67467,     0.67568,     0.67668,     0.67768,     0.67868,     0.67968,     0.68068,     0.68168,     0.68268,     0.68368,     0.68468,     0.68569,     0.68669,     0.68769,     0.68869,     0.68969,     0.69069,     0.69169,     0.69269,     0.69369,     0.69469,      0.6957,\n",
              "            0.6967,      0.6977,      0.6987,      0.6997,      0.7007,      0.7017,      0.7027,      0.7037,      0.7047,     0.70571,     0.70671,     0.70771,     0.70871,     0.70971,     0.71071,     0.71171,     0.71271,     0.71371,     0.71471,     0.71572,     0.71672,     0.71772,     0.71872,     0.71972,\n",
              "           0.72072,     0.72172,     0.72272,     0.72372,     0.72472,     0.72573,     0.72673,     0.72773,     0.72873,     0.72973,     0.73073,     0.73173,     0.73273,     0.73373,     0.73473,     0.73574,     0.73674,     0.73774,     0.73874,     0.73974,     0.74074,     0.74174,     0.74274,     0.74374,\n",
              "           0.74474,     0.74575,     0.74675,     0.74775,     0.74875,     0.74975,     0.75075,     0.75175,     0.75275,     0.75375,     0.75475,     0.75576,     0.75676,     0.75776,     0.75876,     0.75976,     0.76076,     0.76176,     0.76276,     0.76376,     0.76476,     0.76577,     0.76677,     0.76777,\n",
              "           0.76877,     0.76977,     0.77077,     0.77177,     0.77277,     0.77377,     0.77477,     0.77578,     0.77678,     0.77778,     0.77878,     0.77978,     0.78078,     0.78178,     0.78278,     0.78378,     0.78478,     0.78579,     0.78679,     0.78779,     0.78879,     0.78979,     0.79079,     0.79179,\n",
              "           0.79279,     0.79379,     0.79479,      0.7958,      0.7968,      0.7978,      0.7988,      0.7998,      0.8008,      0.8018,      0.8028,      0.8038,      0.8048,     0.80581,     0.80681,     0.80781,     0.80881,     0.80981,     0.81081,     0.81181,     0.81281,     0.81381,     0.81481,     0.81582,\n",
              "           0.81682,     0.81782,     0.81882,     0.81982,     0.82082,     0.82182,     0.82282,     0.82382,     0.82482,     0.82583,     0.82683,     0.82783,     0.82883,     0.82983,     0.83083,     0.83183,     0.83283,     0.83383,     0.83483,     0.83584,     0.83684,     0.83784,     0.83884,     0.83984,\n",
              "           0.84084,     0.84184,     0.84284,     0.84384,     0.84484,     0.84585,     0.84685,     0.84785,     0.84885,     0.84985,     0.85085,     0.85185,     0.85285,     0.85385,     0.85485,     0.85586,     0.85686,     0.85786,     0.85886,     0.85986,     0.86086,     0.86186,     0.86286,     0.86386,\n",
              "           0.86486,     0.86587,     0.86687,     0.86787,     0.86887,     0.86987,     0.87087,     0.87187,     0.87287,     0.87387,     0.87487,     0.87588,     0.87688,     0.87788,     0.87888,     0.87988,     0.88088,     0.88188,     0.88288,     0.88388,     0.88488,     0.88589,     0.88689,     0.88789,\n",
              "           0.88889,     0.88989,     0.89089,     0.89189,     0.89289,     0.89389,     0.89489,      0.8959,      0.8969,      0.8979,      0.8989,      0.8999,      0.9009,      0.9019,      0.9029,      0.9039,      0.9049,     0.90591,     0.90691,     0.90791,     0.90891,     0.90991,     0.91091,     0.91191,\n",
              "           0.91291,     0.91391,     0.91491,     0.91592,     0.91692,     0.91792,     0.91892,     0.91992,     0.92092,     0.92192,     0.92292,     0.92392,     0.92492,     0.92593,     0.92693,     0.92793,     0.92893,     0.92993,     0.93093,     0.93193,     0.93293,     0.93393,     0.93493,     0.93594,\n",
              "           0.93694,     0.93794,     0.93894,     0.93994,     0.94094,     0.94194,     0.94294,     0.94394,     0.94494,     0.94595,     0.94695,     0.94795,     0.94895,     0.94995,     0.95095,     0.95195,     0.95295,     0.95395,     0.95495,     0.95596,     0.95696,     0.95796,     0.95896,     0.95996,\n",
              "           0.96096,     0.96196,     0.96296,     0.96396,     0.96496,     0.96597,     0.96697,     0.96797,     0.96897,     0.96997,     0.97097,     0.97197,     0.97297,     0.97397,     0.97497,     0.97598,     0.97698,     0.97798,     0.97898,     0.97998,     0.98098,     0.98198,     0.98298,     0.98398,\n",
              "           0.98498,     0.98599,     0.98699,     0.98799,     0.98899,     0.98999,     0.99099,     0.99199,     0.99299,     0.99399,     0.99499,       0.996,       0.997,       0.998,       0.999,           1]), array([[          1,           1,           1, ...,           0,           0,           0],\n",
              "       [          1,           1,           1, ...,           0,           0,           0],\n",
              "       [    0.97765,     0.97765,     0.97765, ...,           0,           0,           0],\n",
              "       [    0.97386,     0.97386,     0.97386, ...,           0,           0,           0],\n",
              "       [          1,           1,           1, ...,           0,           0,           0],\n",
              "       [          1,           1,           1, ...,           0,           0,           0]]), 'Confidence', 'Recall']]\n",
              "fitness: 0.8223439787064308\n",
              "keys: ['metrics/precision(B)', 'metrics/recall(B)', 'metrics/mAP50(B)', 'metrics/mAP50-95(B)']\n",
              "maps: array([    0.79174,     0.81957,     0.75541,      0.7186,     0.87919,     0.86902])\n",
              "names: {0: 'boneli', 1: 'bonesiz', 2: 'maskeli', 3: 'maskesiz', 4: 'onluklu', 5: 'onluksuz'}\n",
              "plot: True\n",
              "results_dict: {'metrics/precision(B)': 0.9231897566819648, 'metrics/recall(B)': 0.9279029531396463, 'metrics/mAP50(B)': 0.9731303014012176, 'metrics/mAP50-95(B)': 0.8055899428514546, 'fitness': 0.8223439787064308}\n",
              "save_dir: PosixPath('runs/detect/train')\n",
              "speed: {'preprocess': 0.2373701905551022, 'inference': 3.5240911457636583, 'loss': 0.00038647760539294376, 'postprocess': 4.0268429882450185}\n",
              "task: 'detect'"
            ]
          },
          "metadata": {},
          "execution_count": 2
        }
      ]
    },
    {
      "cell_type": "markdown",
      "source": [
        " # before the predict rename"
      ],
      "metadata": {
        "id": "ZazMKwZrF0oB"
      }
    },
    {
      "cell_type": "code",
      "source": [
        "import os\n",
        "\n",
        "def rename_files(directory_path, prefix):\n",
        "    # Dizin içindeki tüm dosyaları listele\n",
        "    files = os.listdir(directory_path)\n",
        "\n",
        "    # Her dosya için işlem yap\n",
        "    for file_name in files:\n",
        "        # Dosyanın tam yolu\n",
        "        old_path = os.path.join(directory_path, file_name)\n",
        "\n",
        "        # Dosyanın yeni adı\n",
        "        new_name = f\"{prefix}_{file_name}\"\n",
        "\n",
        "        # Yeni dosyanın tam yolu\n",
        "        new_path = os.path.join(directory_path, new_name)\n",
        "\n",
        "        # Dosyayı yeniden adlandır\n",
        "        os.rename(old_path, new_path)\n",
        "\n",
        "        print(f\"{file_name} --> {new_name}\")\n",
        "\n",
        "# Dizin ve yeni önek\n",
        "directory_path = \"/content/drive/MyDrive/IMEP/Adding/FabrikaMaskBone4\"\n",
        "prefix = \"re_\"\n",
        "\n",
        "# Dosyaları yeniden adlandır\n",
        "rename_files(directory_path, prefix)\n"
      ],
      "metadata": {
        "id": "vq0mZdndWAjn"
      },
      "execution_count": null,
      "outputs": []
    },
    {
      "cell_type": "code",
      "source": [
        "from ultralytics import YOLO\n",
        "\n",
        "infer=YOLO(\"/content/runs/detect/train/weights/best.pt\")\n",
        "infer.predict(\"/content/drive/MyDrive/IMEP/Adding/FabrikaMaskBone4\",save=True ,save_txt=True )"
      ],
      "metadata": {
        "colab": {
          "base_uri": "https://localhost:8080/"
        },
        "id": "E2QWhGz0TyhB",
        "outputId": "6274449c-3b4d-4914-d843-20e7c916fe6c"
      },
      "execution_count": 3,
      "outputs": [
        {
          "output_type": "stream",
          "name": "stdout",
          "text": [
            "\n",
            "image 1/75 /content/drive/MyDrive/IMEP/Adding/FabrikaMaskBone4/re__image_16.jpg: 448x640 2 bonesizs, 2 maskesizs, 65.5ms\n",
            "image 2/75 /content/drive/MyDrive/IMEP/Adding/FabrikaMaskBone4/re__image_17.jpg: 544x640 4 bonesizs, 6 maskesizs, 1 onluksuz, 79.0ms\n",
            "image 3/75 /content/drive/MyDrive/IMEP/Adding/FabrikaMaskBone4/re__image_18.jpg: 448x640 3 bonesizs, 3 maskesizs, 1 onluksuz, 16.1ms\n",
            "image 4/75 /content/drive/MyDrive/IMEP/Adding/FabrikaMaskBone4/re__image_19.jpg: 352x640 2 bonesizs, 2 maskesizs, 1 onluksuz, 67.5ms\n",
            "image 5/75 /content/drive/MyDrive/IMEP/Adding/FabrikaMaskBone4/re__image_2.jpg: 384x640 2 bonesizs, 1 maskesiz, 1 onluksuz, 68.7ms\n",
            "image 6/75 /content/drive/MyDrive/IMEP/Adding/FabrikaMaskBone4/re__image_20.jpg: 384x640 3 bonesizs, 3 maskesizs, 9.5ms\n",
            "image 7/75 /content/drive/MyDrive/IMEP/Adding/FabrikaMaskBone4/re__image_21.jpg: 352x640 4 bonesizs, 3 maskelis, 5 maskesizs, 1 onluksuz, 10.0ms\n",
            "image 8/75 /content/drive/MyDrive/IMEP/Adding/FabrikaMaskBone4/re__image_22.jpg: 640x480 1 maskeli, 15.4ms\n",
            "image 9/75 /content/drive/MyDrive/IMEP/Adding/FabrikaMaskBone4/re__image_23.jpg: 416x640 2 bonesizs, 3 maskesizs, 66.5ms\n",
            "image 10/75 /content/drive/MyDrive/IMEP/Adding/FabrikaMaskBone4/re__image_24.jpg: 448x640 1 bonesiz, 3 maskesizs, 17.8ms\n",
            "image 11/75 /content/drive/MyDrive/IMEP/Adding/FabrikaMaskBone4/re__image_25.jpg: 384x640 4 bonesizs, 6 maskesizs, 1 onluksuz, 36.4ms\n",
            "image 12/75 /content/drive/MyDrive/IMEP/Adding/FabrikaMaskBone4/re__image_26.jpg: 448x640 7 bonesizs, 4 maskesizs, 13.2ms\n",
            "image 13/75 /content/drive/MyDrive/IMEP/Adding/FabrikaMaskBone4/re__image_27.jpg: 448x640 1 bonesiz, 1 onluksuz, 15.4ms\n",
            "image 14/75 /content/drive/MyDrive/IMEP/Adding/FabrikaMaskBone4/re__image_28.jpg: 448x640 1 onluksuz, 31.6ms\n",
            "image 15/75 /content/drive/MyDrive/IMEP/Adding/FabrikaMaskBone4/re__image_29.jpg: 448x640 2 bonesizs, 3 maskesizs, 28.2ms\n",
            "image 16/75 /content/drive/MyDrive/IMEP/Adding/FabrikaMaskBone4/re__image_3.jpg: 416x640 1 onluksuz, 17.2ms\n",
            "image 17/75 /content/drive/MyDrive/IMEP/Adding/FabrikaMaskBone4/re__image_30.jpg: 448x640 4 bonesizs, 2 maskesizs, 21.8ms\n",
            "image 18/75 /content/drive/MyDrive/IMEP/Adding/FabrikaMaskBone4/re__image_31.jpg: 448x640 (no detections), 18.3ms\n",
            "image 19/75 /content/drive/MyDrive/IMEP/Adding/FabrikaMaskBone4/re__image_32.jpg: 320x640 1 bonesiz, 2 maskesizs, 175.5ms\n",
            "image 20/75 /content/drive/MyDrive/IMEP/Adding/FabrikaMaskBone4/re__image_33.jpg: 448x640 3 bonesizs, 2 maskesizs, 16.8ms\n",
            "image 21/75 /content/drive/MyDrive/IMEP/Adding/FabrikaMaskBone4/re__image_34.jpg: 448x640 1 bonesiz, 1 maskesiz, 18.1ms\n",
            "image 22/75 /content/drive/MyDrive/IMEP/Adding/FabrikaMaskBone4/re__image_35.jpg: 384x640 1 bonesiz, 24.8ms\n",
            "image 23/75 /content/drive/MyDrive/IMEP/Adding/FabrikaMaskBone4/re__image_36.jpg: 320x640 2 bonesizs, 4 maskesizs, 1 onluksuz, 48.7ms\n",
            "image 24/75 /content/drive/MyDrive/IMEP/Adding/FabrikaMaskBone4/re__image_37.jpg: 480x640 1 bonesiz, 1 onluksuz, 256.6ms\n",
            "image 25/75 /content/drive/MyDrive/IMEP/Adding/FabrikaMaskBone4/re__image_38.jpg: 448x640 2 maskelis, 1 maskesiz, 19.1ms\n",
            "image 26/75 /content/drive/MyDrive/IMEP/Adding/FabrikaMaskBone4/re__image_39.jpg: 448x640 1 bonesiz, 1 maskesiz, 1 onluksuz, 44.4ms\n",
            "image 27/75 /content/drive/MyDrive/IMEP/Adding/FabrikaMaskBone4/re__image_4.jpg: 352x640 4 bonesizs, 4 maskesizs, 1 onluksuz, 13.3ms\n",
            "image 28/75 /content/drive/MyDrive/IMEP/Adding/FabrikaMaskBone4/re__image_40.jpg: 448x640 2 bonesizs, 1 onluksuz, 13.2ms\n",
            "image 29/75 /content/drive/MyDrive/IMEP/Adding/FabrikaMaskBone4/re__image_41.jpg: 448x640 2 bonesizs, 3 maskesizs, 1 onluksuz, 13.3ms\n",
            "image 30/75 /content/drive/MyDrive/IMEP/Adding/FabrikaMaskBone4/re__image_44.jpg: 640x640 1 bonesiz, 1 maskeli, 1 maskesiz, 12.8ms\n",
            "image 31/75 /content/drive/MyDrive/IMEP/Adding/FabrikaMaskBone4/re__image_45.jpg: 640x640 1 bonesiz, 1 maskesiz, 11.7ms\n",
            "image 32/75 /content/drive/MyDrive/IMEP/Adding/FabrikaMaskBone4/re__image_46.jpg: 640x512 1 bonesiz, 1 maskesiz, 121.3ms\n",
            "image 33/75 /content/drive/MyDrive/IMEP/Adding/FabrikaMaskBone4/re__image_47.jpg: 640x480 1 bonesiz, 1 maskesiz, 15.4ms\n",
            "image 34/75 /content/drive/MyDrive/IMEP/Adding/FabrikaMaskBone4/re__image_48.jpg: 640x256 1 bonesiz, 1 maskesiz, 57.7ms\n",
            "image 35/75 /content/drive/MyDrive/IMEP/Adding/FabrikaMaskBone4/re__image_49.jpg: 640x448 1 maskeli, 59.8ms\n",
            "image 36/75 /content/drive/MyDrive/IMEP/Adding/FabrikaMaskBone4/re__image_5.jpg: 448x640 2 bonesizs, 3 maskesizs, 1 onluksuz, 11.2ms\n",
            "image 37/75 /content/drive/MyDrive/IMEP/Adding/FabrikaMaskBone4/re__image_50.jpg: 640x480 1 maskeli, 1 maskesiz, 10.8ms\n",
            "image 38/75 /content/drive/MyDrive/IMEP/Adding/FabrikaMaskBone4/re__image_51.jpg: 640x640 1 bonesiz, 12.4ms\n",
            "image 39/75 /content/drive/MyDrive/IMEP/Adding/FabrikaMaskBone4/re__image_52.jpg: 640x480 1 maskeli, 2 maskesizs, 13.2ms\n",
            "image 40/75 /content/drive/MyDrive/IMEP/Adding/FabrikaMaskBone4/re__image_53.jpg: 640x448 1 bonesiz, 1 maskesiz, 11.3ms\n",
            "image 41/75 /content/drive/MyDrive/IMEP/Adding/FabrikaMaskBone4/re__image_54.jpg: 640x640 1 maskesiz, 10.9ms\n",
            "image 42/75 /content/drive/MyDrive/IMEP/Adding/FabrikaMaskBone4/re__image_55.jpg: 640x256 1 bonesiz, 1 maskesiz, 11.0ms\n",
            "image 43/75 /content/drive/MyDrive/IMEP/Adding/FabrikaMaskBone4/re__image_56.jpg: 640x448 1 maskesiz, 11.7ms\n",
            "image 44/75 /content/drive/MyDrive/IMEP/Adding/FabrikaMaskBone4/re__image_57.jpg: 640x480 1 maskesiz, 18.9ms\n",
            "image 45/75 /content/drive/MyDrive/IMEP/Adding/FabrikaMaskBone4/re__image_58.jpg: 640x480 1 bonesiz, 1 maskesiz, 10.1ms\n",
            "image 46/75 /content/drive/MyDrive/IMEP/Adding/FabrikaMaskBone4/re__image_59.jpg: 640x448 1 bonesiz, 1 maskesiz, 12.5ms\n",
            "image 47/75 /content/drive/MyDrive/IMEP/Adding/FabrikaMaskBone4/re__image_6.jpg: 384x640 2 bonesizs, 2 maskesizs, 1 onluksuz, 10.7ms\n",
            "image 48/75 /content/drive/MyDrive/IMEP/Adding/FabrikaMaskBone4/re__image_60.jpg: 640x480 1 bonesiz, 1 maskesiz, 11.2ms\n",
            "image 49/75 /content/drive/MyDrive/IMEP/Adding/FabrikaMaskBone4/re__image_61.jpg: 640x480 1 bonesiz, 1 maskesiz, 13.0ms\n",
            "image 50/75 /content/drive/MyDrive/IMEP/Adding/FabrikaMaskBone4/re__image_62.jpg: 640x448 1 bonesiz, 1 maskesiz, 11.0ms\n",
            "image 51/75 /content/drive/MyDrive/IMEP/Adding/FabrikaMaskBone4/re__image_63.jpg: 640x256 1 bonesiz, 1 maskesiz, 12.7ms\n",
            "image 52/75 /content/drive/MyDrive/IMEP/Adding/FabrikaMaskBone4/re__image_64.jpg: 640x448 1 bonesiz, 1 maskesiz, 11.8ms\n",
            "image 53/75 /content/drive/MyDrive/IMEP/Adding/FabrikaMaskBone4/re__image_65.jpg: 640x256 1 bonesiz, 1 maskesiz, 12.7ms\n",
            "image 54/75 /content/drive/MyDrive/IMEP/Adding/FabrikaMaskBone4/re__image_66.jpg: 640x224 1 bonesiz, 1 maskesiz, 58.5ms\n",
            "image 55/75 /content/drive/MyDrive/IMEP/Adding/FabrikaMaskBone4/re__image_67.jpg: 640x384 (no detections), 59.6ms\n",
            "image 56/75 /content/drive/MyDrive/IMEP/Adding/FabrikaMaskBone4/re__image_68.jpg: 640x512 1 bonesiz, 1 maskesiz, 11.9ms\n",
            "image 57/75 /content/drive/MyDrive/IMEP/Adding/FabrikaMaskBone4/re__image_69.jpg: 640x448 1 maskesiz, 11.5ms\n",
            "image 58/75 /content/drive/MyDrive/IMEP/Adding/FabrikaMaskBone4/re__image_7.jpg: 448x640 4 bonesizs, 2 maskesizs, 11.6ms\n",
            "image 59/75 /content/drive/MyDrive/IMEP/Adding/FabrikaMaskBone4/re__image_70.jpg: 640x480 1 bonesiz, 1 maskesiz, 12.2ms\n",
            "image 60/75 /content/drive/MyDrive/IMEP/Adding/FabrikaMaskBone4/re__image_71.jpg: 640x256 1 bonesiz, 1 maskesiz, 12.3ms\n",
            "image 61/75 /content/drive/MyDrive/IMEP/Adding/FabrikaMaskBone4/re__image_72.jpg: 640x640 1 maskeli, 15.1ms\n",
            "image 62/75 /content/drive/MyDrive/IMEP/Adding/FabrikaMaskBone4/re__image_73.jpg: 640x448 (no detections), 14.1ms\n",
            "image 63/75 /content/drive/MyDrive/IMEP/Adding/FabrikaMaskBone4/re__image_74.jpg: 640x640 1 bonesiz, 1 maskesiz, 16.7ms\n",
            "image 64/75 /content/drive/MyDrive/IMEP/Adding/FabrikaMaskBone4/re__image_75.jpg: 640x480 1 bonesiz, 1 maskesiz, 16.5ms\n",
            "image 65/75 /content/drive/MyDrive/IMEP/Adding/FabrikaMaskBone4/re__image_76.jpg: 640x640 (no detections), 14.2ms\n",
            "image 66/75 /content/drive/MyDrive/IMEP/Adding/FabrikaMaskBone4/re__image_77.jpg: 640x640 1 maskeli, 2 maskesizs, 20.1ms\n",
            "image 67/75 /content/drive/MyDrive/IMEP/Adding/FabrikaMaskBone4/re__image_78.jpg: 640x512 1 bonesiz, 1 maskesiz, 13.4ms\n",
            "image 68/75 /content/drive/MyDrive/IMEP/Adding/FabrikaMaskBone4/re__image_79.jpg: 640x640 1 bonesiz, 1 maskeli, 1 maskesiz, 17.0ms\n",
            "image 69/75 /content/drive/MyDrive/IMEP/Adding/FabrikaMaskBone4/re__image_8.jpg: 448x640 2 bonesizs, 2 maskesizs, 2 onluksuzs, 17.1ms\n",
            "image 70/75 /content/drive/MyDrive/IMEP/Adding/FabrikaMaskBone4/re__image_80.jpg: 640x640 1 bonesiz, 1 maskesiz, 18.0ms\n",
            "image 71/75 /content/drive/MyDrive/IMEP/Adding/FabrikaMaskBone4/re__image_81.jpg: 640x256 1 bonesiz, 1 maskesiz, 12.4ms\n",
            "image 72/75 /content/drive/MyDrive/IMEP/Adding/FabrikaMaskBone4/re__image_82.jpg: 640x640 1 maskeli, 12.0ms\n",
            "image 73/75 /content/drive/MyDrive/IMEP/Adding/FabrikaMaskBone4/re__image_83.jpg: 640x608 1 bonesiz, 1 maskeli, 2 maskesizs, 60.4ms\n",
            "image 74/75 /content/drive/MyDrive/IMEP/Adding/FabrikaMaskBone4/re__image_84.jpg: 640x640 1 bonesiz, 1 maskesiz, 11.9ms\n",
            "image 75/75 /content/drive/MyDrive/IMEP/Adding/FabrikaMaskBone4/re__image_9.jpg: 480x640 (no detections), 12.0ms\n",
            "Speed: 3.0ms preprocess, 29.1ms inference, 3.0ms postprocess per image at shape (1, 3, 480, 640)\n",
            "Results saved to \u001b[1mruns/detect/predict\u001b[0m\n",
            "70 labels saved to runs/detect/predict/labels\n"
          ]
        },
        {
          "output_type": "execute_result",
          "data": {
            "text/plain": [
              "[ultralytics.engine.results.Results object with attributes:\n",
              " \n",
              " boxes: ultralytics.engine.results.Boxes object\n",
              " keypoints: None\n",
              " masks: None\n",
              " names: {0: 'boneli', 1: 'bonesiz', 2: 'maskeli', 3: 'maskesiz', 4: 'onluklu', 5: 'onluksuz'}\n",
              " orig_img: array([[[ 15,  54,  29],\n",
              "         [  2,  41,  16],\n",
              "         [  2,  40,  18],\n",
              "         ...,\n",
              "         [ 15,  20,  19],\n",
              "         [ 15,  21,  20],\n",
              "         [ 14,  20,  19]],\n",
              " \n",
              "        [[ 18,  54,  30],\n",
              "         [  8,  44,  20],\n",
              "         [  8,  44,  22],\n",
              "         ...,\n",
              "         [ 36,  41,  40],\n",
              "         [ 35,  41,  40],\n",
              "         [ 34,  40,  39]],\n",
              " \n",
              "        [[ 13,  47,  23],\n",
              "         [  7,  41,  17],\n",
              "         [  8,  41,  20],\n",
              "         ...,\n",
              "         [ 38,  42,  43],\n",
              "         [ 37,  42,  43],\n",
              "         [ 36,  41,  42]],\n",
              " \n",
              "        ...,\n",
              " \n",
              "        [[162, 162, 162],\n",
              "         [164, 164, 164],\n",
              "         [167, 167, 167],\n",
              "         ...,\n",
              "         [167, 172, 171],\n",
              "         [167, 172, 171],\n",
              "         [167, 172, 171]],\n",
              " \n",
              "        [[163, 163, 163],\n",
              "         [165, 165, 165],\n",
              "         [167, 167, 167],\n",
              "         ...,\n",
              "         [163, 169, 168],\n",
              "         [163, 169, 168],\n",
              "         [163, 169, 168]],\n",
              " \n",
              "        [[162, 162, 162],\n",
              "         [164, 164, 164],\n",
              "         [166, 166, 166],\n",
              "         ...,\n",
              "         [153, 159, 158],\n",
              "         [153, 159, 158],\n",
              "         [153, 159, 158]]], dtype=uint8)\n",
              " orig_shape: (320, 480)\n",
              " path: '/content/drive/MyDrive/IMEP/Adding/FabrikaMaskBone4/re__image_16.jpg'\n",
              " probs: None\n",
              " save_dir: 'runs/detect/predict'\n",
              " speed: {'preprocess': 2.479076385498047, 'inference': 65.47379493713379, 'postprocess': 2.233266830444336},\n",
              " ultralytics.engine.results.Results object with attributes:\n",
              " \n",
              " boxes: ultralytics.engine.results.Boxes object\n",
              " keypoints: None\n",
              " masks: None\n",
              " names: {0: 'boneli', 1: 'bonesiz', 2: 'maskeli', 3: 'maskesiz', 4: 'onluklu', 5: 'onluksuz'}\n",
              " orig_img: array([[[117, 116, 120],\n",
              "         [126, 124, 130],\n",
              "         [117, 116, 125],\n",
              "         ...,\n",
              "         [168, 199, 192],\n",
              "         [ 84, 115, 108],\n",
              "         [  4,  37,  30]],\n",
              " \n",
              "        [[111, 110, 114],\n",
              "         [109, 109, 115],\n",
              "         [113, 115, 125],\n",
              "         ...,\n",
              "         [ 93, 124, 117],\n",
              "         [ 58,  91,  84],\n",
              "         [ 19,  52,  45]],\n",
              " \n",
              "        [[117, 114, 116],\n",
              "         [111, 115, 120],\n",
              "         [103, 117, 129],\n",
              "         ...,\n",
              "         [ 34,  65,  58],\n",
              "         [115, 148, 141],\n",
              "         [142, 175, 168]],\n",
              " \n",
              "        ...,\n",
              " \n",
              "        [[205, 200, 202],\n",
              "         [205, 200, 202],\n",
              "         [205, 200, 202],\n",
              "         ...,\n",
              "         [148, 146, 158],\n",
              "         [145, 143, 155],\n",
              "         [141, 139, 151]],\n",
              " \n",
              "        [[205, 200, 202],\n",
              "         [205, 200, 202],\n",
              "         [205, 200, 202],\n",
              "         ...,\n",
              "         [168, 166, 178],\n",
              "         [161, 159, 171],\n",
              "         [155, 153, 165]],\n",
              " \n",
              "        [[206, 201, 203],\n",
              "         [205, 200, 202],\n",
              "         [205, 200, 202],\n",
              "         ...,\n",
              "         [161, 159, 171],\n",
              "         [159, 157, 169],\n",
              "         [157, 155, 167]]], dtype=uint8)\n",
              " orig_shape: (320, 380)\n",
              " path: '/content/drive/MyDrive/IMEP/Adding/FabrikaMaskBone4/re__image_17.jpg'\n",
              " probs: None\n",
              " save_dir: 'runs/detect/predict'\n",
              " speed: {'preprocess': 3.186464309692383, 'inference': 79.03337478637695, 'postprocess': 2.8412342071533203},\n",
              " ultralytics.engine.results.Results object with attributes:\n",
              " \n",
              " boxes: ultralytics.engine.results.Boxes object\n",
              " keypoints: None\n",
              " masks: None\n",
              " names: {0: 'boneli', 1: 'bonesiz', 2: 'maskeli', 3: 'maskesiz', 4: 'onluklu', 5: 'onluksuz'}\n",
              " orig_img: array([[[ 24,  74,  40],\n",
              "         [ 30,  80,  46],\n",
              "         [ 29,  80,  46],\n",
              "         ...,\n",
              "         [114, 150, 134],\n",
              "         [115, 149, 132],\n",
              "         [113, 147, 130]],\n",
              " \n",
              "        [[ 17,  64,  31],\n",
              "         [ 21,  68,  35],\n",
              "         [ 25,  75,  41],\n",
              "         ...,\n",
              "         [131, 164, 149],\n",
              "         [105, 139, 122],\n",
              "         [ 85, 117, 100]],\n",
              " \n",
              "        [[ 10,  53,  20],\n",
              "         [ 15,  58,  25],\n",
              "         [ 29,  75,  39],\n",
              "         ...,\n",
              "         [125, 156, 141],\n",
              "         [ 93, 122, 106],\n",
              "         [ 67,  96,  80]],\n",
              " \n",
              "        ...,\n",
              " \n",
              "        [[103, 153, 123],\n",
              "         [126, 176, 146],\n",
              "         [123, 171, 142],\n",
              "         ...,\n",
              "         [ 97, 150, 117],\n",
              "         [ 95, 148, 115],\n",
              "         [ 19,  72,  39]],\n",
              " \n",
              "        [[ 94, 135, 108],\n",
              "         [123, 164, 137],\n",
              "         [135, 174, 148],\n",
              "         ...,\n",
              "         [121, 177, 142],\n",
              "         [119, 175, 140],\n",
              "         [ 97, 153, 118]],\n",
              " \n",
              "        [[ 58,  95,  69],\n",
              "         [ 85, 122,  96],\n",
              "         [132, 167, 141],\n",
              "         ...,\n",
              "         [ 84, 141, 103],\n",
              "         [117, 174, 136],\n",
              "         [156, 213, 175]]], dtype=uint8)\n",
              " orig_shape: (320, 480)\n",
              " path: '/content/drive/MyDrive/IMEP/Adding/FabrikaMaskBone4/re__image_18.jpg'\n",
              " probs: None\n",
              " save_dir: 'runs/detect/predict'\n",
              " speed: {'preprocess': 2.689838409423828, 'inference': 16.12710952758789, 'postprocess': 2.9959678649902344},\n",
              " ultralytics.engine.results.Results object with attributes:\n",
              " \n",
              " boxes: ultralytics.engine.results.Boxes object\n",
              " keypoints: None\n",
              " masks: None\n",
              " names: {0: 'boneli', 1: 'bonesiz', 2: 'maskeli', 3: 'maskesiz', 4: 'onluklu', 5: 'onluksuz'}\n",
              " orig_img: array([[[239, 220, 183],\n",
              "         [240, 221, 184],\n",
              "         [241, 221, 186],\n",
              "         ...,\n",
              "         [231, 239, 239],\n",
              "         [243, 251, 251],\n",
              "         [248, 255, 255]],\n",
              " \n",
              "        [[242, 222, 187],\n",
              "         [243, 223, 188],\n",
              "         [244, 223, 191],\n",
              "         ...,\n",
              "         [194, 205, 209],\n",
              "         [204, 215, 219],\n",
              "         [212, 223, 227]],\n",
              " \n",
              "        [[236, 216, 185],\n",
              "         [237, 217, 186],\n",
              "         [239, 219, 188],\n",
              "         ...,\n",
              "         [162, 180, 191],\n",
              "         [169, 187, 198],\n",
              "         [176, 194, 205]],\n",
              " \n",
              "        ...,\n",
              " \n",
              "        [[ 60,  61,  75],\n",
              "         [ 62,  63,  77],\n",
              "         [ 65,  67,  78],\n",
              "         ...,\n",
              "         [210, 206, 205],\n",
              "         [212, 208, 207],\n",
              "         [212, 208, 207]],\n",
              " \n",
              "        [[ 53,  54,  68],\n",
              "         [ 55,  56,  70],\n",
              "         [ 58,  60,  71],\n",
              "         ...,\n",
              "         [209, 205, 204],\n",
              "         [212, 208, 207],\n",
              "         [213, 209, 208]],\n",
              " \n",
              "        [[ 52,  53,  67],\n",
              "         [ 53,  54,  68],\n",
              "         [ 56,  58,  69],\n",
              "         ...,\n",
              "         [215, 211, 210],\n",
              "         [217, 213, 212],\n",
              "         [218, 214, 213]]], dtype=uint8)\n",
              " orig_shape: (260, 480)\n",
              " path: '/content/drive/MyDrive/IMEP/Adding/FabrikaMaskBone4/re__image_19.jpg'\n",
              " probs: None\n",
              " save_dir: 'runs/detect/predict'\n",
              " speed: {'preprocess': 2.540111541748047, 'inference': 67.45219230651855, 'postprocess': 2.2335052490234375},\n",
              " ultralytics.engine.results.Results object with attributes:\n",
              " \n",
              " boxes: ultralytics.engine.results.Boxes object\n",
              " keypoints: None\n",
              " masks: None\n",
              " names: {0: 'boneli', 1: 'bonesiz', 2: 'maskeli', 3: 'maskesiz', 4: 'onluklu', 5: 'onluksuz'}\n",
              " orig_img: array([[[155, 142, 150],\n",
              "         [156, 143, 151],\n",
              "         [157, 145, 151],\n",
              "         ...,\n",
              "         [ 35,  49,  55],\n",
              "         [ 35,  49,  55],\n",
              "         [ 35,  49,  55]],\n",
              " \n",
              "        [[156, 143, 151],\n",
              "         [157, 144, 152],\n",
              "         [159, 147, 153],\n",
              "         ...,\n",
              "         [ 35,  49,  55],\n",
              "         [ 35,  49,  55],\n",
              "         [ 35,  49,  55]],\n",
              " \n",
              "        [[148, 137, 145],\n",
              "         [149, 138, 146],\n",
              "         [150, 140, 146],\n",
              "         ...,\n",
              "         [ 36,  50,  56],\n",
              "         [ 35,  49,  55],\n",
              "         [ 35,  49,  55]],\n",
              " \n",
              "        ...,\n",
              " \n",
              "        [[162, 162, 156],\n",
              "         [163, 163, 157],\n",
              "         [163, 163, 157],\n",
              "         ...,\n",
              "         [103,  98,  97],\n",
              "         [ 98,  93,  92],\n",
              "         [ 96,  91,  90]],\n",
              " \n",
              "        [[164, 164, 158],\n",
              "         [167, 167, 161],\n",
              "         [167, 167, 161],\n",
              "         ...,\n",
              "         [100,  95,  94],\n",
              "         [ 96,  91,  90],\n",
              "         [ 94,  89,  88]],\n",
              " \n",
              "        [[153, 153, 147],\n",
              "         [158, 158, 152],\n",
              "         [162, 162, 156],\n",
              "         ...,\n",
              "         [ 84,  79,  78],\n",
              "         [ 80,  75,  74],\n",
              "         [ 78,  73,  72]]], dtype=uint8)\n",
              " orig_shape: (288, 480)\n",
              " path: '/content/drive/MyDrive/IMEP/Adding/FabrikaMaskBone4/re__image_2.jpg'\n",
              " probs: None\n",
              " save_dir: 'runs/detect/predict'\n",
              " speed: {'preprocess': 2.413034439086914, 'inference': 68.68362426757812, 'postprocess': 2.2377967834472656},\n",
              " ultralytics.engine.results.Results object with attributes:\n",
              " \n",
              " boxes: ultralytics.engine.results.Boxes object\n",
              " keypoints: None\n",
              " masks: None\n",
              " names: {0: 'boneli', 1: 'bonesiz', 2: 'maskeli', 3: 'maskesiz', 4: 'onluklu', 5: 'onluksuz'}\n",
              " orig_img: array([[[  9,  97,  83],\n",
              "         [ 19, 106,  92],\n",
              "         [ 19, 101,  88],\n",
              "         ...,\n",
              "         [211, 226, 228],\n",
              "         [211, 226, 228],\n",
              "         [210, 225, 227]],\n",
              " \n",
              "        [[ 25, 107,  94],\n",
              "         [ 24, 104,  91],\n",
              "         [ 45, 121, 109],\n",
              "         ...,\n",
              "         [211, 226, 228],\n",
              "         [211, 226, 228],\n",
              "         [211, 226, 228]],\n",
              " \n",
              "        [[ 36, 105,  92],\n",
              "         [ 19,  88,  75],\n",
              "         [ 47, 111,  99],\n",
              "         ...,\n",
              "         [211, 226, 228],\n",
              "         [211, 226, 228],\n",
              "         [211, 226, 228]],\n",
              " \n",
              "        ...,\n",
              " \n",
              "        [[156, 150, 139],\n",
              "         [158, 152, 141],\n",
              "         [161, 155, 144],\n",
              "         ...,\n",
              "         [172, 165, 156],\n",
              "         [178, 171, 162],\n",
              "         [192, 185, 176]],\n",
              " \n",
              "        [[153, 150, 136],\n",
              "         [156, 153, 139],\n",
              "         [160, 157, 143],\n",
              "         ...,\n",
              "         [164, 157, 148],\n",
              "         [170, 163, 154],\n",
              "         [183, 176, 167]],\n",
              " \n",
              "        [[154, 151, 137],\n",
              "         [157, 154, 140],\n",
              "         [160, 157, 143],\n",
              "         ...,\n",
              "         [154, 147, 138],\n",
              "         [159, 152, 143],\n",
              "         [169, 162, 153]]], dtype=uint8)\n",
              " orig_shape: (270, 480)\n",
              " path: '/content/drive/MyDrive/IMEP/Adding/FabrikaMaskBone4/re__image_20.jpg'\n",
              " probs: None\n",
              " save_dir: 'runs/detect/predict'\n",
              " speed: {'preprocess': 2.9485225677490234, 'inference': 9.5367431640625, 'postprocess': 1.9998550415039062},\n",
              " ultralytics.engine.results.Results object with attributes:\n",
              " \n",
              " boxes: ultralytics.engine.results.Boxes object\n",
              " keypoints: None\n",
              " masks: None\n",
              " names: {0: 'boneli', 1: 'bonesiz', 2: 'maskeli', 3: 'maskesiz', 4: 'onluklu', 5: 'onluksuz'}\n",
              " orig_img: array([[[ 56,  78,  84],\n",
              "         [ 42,  64,  70],\n",
              "         [ 55,  75,  80],\n",
              "         ...,\n",
              "         [161, 160, 222],\n",
              "         [196, 196, 255],\n",
              "         [189, 190, 248]],\n",
              " \n",
              "        [[ 71,  90,  97],\n",
              "         [ 55,  74,  81],\n",
              "         [ 61,  81,  86],\n",
              "         ...,\n",
              "         [169, 169, 229],\n",
              "         [188, 189, 247],\n",
              "         [180, 181, 237]],\n",
              " \n",
              "        [[ 82, 100, 107],\n",
              "         [ 64,  82,  89],\n",
              "         [ 67,  86,  91],\n",
              "         ...,\n",
              "         [177, 177, 231],\n",
              "         [183, 184, 235],\n",
              "         [175, 176, 226]],\n",
              " \n",
              "        ...,\n",
              " \n",
              "        [[119, 120, 118],\n",
              "         [110, 111, 109],\n",
              "         [110, 111, 109],\n",
              "         ...,\n",
              "         [149, 148, 150],\n",
              "         [151, 150, 152],\n",
              "         [152, 151, 153]],\n",
              " \n",
              "        [[124, 125, 123],\n",
              "         [125, 126, 124],\n",
              "         [134, 135, 133],\n",
              "         ...,\n",
              "         [146, 148, 148],\n",
              "         [143, 145, 145],\n",
              "         [140, 142, 142]],\n",
              " \n",
              "        [[145, 146, 144],\n",
              "         [132, 133, 131],\n",
              "         [123, 124, 122],\n",
              "         ...,\n",
              "         [135, 137, 137],\n",
              "         [133, 135, 135],\n",
              "         [130, 132, 132]]], dtype=uint8)\n",
              " orig_shape: (250, 480)\n",
              " path: '/content/drive/MyDrive/IMEP/Adding/FabrikaMaskBone4/re__image_21.jpg'\n",
              " probs: None\n",
              " save_dir: 'runs/detect/predict'\n",
              " speed: {'preprocess': 1.9888877868652344, 'inference': 10.035991668701172, 'postprocess': 1.9884109497070312},\n",
              " ultralytics.engine.results.Results object with attributes:\n",
              " \n",
              " boxes: ultralytics.engine.results.Boxes object\n",
              " keypoints: None\n",
              " masks: None\n",
              " names: {0: 'boneli', 1: 'bonesiz', 2: 'maskeli', 3: 'maskesiz', 4: 'onluklu', 5: 'onluksuz'}\n",
              " orig_img: array([[[ 23,  60,  50],\n",
              "         [ 12,  47,  37],\n",
              "         [ 81, 112, 103],\n",
              "         ...,\n",
              "         [133, 143, 160],\n",
              "         [123, 132, 146],\n",
              "         [118, 127, 141]],\n",
              " \n",
              "        [[ 42,  79,  69],\n",
              "         [ 87, 122, 112],\n",
              "         [ 23,  54,  45],\n",
              "         ...,\n",
              "         [126, 136, 153],\n",
              "         [129, 138, 152],\n",
              "         [131, 140, 154]],\n",
              " \n",
              "        [[ 44,  81,  71],\n",
              "         [100, 135, 125],\n",
              "         [ 53,  84,  75],\n",
              "         ...,\n",
              "         [179, 189, 206],\n",
              "         [162, 171, 185],\n",
              "         [142, 151, 165]],\n",
              " \n",
              "        ...,\n",
              " \n",
              "        [[155, 152, 147],\n",
              "         [165, 162, 157],\n",
              "         [165, 162, 158],\n",
              "         ...,\n",
              "         [145, 139, 132],\n",
              "         [147, 141, 134],\n",
              "         [154, 149, 140]],\n",
              " \n",
              "        [[157, 154, 149],\n",
              "         [159, 156, 151],\n",
              "         [148, 145, 141],\n",
              "         ...,\n",
              "         [148, 145, 137],\n",
              "         [151, 148, 140],\n",
              "         [146, 143, 135]],\n",
              " \n",
              "        [[149, 146, 141],\n",
              "         [153, 150, 145],\n",
              "         [143, 140, 136],\n",
              "         ...,\n",
              "         [150, 146, 141],\n",
              "         [148, 145, 137],\n",
              "         [131, 128, 120]]], dtype=uint8)\n",
              " orig_shape: (320, 240)\n",
              " path: '/content/drive/MyDrive/IMEP/Adding/FabrikaMaskBone4/re__image_22.jpg'\n",
              " probs: None\n",
              " save_dir: 'runs/detect/predict'\n",
              " speed: {'preprocess': 2.074718475341797, 'inference': 15.35177230834961, 'postprocess': 1.9698143005371094},\n",
              " ultralytics.engine.results.Results object with attributes:\n",
              " \n",
              " boxes: ultralytics.engine.results.Boxes object\n",
              " keypoints: None\n",
              " masks: None\n",
              " names: {0: 'boneli', 1: 'bonesiz', 2: 'maskeli', 3: 'maskesiz', 4: 'onluklu', 5: 'onluksuz'}\n",
              " orig_img: array([[[253, 253, 253],\n",
              "         [253, 253, 253],\n",
              "         [253, 253, 253],\n",
              "         ...,\n",
              "         [  5,  26,  23],\n",
              "         [ 26,  47,  44],\n",
              "         [ 23,  44,  41]],\n",
              " \n",
              "        [[253, 253, 253],\n",
              "         [253, 253, 253],\n",
              "         [253, 253, 253],\n",
              "         ...,\n",
              "         [ 26,  47,  44],\n",
              "         [ 65,  86,  83],\n",
              "         [ 70,  91,  88]],\n",
              " \n",
              "        [[253, 253, 253],\n",
              "         [253, 253, 253],\n",
              "         [252, 252, 252],\n",
              "         ...,\n",
              "         [ 52,  73,  70],\n",
              "         [ 92, 113, 110],\n",
              "         [ 94, 115, 112]],\n",
              " \n",
              "        ...,\n",
              " \n",
              "        [[174, 171, 180],\n",
              "         [160, 157, 166],\n",
              "         [151, 148, 157],\n",
              "         ...,\n",
              "         [195, 197, 208],\n",
              "         [213, 215, 226],\n",
              "         [222, 224, 235]],\n",
              " \n",
              "        [[142, 140, 146],\n",
              "         [179, 177, 183],\n",
              "         [199, 197, 203],\n",
              "         ...,\n",
              "         [214, 216, 226],\n",
              "         [229, 231, 241],\n",
              "         [229, 231, 241]],\n",
              " \n",
              "        [[109, 107, 113],\n",
              "         [154, 152, 158],\n",
              "         [194, 192, 198],\n",
              "         ...,\n",
              "         [218, 220, 230],\n",
              "         [231, 233, 243],\n",
              "         [230, 232, 242]]], dtype=uint8)\n",
              " orig_shape: (498, 800)\n",
              " path: '/content/drive/MyDrive/IMEP/Adding/FabrikaMaskBone4/re__image_23.jpg'\n",
              " probs: None\n",
              " save_dir: 'runs/detect/predict'\n",
              " speed: {'preprocess': 2.9840469360351562, 'inference': 66.4815902709961, 'postprocess': 2.0203590393066406},\n",
              " ultralytics.engine.results.Results object with attributes:\n",
              " \n",
              " boxes: ultralytics.engine.results.Boxes object\n",
              " keypoints: None\n",
              " masks: None\n",
              " names: {0: 'boneli', 1: 'bonesiz', 2: 'maskeli', 3: 'maskesiz', 4: 'onluklu', 5: 'onluksuz'}\n",
              " orig_img: array([[[113, 110,  96],\n",
              "         [111, 108,  94],\n",
              "         [110, 104,  91],\n",
              "         ...,\n",
              "         [ 25,  54,  45],\n",
              "         [ 52,  88,  82],\n",
              "         [ 24,  65,  58]],\n",
              " \n",
              "        [[126, 123, 109],\n",
              "         [124, 121, 107],\n",
              "         [123, 117, 104],\n",
              "         ...,\n",
              "         [ 14,  45,  36],\n",
              "         [ 27,  65,  59],\n",
              "         [ 11,  53,  46]],\n",
              " \n",
              "        [[135, 129, 116],\n",
              "         [133, 127, 114],\n",
              "         [130, 124, 111],\n",
              "         ...,\n",
              "         [ 48,  85,  75],\n",
              "         [ 12,  54,  47],\n",
              "         [ 19,  66,  58]],\n",
              " \n",
              "        ...,\n",
              " \n",
              "        [[ 44, 154, 148],\n",
              "         [ 45, 155, 149],\n",
              "         [ 46, 156, 150],\n",
              "         ...,\n",
              "         [160, 172, 174],\n",
              "         [163, 172, 175],\n",
              "         [164, 173, 176]],\n",
              " \n",
              "        [[ 43, 155, 148],\n",
              "         [ 44, 156, 149],\n",
              "         [ 46, 158, 151],\n",
              "         ...,\n",
              "         [169, 178, 181],\n",
              "         [167, 177, 177],\n",
              "         [166, 176, 176]],\n",
              " \n",
              "        [[ 43, 155, 148],\n",
              "         [ 44, 156, 149],\n",
              "         [ 46, 158, 151],\n",
              "         ...,\n",
              "         [154, 163, 166],\n",
              "         [160, 170, 170],\n",
              "         [163, 173, 173]]], dtype=uint8)\n",
              " orig_shape: (320, 480)\n",
              " path: '/content/drive/MyDrive/IMEP/Adding/FabrikaMaskBone4/re__image_24.jpg'\n",
              " probs: None\n",
              " save_dir: 'runs/detect/predict'\n",
              " speed: {'preprocess': 3.604412078857422, 'inference': 17.817258834838867, 'postprocess': 4.707813262939453},\n",
              " ultralytics.engine.results.Results object with attributes:\n",
              " \n",
              " boxes: ultralytics.engine.results.Boxes object\n",
              " keypoints: None\n",
              " masks: None\n",
              " names: {0: 'boneli', 1: 'bonesiz', 2: 'maskeli', 3: 'maskesiz', 4: 'onluklu', 5: 'onluksuz'}\n",
              " orig_img: array([[[ 76,  75,  84],\n",
              "         [ 81,  81,  87],\n",
              "         [ 72,  72,  78],\n",
              "         ...,\n",
              "         [105, 112, 129],\n",
              "         [108, 115, 130],\n",
              "         [138, 145, 160]],\n",
              " \n",
              "        [[ 79,  78,  87],\n",
              "         [ 80,  79,  88],\n",
              "         [ 73,  73,  79],\n",
              "         ...,\n",
              "         [109, 116, 133],\n",
              "         [111, 118, 133],\n",
              "         [138, 145, 160]],\n",
              " \n",
              "        [[ 80,  81,  91],\n",
              "         [ 74,  76,  84],\n",
              "         [ 71,  74,  79],\n",
              "         ...,\n",
              "         [115, 122, 139],\n",
              "         [113, 120, 135],\n",
              "         [136, 143, 158]],\n",
              " \n",
              "        ...,\n",
              " \n",
              "        [[210, 214, 219],\n",
              "         [209, 215, 220],\n",
              "         [199, 203, 208],\n",
              "         ...,\n",
              "         [203, 201, 193],\n",
              "         [204, 202, 194],\n",
              "         [205, 203, 195]],\n",
              " \n",
              "        [[167, 170, 174],\n",
              "         [163, 168, 171],\n",
              "         [171, 174, 178],\n",
              "         ...,\n",
              "         [190, 189, 179],\n",
              "         [191, 190, 180],\n",
              "         [191, 190, 180]],\n",
              " \n",
              "        [[149, 153, 154],\n",
              "         [139, 143, 144],\n",
              "         [154, 158, 159],\n",
              "         ...,\n",
              "         [206, 205, 195],\n",
              "         [208, 207, 197],\n",
              "         [209, 208, 198]]], dtype=uint8)\n",
              " orig_shape: (270, 480)\n",
              " path: '/content/drive/MyDrive/IMEP/Adding/FabrikaMaskBone4/re__image_25.jpg'\n",
              " probs: None\n",
              " save_dir: 'runs/detect/predict'\n",
              " speed: {'preprocess': 10.191917419433594, 'inference': 36.370038986206055, 'postprocess': 2.7723312377929688},\n",
              " ultralytics.engine.results.Results object with attributes:\n",
              " \n",
              " boxes: ultralytics.engine.results.Boxes object\n",
              " keypoints: None\n",
              " masks: None\n",
              " names: {0: 'boneli', 1: 'bonesiz', 2: 'maskeli', 3: 'maskesiz', 4: 'onluklu', 5: 'onluksuz'}\n",
              " orig_img: array([[[216, 207, 204],\n",
              "         [209, 200, 197],\n",
              "         [213, 202, 198],\n",
              "         ...,\n",
              "         [ 41,  89, 123],\n",
              "         [ 16,  62,  93],\n",
              "         [  0,  36,  65]],\n",
              " \n",
              "        [[210, 201, 198],\n",
              "         [218, 209, 206],\n",
              "         [207, 196, 192],\n",
              "         ...,\n",
              "         [ 51,  98, 130],\n",
              "         [ 21,  65,  94],\n",
              "         [  0,  36,  63]],\n",
              " \n",
              "        [[211, 202, 199],\n",
              "         [210, 201, 198],\n",
              "         [215, 204, 200],\n",
              "         ...,\n",
              "         [ 49,  90, 122],\n",
              "         [ 23,  63,  91],\n",
              "         [  0,  36,  61]],\n",
              " \n",
              "        ...,\n",
              " \n",
              "        [[167, 175, 182],\n",
              "         [166, 174, 181],\n",
              "         [166, 174, 181],\n",
              "         ...,\n",
              "         [158, 161, 165],\n",
              "         [161, 162, 166],\n",
              "         [161, 162, 166]],\n",
              " \n",
              "        [[158, 165, 174],\n",
              "         [157, 164, 173],\n",
              "         [157, 165, 172],\n",
              "         ...,\n",
              "         [155, 156, 160],\n",
              "         [155, 156, 160],\n",
              "         [154, 155, 159]],\n",
              " \n",
              "        [[163, 170, 179],\n",
              "         [162, 169, 178],\n",
              "         [162, 170, 177],\n",
              "         ...,\n",
              "         [157, 158, 162],\n",
              "         [157, 158, 162],\n",
              "         [157, 158, 162]]], dtype=uint8)\n",
              " orig_shape: (320, 480)\n",
              " path: '/content/drive/MyDrive/IMEP/Adding/FabrikaMaskBone4/re__image_26.jpg'\n",
              " probs: None\n",
              " save_dir: 'runs/detect/predict'\n",
              " speed: {'preprocess': 2.691984176635742, 'inference': 13.219118118286133, 'postprocess': 2.8612613677978516},\n",
              " ultralytics.engine.results.Results object with attributes:\n",
              " \n",
              " boxes: ultralytics.engine.results.Boxes object\n",
              " keypoints: None\n",
              " masks: None\n",
              " names: {0: 'boneli', 1: 'bonesiz', 2: 'maskeli', 3: 'maskesiz', 4: 'onluklu', 5: 'onluksuz'}\n",
              " orig_img: array([[[ 58,  87,  64],\n",
              "         [ 64,  93,  70],\n",
              "         [ 65,  93,  70],\n",
              "         ...,\n",
              "         [142, 128, 105],\n",
              "         [144, 130, 107],\n",
              "         [141, 127, 104]],\n",
              " \n",
              "        [[ 88, 117,  94],\n",
              "         [114, 143, 120],\n",
              "         [117, 145, 122],\n",
              "         ...,\n",
              "         [134, 120,  97],\n",
              "         [138, 124, 101],\n",
              "         [136, 122,  99]],\n",
              " \n",
              "        [[125, 154, 131],\n",
              "         [146, 175, 152],\n",
              "         [149, 178, 155],\n",
              "         ...,\n",
              "         [123, 110,  84],\n",
              "         [128, 115,  89],\n",
              "         [128, 115,  89]],\n",
              " \n",
              "        ...,\n",
              " \n",
              "        [[151, 153, 141],\n",
              "         [151, 153, 141],\n",
              "         [151, 153, 141],\n",
              "         ...,\n",
              "         [175, 176, 167],\n",
              "         [175, 176, 167],\n",
              "         [174, 175, 166]],\n",
              " \n",
              "        [[151, 153, 141],\n",
              "         [151, 153, 141],\n",
              "         [151, 153, 141],\n",
              "         ...,\n",
              "         [153, 158, 149],\n",
              "         [151, 156, 147],\n",
              "         [150, 155, 146]],\n",
              " \n",
              "        [[151, 153, 141],\n",
              "         [151, 153, 141],\n",
              "         [151, 153, 141],\n",
              "         ...,\n",
              "         [172, 180, 170],\n",
              "         [172, 180, 170],\n",
              "         [172, 180, 170]]], dtype=uint8)\n",
              " orig_shape: (320, 480)\n",
              " path: '/content/drive/MyDrive/IMEP/Adding/FabrikaMaskBone4/re__image_27.jpg'\n",
              " probs: None\n",
              " save_dir: 'runs/detect/predict'\n",
              " speed: {'preprocess': 3.3333301544189453, 'inference': 15.391349792480469, 'postprocess': 3.0083656311035156},\n",
              " ultralytics.engine.results.Results object with attributes:\n",
              " \n",
              " boxes: ultralytics.engine.results.Boxes object\n",
              " keypoints: None\n",
              " masks: None\n",
              " names: {0: 'boneli', 1: 'bonesiz', 2: 'maskeli', 3: 'maskesiz', 4: 'onluklu', 5: 'onluksuz'}\n",
              " orig_img: array([[[130, 130, 130],\n",
              "         [131, 131, 131],\n",
              "         [127, 127, 127],\n",
              "         ...,\n",
              "         [105,  86,  81],\n",
              "         [ 68,  52,  46],\n",
              "         [ 46,  32,  26]],\n",
              " \n",
              "        [[144, 144, 144],\n",
              "         [147, 147, 147],\n",
              "         [144, 144, 144],\n",
              "         ...,\n",
              "         [ 95,  81,  75],\n",
              "         [ 56,  46,  39],\n",
              "         [ 18,  10,   3]],\n",
              " \n",
              "        [[157, 157, 157],\n",
              "         [163, 163, 163],\n",
              "         [163, 163, 163],\n",
              "         ...,\n",
              "         [ 48,  44,  39],\n",
              "         [ 27,  27,  21],\n",
              "         [ 14,  16,  10]],\n",
              " \n",
              "        ...,\n",
              " \n",
              "        [[ 16,  61,  58],\n",
              "         [ 16,  61,  58],\n",
              "         [ 17,  62,  59],\n",
              "         ...,\n",
              "         [113, 130, 143],\n",
              "         [120, 137, 150],\n",
              "         [122, 139, 152]],\n",
              " \n",
              "        [[ 16,  61,  58],\n",
              "         [ 16,  61,  58],\n",
              "         [ 17,  62,  59],\n",
              "         ...,\n",
              "         [104, 120, 136],\n",
              "         [109, 125, 141],\n",
              "         [106, 122, 138]],\n",
              " \n",
              "        [[ 16,  61,  58],\n",
              "         [ 16,  61,  58],\n",
              "         [ 17,  62,  59],\n",
              "         ...,\n",
              "         [104, 120, 136],\n",
              "         [113, 129, 145],\n",
              "         [105, 121, 137]]], dtype=uint8)\n",
              " orig_shape: (320, 480)\n",
              " path: '/content/drive/MyDrive/IMEP/Adding/FabrikaMaskBone4/re__image_28.jpg'\n",
              " probs: None\n",
              " save_dir: 'runs/detect/predict'\n",
              " speed: {'preprocess': 2.7523040771484375, 'inference': 31.58116340637207, 'postprocess': 2.8645992279052734},\n",
              " ultralytics.engine.results.Results object with attributes:\n",
              " \n",
              " boxes: ultralytics.engine.results.Boxes object\n",
              " keypoints: None\n",
              " masks: None\n",
              " names: {0: 'boneli', 1: 'bonesiz', 2: 'maskeli', 3: 'maskesiz', 4: 'onluklu', 5: 'onluksuz'}\n",
              " orig_img: array([[[ 20,  21,  19],\n",
              "         [ 23,  24,  22],\n",
              "         [ 22,  23,  21],\n",
              "         ...,\n",
              "         [233, 227, 216],\n",
              "         [233, 227, 216],\n",
              "         [233, 227, 216]],\n",
              " \n",
              "        [[ 20,  21,  19],\n",
              "         [ 23,  24,  22],\n",
              "         [ 21,  22,  20],\n",
              "         ...,\n",
              "         [234, 228, 217],\n",
              "         [233, 227, 216],\n",
              "         [233, 227, 216]],\n",
              " \n",
              "        [[ 20,  21,  19],\n",
              "         [ 23,  24,  22],\n",
              "         [ 21,  22,  20],\n",
              "         ...,\n",
              "         [234, 228, 217],\n",
              "         [234, 228, 217],\n",
              "         [233, 227, 216]],\n",
              " \n",
              "        ...,\n",
              " \n",
              "        [[123, 123, 123],\n",
              "         [122, 122, 122],\n",
              "         [122, 122, 122],\n",
              "         ...,\n",
              "         [111, 111, 125],\n",
              "         [114, 114, 128],\n",
              "         [115, 115, 129]],\n",
              " \n",
              "        [[124, 124, 124],\n",
              "         [123, 123, 123],\n",
              "         [123, 123, 123],\n",
              "         ...,\n",
              "         [168, 168, 180],\n",
              "         [167, 167, 179],\n",
              "         [165, 165, 177]],\n",
              " \n",
              "        [[124, 124, 124],\n",
              "         [123, 123, 123],\n",
              "         [123, 123, 123],\n",
              "         ...,\n",
              "         [181, 181, 193],\n",
              "         [176, 176, 188],\n",
              "         [171, 171, 183]]], dtype=uint8)\n",
              " orig_shape: (320, 480)\n",
              " path: '/content/drive/MyDrive/IMEP/Adding/FabrikaMaskBone4/re__image_29.jpg'\n",
              " probs: None\n",
              " save_dir: 'runs/detect/predict'\n",
              " speed: {'preprocess': 2.4399757385253906, 'inference': 28.23352813720703, 'postprocess': 2.3136138916015625},\n",
              " ultralytics.engine.results.Results object with attributes:\n",
              " \n",
              " boxes: ultralytics.engine.results.Boxes object\n",
              " keypoints: None\n",
              " masks: None\n",
              " names: {0: 'boneli', 1: 'bonesiz', 2: 'maskeli', 3: 'maskesiz', 4: 'onluklu', 5: 'onluksuz'}\n",
              " orig_img: array([[[ 61,  82,  73],\n",
              "         [ 38,  59,  50],\n",
              "         [ 46,  63,  54],\n",
              "         ...,\n",
              "         [207, 208, 206],\n",
              "         [208, 206, 205],\n",
              "         [207, 205, 204]],\n",
              " \n",
              "        [[ 26,  50,  40],\n",
              "         [  9,  30,  21],\n",
              "         [ 30,  49,  40],\n",
              "         ...,\n",
              "         [190, 191, 189],\n",
              "         [196, 197, 195],\n",
              "         [210, 211, 209]],\n",
              " \n",
              "        [[ 36,  61,  51],\n",
              "         [ 12,  37,  27],\n",
              "         [ 14,  38,  28],\n",
              "         ...,\n",
              "         [199, 202, 200],\n",
              "         [206, 209, 207],\n",
              "         [219, 222, 220]],\n",
              " \n",
              "        ...,\n",
              " \n",
              "        [[100,  95,  97],\n",
              "         [ 95,  90,  92],\n",
              "         [ 91,  86,  88],\n",
              "         ...,\n",
              "         [157, 155, 155],\n",
              "         [156, 154, 154],\n",
              "         [153, 151, 151]],\n",
              " \n",
              "        [[100,  95,  97],\n",
              "         [ 95,  90,  92],\n",
              "         [ 92,  87,  89],\n",
              "         ...,\n",
              "         [157, 155, 155],\n",
              "         [156, 154, 154],\n",
              "         [153, 151, 151]],\n",
              " \n",
              "        [[100,  95,  97],\n",
              "         [ 95,  90,  92],\n",
              "         [ 92,  87,  89],\n",
              "         ...,\n",
              "         [157, 155, 155],\n",
              "         [156, 154, 154],\n",
              "         [153, 151, 151]]], dtype=uint8)\n",
              " orig_shape: (180, 280)\n",
              " path: '/content/drive/MyDrive/IMEP/Adding/FabrikaMaskBone4/re__image_3.jpg'\n",
              " probs: None\n",
              " save_dir: 'runs/detect/predict'\n",
              " speed: {'preprocess': 2.449512481689453, 'inference': 17.156124114990234, 'postprocess': 2.5043487548828125},\n",
              " ultralytics.engine.results.Results object with attributes:\n",
              " \n",
              " boxes: ultralytics.engine.results.Boxes object\n",
              " keypoints: None\n",
              " masks: None\n",
              " names: {0: 'boneli', 1: 'bonesiz', 2: 'maskeli', 3: 'maskesiz', 4: 'onluklu', 5: 'onluksuz'}\n",
              " orig_img: array([[[135, 140, 143],\n",
              "         [134, 139, 142],\n",
              "         [140, 144, 149],\n",
              "         ...,\n",
              "         [  0,  12,   8],\n",
              "         [  7,  20,  18],\n",
              "         [  0,   2,   0]],\n",
              " \n",
              "        [[133, 138, 141],\n",
              "         [133, 138, 141],\n",
              "         [141, 145, 150],\n",
              "         ...,\n",
              "         [  0,  13,   9],\n",
              "         [  4,  17,  15],\n",
              "         [  0,  11,   9]],\n",
              " \n",
              "        [[133, 138, 141],\n",
              "         [132, 137, 140],\n",
              "         [139, 144, 147],\n",
              "         ...,\n",
              "         [  0,  11,   7],\n",
              "         [  3,  16,  14],\n",
              "         [ 15,  28,  26]],\n",
              " \n",
              "        ...,\n",
              " \n",
              "        [[161, 163, 164],\n",
              "         [161, 163, 164],\n",
              "         [161, 163, 164],\n",
              "         ...,\n",
              "         [120, 127, 130],\n",
              "         [116, 123, 126],\n",
              "         [112, 119, 122]],\n",
              " \n",
              "        [[165, 167, 168],\n",
              "         [165, 167, 168],\n",
              "         [165, 167, 168],\n",
              "         ...,\n",
              "         [117, 123, 128],\n",
              "         [116, 122, 127],\n",
              "         [113, 119, 124]],\n",
              " \n",
              "        [[163, 165, 166],\n",
              "         [162, 164, 165],\n",
              "         [162, 164, 165],\n",
              "         ...,\n",
              "         [136, 142, 147],\n",
              "         [136, 142, 147],\n",
              "         [134, 140, 145]]], dtype=uint8)\n",
              " orig_shape: (320, 480)\n",
              " path: '/content/drive/MyDrive/IMEP/Adding/FabrikaMaskBone4/re__image_30.jpg'\n",
              " probs: None\n",
              " save_dir: 'runs/detect/predict'\n",
              " speed: {'preprocess': 2.7832984924316406, 'inference': 21.750688552856445, 'postprocess': 2.7666091918945312},\n",
              " ultralytics.engine.results.Results object with attributes:\n",
              " \n",
              " boxes: ultralytics.engine.results.Boxes object\n",
              " keypoints: None\n",
              " masks: None\n",
              " names: {0: 'boneli', 1: 'bonesiz', 2: 'maskeli', 3: 'maskesiz', 4: 'onluklu', 5: 'onluksuz'}\n",
              " orig_img: array([[[131, 130, 146],\n",
              "         [132, 131, 147],\n",
              "         [149, 148, 164],\n",
              "         ...,\n",
              "         [226, 237, 251],\n",
              "         [226, 236, 253],\n",
              "         [225, 235, 252]],\n",
              " \n",
              "        [[130, 129, 145],\n",
              "         [128, 128, 142],\n",
              "         [125, 124, 140],\n",
              "         ...,\n",
              "         [226, 237, 251],\n",
              "         [226, 236, 253],\n",
              "         [226, 236, 253]],\n",
              " \n",
              "        [[136, 136, 150],\n",
              "         [136, 136, 148],\n",
              "         [133, 133, 147],\n",
              "         ...,\n",
              "         [227, 237, 254],\n",
              "         [226, 236, 253],\n",
              "         [226, 236, 253]],\n",
              " \n",
              "        ...,\n",
              " \n",
              "        [[193, 193, 193],\n",
              "         [193, 193, 193],\n",
              "         [194, 194, 194],\n",
              "         ...,\n",
              "         [202, 202, 202],\n",
              "         [202, 202, 202],\n",
              "         [202, 202, 202]],\n",
              " \n",
              "        [[194, 194, 194],\n",
              "         [190, 190, 190],\n",
              "         [187, 187, 187],\n",
              "         ...,\n",
              "         [201, 201, 201],\n",
              "         [201, 201, 201],\n",
              "         [201, 201, 201]],\n",
              " \n",
              "        [[195, 195, 195],\n",
              "         [194, 194, 194],\n",
              "         [194, 194, 194],\n",
              "         ...,\n",
              "         [200, 200, 200],\n",
              "         [200, 200, 200],\n",
              "         [201, 201, 201]]], dtype=uint8)\n",
              " orig_shape: (320, 480)\n",
              " path: '/content/drive/MyDrive/IMEP/Adding/FabrikaMaskBone4/re__image_31.jpg'\n",
              " probs: None\n",
              " save_dir: 'runs/detect/predict'\n",
              " speed: {'preprocess': 3.246784210205078, 'inference': 18.309354782104492, 'postprocess': 1.7712116241455078},\n",
              " ultralytics.engine.results.Results object with attributes:\n",
              " \n",
              " boxes: ultralytics.engine.results.Boxes object\n",
              " keypoints: None\n",
              " masks: None\n",
              " names: {0: 'boneli', 1: 'bonesiz', 2: 'maskeli', 3: 'maskesiz', 4: 'onluklu', 5: 'onluksuz'}\n",
              " orig_img: array([[[101,  96,  87],\n",
              "         [ 98,  93,  84],\n",
              "         [105, 103,  93],\n",
              "         ...,\n",
              "         [158, 115,  72],\n",
              "         [166, 121,  78],\n",
              "         [186, 141,  98]],\n",
              " \n",
              "        [[ 97,  92,  83],\n",
              "         [108, 103,  94],\n",
              "         [106, 104,  94],\n",
              "         ...,\n",
              "         [159, 116,  73],\n",
              "         [166, 121,  78],\n",
              "         [186, 141,  98]],\n",
              " \n",
              "        [[ 91,  86,  77],\n",
              "         [113, 108,  99],\n",
              "         [105, 103,  93],\n",
              "         ...,\n",
              "         [159, 116,  73],\n",
              "         [165, 122,  79],\n",
              "         [184, 141,  98]],\n",
              " \n",
              "        ...,\n",
              " \n",
              "        [[144, 142, 141],\n",
              "         [144, 142, 141],\n",
              "         [145, 143, 142],\n",
              "         ...,\n",
              "         [211, 226, 229],\n",
              "         [213, 225, 229],\n",
              "         [213, 225, 229]],\n",
              " \n",
              "        [[140, 141, 139],\n",
              "         [141, 142, 140],\n",
              "         [143, 141, 140],\n",
              "         ...,\n",
              "         [211, 226, 229],\n",
              "         [213, 225, 229],\n",
              "         [214, 226, 230]],\n",
              " \n",
              "        [[142, 143, 141],\n",
              "         [142, 143, 141],\n",
              "         [145, 143, 142],\n",
              "         ...,\n",
              "         [211, 226, 229],\n",
              "         [213, 225, 229],\n",
              "         [214, 226, 230]]], dtype=uint8)\n",
              " orig_shape: (240, 480)\n",
              " path: '/content/drive/MyDrive/IMEP/Adding/FabrikaMaskBone4/re__image_32.jpg'\n",
              " probs: None\n",
              " save_dir: 'runs/detect/predict'\n",
              " speed: {'preprocess': 4.123687744140625, 'inference': 175.48441886901855, 'postprocess': 2.755403518676758},\n",
              " ultralytics.engine.results.Results object with attributes:\n",
              " \n",
              " boxes: ultralytics.engine.results.Boxes object\n",
              " keypoints: None\n",
              " masks: None\n",
              " names: {0: 'boneli', 1: 'bonesiz', 2: 'maskeli', 3: 'maskesiz', 4: 'onluklu', 5: 'onluksuz'}\n",
              " orig_img: array([[[  0,  23,   5],\n",
              "         [ 19,  47,  28],\n",
              "         [ 33,  61,  42],\n",
              "         ...,\n",
              "         [ 67,  97,  68],\n",
              "         [ 73, 104,  75],\n",
              "         [ 80, 111,  82]],\n",
              " \n",
              "        [[  0,  24,   6],\n",
              "         [ 12,  38,  20],\n",
              "         [ 20,  48,  29],\n",
              "         ...,\n",
              "         [ 56,  87,  58],\n",
              "         [ 64,  95,  66],\n",
              "         [ 72, 103,  74]],\n",
              " \n",
              "        [[  5,  29,  11],\n",
              "         [  2,  28,  10],\n",
              "         [  0,  26,   7],\n",
              "         ...,\n",
              "         [ 40,  74,  44],\n",
              "         [ 49,  83,  53],\n",
              "         [ 58,  92,  62]],\n",
              " \n",
              "        ...,\n",
              " \n",
              "        [[156, 154, 154],\n",
              "         [159, 157, 157],\n",
              "         [159, 157, 157],\n",
              "         ...,\n",
              "         [169, 167, 167],\n",
              "         [169, 167, 167],\n",
              "         [169, 167, 167]],\n",
              " \n",
              "        [[156, 154, 154],\n",
              "         [158, 156, 156],\n",
              "         [158, 156, 156],\n",
              "         ...,\n",
              "         [173, 171, 171],\n",
              "         [174, 172, 172],\n",
              "         [174, 172, 172]],\n",
              " \n",
              "        [[156, 154, 154],\n",
              "         [158, 156, 156],\n",
              "         [157, 155, 155],\n",
              "         ...,\n",
              "         [169, 167, 167],\n",
              "         [169, 167, 167],\n",
              "         [169, 167, 167]]], dtype=uint8)\n",
              " orig_shape: (320, 480)\n",
              " path: '/content/drive/MyDrive/IMEP/Adding/FabrikaMaskBone4/re__image_33.jpg'\n",
              " probs: None\n",
              " save_dir: 'runs/detect/predict'\n",
              " speed: {'preprocess': 3.7229061126708984, 'inference': 16.795873641967773, 'postprocess': 7.087230682373047},\n",
              " ultralytics.engine.results.Results object with attributes:\n",
              " \n",
              " boxes: ultralytics.engine.results.Boxes object\n",
              " keypoints: None\n",
              " masks: None\n",
              " names: {0: 'boneli', 1: 'bonesiz', 2: 'maskeli', 3: 'maskesiz', 4: 'onluklu', 5: 'onluksuz'}\n",
              " orig_img: array([[[241, 239, 231],\n",
              "         [234, 235, 226],\n",
              "         [236, 236, 230],\n",
              "         ...,\n",
              "         [ 56, 104, 138],\n",
              "         [ 39,  89, 125],\n",
              "         [123, 173, 209]],\n",
              " \n",
              "        [[229, 229, 223],\n",
              "         [230, 230, 224],\n",
              "         [226, 227, 223],\n",
              "         ...,\n",
              "         [119, 167, 201],\n",
              "         [ 59, 109, 145],\n",
              "         [ 66, 116, 152]],\n",
              " \n",
              "        [[229, 229, 229],\n",
              "         [231, 231, 231],\n",
              "         [231, 233, 233],\n",
              "         ...,\n",
              "         [151, 202, 235],\n",
              "         [128, 178, 214],\n",
              "         [131, 181, 217]],\n",
              " \n",
              "        ...,\n",
              " \n",
              "        [[112, 118, 125],\n",
              "         [ 97, 105, 112],\n",
              "         [ 74,  82,  89],\n",
              "         ...,\n",
              "         [112, 125, 127],\n",
              "         [109, 122, 124],\n",
              "         [106, 119, 121]],\n",
              " \n",
              "        [[ 75,  83,  90],\n",
              "         [ 83,  91,  98],\n",
              "         [ 83,  91,  98],\n",
              "         ...,\n",
              "         [107, 120, 122],\n",
              "         [103, 116, 118],\n",
              "         [101, 114, 116]],\n",
              " \n",
              "        [[ 58,  66,  73],\n",
              "         [ 85,  93, 100],\n",
              "         [100, 110, 117],\n",
              "         ...,\n",
              "         [114, 127, 129],\n",
              "         [113, 126, 128],\n",
              "         [112, 125, 127]]], dtype=uint8)\n",
              " orig_shape: (320, 480)\n",
              " path: '/content/drive/MyDrive/IMEP/Adding/FabrikaMaskBone4/re__image_34.jpg'\n",
              " probs: None\n",
              " save_dir: 'runs/detect/predict'\n",
              " speed: {'preprocess': 3.1518936157226562, 'inference': 18.071889877319336, 'postprocess': 2.9997825622558594},\n",
              " ultralytics.engine.results.Results object with attributes:\n",
              " \n",
              " boxes: ultralytics.engine.results.Boxes object\n",
              " keypoints: None\n",
              " masks: None\n",
              " names: {0: 'boneli', 1: 'bonesiz', 2: 'maskeli', 3: 'maskesiz', 4: 'onluklu', 5: 'onluksuz'}\n",
              " orig_img: array([[[164, 145, 112],\n",
              "         [147, 128,  95],\n",
              "         [149, 130,  97],\n",
              "         ...,\n",
              "         [203, 147, 136],\n",
              "         [202, 146, 135],\n",
              "         [202, 146, 135]],\n",
              " \n",
              "        [[160, 140, 109],\n",
              "         [167, 147, 116],\n",
              "         [167, 147, 116],\n",
              "         ...,\n",
              "         [201, 145, 134],\n",
              "         [202, 143, 133],\n",
              "         [200, 144, 133]],\n",
              " \n",
              "        [[158, 140, 111],\n",
              "         [187, 169, 140],\n",
              "         [160, 142, 113],\n",
              "         ...,\n",
              "         [199, 141, 129],\n",
              "         [201, 141, 129],\n",
              "         [199, 141, 129]],\n",
              " \n",
              "        ...,\n",
              " \n",
              "        [[178, 180, 181],\n",
              "         [191, 193, 194],\n",
              "         [179, 181, 182],\n",
              "         ...,\n",
              "         [155, 151, 150],\n",
              "         [161, 156, 153],\n",
              "         [152, 147, 144]],\n",
              " \n",
              "        [[148, 150, 151],\n",
              "         [177, 179, 180],\n",
              "         [172, 174, 175],\n",
              "         ...,\n",
              "         [122, 119, 115],\n",
              "         [120, 115, 112],\n",
              "         [109, 104, 101]],\n",
              " \n",
              "        [[138, 140, 141],\n",
              "         [164, 166, 167],\n",
              "         [168, 170, 171],\n",
              "         ...,\n",
              "         [145, 142, 138],\n",
              "         [146, 141, 138],\n",
              "         [135, 130, 127]]], dtype=uint8)\n",
              " orig_shape: (270, 480)\n",
              " path: '/content/drive/MyDrive/IMEP/Adding/FabrikaMaskBone4/re__image_35.jpg'\n",
              " probs: None\n",
              " save_dir: 'runs/detect/predict'\n",
              " speed: {'preprocess': 2.630472183227539, 'inference': 24.783849716186523, 'postprocess': 2.759218215942383},\n",
              " ultralytics.engine.results.Results object with attributes:\n",
              " \n",
              " boxes: ultralytics.engine.results.Boxes object\n",
              " keypoints: None\n",
              " masks: None\n",
              " names: {0: 'boneli', 1: 'bonesiz', 2: 'maskeli', 3: 'maskesiz', 4: 'onluklu', 5: 'onluksuz'}\n",
              " orig_img: array([[[106, 107,  97],\n",
              "         [106, 107,  97],\n",
              "         [109, 108,  98],\n",
              "         ...,\n",
              "         [ 87,  77,  67],\n",
              "         [ 75,  65,  55],\n",
              "         [163, 153, 143]],\n",
              " \n",
              "        [[106, 107,  97],\n",
              "         [106, 107,  97],\n",
              "         [107, 108,  98],\n",
              "         ...,\n",
              "         [ 88,  78,  68],\n",
              "         [ 75,  65,  55],\n",
              "         [163, 153, 143]],\n",
              " \n",
              "        [[105, 108,  99],\n",
              "         [105, 108,  99],\n",
              "         [105, 108,  99],\n",
              "         ...,\n",
              "         [ 88,  79,  66],\n",
              "         [ 75,  66,  53],\n",
              "         [163, 154, 141]],\n",
              " \n",
              "        ...,\n",
              " \n",
              "        [[ 89,  83,  76],\n",
              "         [ 88,  82,  75],\n",
              "         [ 88,  82,  75],\n",
              "         ...,\n",
              "         [ 83,  80,  72],\n",
              "         [ 70,  67,  59],\n",
              "         [159, 156, 148]],\n",
              " \n",
              "        [[ 84,  78,  71],\n",
              "         [ 84,  78,  71],\n",
              "         [ 83,  77,  70],\n",
              "         ...,\n",
              "         [ 79,  76,  68],\n",
              "         [ 60,  57,  49],\n",
              "         [155, 152, 144]],\n",
              " \n",
              "        [[ 84,  78,  71],\n",
              "         [ 84,  78,  71],\n",
              "         [ 83,  77,  70],\n",
              "         ...,\n",
              "         [ 85,  82,  74],\n",
              "         [ 66,  63,  55],\n",
              "         [160, 157, 149]]], dtype=uint8)\n",
              " orig_shape: (234, 480)\n",
              " path: '/content/drive/MyDrive/IMEP/Adding/FabrikaMaskBone4/re__image_36.jpg'\n",
              " probs: None\n",
              " save_dir: 'runs/detect/predict'\n",
              " speed: {'preprocess': 2.355813980102539, 'inference': 48.657894134521484, 'postprocess': 9.132146835327148},\n",
              " ultralytics.engine.results.Results object with attributes:\n",
              " \n",
              " boxes: ultralytics.engine.results.Boxes object\n",
              " keypoints: None\n",
              " masks: None\n",
              " names: {0: 'boneli', 1: 'bonesiz', 2: 'maskeli', 3: 'maskesiz', 4: 'onluklu', 5: 'onluksuz'}\n",
              " orig_img: array([[[ 15,  27,  15],\n",
              "         [ 13,  24,  14],\n",
              "         [ 11,  19,  12],\n",
              "         ...,\n",
              "         [229, 233, 221],\n",
              "         [223, 228, 213],\n",
              "         [221, 227, 210]],\n",
              " \n",
              "        [[ 20,  34,  22],\n",
              "         [ 15,  29,  18],\n",
              "         [ 10,  21,  13],\n",
              "         ...,\n",
              "         [239, 243, 232],\n",
              "         [235, 239, 227],\n",
              "         [233, 237, 225]],\n",
              " \n",
              "        [[ 19,  37,  24],\n",
              "         [ 14,  31,  20],\n",
              "         [  6,  21,  13],\n",
              "         ...,\n",
              "         [232, 233, 229],\n",
              "         [236, 237, 228],\n",
              "         [238, 239, 230]],\n",
              " \n",
              "        ...,\n",
              " \n",
              "        [[ 16,  40,  22],\n",
              "         [ 11,  35,  17],\n",
              "         [ 11,  34,  19],\n",
              "         ...,\n",
              "         [150, 144, 137],\n",
              "         [151, 145, 138],\n",
              "         [152, 146, 139]],\n",
              " \n",
              "        [[  8,  29,  14],\n",
              "         [ 14,  35,  20],\n",
              "         [ 10,  31,  16],\n",
              "         ...,\n",
              "         [157, 151, 144],\n",
              "         [158, 152, 145],\n",
              "         [158, 152, 145]],\n",
              " \n",
              "        [[  0,  17,   2],\n",
              "         [ 11,  30,  15],\n",
              "         [  4,  25,  10],\n",
              "         ...,\n",
              "         [171, 165, 158],\n",
              "         [171, 165, 158],\n",
              "         [170, 164, 157]]], dtype=uint8)\n",
              " orig_shape: (320, 427)\n",
              " path: '/content/drive/MyDrive/IMEP/Adding/FabrikaMaskBone4/re__image_37.jpg'\n",
              " probs: None\n",
              " save_dir: 'runs/detect/predict'\n",
              " speed: {'preprocess': 7.298946380615234, 'inference': 256.561279296875, 'postprocess': 2.6407241821289062},\n",
              " ultralytics.engine.results.Results object with attributes:\n",
              " \n",
              " boxes: ultralytics.engine.results.Boxes object\n",
              " keypoints: None\n",
              " masks: None\n",
              " names: {0: 'boneli', 1: 'bonesiz', 2: 'maskeli', 3: 'maskesiz', 4: 'onluklu', 5: 'onluksuz'}\n",
              " orig_img: array([[[ 16,  21,  20],\n",
              "         [ 17,  22,  21],\n",
              "         [ 21,  26,  25],\n",
              "         ...,\n",
              "         [ 34,  72,  74],\n",
              "         [ 34,  73,  75],\n",
              "         [ 24,  63,  65]],\n",
              " \n",
              "        [[ 16,  21,  20],\n",
              "         [ 18,  23,  22],\n",
              "         [ 21,  26,  25],\n",
              "         ...,\n",
              "         [ 32,  71,  73],\n",
              "         [ 36,  75,  77],\n",
              "         [ 28,  67,  69]],\n",
              " \n",
              "        [[ 16,  21,  20],\n",
              "         [ 19,  24,  23],\n",
              "         [ 23,  28,  27],\n",
              "         ...,\n",
              "         [ 33,  72,  74],\n",
              "         [ 40,  79,  81],\n",
              "         [ 33,  74,  76]],\n",
              " \n",
              "        ...,\n",
              " \n",
              "        [[195, 196, 192],\n",
              "         [195, 196, 192],\n",
              "         [195, 196, 192],\n",
              "         ...,\n",
              "         [ 17,  13,  24],\n",
              "         [ 17,  13,  24],\n",
              "         [ 18,  14,  25]],\n",
              " \n",
              "        [[193, 194, 190],\n",
              "         [193, 194, 190],\n",
              "         [193, 194, 190],\n",
              "         ...,\n",
              "         [ 17,  13,  24],\n",
              "         [ 17,  13,  24],\n",
              "         [ 18,  14,  25]],\n",
              " \n",
              "        [[192, 193, 189],\n",
              "         [192, 193, 189],\n",
              "         [192, 193, 189],\n",
              "         ...,\n",
              "         [ 17,  13,  24],\n",
              "         [ 17,  13,  24],\n",
              "         [ 18,  14,  25]]], dtype=uint8)\n",
              " orig_shape: (320, 480)\n",
              " path: '/content/drive/MyDrive/IMEP/Adding/FabrikaMaskBone4/re__image_38.jpg'\n",
              " probs: None\n",
              " save_dir: 'runs/detect/predict'\n",
              " speed: {'preprocess': 8.925199508666992, 'inference': 19.107580184936523, 'postprocess': 24.520158767700195},\n",
              " ultralytics.engine.results.Results object with attributes:\n",
              " \n",
              " boxes: ultralytics.engine.results.Boxes object\n",
              " keypoints: None\n",
              " masks: None\n",
              " names: {0: 'boneli', 1: 'bonesiz', 2: 'maskeli', 3: 'maskesiz', 4: 'onluklu', 5: 'onluksuz'}\n",
              " orig_img: array([[[ 68,  91,  99],\n",
              "         [ 63,  86,  94],\n",
              "         [ 66,  91, 101],\n",
              "         ...,\n",
              "         [ 33,  49,  48],\n",
              "         [ 32,  48,  47],\n",
              "         [ 31,  47,  46]],\n",
              " \n",
              "        [[ 71,  94, 102],\n",
              "         [ 65,  88,  96],\n",
              "         [ 67,  92, 102],\n",
              "         ...,\n",
              "         [ 28,  44,  43],\n",
              "         [ 28,  44,  43],\n",
              "         [ 28,  44,  43]],\n",
              " \n",
              "        [[ 75,  98, 106],\n",
              "         [ 68,  91,  99],\n",
              "         [ 70,  92, 103],\n",
              "         ...,\n",
              "         [ 28,  44,  43],\n",
              "         [ 29,  45,  44],\n",
              "         [ 30,  46,  45]],\n",
              " \n",
              "        ...,\n",
              " \n",
              "        [[129, 143, 155],\n",
              "         [129, 143, 155],\n",
              "         [132, 144, 156],\n",
              "         ...,\n",
              "         [218, 223, 232],\n",
              "         [218, 223, 232],\n",
              "         [218, 223, 232]],\n",
              " \n",
              "        [[126, 140, 152],\n",
              "         [125, 139, 151],\n",
              "         [129, 141, 153],\n",
              "         ...,\n",
              "         [217, 222, 231],\n",
              "         [217, 222, 231],\n",
              "         [216, 221, 230]],\n",
              " \n",
              "        [[140, 155, 164],\n",
              "         [140, 155, 164],\n",
              "         [144, 156, 166],\n",
              "         ...,\n",
              "         [217, 222, 231],\n",
              "         [217, 222, 231],\n",
              "         [216, 221, 230]]], dtype=uint8)\n",
              " orig_shape: (319, 480)\n",
              " path: '/content/drive/MyDrive/IMEP/Adding/FabrikaMaskBone4/re__image_39.jpg'\n",
              " probs: None\n",
              " save_dir: 'runs/detect/predict'\n",
              " speed: {'preprocess': 2.889871597290039, 'inference': 44.35920715332031, 'postprocess': 13.562917709350586},\n",
              " ultralytics.engine.results.Results object with attributes:\n",
              " \n",
              " boxes: ultralytics.engine.results.Boxes object\n",
              " keypoints: None\n",
              " masks: None\n",
              " names: {0: 'boneli', 1: 'bonesiz', 2: 'maskeli', 3: 'maskesiz', 4: 'onluklu', 5: 'onluksuz'}\n",
              " orig_img: array([[[ 26,  50,  32],\n",
              "         [152, 176, 158],\n",
              "         [163, 182, 167],\n",
              "         ...,\n",
              "         [ 28,  40,  34],\n",
              "         [ 67,  84,  81],\n",
              "         [ 36,  57,  54]],\n",
              " \n",
              "        [[ 24,  45,  30],\n",
              "         [116, 137, 122],\n",
              "         [164, 183, 168],\n",
              "         ...,\n",
              "         [ 94, 106, 100],\n",
              "         [ 20,  37,  33],\n",
              "         [ 30,  52,  47]],\n",
              " \n",
              "        [[ 26,  44,  31],\n",
              "         [ 29,  47,  34],\n",
              "         [ 98, 115, 102],\n",
              "         ...,\n",
              "         [238, 251, 243],\n",
              "         [108, 129, 120],\n",
              "         [ 58,  82,  74]],\n",
              " \n",
              "        ...,\n",
              " \n",
              "        [[132, 163, 160],\n",
              "         [201, 230, 227],\n",
              "         [214, 241, 237],\n",
              "         ...,\n",
              "         [201, 179, 154],\n",
              "         [200, 178, 153],\n",
              "         [205, 183, 158]],\n",
              " \n",
              "        [[136, 166, 161],\n",
              "         [197, 228, 221],\n",
              "         [187, 216, 207],\n",
              "         ...,\n",
              "         [205, 184, 157],\n",
              "         [203, 182, 155],\n",
              "         [206, 185, 158]],\n",
              " \n",
              "        [[147, 178, 171],\n",
              "         [184, 215, 206],\n",
              "         [201, 231, 220],\n",
              "         ...,\n",
              "         [237, 216, 189],\n",
              "         [234, 213, 186],\n",
              "         [231, 210, 183]]], dtype=uint8)\n",
              " orig_shape: (252, 480)\n",
              " path: '/content/drive/MyDrive/IMEP/Adding/FabrikaMaskBone4/re__image_4.jpg'\n",
              " probs: None\n",
              " save_dir: 'runs/detect/predict'\n",
              " speed: {'preprocess': 2.4602413177490234, 'inference': 13.320446014404297, 'postprocess': 2.452373504638672},\n",
              " ultralytics.engine.results.Results object with attributes:\n",
              " \n",
              " boxes: ultralytics.engine.results.Boxes object\n",
              " keypoints: None\n",
              " masks: None\n",
              " names: {0: 'boneli', 1: 'bonesiz', 2: 'maskeli', 3: 'maskesiz', 4: 'onluklu', 5: 'onluksuz'}\n",
              " orig_img: array([[[ 18,  41,  37],\n",
              "         [ 11,  34,  30],\n",
              "         [ 48,  73,  69],\n",
              "         ...,\n",
              "         [144, 136, 119],\n",
              "         [ 91,  82,  68],\n",
              "         [ 54,  46,  33]],\n",
              " \n",
              "        [[ 29,  52,  48],\n",
              "         [ 31,  56,  52],\n",
              "         [ 41,  66,  62],\n",
              "         ...,\n",
              "         [107,  99,  82],\n",
              "         [ 66,  58,  45],\n",
              "         [ 39,  33,  20]],\n",
              " \n",
              "        [[ 15,  40,  36],\n",
              "         [ 19,  44,  40],\n",
              "         [ 15,  40,  36],\n",
              "         ...,\n",
              "         [ 64,  56,  43],\n",
              "         [ 45,  39,  28],\n",
              "         [ 28,  24,  13]],\n",
              " \n",
              "        ...,\n",
              " \n",
              "        [[130, 125, 116],\n",
              "         [134, 129, 120],\n",
              "         [133, 128, 119],\n",
              "         ...,\n",
              "         [ 57,  48,  45],\n",
              "         [ 65,  56,  53],\n",
              "         [ 73,  64,  61]],\n",
              " \n",
              "        [[129, 124, 115],\n",
              "         [130, 125, 116],\n",
              "         [125, 120, 111],\n",
              "         ...,\n",
              "         [ 66,  54,  52],\n",
              "         [ 71,  59,  57],\n",
              "         [ 77,  65,  63]],\n",
              " \n",
              "        [[130, 125, 116],\n",
              "         [127, 122, 113],\n",
              "         [120, 115, 106],\n",
              "         ...,\n",
              "         [ 74,  62,  60],\n",
              "         [ 76,  64,  62],\n",
              "         [ 78,  66,  64]]], dtype=uint8)\n",
              " orig_shape: (320, 480)\n",
              " path: '/content/drive/MyDrive/IMEP/Adding/FabrikaMaskBone4/re__image_40.jpg'\n",
              " probs: None\n",
              " save_dir: 'runs/detect/predict'\n",
              " speed: {'preprocess': 2.9914379119873047, 'inference': 13.186454772949219, 'postprocess': 2.357959747314453},\n",
              " ultralytics.engine.results.Results object with attributes:\n",
              " \n",
              " boxes: ultralytics.engine.results.Boxes object\n",
              " keypoints: None\n",
              " masks: None\n",
              " names: {0: 'boneli', 1: 'bonesiz', 2: 'maskeli', 3: 'maskesiz', 4: 'onluklu', 5: 'onluksuz'}\n",
              " orig_img: array([[[155, 170, 156],\n",
              "         [181, 196, 182],\n",
              "         [177, 190, 174],\n",
              "         ...,\n",
              "         [237, 222, 213],\n",
              "         [237, 222, 213],\n",
              "         [236, 221, 212]],\n",
              " \n",
              "        [[170, 185, 171],\n",
              "         [199, 212, 196],\n",
              "         [184, 197, 181],\n",
              "         ...,\n",
              "         [237, 222, 213],\n",
              "         [237, 222, 213],\n",
              "         [236, 221, 212]],\n",
              " \n",
              "        [[159, 172, 156],\n",
              "         [189, 203, 185],\n",
              "         [175, 187, 169],\n",
              "         ...,\n",
              "         [235, 223, 213],\n",
              "         [235, 223, 213],\n",
              "         [234, 222, 212]],\n",
              " \n",
              "        ...,\n",
              " \n",
              "        [[180, 189, 193],\n",
              "         [176, 185, 189],\n",
              "         [161, 170, 174],\n",
              "         ...,\n",
              "         [163, 157, 152],\n",
              "         [159, 153, 148],\n",
              "         [155, 149, 144]],\n",
              " \n",
              "        [[137, 146, 150],\n",
              "         [130, 139, 143],\n",
              "         [116, 125, 129],\n",
              "         ...,\n",
              "         [160, 153, 150],\n",
              "         [156, 149, 146],\n",
              "         [152, 145, 142]],\n",
              " \n",
              "        [[ 92, 103, 107],\n",
              "         [ 87,  98, 102],\n",
              "         [ 82,  93,  97],\n",
              "         ...,\n",
              "         [154, 146, 146],\n",
              "         [150, 142, 142],\n",
              "         [147, 139, 139]]], dtype=uint8)\n",
              " orig_shape: (319, 480)\n",
              " path: '/content/drive/MyDrive/IMEP/Adding/FabrikaMaskBone4/re__image_41.jpg'\n",
              " probs: None\n",
              " save_dir: 'runs/detect/predict'\n",
              " speed: {'preprocess': 2.611875534057617, 'inference': 13.254642486572266, 'postprocess': 2.5336742401123047},\n",
              " ultralytics.engine.results.Results object with attributes:\n",
              " \n",
              " boxes: ultralytics.engine.results.Boxes object\n",
              " keypoints: None\n",
              " masks: None\n",
              " names: {0: 'boneli', 1: 'bonesiz', 2: 'maskeli', 3: 'maskesiz', 4: 'onluklu', 5: 'onluksuz'}\n",
              " orig_img: array([[[255, 255, 255],\n",
              "         [255, 255, 255],\n",
              "         [255, 255, 255],\n",
              "         ...,\n",
              "         [255, 255, 255],\n",
              "         [255, 255, 255],\n",
              "         [255, 255, 255]],\n",
              " \n",
              "        [[255, 255, 255],\n",
              "         [255, 255, 255],\n",
              "         [255, 255, 255],\n",
              "         ...,\n",
              "         [255, 255, 255],\n",
              "         [255, 255, 255],\n",
              "         [255, 255, 255]],\n",
              " \n",
              "        [[255, 255, 255],\n",
              "         [255, 255, 255],\n",
              "         [255, 255, 255],\n",
              "         ...,\n",
              "         [255, 255, 255],\n",
              "         [255, 255, 255],\n",
              "         [255, 255, 255]],\n",
              " \n",
              "        ...,\n",
              " \n",
              "        [[255, 255, 255],\n",
              "         [255, 255, 255],\n",
              "         [255, 255, 255],\n",
              "         ...,\n",
              "         [255, 255, 255],\n",
              "         [255, 255, 255],\n",
              "         [255, 255, 255]],\n",
              " \n",
              "        [[255, 255, 255],\n",
              "         [255, 255, 255],\n",
              "         [255, 255, 255],\n",
              "         ...,\n",
              "         [255, 255, 255],\n",
              "         [255, 255, 255],\n",
              "         [255, 255, 255]],\n",
              " \n",
              "        [[255, 255, 255],\n",
              "         [255, 255, 255],\n",
              "         [255, 255, 255],\n",
              "         ...,\n",
              "         [255, 255, 255],\n",
              "         [255, 255, 255],\n",
              "         [255, 255, 255]]], dtype=uint8)\n",
              " orig_shape: (1000, 1000)\n",
              " path: '/content/drive/MyDrive/IMEP/Adding/FabrikaMaskBone4/re__image_44.jpg'\n",
              " probs: None\n",
              " save_dir: 'runs/detect/predict'\n",
              " speed: {'preprocess': 4.32276725769043, 'inference': 12.825489044189453, 'postprocess': 2.605915069580078},\n",
              " ultralytics.engine.results.Results object with attributes:\n",
              " \n",
              " boxes: ultralytics.engine.results.Boxes object\n",
              " keypoints: None\n",
              " masks: None\n",
              " names: {0: 'boneli', 1: 'bonesiz', 2: 'maskeli', 3: 'maskesiz', 4: 'onluklu', 5: 'onluksuz'}\n",
              " orig_img: array([[[255, 255, 255],\n",
              "         [255, 255, 255],\n",
              "         [255, 255, 255],\n",
              "         ...,\n",
              "         [255, 255, 255],\n",
              "         [255, 255, 255],\n",
              "         [255, 255, 255]],\n",
              " \n",
              "        [[255, 255, 255],\n",
              "         [255, 255, 255],\n",
              "         [255, 255, 255],\n",
              "         ...,\n",
              "         [255, 255, 255],\n",
              "         [255, 255, 255],\n",
              "         [255, 255, 255]],\n",
              " \n",
              "        [[255, 255, 255],\n",
              "         [255, 255, 255],\n",
              "         [255, 255, 255],\n",
              "         ...,\n",
              "         [255, 255, 255],\n",
              "         [255, 255, 255],\n",
              "         [255, 255, 255]],\n",
              " \n",
              "        ...,\n",
              " \n",
              "        [[255, 255, 255],\n",
              "         [255, 255, 255],\n",
              "         [255, 255, 255],\n",
              "         ...,\n",
              "         [255, 255, 255],\n",
              "         [255, 255, 255],\n",
              "         [255, 255, 255]],\n",
              " \n",
              "        [[255, 255, 255],\n",
              "         [255, 255, 255],\n",
              "         [255, 255, 255],\n",
              "         ...,\n",
              "         [255, 255, 255],\n",
              "         [255, 255, 255],\n",
              "         [255, 255, 255]],\n",
              " \n",
              "        [[255, 255, 255],\n",
              "         [255, 255, 255],\n",
              "         [255, 255, 255],\n",
              "         ...,\n",
              "         [255, 255, 255],\n",
              "         [255, 255, 255],\n",
              "         [255, 255, 255]]], dtype=uint8)\n",
              " orig_shape: (320, 320)\n",
              " path: '/content/drive/MyDrive/IMEP/Adding/FabrikaMaskBone4/re__image_45.jpg'\n",
              " probs: None\n",
              " save_dir: 'runs/detect/predict'\n",
              " speed: {'preprocess': 4.10914421081543, 'inference': 11.733055114746094, 'postprocess': 2.508878707885742},\n",
              " ultralytics.engine.results.Results object with attributes:\n",
              " \n",
              " boxes: ultralytics.engine.results.Boxes object\n",
              " keypoints: None\n",
              " masks: None\n",
              " names: {0: 'boneli', 1: 'bonesiz', 2: 'maskeli', 3: 'maskesiz', 4: 'onluklu', 5: 'onluksuz'}\n",
              " orig_img: array([[[254, 254, 254],\n",
              "         [254, 254, 254],\n",
              "         [254, 254, 254],\n",
              "         ...,\n",
              "         [253, 253, 253],\n",
              "         [253, 253, 253],\n",
              "         [254, 254, 254]],\n",
              " \n",
              "        [[254, 254, 254],\n",
              "         [254, 254, 254],\n",
              "         [254, 254, 254],\n",
              "         ...,\n",
              "         [253, 253, 253],\n",
              "         [253, 253, 253],\n",
              "         [254, 254, 254]],\n",
              " \n",
              "        [[254, 254, 254],\n",
              "         [254, 254, 254],\n",
              "         [254, 254, 254],\n",
              "         ...,\n",
              "         [253, 253, 253],\n",
              "         [253, 253, 253],\n",
              "         [254, 254, 254]],\n",
              " \n",
              "        ...,\n",
              " \n",
              "        [[255, 255, 255],\n",
              "         [255, 253, 253],\n",
              "         [252, 250, 250],\n",
              "         ...,\n",
              "         [251, 250, 252],\n",
              "         [251, 250, 252],\n",
              "         [254, 254, 254]],\n",
              " \n",
              "        [[255, 255, 255],\n",
              "         [255, 253, 253],\n",
              "         [252, 250, 250],\n",
              "         ...,\n",
              "         [254, 253, 255],\n",
              "         [254, 253, 255],\n",
              "         [255, 255, 255]],\n",
              " \n",
              "        [[255, 254, 254],\n",
              "         [255, 253, 253],\n",
              "         [253, 251, 251],\n",
              "         ...,\n",
              "         [255, 254, 255],\n",
              "         [255, 254, 255],\n",
              "         [255, 255, 255]]], dtype=uint8)\n",
              " orig_shape: (320, 241)\n",
              " path: '/content/drive/MyDrive/IMEP/Adding/FabrikaMaskBone4/re__image_46.jpg'\n",
              " probs: None\n",
              " save_dir: 'runs/detect/predict'\n",
              " speed: {'preprocess': 2.675294876098633, 'inference': 121.32883071899414, 'postprocess': 2.8810501098632812},\n",
              " ultralytics.engine.results.Results object with attributes:\n",
              " \n",
              " boxes: ultralytics.engine.results.Boxes object\n",
              " keypoints: None\n",
              " masks: None\n",
              " names: {0: 'boneli', 1: 'bonesiz', 2: 'maskeli', 3: 'maskesiz', 4: 'onluklu', 5: 'onluksuz'}\n",
              " orig_img: array([[[254, 254, 254],\n",
              "         [254, 254, 254],\n",
              "         [254, 254, 254],\n",
              "         ...,\n",
              "         [254, 254, 254],\n",
              "         [254, 254, 254],\n",
              "         [254, 254, 254]],\n",
              " \n",
              "        [[254, 254, 254],\n",
              "         [254, 254, 254],\n",
              "         [254, 254, 254],\n",
              "         ...,\n",
              "         [254, 254, 254],\n",
              "         [254, 254, 254],\n",
              "         [254, 254, 254]],\n",
              " \n",
              "        [[254, 254, 254],\n",
              "         [254, 254, 254],\n",
              "         [254, 254, 254],\n",
              "         ...,\n",
              "         [254, 254, 254],\n",
              "         [254, 254, 254],\n",
              "         [254, 254, 254]],\n",
              " \n",
              "        ...,\n",
              " \n",
              "        [[254, 254, 254],\n",
              "         [254, 254, 254],\n",
              "         [254, 254, 254],\n",
              "         ...,\n",
              "         [254, 254, 254],\n",
              "         [254, 254, 254],\n",
              "         [254, 254, 254]],\n",
              " \n",
              "        [[254, 254, 254],\n",
              "         [254, 254, 254],\n",
              "         [254, 254, 254],\n",
              "         ...,\n",
              "         [254, 254, 254],\n",
              "         [254, 254, 254],\n",
              "         [254, 254, 254]],\n",
              " \n",
              "        [[254, 254, 254],\n",
              "         [254, 254, 254],\n",
              "         [254, 254, 254],\n",
              "         ...,\n",
              "         [254, 254, 254],\n",
              "         [254, 254, 254],\n",
              "         [254, 254, 254]]], dtype=uint8)\n",
              " orig_shape: (320, 240)\n",
              " path: '/content/drive/MyDrive/IMEP/Adding/FabrikaMaskBone4/re__image_47.jpg'\n",
              " probs: None\n",
              " save_dir: 'runs/detect/predict'\n",
              " speed: {'preprocess': 2.0599365234375, 'inference': 15.42973518371582, 'postprocess': 2.788066864013672},\n",
              " ultralytics.engine.results.Results object with attributes:\n",
              " \n",
              " boxes: ultralytics.engine.results.Boxes object\n",
              " keypoints: None\n",
              " masks: None\n",
              " names: {0: 'boneli', 1: 'bonesiz', 2: 'maskeli', 3: 'maskesiz', 4: 'onluklu', 5: 'onluksuz'}\n",
              " orig_img: array([[[254, 254, 254],\n",
              "         [254, 254, 254],\n",
              "         [254, 254, 254],\n",
              "         ...,\n",
              "         [254, 254, 254],\n",
              "         [254, 254, 254],\n",
              "         [254, 254, 254]],\n",
              " \n",
              "        [[254, 254, 254],\n",
              "         [254, 254, 254],\n",
              "         [254, 254, 254],\n",
              "         ...,\n",
              "         [254, 254, 254],\n",
              "         [254, 254, 254],\n",
              "         [254, 254, 254]],\n",
              " \n",
              "        [[254, 254, 254],\n",
              "         [254, 254, 254],\n",
              "         [254, 254, 254],\n",
              "         ...,\n",
              "         [254, 254, 254],\n",
              "         [254, 254, 254],\n",
              "         [254, 254, 254]],\n",
              " \n",
              "        ...,\n",
              " \n",
              "        [[254, 254, 254],\n",
              "         [254, 254, 254],\n",
              "         [254, 254, 254],\n",
              "         ...,\n",
              "         [254, 254, 254],\n",
              "         [254, 254, 254],\n",
              "         [254, 254, 254]],\n",
              " \n",
              "        [[254, 254, 254],\n",
              "         [254, 254, 254],\n",
              "         [254, 254, 254],\n",
              "         ...,\n",
              "         [254, 254, 254],\n",
              "         [254, 254, 254],\n",
              "         [254, 254, 254]],\n",
              " \n",
              "        [[254, 254, 254],\n",
              "         [254, 254, 254],\n",
              "         [254, 254, 254],\n",
              "         ...,\n",
              "         [254, 254, 254],\n",
              "         [254, 254, 254],\n",
              "         [254, 254, 254]]], dtype=uint8)\n",
              " orig_shape: (320, 116)\n",
              " path: '/content/drive/MyDrive/IMEP/Adding/FabrikaMaskBone4/re__image_48.jpg'\n",
              " probs: None\n",
              " save_dir: 'runs/detect/predict'\n",
              " speed: {'preprocess': 1.8115043640136719, 'inference': 57.66868591308594, 'postprocess': 2.1123886108398438},\n",
              " ultralytics.engine.results.Results object with attributes:\n",
              " \n",
              " boxes: ultralytics.engine.results.Boxes object\n",
              " keypoints: None\n",
              " masks: None\n",
              " names: {0: 'boneli', 1: 'bonesiz', 2: 'maskeli', 3: 'maskesiz', 4: 'onluklu', 5: 'onluksuz'}\n",
              " orig_img: array([[[255, 255, 255],\n",
              "         [255, 255, 255],\n",
              "         [255, 255, 255],\n",
              "         ...,\n",
              "         [255, 255, 255],\n",
              "         [255, 255, 255],\n",
              "         [255, 255, 255]],\n",
              " \n",
              "        [[255, 255, 255],\n",
              "         [255, 255, 255],\n",
              "         [255, 255, 255],\n",
              "         ...,\n",
              "         [255, 255, 255],\n",
              "         [255, 255, 255],\n",
              "         [255, 255, 255]],\n",
              " \n",
              "        [[255, 255, 255],\n",
              "         [255, 255, 255],\n",
              "         [255, 255, 255],\n",
              "         ...,\n",
              "         [255, 255, 255],\n",
              "         [255, 255, 255],\n",
              "         [255, 255, 255]],\n",
              " \n",
              "        ...,\n",
              " \n",
              "        [[255, 255, 255],\n",
              "         [255, 255, 255],\n",
              "         [255, 255, 255],\n",
              "         ...,\n",
              "         [253, 255, 254],\n",
              "         [253, 255, 255],\n",
              "         [255, 254, 255]],\n",
              " \n",
              "        [[255, 255, 255],\n",
              "         [255, 255, 255],\n",
              "         [255, 255, 255],\n",
              "         ...,\n",
              "         [254, 255, 253],\n",
              "         [254, 254, 254],\n",
              "         [254, 253, 255]],\n",
              " \n",
              "        [[255, 255, 255],\n",
              "         [255, 255, 255],\n",
              "         [255, 255, 255],\n",
              "         ...,\n",
              "         [254, 255, 251],\n",
              "         [253, 254, 252],\n",
              "         [254, 253, 255]]], dtype=uint8)\n",
              " orig_shape: (320, 213)\n",
              " path: '/content/drive/MyDrive/IMEP/Adding/FabrikaMaskBone4/re__image_49.jpg'\n",
              " probs: None\n",
              " save_dir: 'runs/detect/predict'\n",
              " speed: {'preprocess': 2.8963088989257812, 'inference': 59.758663177490234, 'postprocess': 2.342700958251953},\n",
              " ultralytics.engine.results.Results object with attributes:\n",
              " \n",
              " boxes: ultralytics.engine.results.Boxes object\n",
              " keypoints: None\n",
              " masks: None\n",
              " names: {0: 'boneli', 1: 'bonesiz', 2: 'maskeli', 3: 'maskesiz', 4: 'onluklu', 5: 'onluksuz'}\n",
              " orig_img: array([[[ 56,  68,  74],\n",
              "         [ 59,  71,  77],\n",
              "         [ 63,  75,  81],\n",
              "         ...,\n",
              "         [254, 255, 253],\n",
              "         [253, 254, 252],\n",
              "         [254, 255, 253]],\n",
              " \n",
              "        [[ 60,  72,  78],\n",
              "         [ 61,  73,  79],\n",
              "         [ 62,  74,  80],\n",
              "         ...,\n",
              "         [254, 255, 253],\n",
              "         [252, 253, 251],\n",
              "         [253, 254, 252]],\n",
              " \n",
              "        [[ 64,  76,  82],\n",
              "         [ 62,  74,  80],\n",
              "         [ 61,  71,  78],\n",
              "         ...,\n",
              "         [253, 254, 252],\n",
              "         [251, 252, 250],\n",
              "         [252, 253, 251]],\n",
              " \n",
              "        ...,\n",
              " \n",
              "        [[229, 231, 231],\n",
              "         [229, 231, 231],\n",
              "         [229, 231, 231],\n",
              "         ...,\n",
              "         [230, 229, 233],\n",
              "         [237, 236, 240],\n",
              "         [230, 229, 233]],\n",
              " \n",
              "        [[246, 248, 248],\n",
              "         [245, 247, 247],\n",
              "         [245, 247, 247],\n",
              "         ...,\n",
              "         [214, 213, 217],\n",
              "         [206, 205, 209],\n",
              "         [191, 190, 194]],\n",
              " \n",
              "        [[246, 248, 248],\n",
              "         [245, 247, 247],\n",
              "         [244, 246, 246],\n",
              "         ...,\n",
              "         [214, 213, 217],\n",
              "         [193, 192, 196],\n",
              "         [169, 168, 172]]], dtype=uint8)\n",
              " orig_shape: (320, 480)\n",
              " path: '/content/drive/MyDrive/IMEP/Adding/FabrikaMaskBone4/re__image_5.jpg'\n",
              " probs: None\n",
              " save_dir: 'runs/detect/predict'\n",
              " speed: {'preprocess': 3.1280517578125, 'inference': 11.204004287719727, 'postprocess': 2.0461082458496094},\n",
              " ultralytics.engine.results.Results object with attributes:\n",
              " \n",
              " boxes: ultralytics.engine.results.Boxes object\n",
              " keypoints: None\n",
              " masks: None\n",
              " names: {0: 'boneli', 1: 'bonesiz', 2: 'maskeli', 3: 'maskesiz', 4: 'onluklu', 5: 'onluksuz'}\n",
              " orig_img: array([[[255, 255, 254],\n",
              "         [254, 255, 253],\n",
              "         [253, 254, 252],\n",
              "         ...,\n",
              "         [253, 254, 252],\n",
              "         [254, 255, 253],\n",
              "         [255, 255, 254]],\n",
              " \n",
              "        [[255, 255, 254],\n",
              "         [254, 255, 253],\n",
              "         [253, 254, 252],\n",
              "         ...,\n",
              "         [253, 254, 252],\n",
              "         [254, 255, 253],\n",
              "         [255, 255, 254]],\n",
              " \n",
              "        [[255, 255, 254],\n",
              "         [254, 255, 253],\n",
              "         [253, 254, 252],\n",
              "         ...,\n",
              "         [253, 254, 252],\n",
              "         [254, 255, 253],\n",
              "         [255, 255, 254]],\n",
              " \n",
              "        ...,\n",
              " \n",
              "        [[255, 254, 253],\n",
              "         [255, 254, 253],\n",
              "         [255, 254, 253],\n",
              "         ...,\n",
              "         [253, 254, 252],\n",
              "         [254, 255, 253],\n",
              "         [255, 255, 254]],\n",
              " \n",
              "        [[255, 254, 253],\n",
              "         [255, 254, 253],\n",
              "         [255, 254, 253],\n",
              "         ...,\n",
              "         [253, 254, 252],\n",
              "         [254, 255, 253],\n",
              "         [255, 255, 254]],\n",
              " \n",
              "        [[255, 254, 253],\n",
              "         [255, 254, 253],\n",
              "         [255, 254, 253],\n",
              "         ...,\n",
              "         [253, 254, 252],\n",
              "         [254, 255, 253],\n",
              "         [255, 255, 254]]], dtype=uint8)\n",
              " orig_shape: (320, 229)\n",
              " path: '/content/drive/MyDrive/IMEP/Adding/FabrikaMaskBone4/re__image_50.jpg'\n",
              " probs: None\n",
              " save_dir: 'runs/detect/predict'\n",
              " speed: {'preprocess': 2.3572444915771484, 'inference': 10.84756851196289, 'postprocess': 2.2852420806884766},\n",
              " ultralytics.engine.results.Results object with attributes:\n",
              " \n",
              " boxes: ultralytics.engine.results.Boxes object\n",
              " keypoints: None\n",
              " masks: None\n",
              " names: {0: 'boneli', 1: 'bonesiz', 2: 'maskeli', 3: 'maskesiz', 4: 'onluklu', 5: 'onluksuz'}\n",
              " orig_img: array([[[254, 254, 254],\n",
              "         [254, 254, 254],\n",
              "         [254, 254, 254],\n",
              "         ...,\n",
              "         [254, 254, 254],\n",
              "         [254, 254, 254],\n",
              "         [254, 254, 254]],\n",
              " \n",
              "        [[254, 254, 254],\n",
              "         [254, 254, 254],\n",
              "         [254, 254, 254],\n",
              "         ...,\n",
              "         [254, 254, 254],\n",
              "         [254, 254, 254],\n",
              "         [254, 254, 254]],\n",
              " \n",
              "        [[254, 254, 254],\n",
              "         [254, 254, 254],\n",
              "         [254, 254, 254],\n",
              "         ...,\n",
              "         [254, 254, 254],\n",
              "         [254, 254, 254],\n",
              "         [254, 254, 254]],\n",
              " \n",
              "        ...,\n",
              " \n",
              "        [[254, 254, 254],\n",
              "         [254, 254, 254],\n",
              "         [254, 254, 254],\n",
              "         ...,\n",
              "         [254, 254, 254],\n",
              "         [254, 254, 254],\n",
              "         [254, 254, 254]],\n",
              " \n",
              "        [[254, 254, 254],\n",
              "         [254, 254, 254],\n",
              "         [254, 254, 254],\n",
              "         ...,\n",
              "         [254, 254, 254],\n",
              "         [254, 254, 254],\n",
              "         [254, 254, 254]],\n",
              " \n",
              "        [[254, 254, 254],\n",
              "         [254, 254, 254],\n",
              "         [254, 254, 254],\n",
              "         ...,\n",
              "         [254, 254, 254],\n",
              "         [254, 254, 254],\n",
              "         [254, 254, 254]]], dtype=uint8)\n",
              " orig_shape: (320, 320)\n",
              " path: '/content/drive/MyDrive/IMEP/Adding/FabrikaMaskBone4/re__image_51.jpg'\n",
              " probs: None\n",
              " save_dir: 'runs/detect/predict'\n",
              " speed: {'preprocess': 2.84576416015625, 'inference': 12.40992546081543, 'postprocess': 2.004384994506836},\n",
              " ultralytics.engine.results.Results object with attributes:\n",
              " \n",
              " boxes: ultralytics.engine.results.Boxes object\n",
              " keypoints: None\n",
              " masks: None\n",
              " names: {0: 'boneli', 1: 'bonesiz', 2: 'maskeli', 3: 'maskesiz', 4: 'onluklu', 5: 'onluksuz'}\n",
              " orig_img: array([[[253, 253, 253],\n",
              "         [253, 253, 253],\n",
              "         [253, 253, 253],\n",
              "         ...,\n",
              "         [254, 254, 254],\n",
              "         [254, 254, 254],\n",
              "         [254, 254, 254]],\n",
              " \n",
              "        [[253, 253, 253],\n",
              "         [253, 253, 253],\n",
              "         [253, 253, 253],\n",
              "         ...,\n",
              "         [254, 254, 254],\n",
              "         [254, 254, 254],\n",
              "         [254, 254, 254]],\n",
              " \n",
              "        [[253, 253, 253],\n",
              "         [253, 253, 253],\n",
              "         [253, 253, 253],\n",
              "         ...,\n",
              "         [254, 254, 254],\n",
              "         [254, 254, 254],\n",
              "         [254, 254, 254]],\n",
              " \n",
              "        ...,\n",
              " \n",
              "        [[254, 254, 254],\n",
              "         [254, 254, 254],\n",
              "         [254, 254, 254],\n",
              "         ...,\n",
              "         [254, 254, 254],\n",
              "         [254, 254, 254],\n",
              "         [254, 254, 254]],\n",
              " \n",
              "        [[254, 254, 254],\n",
              "         [254, 254, 254],\n",
              "         [254, 254, 254],\n",
              "         ...,\n",
              "         [254, 254, 254],\n",
              "         [254, 254, 254],\n",
              "         [254, 254, 254]],\n",
              " \n",
              "        [[254, 254, 254],\n",
              "         [254, 254, 254],\n",
              "         [254, 254, 254],\n",
              "         ...,\n",
              "         [254, 254, 254],\n",
              "         [254, 254, 254],\n",
              "         [254, 254, 254]]], dtype=uint8)\n",
              " orig_shape: (320, 240)\n",
              " path: '/content/drive/MyDrive/IMEP/Adding/FabrikaMaskBone4/re__image_52.jpg'\n",
              " probs: None\n",
              " save_dir: 'runs/detect/predict'\n",
              " speed: {'preprocess': 2.4535655975341797, 'inference': 13.199567794799805, 'postprocess': 2.101421356201172},\n",
              " ultralytics.engine.results.Results object with attributes:\n",
              " \n",
              " boxes: ultralytics.engine.results.Boxes object\n",
              " keypoints: None\n",
              " masks: None\n",
              " names: {0: 'boneli', 1: 'bonesiz', 2: 'maskeli', 3: 'maskesiz', 4: 'onluklu', 5: 'onluksuz'}\n",
              " orig_img: array([[[255, 255, 255],\n",
              "         [255, 255, 255],\n",
              "         [255, 255, 255],\n",
              "         ...,\n",
              "         [255, 255, 255],\n",
              "         [255, 255, 255],\n",
              "         [255, 255, 255]],\n",
              " \n",
              "        [[255, 255, 255],\n",
              "         [255, 255, 255],\n",
              "         [255, 255, 255],\n",
              "         ...,\n",
              "         [255, 255, 255],\n",
              "         [255, 255, 255],\n",
              "         [255, 255, 255]],\n",
              " \n",
              "        [[255, 255, 255],\n",
              "         [255, 255, 255],\n",
              "         [255, 255, 255],\n",
              "         ...,\n",
              "         [255, 255, 255],\n",
              "         [255, 255, 255],\n",
              "         [255, 255, 255]],\n",
              " \n",
              "        ...,\n",
              " \n",
              "        [[255, 255, 255],\n",
              "         [255, 255, 255],\n",
              "         [255, 255, 255],\n",
              "         ...,\n",
              "         [255, 255, 255],\n",
              "         [255, 255, 255],\n",
              "         [255, 255, 255]],\n",
              " \n",
              "        [[255, 255, 255],\n",
              "         [255, 255, 255],\n",
              "         [255, 255, 255],\n",
              "         ...,\n",
              "         [255, 255, 255],\n",
              "         [255, 255, 255],\n",
              "         [255, 255, 255]],\n",
              " \n",
              "        [[255, 255, 255],\n",
              "         [255, 255, 255],\n",
              "         [255, 255, 255],\n",
              "         ...,\n",
              "         [255, 255, 255],\n",
              "         [255, 255, 255],\n",
              "         [255, 255, 255]]], dtype=uint8)\n",
              " orig_shape: (320, 213)\n",
              " path: '/content/drive/MyDrive/IMEP/Adding/FabrikaMaskBone4/re__image_53.jpg'\n",
              " probs: None\n",
              " save_dir: 'runs/detect/predict'\n",
              " speed: {'preprocess': 2.501249313354492, 'inference': 11.2762451171875, 'postprocess': 1.9578933715820312},\n",
              " ultralytics.engine.results.Results object with attributes:\n",
              " \n",
              " boxes: ultralytics.engine.results.Boxes object\n",
              " keypoints: None\n",
              " masks: None\n",
              " names: {0: 'boneli', 1: 'bonesiz', 2: 'maskeli', 3: 'maskesiz', 4: 'onluklu', 5: 'onluksuz'}\n",
              " orig_img: array([[[255, 255, 255],\n",
              "         [255, 255, 255],\n",
              "         [255, 255, 255],\n",
              "         ...,\n",
              "         [255, 255, 255],\n",
              "         [255, 255, 255],\n",
              "         [255, 255, 255]],\n",
              " \n",
              "        [[255, 255, 255],\n",
              "         [255, 255, 255],\n",
              "         [255, 255, 255],\n",
              "         ...,\n",
              "         [255, 255, 255],\n",
              "         [255, 255, 255],\n",
              "         [255, 255, 255]],\n",
              " \n",
              "        [[255, 255, 255],\n",
              "         [255, 255, 255],\n",
              "         [255, 255, 255],\n",
              "         ...,\n",
              "         [255, 255, 255],\n",
              "         [255, 255, 255],\n",
              "         [255, 255, 255]],\n",
              " \n",
              "        ...,\n",
              " \n",
              "        [[255, 255, 255],\n",
              "         [255, 255, 255],\n",
              "         [255, 255, 255],\n",
              "         ...,\n",
              "         [255, 255, 255],\n",
              "         [255, 255, 255],\n",
              "         [255, 255, 255]],\n",
              " \n",
              "        [[255, 255, 255],\n",
              "         [255, 255, 255],\n",
              "         [255, 255, 255],\n",
              "         ...,\n",
              "         [255, 255, 255],\n",
              "         [255, 255, 255],\n",
              "         [255, 255, 255]],\n",
              " \n",
              "        [[255, 255, 255],\n",
              "         [255, 255, 255],\n",
              "         [255, 255, 255],\n",
              "         ...,\n",
              "         [255, 255, 255],\n",
              "         [255, 255, 255],\n",
              "         [255, 255, 255]]], dtype=uint8)\n",
              " orig_shape: (320, 320)\n",
              " path: '/content/drive/MyDrive/IMEP/Adding/FabrikaMaskBone4/re__image_54.jpg'\n",
              " probs: None\n",
              " save_dir: 'runs/detect/predict'\n",
              " speed: {'preprocess': 2.9594898223876953, 'inference': 10.94961166381836, 'postprocess': 1.924753189086914},\n",
              " ultralytics.engine.results.Results object with attributes:\n",
              " \n",
              " boxes: ultralytics.engine.results.Boxes object\n",
              " keypoints: None\n",
              " masks: None\n",
              " names: {0: 'boneli', 1: 'bonesiz', 2: 'maskeli', 3: 'maskesiz', 4: 'onluklu', 5: 'onluksuz'}\n",
              " orig_img: array([[[255, 255, 255],\n",
              "         [255, 255, 255],\n",
              "         [255, 255, 255],\n",
              "         ...,\n",
              "         [255, 255, 255],\n",
              "         [255, 255, 255],\n",
              "         [255, 255, 255]],\n",
              " \n",
              "        [[255, 255, 255],\n",
              "         [255, 255, 255],\n",
              "         [255, 255, 255],\n",
              "         ...,\n",
              "         [255, 255, 255],\n",
              "         [255, 255, 255],\n",
              "         [255, 255, 255]],\n",
              " \n",
              "        [[255, 255, 255],\n",
              "         [255, 255, 255],\n",
              "         [255, 255, 255],\n",
              "         ...,\n",
              "         [255, 255, 255],\n",
              "         [255, 255, 255],\n",
              "         [255, 255, 255]],\n",
              " \n",
              "        ...,\n",
              " \n",
              "        [[255, 255, 255],\n",
              "         [255, 255, 255],\n",
              "         [255, 255, 255],\n",
              "         ...,\n",
              "         [250, 255, 254],\n",
              "         [255, 255, 255],\n",
              "         [255, 255, 255]],\n",
              " \n",
              "        [[255, 255, 255],\n",
              "         [255, 255, 255],\n",
              "         [255, 255, 255],\n",
              "         ...,\n",
              "         [250, 255, 254],\n",
              "         [255, 255, 255],\n",
              "         [255, 255, 255]],\n",
              " \n",
              "        [[255, 255, 255],\n",
              "         [255, 255, 255],\n",
              "         [255, 255, 255],\n",
              "         ...,\n",
              "         [250, 255, 254],\n",
              "         [255, 255, 255],\n",
              "         [255, 255, 255]]], dtype=uint8)\n",
              " orig_shape: (320, 114)\n",
              " path: '/content/drive/MyDrive/IMEP/Adding/FabrikaMaskBone4/re__image_55.jpg'\n",
              " probs: None\n",
              " save_dir: 'runs/detect/predict'\n",
              " speed: {'preprocess': 1.2943744659423828, 'inference': 10.973453521728516, 'postprocess': 2.0074844360351562},\n",
              " ultralytics.engine.results.Results object with attributes:\n",
              " \n",
              " boxes: ultralytics.engine.results.Boxes object\n",
              " keypoints: None\n",
              " masks: None\n",
              " names: {0: 'boneli', 1: 'bonesiz', 2: 'maskeli', 3: 'maskesiz', 4: 'onluklu', 5: 'onluksuz'}\n",
              " orig_img: array([[[255, 255, 255],\n",
              "         [255, 255, 255],\n",
              "         [255, 255, 255],\n",
              "         ...,\n",
              "         [255, 255, 255],\n",
              "         [255, 255, 255],\n",
              "         [255, 255, 255]],\n",
              " \n",
              "        [[255, 255, 255],\n",
              "         [255, 255, 255],\n",
              "         [255, 255, 255],\n",
              "         ...,\n",
              "         [255, 255, 255],\n",
              "         [255, 255, 255],\n",
              "         [255, 255, 255]],\n",
              " \n",
              "        [[255, 255, 255],\n",
              "         [255, 255, 255],\n",
              "         [255, 255, 255],\n",
              "         ...,\n",
              "         [255, 255, 255],\n",
              "         [255, 255, 255],\n",
              "         [255, 255, 255]],\n",
              " \n",
              "        ...,\n",
              " \n",
              "        [[255, 255, 255],\n",
              "         [255, 255, 255],\n",
              "         [255, 255, 255],\n",
              "         ...,\n",
              "         [255, 255, 255],\n",
              "         [255, 255, 255],\n",
              "         [255, 255, 255]],\n",
              " \n",
              "        [[255, 255, 255],\n",
              "         [255, 255, 255],\n",
              "         [255, 255, 255],\n",
              "         ...,\n",
              "         [255, 255, 255],\n",
              "         [255, 255, 255],\n",
              "         [255, 255, 255]],\n",
              " \n",
              "        [[255, 255, 255],\n",
              "         [255, 255, 255],\n",
              "         [255, 255, 255],\n",
              "         ...,\n",
              "         [255, 255, 255],\n",
              "         [255, 255, 255],\n",
              "         [255, 255, 255]]], dtype=uint8)\n",
              " orig_shape: (320, 213)\n",
              " path: '/content/drive/MyDrive/IMEP/Adding/FabrikaMaskBone4/re__image_56.jpg'\n",
              " probs: None\n",
              " save_dir: 'runs/detect/predict'\n",
              " speed: {'preprocess': 2.4597644805908203, 'inference': 11.689186096191406, 'postprocess': 1.9109249114990234},\n",
              " ultralytics.engine.results.Results object with attributes:\n",
              " \n",
              " boxes: ultralytics.engine.results.Boxes object\n",
              " keypoints: None\n",
              " masks: None\n",
              " names: {0: 'boneli', 1: 'bonesiz', 2: 'maskeli', 3: 'maskesiz', 4: 'onluklu', 5: 'onluksuz'}\n",
              " orig_img: array([[[254, 246, 255],\n",
              "         [254, 246, 255],\n",
              "         [254, 246, 255],\n",
              "         ...,\n",
              "         [255, 249, 255],\n",
              "         [255, 249, 255],\n",
              "         [255, 249, 255]],\n",
              " \n",
              "        [[224, 216, 226],\n",
              "         [224, 216, 226],\n",
              "         [224, 216, 226],\n",
              "         ...,\n",
              "         [222, 215, 222],\n",
              "         [222, 215, 222],\n",
              "         [222, 215, 222]],\n",
              " \n",
              "        [[222, 214, 224],\n",
              "         [222, 214, 224],\n",
              "         [222, 214, 224],\n",
              "         ...,\n",
              "         [217, 209, 219],\n",
              "         [217, 209, 219],\n",
              "         [217, 209, 219]],\n",
              " \n",
              "        ...,\n",
              " \n",
              "        [[233, 222, 230],\n",
              "         [233, 222, 230],\n",
              "         [231, 223, 230],\n",
              "         ...,\n",
              "         [228, 224, 229],\n",
              "         [227, 223, 228],\n",
              "         [227, 223, 228]],\n",
              " \n",
              "        [[234, 224, 230],\n",
              "         [234, 224, 230],\n",
              "         [232, 225, 230],\n",
              "         ...,\n",
              "         [234, 230, 235],\n",
              "         [233, 229, 234],\n",
              "         [233, 229, 234]],\n",
              " \n",
              "        [[255, 248, 254],\n",
              "         [255, 248, 254],\n",
              "         [255, 249, 254],\n",
              "         ...,\n",
              "         [254, 250, 255],\n",
              "         [254, 250, 255],\n",
              "         [254, 250, 255]]], dtype=uint8)\n",
              " orig_shape: (320, 240)\n",
              " path: '/content/drive/MyDrive/IMEP/Adding/FabrikaMaskBone4/re__image_57.jpg'\n",
              " probs: None\n",
              " save_dir: 'runs/detect/predict'\n",
              " speed: {'preprocess': 2.608776092529297, 'inference': 18.904447555541992, 'postprocess': 3.055095672607422},\n",
              " ultralytics.engine.results.Results object with attributes:\n",
              " \n",
              " boxes: ultralytics.engine.results.Boxes object\n",
              " keypoints: None\n",
              " masks: None\n",
              " names: {0: 'boneli', 1: 'bonesiz', 2: 'maskeli', 3: 'maskesiz', 4: 'onluklu', 5: 'onluksuz'}\n",
              " orig_img: array([[[220, 220, 220],\n",
              "         [220, 220, 220],\n",
              "         [220, 220, 220],\n",
              "         ...,\n",
              "         [220, 220, 220],\n",
              "         [220, 220, 220],\n",
              "         [220, 220, 220]],\n",
              " \n",
              "        [[220, 220, 220],\n",
              "         [220, 220, 220],\n",
              "         [220, 220, 220],\n",
              "         ...,\n",
              "         [220, 220, 220],\n",
              "         [220, 220, 220],\n",
              "         [220, 220, 220]],\n",
              " \n",
              "        [[220, 220, 220],\n",
              "         [220, 220, 220],\n",
              "         [220, 220, 220],\n",
              "         ...,\n",
              "         [220, 220, 220],\n",
              "         [220, 220, 220],\n",
              "         [220, 220, 220]],\n",
              " \n",
              "        ...,\n",
              " \n",
              "        [[220, 220, 220],\n",
              "         [220, 220, 220],\n",
              "         [220, 220, 220],\n",
              "         ...,\n",
              "         [222, 222, 222],\n",
              "         [222, 222, 222],\n",
              "         [222, 222, 222]],\n",
              " \n",
              "        [[219, 219, 219],\n",
              "         [219, 219, 219],\n",
              "         [219, 219, 219],\n",
              "         ...,\n",
              "         [215, 215, 215],\n",
              "         [215, 215, 215],\n",
              "         [215, 215, 215]],\n",
              " \n",
              "        [[252, 252, 252],\n",
              "         [252, 252, 252],\n",
              "         [252, 252, 252],\n",
              "         ...,\n",
              "         [250, 250, 250],\n",
              "         [250, 250, 250],\n",
              "         [250, 250, 250]]], dtype=uint8)\n",
              " orig_shape: (320, 226)\n",
              " path: '/content/drive/MyDrive/IMEP/Adding/FabrikaMaskBone4/re__image_58.jpg'\n",
              " probs: None\n",
              " save_dir: 'runs/detect/predict'\n",
              " speed: {'preprocess': 2.9375553131103516, 'inference': 10.14256477355957, 'postprocess': 2.044677734375},\n",
              " ultralytics.engine.results.Results object with attributes:\n",
              " \n",
              " boxes: ultralytics.engine.results.Boxes object\n",
              " keypoints: None\n",
              " masks: None\n",
              " names: {0: 'boneli', 1: 'bonesiz', 2: 'maskeli', 3: 'maskesiz', 4: 'onluklu', 5: 'onluksuz'}\n",
              " orig_img: array([[[255, 255, 255],\n",
              "         [255, 255, 255],\n",
              "         [255, 255, 255],\n",
              "         ...,\n",
              "         [255, 255, 255],\n",
              "         [255, 255, 255],\n",
              "         [255, 255, 255]],\n",
              " \n",
              "        [[255, 255, 255],\n",
              "         [255, 255, 255],\n",
              "         [255, 255, 255],\n",
              "         ...,\n",
              "         [255, 255, 255],\n",
              "         [255, 255, 255],\n",
              "         [255, 255, 255]],\n",
              " \n",
              "        [[255, 255, 255],\n",
              "         [255, 255, 255],\n",
              "         [255, 255, 255],\n",
              "         ...,\n",
              "         [255, 255, 255],\n",
              "         [255, 255, 255],\n",
              "         [255, 255, 255]],\n",
              " \n",
              "        ...,\n",
              " \n",
              "        [[255, 255, 255],\n",
              "         [255, 255, 255],\n",
              "         [255, 255, 255],\n",
              "         ...,\n",
              "         [255, 255, 255],\n",
              "         [255, 255, 255],\n",
              "         [255, 255, 255]],\n",
              " \n",
              "        [[255, 255, 255],\n",
              "         [255, 255, 255],\n",
              "         [255, 255, 255],\n",
              "         ...,\n",
              "         [255, 255, 255],\n",
              "         [255, 255, 255],\n",
              "         [255, 255, 255]],\n",
              " \n",
              "        [[255, 255, 255],\n",
              "         [255, 255, 255],\n",
              "         [255, 255, 255],\n",
              "         ...,\n",
              "         [255, 255, 255],\n",
              "         [255, 255, 255],\n",
              "         [255, 255, 255]]], dtype=uint8)\n",
              " orig_shape: (320, 213)\n",
              " path: '/content/drive/MyDrive/IMEP/Adding/FabrikaMaskBone4/re__image_59.jpg'\n",
              " probs: None\n",
              " save_dir: 'runs/detect/predict'\n",
              " speed: {'preprocess': 2.4199485778808594, 'inference': 12.453079223632812, 'postprocess': 1.9879341125488281},\n",
              " ultralytics.engine.results.Results object with attributes:\n",
              " \n",
              " boxes: ultralytics.engine.results.Boxes object\n",
              " keypoints: None\n",
              " masks: None\n",
              " names: {0: 'boneli', 1: 'bonesiz', 2: 'maskeli', 3: 'maskesiz', 4: 'onluklu', 5: 'onluksuz'}\n",
              " orig_img: array([[[ 51,  81,  76],\n",
              "         [ 37,  67,  62],\n",
              "         [ 34,  62,  56],\n",
              "         ...,\n",
              "         [ 89,  77,  67],\n",
              "         [ 95,  82,  74],\n",
              "         [ 89,  76,  68]],\n",
              " \n",
              "        [[ 52,  82,  77],\n",
              "         [ 39,  69,  64],\n",
              "         [ 36,  64,  58],\n",
              "         ...,\n",
              "         [ 87,  75,  65],\n",
              "         [ 90,  78,  68],\n",
              "         [ 86,  74,  64]],\n",
              " \n",
              "        [[ 49,  79,  74],\n",
              "         [ 36,  66,  61],\n",
              "         [ 32,  60,  54],\n",
              "         ...,\n",
              "         [ 92,  80,  68],\n",
              "         [ 91,  79,  67],\n",
              "         [ 85,  73,  61]],\n",
              " \n",
              "        ...,\n",
              " \n",
              "        [[246, 251, 250],\n",
              "         [246, 251, 250],\n",
              "         [245, 250, 249],\n",
              "         ...,\n",
              "         [240, 248, 248],\n",
              "         [238, 246, 246],\n",
              "         [238, 246, 246]],\n",
              " \n",
              "        [[246, 251, 250],\n",
              "         [245, 250, 249],\n",
              "         [243, 248, 247],\n",
              "         ...,\n",
              "         [234, 244, 244],\n",
              "         [234, 244, 244],\n",
              "         [235, 245, 245]],\n",
              " \n",
              "        [[246, 251, 250],\n",
              "         [244, 249, 248],\n",
              "         [241, 246, 245],\n",
              "         ...,\n",
              "         [231, 241, 241],\n",
              "         [232, 242, 242],\n",
              "         [234, 244, 244]]], dtype=uint8)\n",
              " orig_shape: (270, 480)\n",
              " path: '/content/drive/MyDrive/IMEP/Adding/FabrikaMaskBone4/re__image_6.jpg'\n",
              " probs: None\n",
              " save_dir: 'runs/detect/predict'\n",
              " speed: {'preprocess': 2.2864341735839844, 'inference': 10.74528694152832, 'postprocess': 1.9521713256835938},\n",
              " ultralytics.engine.results.Results object with attributes:\n",
              " \n",
              " boxes: ultralytics.engine.results.Boxes object\n",
              " keypoints: None\n",
              " masks: None\n",
              " names: {0: 'boneli', 1: 'bonesiz', 2: 'maskeli', 3: 'maskesiz', 4: 'onluklu', 5: 'onluksuz'}\n",
              " orig_img: array([[[251, 251, 251],\n",
              "         [251, 251, 251],\n",
              "         [251, 251, 251],\n",
              "         ...,\n",
              "         [254, 253, 255],\n",
              "         [254, 253, 255],\n",
              "         [254, 253, 255]],\n",
              " \n",
              "        [[250, 250, 250],\n",
              "         [250, 250, 250],\n",
              "         [250, 250, 250],\n",
              "         ...,\n",
              "         [254, 253, 255],\n",
              "         [254, 253, 255],\n",
              "         [254, 253, 255]],\n",
              " \n",
              "        [[250, 250, 250],\n",
              "         [250, 250, 250],\n",
              "         [250, 250, 250],\n",
              "         ...,\n",
              "         [254, 253, 255],\n",
              "         [254, 253, 255],\n",
              "         [254, 253, 255]],\n",
              " \n",
              "        ...,\n",
              " \n",
              "        [[254, 243, 245],\n",
              "         [254, 243, 245],\n",
              "         [254, 243, 245],\n",
              "         ...,\n",
              "         [255, 244, 246],\n",
              "         [255, 244, 246],\n",
              "         [255, 244, 246]],\n",
              " \n",
              "        [[255, 243, 245],\n",
              "         [255, 243, 245],\n",
              "         [255, 243, 245],\n",
              "         ...,\n",
              "         [255, 244, 246],\n",
              "         [255, 244, 246],\n",
              "         [255, 244, 246]],\n",
              " \n",
              "        [[255, 243, 245],\n",
              "         [255, 243, 245],\n",
              "         [255, 243, 245],\n",
              "         ...,\n",
              "         [255, 244, 246],\n",
              "         [255, 244, 246],\n",
              "         [255, 244, 246]]], dtype=uint8)\n",
              " orig_shape: (320, 240)\n",
              " path: '/content/drive/MyDrive/IMEP/Adding/FabrikaMaskBone4/re__image_60.jpg'\n",
              " probs: None\n",
              " save_dir: 'runs/detect/predict'\n",
              " speed: {'preprocess': 2.521514892578125, 'inference': 11.194705963134766, 'postprocess': 1.987457275390625},\n",
              " ultralytics.engine.results.Results object with attributes:\n",
              " \n",
              " boxes: ultralytics.engine.results.Boxes object\n",
              " keypoints: None\n",
              " masks: None\n",
              " names: {0: 'boneli', 1: 'bonesiz', 2: 'maskeli', 3: 'maskesiz', 4: 'onluklu', 5: 'onluksuz'}\n",
              " orig_img: array([[[251, 251, 251],\n",
              "         [251, 251, 251],\n",
              "         [251, 251, 251],\n",
              "         ...,\n",
              "         [254, 254, 254],\n",
              "         [254, 254, 254],\n",
              "         [254, 254, 254]],\n",
              " \n",
              "        [[252, 252, 252],\n",
              "         [252, 252, 252],\n",
              "         [252, 252, 252],\n",
              "         ...,\n",
              "         [254, 254, 254],\n",
              "         [254, 254, 254],\n",
              "         [254, 254, 254]],\n",
              " \n",
              "        [[253, 253, 253],\n",
              "         [253, 253, 253],\n",
              "         [253, 253, 253],\n",
              "         ...,\n",
              "         [254, 254, 254],\n",
              "         [254, 254, 254],\n",
              "         [254, 254, 254]],\n",
              " \n",
              "        ...,\n",
              " \n",
              "        [[251, 247, 246],\n",
              "         [251, 247, 246],\n",
              "         [251, 247, 246],\n",
              "         ...,\n",
              "         [253, 253, 253],\n",
              "         [253, 253, 253],\n",
              "         [253, 253, 253]],\n",
              " \n",
              "        [[251, 247, 246],\n",
              "         [251, 247, 246],\n",
              "         [251, 247, 246],\n",
              "         ...,\n",
              "         [253, 253, 253],\n",
              "         [253, 253, 253],\n",
              "         [253, 253, 253]],\n",
              " \n",
              "        [[251, 247, 246],\n",
              "         [251, 247, 246],\n",
              "         [251, 247, 246],\n",
              "         ...,\n",
              "         [253, 253, 253],\n",
              "         [253, 253, 253],\n",
              "         [253, 253, 253]]], dtype=uint8)\n",
              " orig_shape: (320, 240)\n",
              " path: '/content/drive/MyDrive/IMEP/Adding/FabrikaMaskBone4/re__image_61.jpg'\n",
              " probs: None\n",
              " save_dir: 'runs/detect/predict'\n",
              " speed: {'preprocess': 2.79998779296875, 'inference': 13.026952743530273, 'postprocess': 2.7382373809814453},\n",
              " ultralytics.engine.results.Results object with attributes:\n",
              " \n",
              " boxes: ultralytics.engine.results.Boxes object\n",
              " keypoints: None\n",
              " masks: None\n",
              " names: {0: 'boneli', 1: 'bonesiz', 2: 'maskeli', 3: 'maskesiz', 4: 'onluklu', 5: 'onluksuz'}\n",
              " orig_img: array([[[254, 254, 254],\n",
              "         [254, 254, 254],\n",
              "         [254, 254, 254],\n",
              "         ...,\n",
              "         [254, 254, 254],\n",
              "         [254, 254, 254],\n",
              "         [254, 254, 254]],\n",
              " \n",
              "        [[254, 254, 254],\n",
              "         [254, 254, 254],\n",
              "         [254, 254, 254],\n",
              "         ...,\n",
              "         [254, 254, 254],\n",
              "         [254, 254, 254],\n",
              "         [254, 254, 254]],\n",
              " \n",
              "        [[254, 254, 254],\n",
              "         [254, 254, 254],\n",
              "         [254, 254, 254],\n",
              "         ...,\n",
              "         [254, 254, 254],\n",
              "         [254, 254, 254],\n",
              "         [254, 254, 254]],\n",
              " \n",
              "        ...,\n",
              " \n",
              "        [[255, 255, 255],\n",
              "         [255, 255, 255],\n",
              "         [255, 255, 255],\n",
              "         ...,\n",
              "         [251, 246, 247],\n",
              "         [251, 246, 247],\n",
              "         [251, 246, 247]],\n",
              " \n",
              "        [[255, 255, 255],\n",
              "         [255, 255, 255],\n",
              "         [255, 255, 255],\n",
              "         ...,\n",
              "         [251, 246, 247],\n",
              "         [251, 246, 247],\n",
              "         [251, 246, 247]],\n",
              " \n",
              "        [[255, 255, 255],\n",
              "         [255, 255, 255],\n",
              "         [255, 255, 255],\n",
              "         ...,\n",
              "         [251, 246, 247],\n",
              "         [251, 246, 247],\n",
              "         [251, 246, 247]]], dtype=uint8)\n",
              " orig_shape: (320, 213)\n",
              " path: '/content/drive/MyDrive/IMEP/Adding/FabrikaMaskBone4/re__image_62.jpg'\n",
              " probs: None\n",
              " save_dir: 'runs/detect/predict'\n",
              " speed: {'preprocess': 2.679109573364258, 'inference': 11.02137565612793, 'postprocess': 1.9195079803466797},\n",
              " ultralytics.engine.results.Results object with attributes:\n",
              " \n",
              " boxes: ultralytics.engine.results.Boxes object\n",
              " keypoints: None\n",
              " masks: None\n",
              " names: {0: 'boneli', 1: 'bonesiz', 2: 'maskeli', 3: 'maskesiz', 4: 'onluklu', 5: 'onluksuz'}\n",
              " orig_img: array([[[255, 255, 255],\n",
              "         [255, 255, 255],\n",
              "         [255, 255, 255],\n",
              "         ...,\n",
              "         [255, 255, 255],\n",
              "         [255, 255, 255],\n",
              "         [255, 255, 255]],\n",
              " \n",
              "        [[255, 255, 255],\n",
              "         [255, 255, 255],\n",
              "         [255, 255, 255],\n",
              "         ...,\n",
              "         [255, 255, 255],\n",
              "         [255, 255, 255],\n",
              "         [255, 255, 255]],\n",
              " \n",
              "        [[255, 255, 255],\n",
              "         [255, 255, 255],\n",
              "         [255, 255, 255],\n",
              "         ...,\n",
              "         [255, 255, 255],\n",
              "         [255, 255, 255],\n",
              "         [255, 255, 255]],\n",
              " \n",
              "        ...,\n",
              " \n",
              "        [[255, 254, 255],\n",
              "         [255, 254, 255],\n",
              "         [255, 254, 255],\n",
              "         ...,\n",
              "         [255, 255, 255],\n",
              "         [255, 255, 255],\n",
              "         [255, 255, 255]],\n",
              " \n",
              "        [[255, 253, 255],\n",
              "         [255, 253, 255],\n",
              "         [255, 254, 255],\n",
              "         ...,\n",
              "         [255, 255, 255],\n",
              "         [255, 255, 255],\n",
              "         [255, 255, 255]],\n",
              " \n",
              "        [[255, 253, 255],\n",
              "         [255, 253, 255],\n",
              "         [255, 254, 255],\n",
              "         ...,\n",
              "         [255, 255, 255],\n",
              "         [255, 255, 255],\n",
              "         [255, 255, 255]]], dtype=uint8)\n",
              " orig_shape: (320, 128)\n",
              " path: '/content/drive/MyDrive/IMEP/Adding/FabrikaMaskBone4/re__image_63.jpg'\n",
              " probs: None\n",
              " save_dir: 'runs/detect/predict'\n",
              " speed: {'preprocess': 1.6295909881591797, 'inference': 12.656450271606445, 'postprocess': 1.9714832305908203},\n",
              " ultralytics.engine.results.Results object with attributes:\n",
              " \n",
              " boxes: ultralytics.engine.results.Boxes object\n",
              " keypoints: None\n",
              " masks: None\n",
              " names: {0: 'boneli', 1: 'bonesiz', 2: 'maskeli', 3: 'maskesiz', 4: 'onluklu', 5: 'onluksuz'}\n",
              " orig_img: array([[[255, 255, 255],\n",
              "         [255, 255, 255],\n",
              "         [255, 255, 255],\n",
              "         ...,\n",
              "         [255, 255, 255],\n",
              "         [255, 255, 255],\n",
              "         [255, 255, 255]],\n",
              " \n",
              "        [[255, 255, 255],\n",
              "         [255, 255, 255],\n",
              "         [255, 255, 255],\n",
              "         ...,\n",
              "         [255, 255, 255],\n",
              "         [255, 255, 255],\n",
              "         [255, 255, 255]],\n",
              " \n",
              "        [[255, 255, 255],\n",
              "         [255, 255, 255],\n",
              "         [255, 255, 255],\n",
              "         ...,\n",
              "         [255, 255, 255],\n",
              "         [255, 255, 255],\n",
              "         [255, 255, 255]],\n",
              " \n",
              "        ...,\n",
              " \n",
              "        [[255, 255, 255],\n",
              "         [255, 255, 255],\n",
              "         [255, 255, 255],\n",
              "         ...,\n",
              "         [255, 255, 255],\n",
              "         [255, 255, 255],\n",
              "         [255, 255, 255]],\n",
              " \n",
              "        [[255, 255, 255],\n",
              "         [255, 255, 255],\n",
              "         [255, 255, 255],\n",
              "         ...,\n",
              "         [255, 255, 255],\n",
              "         [255, 255, 255],\n",
              "         [255, 255, 255]],\n",
              " \n",
              "        [[255, 255, 255],\n",
              "         [255, 255, 255],\n",
              "         [255, 255, 255],\n",
              "         ...,\n",
              "         [255, 255, 255],\n",
              "         [255, 255, 255],\n",
              "         [255, 255, 255]]], dtype=uint8)\n",
              " orig_shape: (320, 213)\n",
              " path: '/content/drive/MyDrive/IMEP/Adding/FabrikaMaskBone4/re__image_64.jpg'\n",
              " probs: None\n",
              " save_dir: 'runs/detect/predict'\n",
              " speed: {'preprocess': 2.4297237396240234, 'inference': 11.778116226196289, 'postprocess': 2.0487308502197266},\n",
              " ultralytics.engine.results.Results object with attributes:\n",
              " \n",
              " boxes: ultralytics.engine.results.Boxes object\n",
              " keypoints: None\n",
              " masks: None\n",
              " names: {0: 'boneli', 1: 'bonesiz', 2: 'maskeli', 3: 'maskesiz', 4: 'onluklu', 5: 'onluksuz'}\n",
              " orig_img: array([[[254, 254, 254],\n",
              "         [254, 254, 254],\n",
              "         [254, 254, 254],\n",
              "         ...,\n",
              "         [254, 254, 254],\n",
              "         [254, 254, 254],\n",
              "         [254, 254, 254]],\n",
              " \n",
              "        [[254, 254, 254],\n",
              "         [254, 254, 254],\n",
              "         [254, 254, 254],\n",
              "         ...,\n",
              "         [254, 254, 254],\n",
              "         [254, 254, 254],\n",
              "         [254, 254, 254]],\n",
              " \n",
              "        [[254, 254, 254],\n",
              "         [254, 254, 254],\n",
              "         [254, 254, 254],\n",
              "         ...,\n",
              "         [254, 254, 254],\n",
              "         [254, 254, 254],\n",
              "         [254, 254, 254]],\n",
              " \n",
              "        ...,\n",
              " \n",
              "        [[254, 254, 254],\n",
              "         [254, 254, 254],\n",
              "         [254, 254, 254],\n",
              "         ...,\n",
              "         [254, 254, 254],\n",
              "         [254, 254, 254],\n",
              "         [254, 254, 254]],\n",
              " \n",
              "        [[254, 254, 254],\n",
              "         [254, 254, 254],\n",
              "         [254, 254, 254],\n",
              "         ...,\n",
              "         [254, 254, 254],\n",
              "         [254, 254, 254],\n",
              "         [254, 254, 254]],\n",
              " \n",
              "        [[254, 254, 254],\n",
              "         [254, 254, 254],\n",
              "         [254, 254, 254],\n",
              "         ...,\n",
              "         [254, 254, 254],\n",
              "         [254, 254, 254],\n",
              "         [254, 254, 254]]], dtype=uint8)\n",
              " orig_shape: (320, 118)\n",
              " path: '/content/drive/MyDrive/IMEP/Adding/FabrikaMaskBone4/re__image_65.jpg'\n",
              " probs: None\n",
              " save_dir: 'runs/detect/predict'\n",
              " speed: {'preprocess': 1.6641616821289062, 'inference': 12.701272964477539, 'postprocess': 2.073526382446289},\n",
              " ultralytics.engine.results.Results object with attributes:\n",
              " \n",
              " boxes: ultralytics.engine.results.Boxes object\n",
              " keypoints: None\n",
              " masks: None\n",
              " names: {0: 'boneli', 1: 'bonesiz', 2: 'maskeli', 3: 'maskesiz', 4: 'onluklu', 5: 'onluksuz'}\n",
              " orig_img: array([[[254, 254, 254],\n",
              "         [254, 254, 254],\n",
              "         [254, 254, 254],\n",
              "         ...,\n",
              "         [254, 254, 254],\n",
              "         [254, 254, 254],\n",
              "         [254, 254, 254]],\n",
              " \n",
              "        [[254, 254, 254],\n",
              "         [254, 254, 254],\n",
              "         [254, 254, 254],\n",
              "         ...,\n",
              "         [254, 254, 254],\n",
              "         [254, 254, 254],\n",
              "         [254, 254, 254]],\n",
              " \n",
              "        [[254, 254, 254],\n",
              "         [254, 254, 254],\n",
              "         [254, 254, 254],\n",
              "         ...,\n",
              "         [254, 254, 254],\n",
              "         [254, 254, 254],\n",
              "         [254, 254, 254]],\n",
              " \n",
              "        ...,\n",
              " \n",
              "        [[255, 255, 255],\n",
              "         [240, 240, 240],\n",
              "         [245, 245, 245],\n",
              "         ...,\n",
              "         [253, 254, 250],\n",
              "         [255, 255, 254],\n",
              "         [255, 255, 254]],\n",
              " \n",
              "        [[249, 248, 250],\n",
              "         [253, 252, 254],\n",
              "         [255, 254, 255],\n",
              "         ...,\n",
              "         [250, 251, 249],\n",
              "         [254, 255, 253],\n",
              "         [254, 255, 253]],\n",
              " \n",
              "        [[255, 254, 255],\n",
              "         [255, 254, 255],\n",
              "         [253, 252, 254],\n",
              "         ...,\n",
              "         [255, 255, 254],\n",
              "         [254, 255, 253],\n",
              "         [254, 255, 253]]], dtype=uint8)\n",
              " orig_shape: (320, 106)\n",
              " path: '/content/drive/MyDrive/IMEP/Adding/FabrikaMaskBone4/re__image_66.jpg'\n",
              " probs: None\n",
              " save_dir: 'runs/detect/predict'\n",
              " speed: {'preprocess': 1.5637874603271484, 'inference': 58.54988098144531, 'postprocess': 1.9865036010742188},\n",
              " ultralytics.engine.results.Results object with attributes:\n",
              " \n",
              " boxes: ultralytics.engine.results.Boxes object\n",
              " keypoints: None\n",
              " masks: None\n",
              " names: {0: 'boneli', 1: 'bonesiz', 2: 'maskeli', 3: 'maskesiz', 4: 'onluklu', 5: 'onluksuz'}\n",
              " orig_img: array([[[255, 255, 255],\n",
              "         [255, 255, 255],\n",
              "         [255, 255, 255],\n",
              "         ...,\n",
              "         [255, 255, 255],\n",
              "         [255, 255, 255],\n",
              "         [255, 255, 255]],\n",
              " \n",
              "        [[255, 255, 255],\n",
              "         [255, 255, 255],\n",
              "         [255, 255, 255],\n",
              "         ...,\n",
              "         [255, 255, 255],\n",
              "         [255, 255, 255],\n",
              "         [255, 255, 255]],\n",
              " \n",
              "        [[255, 255, 255],\n",
              "         [255, 255, 255],\n",
              "         [255, 255, 255],\n",
              "         ...,\n",
              "         [255, 255, 255],\n",
              "         [255, 255, 255],\n",
              "         [255, 255, 255]],\n",
              " \n",
              "        ...,\n",
              " \n",
              "        [[255, 255, 255],\n",
              "         [255, 255, 255],\n",
              "         [255, 255, 255],\n",
              "         ...,\n",
              "         [255, 255, 255],\n",
              "         [255, 255, 255],\n",
              "         [255, 255, 255]],\n",
              " \n",
              "        [[255, 255, 255],\n",
              "         [255, 255, 255],\n",
              "         [255, 255, 255],\n",
              "         ...,\n",
              "         [255, 255, 255],\n",
              "         [255, 255, 255],\n",
              "         [255, 255, 255]],\n",
              " \n",
              "        [[255, 255, 255],\n",
              "         [255, 255, 255],\n",
              "         [255, 255, 255],\n",
              "         ...,\n",
              "         [255, 255, 255],\n",
              "         [255, 255, 255],\n",
              "         [255, 255, 255]]], dtype=uint8)\n",
              " orig_shape: (320, 183)\n",
              " path: '/content/drive/MyDrive/IMEP/Adding/FabrikaMaskBone4/re__image_67.jpg'\n",
              " probs: None\n",
              " save_dir: 'runs/detect/predict'\n",
              " speed: {'preprocess': 3.2029151916503906, 'inference': 59.61942672729492, 'postprocess': 1.3065338134765625},\n",
              " ultralytics.engine.results.Results object with attributes:\n",
              " \n",
              " boxes: ultralytics.engine.results.Boxes object\n",
              " keypoints: None\n",
              " masks: None\n",
              " names: {0: 'boneli', 1: 'bonesiz', 2: 'maskeli', 3: 'maskesiz', 4: 'onluklu', 5: 'onluksuz'}\n",
              " orig_img: array([[[254, 254, 254],\n",
              "         [254, 254, 254],\n",
              "         [254, 254, 254],\n",
              "         ...,\n",
              "         [254, 254, 254],\n",
              "         [254, 254, 254],\n",
              "         [254, 254, 254]],\n",
              " \n",
              "        [[254, 254, 254],\n",
              "         [254, 254, 254],\n",
              "         [254, 254, 254],\n",
              "         ...,\n",
              "         [254, 254, 254],\n",
              "         [254, 254, 254],\n",
              "         [254, 254, 254]],\n",
              " \n",
              "        [[254, 254, 254],\n",
              "         [254, 254, 254],\n",
              "         [254, 254, 254],\n",
              "         ...,\n",
              "         [254, 254, 254],\n",
              "         [254, 254, 254],\n",
              "         [254, 254, 254]],\n",
              " \n",
              "        ...,\n",
              " \n",
              "        [[255, 254, 254],\n",
              "         [253, 251, 251],\n",
              "         [250, 248, 248],\n",
              "         ...,\n",
              "         [249, 249, 249],\n",
              "         [251, 251, 251],\n",
              "         [253, 253, 253]],\n",
              " \n",
              "        [[255, 255, 255],\n",
              "         [255, 253, 253],\n",
              "         [253, 251, 251],\n",
              "         ...,\n",
              "         [252, 252, 252],\n",
              "         [254, 254, 254],\n",
              "         [254, 254, 254]],\n",
              " \n",
              "        [[255, 255, 255],\n",
              "         [255, 254, 254],\n",
              "         [255, 253, 253],\n",
              "         ...,\n",
              "         [255, 255, 255],\n",
              "         [255, 255, 255],\n",
              "         [254, 254, 254]]], dtype=uint8)\n",
              " orig_shape: (320, 241)\n",
              " path: '/content/drive/MyDrive/IMEP/Adding/FabrikaMaskBone4/re__image_68.jpg'\n",
              " probs: None\n",
              " save_dir: 'runs/detect/predict'\n",
              " speed: {'preprocess': 3.958463668823242, 'inference': 11.86680793762207, 'postprocess': 2.026081085205078},\n",
              " ultralytics.engine.results.Results object with attributes:\n",
              " \n",
              " boxes: ultralytics.engine.results.Boxes object\n",
              " keypoints: None\n",
              " masks: None\n",
              " names: {0: 'boneli', 1: 'bonesiz', 2: 'maskeli', 3: 'maskesiz', 4: 'onluklu', 5: 'onluksuz'}\n",
              " orig_img: array([[[255, 255, 255],\n",
              "         [255, 255, 255],\n",
              "         [255, 255, 255],\n",
              "         ...,\n",
              "         [255, 255, 255],\n",
              "         [255, 255, 255],\n",
              "         [255, 255, 255]],\n",
              " \n",
              "        [[255, 255, 255],\n",
              "         [255, 255, 255],\n",
              "         [255, 255, 255],\n",
              "         ...,\n",
              "         [255, 255, 255],\n",
              "         [255, 255, 255],\n",
              "         [255, 255, 255]],\n",
              " \n",
              "        [[255, 255, 255],\n",
              "         [255, 255, 255],\n",
              "         [255, 255, 255],\n",
              "         ...,\n",
              "         [255, 255, 255],\n",
              "         [255, 255, 255],\n",
              "         [255, 255, 255]],\n",
              " \n",
              "        ...,\n",
              " \n",
              "        [[255, 255, 255],\n",
              "         [255, 255, 255],\n",
              "         [255, 255, 255],\n",
              "         ...,\n",
              "         [255, 255, 255],\n",
              "         [255, 255, 255],\n",
              "         [255, 255, 255]],\n",
              " \n",
              "        [[255, 255, 255],\n",
              "         [255, 255, 255],\n",
              "         [255, 255, 255],\n",
              "         ...,\n",
              "         [255, 255, 255],\n",
              "         [255, 255, 255],\n",
              "         [255, 255, 255]],\n",
              " \n",
              "        [[255, 255, 255],\n",
              "         [255, 255, 255],\n",
              "         [255, 255, 255],\n",
              "         ...,\n",
              "         [255, 255, 255],\n",
              "         [255, 255, 255],\n",
              "         [255, 255, 255]]], dtype=uint8)\n",
              " orig_shape: (320, 213)\n",
              " path: '/content/drive/MyDrive/IMEP/Adding/FabrikaMaskBone4/re__image_69.jpg'\n",
              " probs: None\n",
              " save_dir: 'runs/detect/predict'\n",
              " speed: {'preprocess': 2.608776092529297, 'inference': 11.51895523071289, 'postprocess': 1.983642578125},\n",
              " ultralytics.engine.results.Results object with attributes:\n",
              " \n",
              " boxes: ultralytics.engine.results.Boxes object\n",
              " keypoints: None\n",
              " masks: None\n",
              " names: {0: 'boneli', 1: 'bonesiz', 2: 'maskeli', 3: 'maskesiz', 4: 'onluklu', 5: 'onluksuz'}\n",
              " orig_img: array([[[218, 210, 211],\n",
              "         [115, 108, 111],\n",
              "         [ 51,  47,  52],\n",
              "         ...,\n",
              "         [  6,  39,  25],\n",
              "         [  0,  26,  12],\n",
              "         [  0,  31,  17]],\n",
              " \n",
              "        [[239, 228, 230],\n",
              "         [140, 133, 136],\n",
              "         [ 66,  60,  65],\n",
              "         ...,\n",
              "         [  0,  32,  18],\n",
              "         [  1,  36,  22],\n",
              "         [ 23,  58,  44]],\n",
              " \n",
              "        [[234, 221, 223],\n",
              "         [146, 137, 140],\n",
              "         [ 76,  69,  74],\n",
              "         ...,\n",
              "         [  0,  30,  16],\n",
              "         [  8,  43,  29],\n",
              "         [ 15,  51,  37]],\n",
              " \n",
              "        ...,\n",
              " \n",
              "        [[109, 118, 121],\n",
              "         [154, 163, 166],\n",
              "         [170, 179, 182],\n",
              "         ...,\n",
              "         [148, 147, 151],\n",
              "         [148, 147, 151],\n",
              "         [119, 118, 122]],\n",
              " \n",
              "        [[159, 166, 169],\n",
              "         [148, 155, 158],\n",
              "         [158, 165, 168],\n",
              "         ...,\n",
              "         [160, 159, 163],\n",
              "         [131, 130, 134],\n",
              "         [140, 139, 143]],\n",
              " \n",
              "        [[146, 153, 156],\n",
              "         [154, 161, 164],\n",
              "         [142, 149, 152],\n",
              "         ...,\n",
              "         [160, 159, 163],\n",
              "         [145, 144, 148],\n",
              "         [144, 143, 147]]], dtype=uint8)\n",
              " orig_shape: (320, 480)\n",
              " path: '/content/drive/MyDrive/IMEP/Adding/FabrikaMaskBone4/re__image_7.jpg'\n",
              " probs: None\n",
              " save_dir: 'runs/detect/predict'\n",
              " speed: {'preprocess': 2.490520477294922, 'inference': 11.566162109375, 'postprocess': 2.042531967163086},\n",
              " ultralytics.engine.results.Results object with attributes:\n",
              " \n",
              " boxes: ultralytics.engine.results.Boxes object\n",
              " keypoints: None\n",
              " masks: None\n",
              " names: {0: 'boneli', 1: 'bonesiz', 2: 'maskeli', 3: 'maskesiz', 4: 'onluklu', 5: 'onluksuz'}\n",
              " orig_img: array([[[254, 254, 254],\n",
              "         [254, 254, 254],\n",
              "         [254, 254, 254],\n",
              "         ...,\n",
              "         [254, 254, 254],\n",
              "         [254, 254, 254],\n",
              "         [254, 254, 254]],\n",
              " \n",
              "        [[254, 254, 254],\n",
              "         [254, 254, 254],\n",
              "         [254, 254, 254],\n",
              "         ...,\n",
              "         [254, 254, 254],\n",
              "         [254, 254, 254],\n",
              "         [254, 254, 254]],\n",
              " \n",
              "        [[254, 254, 254],\n",
              "         [254, 254, 254],\n",
              "         [254, 254, 254],\n",
              "         ...,\n",
              "         [254, 254, 254],\n",
              "         [254, 254, 254],\n",
              "         [254, 254, 254]],\n",
              " \n",
              "        ...,\n",
              " \n",
              "        [[254, 254, 254],\n",
              "         [254, 254, 254],\n",
              "         [254, 254, 254],\n",
              "         ...,\n",
              "         [254, 254, 254],\n",
              "         [254, 254, 254],\n",
              "         [254, 254, 254]],\n",
              " \n",
              "        [[254, 254, 254],\n",
              "         [254, 254, 254],\n",
              "         [254, 254, 254],\n",
              "         ...,\n",
              "         [254, 254, 254],\n",
              "         [254, 254, 254],\n",
              "         [254, 254, 254]],\n",
              " \n",
              "        [[254, 254, 254],\n",
              "         [254, 254, 254],\n",
              "         [254, 254, 254],\n",
              "         ...,\n",
              "         [254, 254, 254],\n",
              "         [254, 254, 254],\n",
              "         [254, 254, 254]]], dtype=uint8)\n",
              " orig_shape: (320, 240)\n",
              " path: '/content/drive/MyDrive/IMEP/Adding/FabrikaMaskBone4/re__image_70.jpg'\n",
              " probs: None\n",
              " save_dir: 'runs/detect/predict'\n",
              " speed: {'preprocess': 2.4788379669189453, 'inference': 12.209415435791016, 'postprocess': 2.0186901092529297},\n",
              " ultralytics.engine.results.Results object with attributes:\n",
              " \n",
              " boxes: ultralytics.engine.results.Boxes object\n",
              " keypoints: None\n",
              " masks: None\n",
              " names: {0: 'boneli', 1: 'bonesiz', 2: 'maskeli', 3: 'maskesiz', 4: 'onluklu', 5: 'onluksuz'}\n",
              " orig_img: array([[[254, 254, 254],\n",
              "         [254, 254, 254],\n",
              "         [254, 254, 254],\n",
              "         ...,\n",
              "         [254, 254, 254],\n",
              "         [254, 254, 254],\n",
              "         [254, 254, 254]],\n",
              " \n",
              "        [[254, 254, 254],\n",
              "         [254, 254, 254],\n",
              "         [254, 254, 254],\n",
              "         ...,\n",
              "         [254, 254, 254],\n",
              "         [254, 254, 254],\n",
              "         [254, 254, 254]],\n",
              " \n",
              "        [[254, 254, 254],\n",
              "         [254, 254, 254],\n",
              "         [254, 254, 254],\n",
              "         ...,\n",
              "         [254, 254, 254],\n",
              "         [254, 254, 254],\n",
              "         [254, 254, 254]],\n",
              " \n",
              "        ...,\n",
              " \n",
              "        [[252, 254, 255],\n",
              "         [250, 252, 253],\n",
              "         [250, 252, 253],\n",
              "         ...,\n",
              "         [255, 255, 254],\n",
              "         [254, 254, 254],\n",
              "         [246, 246, 246]],\n",
              " \n",
              "        [[253, 254, 255],\n",
              "         [250, 251, 255],\n",
              "         [250, 252, 253],\n",
              "         ...,\n",
              "         [255, 255, 254],\n",
              "         [255, 255, 255],\n",
              "         [255, 255, 255]],\n",
              " \n",
              "        [[253, 254, 255],\n",
              "         [251, 252, 255],\n",
              "         [251, 253, 254],\n",
              "         ...,\n",
              "         [255, 255, 254],\n",
              "         [252, 252, 252],\n",
              "         [255, 255, 255]]], dtype=uint8)\n",
              " orig_shape: (320, 120)\n",
              " path: '/content/drive/MyDrive/IMEP/Adding/FabrikaMaskBone4/re__image_71.jpg'\n",
              " probs: None\n",
              " save_dir: 'runs/detect/predict'\n",
              " speed: {'preprocess': 1.6582012176513672, 'inference': 12.286901473999023, 'postprocess': 2.0987987518310547},\n",
              " ultralytics.engine.results.Results object with attributes:\n",
              " \n",
              " boxes: ultralytics.engine.results.Boxes object\n",
              " keypoints: None\n",
              " masks: None\n",
              " names: {0: 'boneli', 1: 'bonesiz', 2: 'maskeli', 3: 'maskesiz', 4: 'onluklu', 5: 'onluksuz'}\n",
              " orig_img: array([[[255, 255, 255],\n",
              "         [255, 255, 255],\n",
              "         [255, 255, 255],\n",
              "         ...,\n",
              "         [255, 255, 255],\n",
              "         [255, 255, 255],\n",
              "         [255, 255, 255]],\n",
              " \n",
              "        [[255, 255, 255],\n",
              "         [255, 255, 255],\n",
              "         [255, 255, 255],\n",
              "         ...,\n",
              "         [255, 255, 255],\n",
              "         [255, 255, 255],\n",
              "         [255, 255, 255]],\n",
              " \n",
              "        [[255, 255, 255],\n",
              "         [255, 255, 255],\n",
              "         [255, 255, 255],\n",
              "         ...,\n",
              "         [255, 255, 255],\n",
              "         [255, 255, 255],\n",
              "         [255, 255, 255]],\n",
              " \n",
              "        ...,\n",
              " \n",
              "        [[255, 255, 255],\n",
              "         [255, 255, 255],\n",
              "         [255, 255, 255],\n",
              "         ...,\n",
              "         [255, 255, 255],\n",
              "         [255, 255, 255],\n",
              "         [255, 255, 255]],\n",
              " \n",
              "        [[255, 255, 255],\n",
              "         [255, 255, 255],\n",
              "         [255, 255, 255],\n",
              "         ...,\n",
              "         [255, 255, 255],\n",
              "         [255, 255, 255],\n",
              "         [255, 255, 255]],\n",
              " \n",
              "        [[255, 255, 255],\n",
              "         [255, 255, 255],\n",
              "         [255, 255, 255],\n",
              "         ...,\n",
              "         [255, 255, 255],\n",
              "         [255, 255, 255],\n",
              "         [255, 255, 255]]], dtype=uint8)\n",
              " orig_shape: (320, 320)\n",
              " path: '/content/drive/MyDrive/IMEP/Adding/FabrikaMaskBone4/re__image_72.jpg'\n",
              " probs: None\n",
              " save_dir: 'runs/detect/predict'\n",
              " speed: {'preprocess': 3.6208629608154297, 'inference': 15.092611312866211, 'postprocess': 4.713773727416992},\n",
              " ultralytics.engine.results.Results object with attributes:\n",
              " \n",
              " boxes: ultralytics.engine.results.Boxes object\n",
              " keypoints: None\n",
              " masks: None\n",
              " names: {0: 'boneli', 1: 'bonesiz', 2: 'maskeli', 3: 'maskesiz', 4: 'onluklu', 5: 'onluksuz'}\n",
              " orig_img: array([[[254, 254, 254],\n",
              "         [254, 254, 254],\n",
              "         [254, 254, 254],\n",
              "         ...,\n",
              "         [254, 254, 254],\n",
              "         [254, 254, 254],\n",
              "         [254, 254, 254]],\n",
              " \n",
              "        [[254, 254, 254],\n",
              "         [254, 254, 254],\n",
              "         [254, 254, 254],\n",
              "         ...,\n",
              "         [254, 254, 254],\n",
              "         [254, 254, 254],\n",
              "         [254, 254, 254]],\n",
              " \n",
              "        [[254, 254, 254],\n",
              "         [254, 254, 254],\n",
              "         [254, 254, 254],\n",
              "         ...,\n",
              "         [254, 254, 254],\n",
              "         [254, 254, 254],\n",
              "         [254, 254, 254]],\n",
              " \n",
              "        ...,\n",
              " \n",
              "        [[254, 254, 254],\n",
              "         [254, 254, 254],\n",
              "         [254, 254, 254],\n",
              "         ...,\n",
              "         [254, 254, 254],\n",
              "         [254, 254, 254],\n",
              "         [254, 254, 254]],\n",
              " \n",
              "        [[254, 254, 254],\n",
              "         [254, 254, 254],\n",
              "         [254, 254, 254],\n",
              "         ...,\n",
              "         [254, 254, 254],\n",
              "         [254, 254, 254],\n",
              "         [254, 254, 254]],\n",
              " \n",
              "        [[254, 254, 254],\n",
              "         [254, 254, 254],\n",
              "         [254, 254, 254],\n",
              "         ...,\n",
              "         [254, 254, 254],\n",
              "         [254, 254, 254],\n",
              "         [254, 254, 254]]], dtype=uint8)\n",
              " orig_shape: (320, 212)\n",
              " path: '/content/drive/MyDrive/IMEP/Adding/FabrikaMaskBone4/re__image_73.jpg'\n",
              " probs: None\n",
              " save_dir: 'runs/detect/predict'\n",
              " speed: {'preprocess': 2.9006004333496094, 'inference': 14.07766342163086, 'postprocess': 1.4667510986328125},\n",
              " ultralytics.engine.results.Results object with attributes:\n",
              " \n",
              " boxes: ultralytics.engine.results.Boxes object\n",
              " keypoints: None\n",
              " masks: None\n",
              " names: {0: 'boneli', 1: 'bonesiz', 2: 'maskeli', 3: 'maskesiz', 4: 'onluklu', 5: 'onluksuz'}\n",
              " orig_img: array([[[254, 254, 254],\n",
              "         [254, 254, 254],\n",
              "         [254, 254, 254],\n",
              "         ...,\n",
              "         [254, 254, 254],\n",
              "         [254, 254, 254],\n",
              "         [254, 254, 254]],\n",
              " \n",
              "        [[254, 254, 254],\n",
              "         [254, 254, 254],\n",
              "         [254, 254, 254],\n",
              "         ...,\n",
              "         [254, 254, 254],\n",
              "         [254, 254, 254],\n",
              "         [254, 254, 254]],\n",
              " \n",
              "        [[254, 254, 254],\n",
              "         [254, 254, 254],\n",
              "         [254, 254, 254],\n",
              "         ...,\n",
              "         [254, 254, 254],\n",
              "         [254, 254, 254],\n",
              "         [254, 254, 254]],\n",
              " \n",
              "        ...,\n",
              " \n",
              "        [[254, 254, 254],\n",
              "         [254, 254, 254],\n",
              "         [254, 254, 254],\n",
              "         ...,\n",
              "         [254, 254, 254],\n",
              "         [254, 254, 254],\n",
              "         [254, 254, 254]],\n",
              " \n",
              "        [[254, 254, 254],\n",
              "         [254, 254, 254],\n",
              "         [254, 254, 254],\n",
              "         ...,\n",
              "         [254, 254, 254],\n",
              "         [254, 254, 254],\n",
              "         [254, 254, 254]],\n",
              " \n",
              "        [[254, 254, 254],\n",
              "         [254, 254, 254],\n",
              "         [254, 254, 254],\n",
              "         ...,\n",
              "         [254, 254, 254],\n",
              "         [254, 254, 254],\n",
              "         [254, 254, 254]]], dtype=uint8)\n",
              " orig_shape: (320, 320)\n",
              " path: '/content/drive/MyDrive/IMEP/Adding/FabrikaMaskBone4/re__image_74.jpg'\n",
              " probs: None\n",
              " save_dir: 'runs/detect/predict'\n",
              " speed: {'preprocess': 3.169536590576172, 'inference': 16.726970672607422, 'postprocess': 2.5658607482910156},\n",
              " ultralytics.engine.results.Results object with attributes:\n",
              " \n",
              " boxes: ultralytics.engine.results.Boxes object\n",
              " keypoints: None\n",
              " masks: None\n",
              " names: {0: 'boneli', 1: 'bonesiz', 2: 'maskeli', 3: 'maskesiz', 4: 'onluklu', 5: 'onluksuz'}\n",
              " orig_img: array([[[255, 255, 255],\n",
              "         [255, 255, 255],\n",
              "         [255, 255, 255],\n",
              "         ...,\n",
              "         [255, 255, 255],\n",
              "         [255, 255, 255],\n",
              "         [255, 255, 255]],\n",
              " \n",
              "        [[255, 255, 255],\n",
              "         [255, 255, 255],\n",
              "         [255, 255, 255],\n",
              "         ...,\n",
              "         [255, 255, 255],\n",
              "         [255, 255, 255],\n",
              "         [255, 255, 255]],\n",
              " \n",
              "        [[255, 255, 255],\n",
              "         [255, 255, 255],\n",
              "         [255, 255, 255],\n",
              "         ...,\n",
              "         [255, 255, 255],\n",
              "         [255, 255, 255],\n",
              "         [255, 255, 255]],\n",
              " \n",
              "        ...,\n",
              " \n",
              "        [[255, 255, 255],\n",
              "         [255, 255, 255],\n",
              "         [255, 255, 255],\n",
              "         ...,\n",
              "         [255, 255, 255],\n",
              "         [255, 255, 255],\n",
              "         [254, 254, 254]],\n",
              " \n",
              "        [[255, 255, 255],\n",
              "         [255, 255, 255],\n",
              "         [255, 255, 255],\n",
              "         ...,\n",
              "         [255, 255, 255],\n",
              "         [255, 255, 255],\n",
              "         [254, 254, 254]],\n",
              " \n",
              "        [[255, 255, 255],\n",
              "         [255, 255, 255],\n",
              "         [255, 255, 255],\n",
              "         ...,\n",
              "         [255, 255, 255],\n",
              "         [255, 255, 255],\n",
              "         [254, 254, 254]]], dtype=uint8)\n",
              " orig_shape: (320, 240)\n",
              " path: '/content/drive/MyDrive/IMEP/Adding/FabrikaMaskBone4/re__image_75.jpg'\n",
              " probs: None\n",
              " save_dir: 'runs/detect/predict'\n",
              " speed: {'preprocess': 2.5246143341064453, 'inference': 16.455411911010742, 'postprocess': 2.3534297943115234},\n",
              " ultralytics.engine.results.Results object with attributes:\n",
              " \n",
              " boxes: ultralytics.engine.results.Boxes object\n",
              " keypoints: None\n",
              " masks: None\n",
              " names: {0: 'boneli', 1: 'bonesiz', 2: 'maskeli', 3: 'maskesiz', 4: 'onluklu', 5: 'onluksuz'}\n",
              " orig_img: array([[[255, 255, 255],\n",
              "         [255, 255, 255],\n",
              "         [255, 255, 255],\n",
              "         ...,\n",
              "         [255, 255, 255],\n",
              "         [255, 255, 255],\n",
              "         [255, 255, 255]],\n",
              " \n",
              "        [[255, 255, 255],\n",
              "         [255, 255, 255],\n",
              "         [255, 255, 255],\n",
              "         ...,\n",
              "         [255, 255, 255],\n",
              "         [255, 255, 255],\n",
              "         [255, 255, 255]],\n",
              " \n",
              "        [[255, 255, 255],\n",
              "         [255, 255, 255],\n",
              "         [255, 255, 255],\n",
              "         ...,\n",
              "         [255, 255, 255],\n",
              "         [255, 255, 255],\n",
              "         [255, 255, 255]],\n",
              " \n",
              "        ...,\n",
              " \n",
              "        [[255, 255, 255],\n",
              "         [255, 255, 255],\n",
              "         [255, 255, 255],\n",
              "         ...,\n",
              "         [255, 255, 255],\n",
              "         [255, 255, 255],\n",
              "         [255, 255, 255]],\n",
              " \n",
              "        [[255, 255, 255],\n",
              "         [255, 255, 255],\n",
              "         [255, 255, 255],\n",
              "         ...,\n",
              "         [255, 255, 255],\n",
              "         [255, 255, 255],\n",
              "         [255, 255, 255]],\n",
              " \n",
              "        [[255, 255, 255],\n",
              "         [255, 255, 255],\n",
              "         [255, 255, 255],\n",
              "         ...,\n",
              "         [255, 255, 255],\n",
              "         [255, 255, 255],\n",
              "         [255, 255, 255]]], dtype=uint8)\n",
              " orig_shape: (320, 320)\n",
              " path: '/content/drive/MyDrive/IMEP/Adding/FabrikaMaskBone4/re__image_76.jpg'\n",
              " probs: None\n",
              " save_dir: 'runs/detect/predict'\n",
              " speed: {'preprocess': 3.439664840698242, 'inference': 14.219045639038086, 'postprocess': 1.4870166778564453},\n",
              " ultralytics.engine.results.Results object with attributes:\n",
              " \n",
              " boxes: ultralytics.engine.results.Boxes object\n",
              " keypoints: None\n",
              " masks: None\n",
              " names: {0: 'boneli', 1: 'bonesiz', 2: 'maskeli', 3: 'maskesiz', 4: 'onluklu', 5: 'onluksuz'}\n",
              " orig_img: array([[[254, 254, 254],\n",
              "         [254, 254, 254],\n",
              "         [254, 254, 254],\n",
              "         ...,\n",
              "         [254, 254, 254],\n",
              "         [254, 254, 254],\n",
              "         [254, 254, 254]],\n",
              " \n",
              "        [[254, 254, 254],\n",
              "         [254, 254, 254],\n",
              "         [254, 254, 254],\n",
              "         ...,\n",
              "         [254, 254, 254],\n",
              "         [254, 254, 254],\n",
              "         [254, 254, 254]],\n",
              " \n",
              "        [[254, 254, 254],\n",
              "         [254, 254, 254],\n",
              "         [254, 254, 254],\n",
              "         ...,\n",
              "         [254, 254, 254],\n",
              "         [254, 254, 254],\n",
              "         [254, 254, 254]],\n",
              " \n",
              "        ...,\n",
              " \n",
              "        [[254, 254, 254],\n",
              "         [254, 254, 254],\n",
              "         [254, 254, 254],\n",
              "         ...,\n",
              "         [254, 254, 254],\n",
              "         [254, 254, 254],\n",
              "         [254, 254, 254]],\n",
              " \n",
              "        [[254, 254, 254],\n",
              "         [254, 254, 254],\n",
              "         [254, 254, 254],\n",
              "         ...,\n",
              "         [254, 254, 254],\n",
              "         [254, 254, 254],\n",
              "         [254, 254, 254]],\n",
              " \n",
              "        [[254, 254, 254],\n",
              "         [254, 254, 254],\n",
              "         [254, 254, 254],\n",
              "         ...,\n",
              "         [254, 254, 254],\n",
              "         [254, 254, 254],\n",
              "         [254, 254, 254]]], dtype=uint8)\n",
              " orig_shape: (320, 320)\n",
              " path: '/content/drive/MyDrive/IMEP/Adding/FabrikaMaskBone4/re__image_77.jpg'\n",
              " probs: None\n",
              " save_dir: 'runs/detect/predict'\n",
              " speed: {'preprocess': 3.4203529357910156, 'inference': 20.105838775634766, 'postprocess': 2.714872360229492},\n",
              " ultralytics.engine.results.Results object with attributes:\n",
              " \n",
              " boxes: ultralytics.engine.results.Boxes object\n",
              " keypoints: None\n",
              " masks: None\n",
              " names: {0: 'boneli', 1: 'bonesiz', 2: 'maskeli', 3: 'maskesiz', 4: 'onluklu', 5: 'onluksuz'}\n",
              " orig_img: array([[[255, 255, 255],\n",
              "         [255, 255, 255],\n",
              "         [255, 255, 255],\n",
              "         ...,\n",
              "         [255, 255, 255],\n",
              "         [255, 255, 255],\n",
              "         [255, 255, 255]],\n",
              " \n",
              "        [[255, 255, 255],\n",
              "         [255, 255, 255],\n",
              "         [255, 255, 255],\n",
              "         ...,\n",
              "         [255, 255, 255],\n",
              "         [255, 255, 255],\n",
              "         [255, 255, 255]],\n",
              " \n",
              "        [[255, 255, 255],\n",
              "         [255, 255, 255],\n",
              "         [255, 255, 255],\n",
              "         ...,\n",
              "         [255, 255, 255],\n",
              "         [255, 255, 255],\n",
              "         [255, 255, 255]],\n",
              " \n",
              "        ...,\n",
              " \n",
              "        [[255, 255, 255],\n",
              "         [255, 255, 255],\n",
              "         [255, 255, 255],\n",
              "         ...,\n",
              "         [255, 255, 255],\n",
              "         [255, 255, 255],\n",
              "         [255, 255, 255]],\n",
              " \n",
              "        [[255, 255, 255],\n",
              "         [255, 255, 255],\n",
              "         [255, 255, 255],\n",
              "         ...,\n",
              "         [255, 255, 255],\n",
              "         [255, 255, 255],\n",
              "         [255, 255, 255]],\n",
              " \n",
              "        [[255, 255, 255],\n",
              "         [255, 255, 255],\n",
              "         [255, 255, 255],\n",
              "         ...,\n",
              "         [255, 255, 255],\n",
              "         [255, 255, 255],\n",
              "         [255, 255, 255]]], dtype=uint8)\n",
              " orig_shape: (320, 246)\n",
              " path: '/content/drive/MyDrive/IMEP/Adding/FabrikaMaskBone4/re__image_78.jpg'\n",
              " probs: None\n",
              " save_dir: 'runs/detect/predict'\n",
              " speed: {'preprocess': 3.009319305419922, 'inference': 13.35287094116211, 'postprocess': 2.569913864135742},\n",
              " ultralytics.engine.results.Results object with attributes:\n",
              " \n",
              " boxes: ultralytics.engine.results.Boxes object\n",
              " keypoints: None\n",
              " masks: None\n",
              " names: {0: 'boneli', 1: 'bonesiz', 2: 'maskeli', 3: 'maskesiz', 4: 'onluklu', 5: 'onluksuz'}\n",
              " orig_img: array([[[252, 252, 252],\n",
              "         [252, 252, 252],\n",
              "         [252, 252, 252],\n",
              "         ...,\n",
              "         [251, 252, 250],\n",
              "         [251, 252, 250],\n",
              "         [251, 252, 250]],\n",
              " \n",
              "        [[252, 252, 252],\n",
              "         [252, 252, 252],\n",
              "         [252, 252, 252],\n",
              "         ...,\n",
              "         [254, 255, 253],\n",
              "         [254, 255, 253],\n",
              "         [254, 255, 253]],\n",
              " \n",
              "        [[251, 251, 251],\n",
              "         [251, 251, 251],\n",
              "         [251, 251, 251],\n",
              "         ...,\n",
              "         [255, 255, 254],\n",
              "         [255, 255, 254],\n",
              "         [255, 255, 254]],\n",
              " \n",
              "        ...,\n",
              " \n",
              "        [[254, 254, 254],\n",
              "         [254, 254, 254],\n",
              "         [254, 254, 254],\n",
              "         ...,\n",
              "         [254, 254, 254],\n",
              "         [254, 254, 254],\n",
              "         [254, 254, 254]],\n",
              " \n",
              "        [[254, 254, 254],\n",
              "         [254, 254, 254],\n",
              "         [254, 254, 254],\n",
              "         ...,\n",
              "         [254, 254, 254],\n",
              "         [254, 254, 254],\n",
              "         [254, 254, 254]],\n",
              " \n",
              "        [[254, 254, 254],\n",
              "         [254, 254, 254],\n",
              "         [254, 254, 254],\n",
              "         ...,\n",
              "         [254, 254, 254],\n",
              "         [254, 254, 254],\n",
              "         [254, 254, 254]]], dtype=uint8)\n",
              " orig_shape: (320, 320)\n",
              " path: '/content/drive/MyDrive/IMEP/Adding/FabrikaMaskBone4/re__image_79.jpg'\n",
              " probs: None\n",
              " save_dir: 'runs/detect/predict'\n",
              " speed: {'preprocess': 3.136873245239258, 'inference': 16.97683334350586, 'postprocess': 2.797365188598633},\n",
              " ultralytics.engine.results.Results object with attributes:\n",
              " \n",
              " boxes: ultralytics.engine.results.Boxes object\n",
              " keypoints: None\n",
              " masks: None\n",
              " names: {0: 'boneli', 1: 'bonesiz', 2: 'maskeli', 3: 'maskesiz', 4: 'onluklu', 5: 'onluksuz'}\n",
              " orig_img: array([[[  0,  25,  57],\n",
              "         [  0,  19,  44],\n",
              "         [  0,  66,  80],\n",
              "         ...,\n",
              "         [134, 137, 135],\n",
              "         [156, 157, 155],\n",
              "         [161, 162, 160]],\n",
              " \n",
              "        [[ 75, 135, 157],\n",
              "         [105, 174, 191],\n",
              "         [117, 200, 208],\n",
              "         ...,\n",
              "         [178, 181, 179],\n",
              "         [204, 205, 203],\n",
              "         [217, 218, 216]],\n",
              " \n",
              "        [[ 97, 196, 200],\n",
              "         [106, 206, 208],\n",
              "         [113, 216, 211],\n",
              "         ...,\n",
              "         [188, 191, 189],\n",
              "         [201, 202, 200],\n",
              "         [206, 207, 205]],\n",
              " \n",
              "        ...,\n",
              " \n",
              "        [[154, 158, 159],\n",
              "         [159, 163, 164],\n",
              "         [169, 173, 174],\n",
              "         ...,\n",
              "         [183, 180, 182],\n",
              "         [183, 180, 182],\n",
              "         [182, 179, 181]],\n",
              " \n",
              "        [[170, 174, 175],\n",
              "         [174, 178, 179],\n",
              "         [180, 184, 185],\n",
              "         ...,\n",
              "         [180, 177, 179],\n",
              "         [180, 177, 179],\n",
              "         [180, 177, 179]],\n",
              " \n",
              "        [[183, 187, 188],\n",
              "         [178, 182, 183],\n",
              "         [176, 180, 181],\n",
              "         ...,\n",
              "         [176, 173, 175],\n",
              "         [176, 173, 175],\n",
              "         [176, 173, 175]]], dtype=uint8)\n",
              " orig_shape: (320, 480)\n",
              " path: '/content/drive/MyDrive/IMEP/Adding/FabrikaMaskBone4/re__image_8.jpg'\n",
              " probs: None\n",
              " save_dir: 'runs/detect/predict'\n",
              " speed: {'preprocess': 3.017425537109375, 'inference': 17.143964767456055, 'postprocess': 2.5081634521484375},\n",
              " ultralytics.engine.results.Results object with attributes:\n",
              " \n",
              " boxes: ultralytics.engine.results.Boxes object\n",
              " keypoints: None\n",
              " masks: None\n",
              " names: {0: 'boneli', 1: 'bonesiz', 2: 'maskeli', 3: 'maskesiz', 4: 'onluklu', 5: 'onluksuz'}\n",
              " orig_img: array([[[255, 255, 255],\n",
              "         [255, 255, 255],\n",
              "         [255, 255, 255],\n",
              "         ...,\n",
              "         [255, 255, 255],\n",
              "         [255, 255, 255],\n",
              "         [255, 255, 255]],\n",
              " \n",
              "        [[255, 255, 255],\n",
              "         [255, 255, 255],\n",
              "         [255, 255, 255],\n",
              "         ...,\n",
              "         [255, 255, 255],\n",
              "         [255, 255, 255],\n",
              "         [255, 255, 255]],\n",
              " \n",
              "        [[255, 255, 255],\n",
              "         [255, 255, 255],\n",
              "         [255, 255, 255],\n",
              "         ...,\n",
              "         [255, 255, 255],\n",
              "         [255, 255, 255],\n",
              "         [255, 255, 255]],\n",
              " \n",
              "        ...,\n",
              " \n",
              "        [[255, 255, 255],\n",
              "         [255, 255, 255],\n",
              "         [255, 255, 255],\n",
              "         ...,\n",
              "         [255, 255, 255],\n",
              "         [255, 255, 255],\n",
              "         [255, 255, 255]],\n",
              " \n",
              "        [[255, 255, 255],\n",
              "         [255, 255, 255],\n",
              "         [255, 255, 255],\n",
              "         ...,\n",
              "         [255, 255, 255],\n",
              "         [255, 255, 255],\n",
              "         [255, 255, 255]],\n",
              " \n",
              "        [[255, 255, 255],\n",
              "         [255, 255, 255],\n",
              "         [255, 255, 255],\n",
              "         ...,\n",
              "         [255, 255, 255],\n",
              "         [255, 255, 255],\n",
              "         [255, 255, 255]]], dtype=uint8)\n",
              " orig_shape: (320, 320)\n",
              " path: '/content/drive/MyDrive/IMEP/Adding/FabrikaMaskBone4/re__image_80.jpg'\n",
              " probs: None\n",
              " save_dir: 'runs/detect/predict'\n",
              " speed: {'preprocess': 3.359079360961914, 'inference': 18.031835556030273, 'postprocess': 2.8862953186035156},\n",
              " ultralytics.engine.results.Results object with attributes:\n",
              " \n",
              " boxes: ultralytics.engine.results.Boxes object\n",
              " keypoints: None\n",
              " masks: None\n",
              " names: {0: 'boneli', 1: 'bonesiz', 2: 'maskeli', 3: 'maskesiz', 4: 'onluklu', 5: 'onluksuz'}\n",
              " orig_img: array([[[254, 254, 254],\n",
              "         [254, 254, 254],\n",
              "         [254, 254, 254],\n",
              "         ...,\n",
              "         [254, 254, 254],\n",
              "         [254, 254, 254],\n",
              "         [254, 254, 254]],\n",
              " \n",
              "        [[254, 254, 254],\n",
              "         [254, 254, 254],\n",
              "         [254, 254, 254],\n",
              "         ...,\n",
              "         [254, 254, 254],\n",
              "         [254, 254, 254],\n",
              "         [254, 254, 254]],\n",
              " \n",
              "        [[254, 254, 254],\n",
              "         [254, 254, 254],\n",
              "         [254, 254, 254],\n",
              "         ...,\n",
              "         [254, 254, 254],\n",
              "         [254, 254, 254],\n",
              "         [254, 254, 254]],\n",
              " \n",
              "        ...,\n",
              " \n",
              "        [[251, 254, 252],\n",
              "         [252, 255, 253],\n",
              "         [251, 254, 252],\n",
              "         ...,\n",
              "         [255, 255, 252],\n",
              "         [255, 255, 252],\n",
              "         [243, 244, 240]],\n",
              " \n",
              "        [[251, 254, 252],\n",
              "         [251, 254, 252],\n",
              "         [251, 254, 252],\n",
              "         ...,\n",
              "         [245, 246, 242],\n",
              "         [255, 255, 252],\n",
              "         [255, 255, 252]],\n",
              " \n",
              "        [[252, 255, 253],\n",
              "         [251, 254, 252],\n",
              "         [251, 254, 252],\n",
              "         ...,\n",
              "         [255, 255, 252],\n",
              "         [244, 245, 241],\n",
              "         [253, 254, 250]]], dtype=uint8)\n",
              " orig_shape: (320, 120)\n",
              " path: '/content/drive/MyDrive/IMEP/Adding/FabrikaMaskBone4/re__image_81.jpg'\n",
              " probs: None\n",
              " save_dir: 'runs/detect/predict'\n",
              " speed: {'preprocess': 1.8050670623779297, 'inference': 12.408971786499023, 'postprocess': 2.0897388458251953},\n",
              " ultralytics.engine.results.Results object with attributes:\n",
              " \n",
              " boxes: ultralytics.engine.results.Boxes object\n",
              " keypoints: None\n",
              " masks: None\n",
              " names: {0: 'boneli', 1: 'bonesiz', 2: 'maskeli', 3: 'maskesiz', 4: 'onluklu', 5: 'onluksuz'}\n",
              " orig_img: array([[[255, 255, 255],\n",
              "         [255, 255, 255],\n",
              "         [255, 255, 255],\n",
              "         ...,\n",
              "         [253, 255, 255],\n",
              "         [253, 255, 255],\n",
              "         [253, 255, 255]],\n",
              " \n",
              "        [[255, 255, 255],\n",
              "         [255, 255, 255],\n",
              "         [255, 255, 255],\n",
              "         ...,\n",
              "         [253, 255, 255],\n",
              "         [253, 255, 255],\n",
              "         [253, 255, 255]],\n",
              " \n",
              "        [[255, 255, 255],\n",
              "         [255, 255, 255],\n",
              "         [255, 255, 255],\n",
              "         ...,\n",
              "         [253, 255, 255],\n",
              "         [253, 255, 255],\n",
              "         [253, 255, 255]],\n",
              " \n",
              "        ...,\n",
              " \n",
              "        [[255, 255, 255],\n",
              "         [255, 255, 255],\n",
              "         [255, 255, 255],\n",
              "         ...,\n",
              "         [255, 255, 255],\n",
              "         [255, 255, 255],\n",
              "         [255, 255, 255]],\n",
              " \n",
              "        [[255, 255, 255],\n",
              "         [255, 255, 255],\n",
              "         [255, 255, 255],\n",
              "         ...,\n",
              "         [255, 255, 255],\n",
              "         [255, 255, 255],\n",
              "         [255, 255, 255]],\n",
              " \n",
              "        [[255, 255, 255],\n",
              "         [255, 255, 255],\n",
              "         [255, 255, 255],\n",
              "         ...,\n",
              "         [255, 255, 255],\n",
              "         [255, 255, 255],\n",
              "         [255, 255, 255]]], dtype=uint8)\n",
              " orig_shape: (70, 70)\n",
              " path: '/content/drive/MyDrive/IMEP/Adding/FabrikaMaskBone4/re__image_82.jpg'\n",
              " probs: None\n",
              " save_dir: 'runs/detect/predict'\n",
              " speed: {'preprocess': 2.7222633361816406, 'inference': 12.017965316772461, 'postprocess': 1.9745826721191406},\n",
              " ultralytics.engine.results.Results object with attributes:\n",
              " \n",
              " boxes: ultralytics.engine.results.Boxes object\n",
              " keypoints: None\n",
              " masks: None\n",
              " names: {0: 'boneli', 1: 'bonesiz', 2: 'maskeli', 3: 'maskesiz', 4: 'onluklu', 5: 'onluksuz'}\n",
              " orig_img: array([[[255, 255, 255],\n",
              "         [255, 255, 255],\n",
              "         [255, 255, 255],\n",
              "         ...,\n",
              "         [255, 255, 255],\n",
              "         [255, 255, 255],\n",
              "         [255, 255, 255]],\n",
              " \n",
              "        [[255, 255, 255],\n",
              "         [255, 255, 255],\n",
              "         [255, 255, 255],\n",
              "         ...,\n",
              "         [255, 255, 255],\n",
              "         [255, 255, 255],\n",
              "         [255, 255, 255]],\n",
              " \n",
              "        [[255, 255, 255],\n",
              "         [255, 255, 255],\n",
              "         [255, 255, 255],\n",
              "         ...,\n",
              "         [255, 255, 255],\n",
              "         [255, 255, 255],\n",
              "         [255, 255, 255]],\n",
              " \n",
              "        ...,\n",
              " \n",
              "        [[255, 255, 255],\n",
              "         [255, 255, 255],\n",
              "         [255, 255, 255],\n",
              "         ...,\n",
              "         [255, 255, 255],\n",
              "         [255, 255, 255],\n",
              "         [255, 255, 255]],\n",
              " \n",
              "        [[255, 255, 255],\n",
              "         [255, 255, 255],\n",
              "         [255, 255, 255],\n",
              "         ...,\n",
              "         [255, 255, 255],\n",
              "         [255, 255, 255],\n",
              "         [255, 255, 255]],\n",
              " \n",
              "        [[255, 255, 255],\n",
              "         [255, 255, 255],\n",
              "         [255, 255, 255],\n",
              "         ...,\n",
              "         [255, 255, 255],\n",
              "         [255, 255, 255],\n",
              "         [255, 255, 255]]], dtype=uint8)\n",
              " orig_shape: (320, 291)\n",
              " path: '/content/drive/MyDrive/IMEP/Adding/FabrikaMaskBone4/re__image_83.jpg'\n",
              " probs: None\n",
              " save_dir: 'runs/detect/predict'\n",
              " speed: {'preprocess': 3.0128955841064453, 'inference': 60.36543846130371, 'postprocess': 3.47900390625},\n",
              " ultralytics.engine.results.Results object with attributes:\n",
              " \n",
              " boxes: ultralytics.engine.results.Boxes object\n",
              " keypoints: None\n",
              " masks: None\n",
              " names: {0: 'boneli', 1: 'bonesiz', 2: 'maskeli', 3: 'maskesiz', 4: 'onluklu', 5: 'onluksuz'}\n",
              " orig_img: array([[[255, 255, 255],\n",
              "         [255, 255, 255],\n",
              "         [255, 255, 255],\n",
              "         ...,\n",
              "         [255, 255, 255],\n",
              "         [255, 255, 255],\n",
              "         [255, 255, 255]],\n",
              " \n",
              "        [[255, 255, 255],\n",
              "         [255, 255, 255],\n",
              "         [255, 255, 255],\n",
              "         ...,\n",
              "         [255, 255, 255],\n",
              "         [255, 255, 255],\n",
              "         [255, 255, 255]],\n",
              " \n",
              "        [[255, 255, 255],\n",
              "         [255, 255, 255],\n",
              "         [255, 255, 255],\n",
              "         ...,\n",
              "         [255, 255, 255],\n",
              "         [255, 255, 255],\n",
              "         [255, 255, 255]],\n",
              " \n",
              "        ...,\n",
              " \n",
              "        [[255, 255, 255],\n",
              "         [255, 255, 255],\n",
              "         [255, 255, 255],\n",
              "         ...,\n",
              "         [255, 255, 255],\n",
              "         [255, 255, 255],\n",
              "         [255, 255, 255]],\n",
              " \n",
              "        [[255, 255, 255],\n",
              "         [255, 255, 255],\n",
              "         [255, 255, 255],\n",
              "         ...,\n",
              "         [255, 255, 255],\n",
              "         [255, 255, 255],\n",
              "         [255, 255, 255]],\n",
              " \n",
              "        [[255, 255, 255],\n",
              "         [255, 255, 255],\n",
              "         [255, 255, 255],\n",
              "         ...,\n",
              "         [255, 255, 255],\n",
              "         [255, 255, 255],\n",
              "         [255, 255, 255]]], dtype=uint8)\n",
              " orig_shape: (228, 228)\n",
              " path: '/content/drive/MyDrive/IMEP/Adding/FabrikaMaskBone4/re__image_84.jpg'\n",
              " probs: None\n",
              " save_dir: 'runs/detect/predict'\n",
              " speed: {'preprocess': 3.8139820098876953, 'inference': 11.880159378051758, 'postprocess': 2.0182132720947266},\n",
              " ultralytics.engine.results.Results object with attributes:\n",
              " \n",
              " boxes: ultralytics.engine.results.Boxes object\n",
              " keypoints: None\n",
              " masks: None\n",
              " names: {0: 'boneli', 1: 'bonesiz', 2: 'maskeli', 3: 'maskesiz', 4: 'onluklu', 5: 'onluksuz'}\n",
              " orig_img: array([[[ 36,  38,  48],\n",
              "         [ 22,  25,  39],\n",
              "         [ 17,  16,  42],\n",
              "         ...,\n",
              "         [ 86,  95, 115],\n",
              "         [ 86,  95, 115],\n",
              "         [ 86,  95, 115]],\n",
              " \n",
              "        [[ 39,  41,  51],\n",
              "         [ 25,  28,  43],\n",
              "         [ 18,  17,  43],\n",
              "         ...,\n",
              "         [ 85,  94, 114],\n",
              "         [ 84,  95, 115],\n",
              "         [ 87,  96, 116]],\n",
              " \n",
              "        [[ 36,  38,  48],\n",
              "         [ 22,  25,  40],\n",
              "         [ 16,  15,  41],\n",
              "         ...,\n",
              "         [ 76,  88, 106],\n",
              "         [ 75,  89, 107],\n",
              "         [ 78,  90, 108]],\n",
              " \n",
              "        ...,\n",
              " \n",
              "        [[117, 127, 137],\n",
              "         [117, 127, 137],\n",
              "         [116, 126, 136],\n",
              "         ...,\n",
              "         [158, 167, 176],\n",
              "         [159, 168, 177],\n",
              "         [159, 168, 177]],\n",
              " \n",
              "        [[123, 133, 143],\n",
              "         [121, 131, 141],\n",
              "         [119, 129, 139],\n",
              "         ...,\n",
              "         [160, 169, 178],\n",
              "         [159, 168, 177],\n",
              "         [159, 168, 177]],\n",
              " \n",
              "        [[111, 121, 131],\n",
              "         [110, 120, 130],\n",
              "         [110, 120, 130],\n",
              "         ...,\n",
              "         [161, 170, 179],\n",
              "         [160, 169, 178],\n",
              "         [159, 168, 177]]], dtype=uint8)\n",
              " orig_shape: (320, 427)\n",
              " path: '/content/drive/MyDrive/IMEP/Adding/FabrikaMaskBone4/re__image_9.jpg'\n",
              " probs: None\n",
              " save_dir: 'runs/detect/predict'\n",
              " speed: {'preprocess': 2.0384788513183594, 'inference': 12.042999267578125, 'postprocess': 1.2576580047607422}]"
            ]
          },
          "metadata": {},
          "execution_count": 3
        }
      ]
    },
    {
      "cell_type": "markdown",
      "source": [
        "# coping file"
      ],
      "metadata": {
        "id": "y8owTNiMG8dm"
      }
    },
    {
      "cell_type": "code",
      "source": [
        "import shutil\n",
        "\n",
        "def copy_file(source_file, destination_file):\n",
        "    try:\n",
        "        shutil.copy(source_file, destination_file)\n",
        "        print(\"Dosya başarıyla kopyalandı.\")\n",
        "    except IOError as e:\n",
        "        print(\"Hata oluştu: \", str(e))\n",
        "\n",
        "source_file = r\"/content/drive/MyDrive/IMEP/Adding/FabrikaMaskBone4/re__image_20.jpg\"\n",
        "destination_file = r\"/content/drive/MyDrive/IMEP/data/images\"\n",
        "\n",
        "copy_file(source_file, destination_file)"
      ],
      "metadata": {
        "colab": {
          "base_uri": "https://localhost:8080/"
        },
        "id": "jNgg7vvT4jHl",
        "outputId": "5d2e07ca-0dd0-4254-ac0a-3ec0f0b7e891"
      },
      "execution_count": 35,
      "outputs": [
        {
          "output_type": "stream",
          "name": "stdout",
          "text": [
            "Dosya başarıyla kopyalandı.\n"
          ]
        }
      ]
    },
    {
      "cell_type": "code",
      "source": [
        "import os\n",
        "import shutil\n",
        "\n",
        "def copy_files(source_folder, destination_folder):\n",
        "    # Kaynak klasördeki tüm dosyaların listesini al\n",
        "    files = os.listdir(source_folder)\n",
        "\n",
        "    # Hedef klasördeki tüm dosyaların listesini al\n",
        "    destination_files = os.listdir(destination_folder)\n",
        "\n",
        "    # Kaynak klasördeki her dosya için\n",
        "    for file in files:\n",
        "        # Dosyanın tam yolu\n",
        "        source_file_path = os.path.join(source_folder, file)\n",
        "\n",
        "        # Eğer dosya hedef klasörde zaten varsa, üzerine yazma\n",
        "        if file in destination_files:\n",
        "            print(f\"{file} is already in the destination folder. Overwriting...\")\n",
        "\n",
        "        # Dosyayı hedef klasöre kopyala\n",
        "        shutil.copy(source_file_path, destination_folder)\n",
        "        print(f\"{file} successfully copied to {destination_folder}\")\n",
        "\n",
        "# Örnek kullanım\n",
        "source_folder = \"/content/drive/MyDrive/IMEP/Adding/FabrikaMaskBone4\"\n",
        "destination_folder = \"/content/drive/MyDrive/IMEP/data/images\"\n",
        "\n",
        "copy_files(source_folder, destination_folder)\n"
      ],
      "metadata": {
        "id": "qrFEqooqLdY4"
      },
      "execution_count": null,
      "outputs": []
    },
    {
      "cell_type": "markdown",
      "source": [
        "#moving predict result to dataset"
      ],
      "metadata": {
        "id": "LJ4uzpQjFvms"
      }
    },
    {
      "cell_type": "code",
      "source": [
        "import shutil\n",
        "\n",
        "def move_file(source_path, destination_path):\n",
        "    try:\n",
        "        # Dosyayı taşı\n",
        "        shutil.move(source_path, destination_path)\n",
        "        print(f\"{source_path} --> {destination_path}\")\n",
        "    except FileNotFoundError:\n",
        "        print(f\"Hata: {source_path} bulunamadı.\")\n",
        "    except Exception as e:\n",
        "        print(f\"Hata: {e}\")\n",
        "\n",
        "# Kaynak ve hedef dosya yollarını belirtin\n",
        "source_file_path = \"/content/drive/MyDrive/IMEP/Adding/FabrikaMaskBone4/re__image_10.jpg\"  # Örnek: \"/content/kaynak_dosya.txt\"\n",
        "destination_file_path = \"/content/drive/MyDrive/IMEP/data/images\"  # Örnek: \"/content/hedef_dosya.txt\"\n",
        "\n",
        "# Dosyayı taşı\n",
        "move_file(source_file_path, destination_file_path)\n"
      ],
      "metadata": {
        "colab": {
          "base_uri": "https://localhost:8080/"
        },
        "id": "pidc9hgi5hKv",
        "outputId": "fee74a88-c09a-4409-b123-666a41e33d75"
      },
      "execution_count": 19,
      "outputs": [
        {
          "output_type": "stream",
          "name": "stdout",
          "text": [
            "/content/drive/MyDrive/IMEP/Adding/FabrikaMaskBone4/re__image_10.jpg --> /content/drive/MyDrive/IMEP/data/images\n"
          ]
        }
      ]
    },
    {
      "cell_type": "code",
      "source": [
        "from ultralytics import YOLO\n",
        "\n",
        "model=YOLO(\"/content/drive/MyDrive/IMEP/models/train3/weights/best.pt\")\n",
        "model.train(data=\"/content/drive/MyDrive/IMEP/data.yaml\", epochs=50, imgsz=640,lr0=0.001 ,batch=32 ,optimizer ='auto', weight_decay=0.0001, momentum=0.9)"
      ],
      "metadata": {
        "colab": {
          "base_uri": "https://localhost:8080/"
        },
        "id": "tMssbRu4Lv0w",
        "outputId": "49035cf4-ea5a-4c89-a064-0e3242ef92e8"
      },
      "execution_count": 4,
      "outputs": [
        {
          "metadata": {
            "tags": null
          },
          "name": "stdout",
          "output_type": "stream",
          "text": [
            "Ultralytics YOLOv8.0.223 🚀 Python-3.10.12 torch-2.1.0+cu118 CUDA:0 (Tesla T4, 15102MiB)\n",
            "\u001b[34m\u001b[1mengine/trainer: \u001b[0mtask=detect, mode=train, model=/content/drive/MyDrive/IMEP/models/train3/weights/best.pt, data=/content/drive/MyDrive/IMEP/data.yaml, epochs=50, patience=50, batch=32, imgsz=640, save=True, save_period=-1, cache=False, device=None, workers=8, project=None, name=train2, exist_ok=False, pretrained=True, optimizer=auto, verbose=True, seed=0, deterministic=True, single_cls=False, rect=False, cos_lr=False, close_mosaic=10, resume=False, amp=True, fraction=1.0, profile=False, freeze=None, overlap_mask=True, mask_ratio=4, dropout=0.0, val=True, split=val, save_json=False, save_hybrid=False, conf=None, iou=0.7, max_det=300, half=False, dnn=False, plots=True, source=None, vid_stride=1, stream_buffer=False, visualize=False, augment=False, agnostic_nms=False, classes=None, retina_masks=False, show=False, save_frames=False, save_txt=False, save_conf=False, save_crop=False, show_labels=True, show_conf=True, show_boxes=True, line_width=None, format=torchscript, keras=False, optimize=False, int8=False, dynamic=False, simplify=False, opset=None, workspace=4, nms=False, lr0=0.001, lrf=0.01, momentum=0.9, weight_decay=0.0001, warmup_epochs=3.0, warmup_momentum=0.8, warmup_bias_lr=0.1, box=7.5, cls=0.5, dfl=1.5, pose=12.0, kobj=1.0, label_smoothing=0.0, nbs=64, hsv_h=0.015, hsv_s=0.7, hsv_v=0.4, degrees=0.0, translate=0.1, scale=0.5, shear=0.0, perspective=0.0, flipud=0.0, fliplr=0.5, mosaic=1.0, mixup=0.0, copy_paste=0.0, cfg=None, tracker=botsort.yaml, save_dir=runs/detect/train2\n",
            "\n",
            "                   from  n    params  module                                       arguments                     \n",
            "  0                  -1  1       464  ultralytics.nn.modules.conv.Conv             [3, 16, 3, 2]                 \n",
            "  1                  -1  1      4672  ultralytics.nn.modules.conv.Conv             [16, 32, 3, 2]                \n",
            "  2                  -1  1      7360  ultralytics.nn.modules.block.C2f             [32, 32, 1, True]             \n",
            "  3                  -1  1     18560  ultralytics.nn.modules.conv.Conv             [32, 64, 3, 2]                \n",
            "  4                  -1  2     49664  ultralytics.nn.modules.block.C2f             [64, 64, 2, True]             \n",
            "  5                  -1  1     73984  ultralytics.nn.modules.conv.Conv             [64, 128, 3, 2]               \n",
            "  6                  -1  2    197632  ultralytics.nn.modules.block.C2f             [128, 128, 2, True]           \n",
            "  7                  -1  1    295424  ultralytics.nn.modules.conv.Conv             [128, 256, 3, 2]              \n",
            "  8                  -1  1    460288  ultralytics.nn.modules.block.C2f             [256, 256, 1, True]           \n",
            "  9                  -1  1    164608  ultralytics.nn.modules.block.SPPF            [256, 256, 5]                 \n",
            " 10                  -1  1         0  torch.nn.modules.upsampling.Upsample         [None, 2, 'nearest']          \n",
            " 11             [-1, 6]  1         0  ultralytics.nn.modules.conv.Concat           [1]                           \n",
            " 12                  -1  1    148224  ultralytics.nn.modules.block.C2f             [384, 128, 1]                 \n",
            " 13                  -1  1         0  torch.nn.modules.upsampling.Upsample         [None, 2, 'nearest']          \n",
            " 14             [-1, 4]  1         0  ultralytics.nn.modules.conv.Concat           [1]                           \n",
            " 15                  -1  1     37248  ultralytics.nn.modules.block.C2f             [192, 64, 1]                  \n",
            " 16                  -1  1     36992  ultralytics.nn.modules.conv.Conv             [64, 64, 3, 2]                \n",
            " 17            [-1, 12]  1         0  ultralytics.nn.modules.conv.Concat           [1]                           \n",
            " 18                  -1  1    123648  ultralytics.nn.modules.block.C2f             [192, 128, 1]                 \n",
            " 19                  -1  1    147712  ultralytics.nn.modules.conv.Conv             [128, 128, 3, 2]              \n",
            " 20             [-1, 9]  1         0  ultralytics.nn.modules.conv.Concat           [1]                           \n",
            " 21                  -1  1    493056  ultralytics.nn.modules.block.C2f             [384, 256, 1]                 \n",
            " 22        [15, 18, 21]  1    752482  ultralytics.nn.modules.head.Detect           [6, [64, 128, 256]]           \n",
            "Model summary: 225 layers, 3012018 parameters, 3012002 gradients, 8.2 GFLOPs\n",
            "\n",
            "Transferred 355/355 items from pretrained weights\n",
            "\u001b[34m\u001b[1mTensorBoard: \u001b[0mStart with 'tensorboard --logdir runs/detect/train2', view at http://localhost:6006/\n",
            "Freezing layer 'model.22.dfl.conv.weight'\n",
            "\u001b[34m\u001b[1mAMP: \u001b[0mrunning Automatic Mixed Precision (AMP) checks with YOLOv8n...\n",
            "\u001b[34m\u001b[1mAMP: \u001b[0mchecks passed ✅\n"
          ]
        },
        {
          "metadata": {
            "tags": null
          },
          "name": "stderr",
          "output_type": "stream",
          "text": [
            "\u001b[34m\u001b[1mtrain: \u001b[0mScanning /content/drive/MyDrive/IMEP/data/labels.cache... 214 images, 6 backgrounds, 1 corrupt: 100%|██████████| 220/220 [00:00<?, ?it/s]"
          ]
        },
        {
          "metadata": {
            "tags": null
          },
          "name": "stdout",
          "output_type": "stream",
          "text": [
            "\u001b[34m\u001b[1mtrain: \u001b[0mWARNING ⚠️ /content/drive/MyDrive/IMEP/data/images/re__image_1.jpg: ignoring corrupt image/label: setting an array element with a sequence. The requested array has an inhomogeneous shape after 1 dimensions. The detected shape was (3,) + inhomogeneous part.\n",
            "\u001b[34m\u001b[1malbumentations: \u001b[0mBlur(p=0.01, blur_limit=(3, 7)), MedianBlur(p=0.01, blur_limit=(3, 7)), ToGray(p=0.01), CLAHE(p=0.01, clip_limit=(1, 4.0), tile_grid_size=(8, 8))\n"
          ]
        },
        {
          "metadata": {
            "tags": null
          },
          "name": "stderr",
          "output_type": "stream",
          "text": [
            "\n",
            "\u001b[34m\u001b[1mval: \u001b[0mScanning /content/drive/MyDrive/IMEP/data/labels.cache... 214 images, 6 backgrounds, 1 corrupt: 100%|██████████| 220/220 [00:00<?, ?it/s]"
          ]
        },
        {
          "metadata": {
            "tags": null
          },
          "name": "stdout",
          "output_type": "stream",
          "text": [
            "\u001b[34m\u001b[1mtrain: \u001b[0mWARNING ⚠️ /content/drive/MyDrive/IMEP/data/images/re__image_1.jpg: ignoring corrupt image/label: setting an array element with a sequence. The requested array has an inhomogeneous shape after 1 dimensions. The detected shape was (3,) + inhomogeneous part.\n"
          ]
        },
        {
          "metadata": {
            "tags": null
          },
          "name": "stderr",
          "output_type": "stream",
          "text": [
            "\n"
          ]
        },
        {
          "metadata": {
            "tags": null
          },
          "name": "stdout",
          "output_type": "stream",
          "text": [
            "Plotting labels to runs/detect/train2/labels.jpg... \n",
            "\u001b[34m\u001b[1moptimizer:\u001b[0m 'optimizer=auto' found, ignoring 'lr0=0.001' and 'momentum=0.9' and determining best 'optimizer', 'lr0' and 'momentum' automatically... \n",
            "\u001b[34m\u001b[1moptimizer:\u001b[0m AdamW(lr=0.001, momentum=0.9) with parameter groups 57 weight(decay=0.0), 64 weight(decay=0.0001), 63 bias(decay=0.0)\n",
            "Image sizes 640 train, 640 val\n",
            "Using 2 dataloader workers\n",
            "Logging results to \u001b[1mruns/detect/train2\u001b[0m\n",
            "Starting training for 50 epochs...\n",
            "\n",
            "      Epoch    GPU_mem   box_loss   cls_loss   dfl_loss  Instances       Size\n"
          ]
        },
        {
          "metadata": {
            "tags": null
          },
          "name": "stderr",
          "output_type": "stream",
          "text": [
            "       1/50      4.86G      1.024     0.8772      1.089        145        640: 100%|██████████| 7/7 [00:07<00:00,  1.01s/it]\n",
            "                 Class     Images  Instances      Box(P          R      mAP50  mAP50-95): 100%|██████████| 4/4 [00:04<00:00,  1.11s/it]"
          ]
        },
        {
          "metadata": {
            "tags": null
          },
          "name": "stdout",
          "output_type": "stream",
          "text": [
            "                   all        219        650      0.919       0.87      0.953      0.786\n"
          ]
        },
        {
          "metadata": {
            "tags": null
          },
          "name": "stderr",
          "output_type": "stream",
          "text": [
            "\n"
          ]
        },
        {
          "metadata": {
            "tags": null
          },
          "name": "stdout",
          "output_type": "stream",
          "text": [
            "\n",
            "      Epoch    GPU_mem   box_loss   cls_loss   dfl_loss  Instances       Size\n"
          ]
        },
        {
          "metadata": {
            "tags": null
          },
          "name": "stderr",
          "output_type": "stream",
          "text": [
            "       2/50      4.36G     0.9714     0.8002      1.067        151        640: 100%|██████████| 7/7 [00:02<00:00,  2.58it/s]\n",
            "                 Class     Images  Instances      Box(P          R      mAP50  mAP50-95): 100%|██████████| 4/4 [00:04<00:00,  1.20s/it]"
          ]
        },
        {
          "metadata": {
            "tags": null
          },
          "name": "stdout",
          "output_type": "stream",
          "text": [
            "                   all        219        650      0.889      0.874      0.946      0.756\n"
          ]
        },
        {
          "metadata": {
            "tags": null
          },
          "name": "stderr",
          "output_type": "stream",
          "text": [
            "\n"
          ]
        },
        {
          "metadata": {
            "tags": null
          },
          "name": "stdout",
          "output_type": "stream",
          "text": [
            "\n",
            "      Epoch    GPU_mem   box_loss   cls_loss   dfl_loss  Instances       Size\n"
          ]
        },
        {
          "metadata": {
            "tags": null
          },
          "name": "stderr",
          "output_type": "stream",
          "text": [
            "       3/50      4.34G     0.9936     0.8534      1.061        125        640: 100%|██████████| 7/7 [00:04<00:00,  1.71it/s]\n",
            "                 Class     Images  Instances      Box(P          R      mAP50  mAP50-95): 100%|██████████| 4/4 [00:03<00:00,  1.09it/s]"
          ]
        },
        {
          "metadata": {
            "tags": null
          },
          "name": "stdout",
          "output_type": "stream",
          "text": [
            "                   all        219        650      0.901      0.874      0.947      0.743\n"
          ]
        },
        {
          "metadata": {
            "tags": null
          },
          "name": "stderr",
          "output_type": "stream",
          "text": [
            "\n"
          ]
        },
        {
          "metadata": {
            "tags": null
          },
          "name": "stdout",
          "output_type": "stream",
          "text": [
            "\n",
            "      Epoch    GPU_mem   box_loss   cls_loss   dfl_loss  Instances       Size\n"
          ]
        },
        {
          "metadata": {
            "tags": null
          },
          "name": "stderr",
          "output_type": "stream",
          "text": [
            "       4/50      4.16G     0.9729     0.7841      1.053        124        640: 100%|██████████| 7/7 [00:02<00:00,  2.83it/s]\n",
            "                 Class     Images  Instances      Box(P          R      mAP50  mAP50-95): 100%|██████████| 4/4 [00:03<00:00,  1.27it/s]"
          ]
        },
        {
          "metadata": {
            "tags": null
          },
          "name": "stdout",
          "output_type": "stream",
          "text": [
            "                   all        219        650      0.814      0.914      0.938      0.725\n"
          ]
        },
        {
          "metadata": {
            "tags": null
          },
          "name": "stderr",
          "output_type": "stream",
          "text": [
            "\n"
          ]
        },
        {
          "metadata": {
            "tags": null
          },
          "name": "stdout",
          "output_type": "stream",
          "text": [
            "\n",
            "      Epoch    GPU_mem   box_loss   cls_loss   dfl_loss  Instances       Size\n"
          ]
        },
        {
          "metadata": {
            "tags": null
          },
          "name": "stderr",
          "output_type": "stream",
          "text": [
            "       5/50      4.34G      0.973     0.7612      1.067        122        640: 100%|██████████| 7/7 [00:03<00:00,  1.78it/s]\n",
            "                 Class     Images  Instances      Box(P          R      mAP50  mAP50-95): 100%|██████████| 4/4 [00:04<00:00,  1.24s/it]"
          ]
        },
        {
          "metadata": {
            "tags": null
          },
          "name": "stdout",
          "output_type": "stream",
          "text": [
            "                   all        219        650      0.921      0.896      0.951       0.73\n"
          ]
        },
        {
          "metadata": {
            "tags": null
          },
          "name": "stderr",
          "output_type": "stream",
          "text": [
            "\n"
          ]
        },
        {
          "metadata": {
            "tags": null
          },
          "name": "stdout",
          "output_type": "stream",
          "text": [
            "\n",
            "      Epoch    GPU_mem   box_loss   cls_loss   dfl_loss  Instances       Size\n"
          ]
        },
        {
          "metadata": {
            "tags": null
          },
          "name": "stderr",
          "output_type": "stream",
          "text": [
            "       6/50      4.35G     0.9978     0.7564      1.043        126        640: 100%|██████████| 7/7 [00:02<00:00,  2.74it/s]\n",
            "                 Class     Images  Instances      Box(P          R      mAP50  mAP50-95): 100%|██████████| 4/4 [00:02<00:00,  1.39it/s]"
          ]
        },
        {
          "metadata": {
            "tags": null
          },
          "name": "stdout",
          "output_type": "stream",
          "text": [
            "                   all        219        650      0.944      0.899      0.959      0.727\n"
          ]
        },
        {
          "metadata": {
            "tags": null
          },
          "name": "stderr",
          "output_type": "stream",
          "text": [
            "\n"
          ]
        },
        {
          "metadata": {
            "tags": null
          },
          "name": "stdout",
          "output_type": "stream",
          "text": [
            "\n",
            "      Epoch    GPU_mem   box_loss   cls_loss   dfl_loss  Instances       Size\n"
          ]
        },
        {
          "metadata": {
            "tags": null
          },
          "name": "stderr",
          "output_type": "stream",
          "text": [
            "       7/50      4.35G      0.998     0.7714      1.045        158        640: 100%|██████████| 7/7 [00:02<00:00,  2.76it/s]\n",
            "                 Class     Images  Instances      Box(P          R      mAP50  mAP50-95): 100%|██████████| 4/4 [00:05<00:00,  1.31s/it]"
          ]
        },
        {
          "metadata": {
            "tags": null
          },
          "name": "stdout",
          "output_type": "stream",
          "text": [
            "                   all        219        650       0.91      0.899       0.96      0.727\n"
          ]
        },
        {
          "metadata": {
            "tags": null
          },
          "name": "stderr",
          "output_type": "stream",
          "text": [
            "\n"
          ]
        },
        {
          "metadata": {
            "tags": null
          },
          "name": "stdout",
          "output_type": "stream",
          "text": [
            "\n",
            "      Epoch    GPU_mem   box_loss   cls_loss   dfl_loss  Instances       Size\n"
          ]
        },
        {
          "metadata": {
            "tags": null
          },
          "name": "stderr",
          "output_type": "stream",
          "text": [
            "       8/50      4.38G      1.045     0.8206      1.096        132        640: 100%|██████████| 7/7 [00:02<00:00,  2.49it/s]\n",
            "                 Class     Images  Instances      Box(P          R      mAP50  mAP50-95): 100%|██████████| 4/4 [00:03<00:00,  1.26it/s]"
          ]
        },
        {
          "metadata": {
            "tags": null
          },
          "name": "stdout",
          "output_type": "stream",
          "text": [
            "                   all        219        650      0.885      0.903       0.95      0.735\n"
          ]
        },
        {
          "metadata": {
            "tags": null
          },
          "name": "stderr",
          "output_type": "stream",
          "text": [
            "\n"
          ]
        },
        {
          "metadata": {
            "tags": null
          },
          "name": "stdout",
          "output_type": "stream",
          "text": [
            "\n",
            "      Epoch    GPU_mem   box_loss   cls_loss   dfl_loss  Instances       Size\n"
          ]
        },
        {
          "metadata": {
            "tags": null
          },
          "name": "stderr",
          "output_type": "stream",
          "text": [
            "       9/50      4.34G      1.021     0.7767      1.063        130        640: 100%|██████████| 7/7 [00:02<00:00,  2.93it/s]\n",
            "                 Class     Images  Instances      Box(P          R      mAP50  mAP50-95): 100%|██████████| 4/4 [00:03<00:00,  1.06it/s]"
          ]
        },
        {
          "metadata": {
            "tags": null
          },
          "name": "stdout",
          "output_type": "stream",
          "text": [
            "                   all        219        650      0.937      0.903      0.963      0.737\n"
          ]
        },
        {
          "metadata": {
            "tags": null
          },
          "name": "stderr",
          "output_type": "stream",
          "text": [
            "\n"
          ]
        },
        {
          "metadata": {
            "tags": null
          },
          "name": "stdout",
          "output_type": "stream",
          "text": [
            "\n",
            "      Epoch    GPU_mem   box_loss   cls_loss   dfl_loss  Instances       Size\n"
          ]
        },
        {
          "metadata": {
            "tags": null
          },
          "name": "stderr",
          "output_type": "stream",
          "text": [
            "      10/50      4.29G      1.034     0.7805      1.081        146        640: 100%|██████████| 7/7 [00:03<00:00,  1.88it/s]\n",
            "                 Class     Images  Instances      Box(P          R      mAP50  mAP50-95): 100%|██████████| 4/4 [00:03<00:00,  1.02it/s]"
          ]
        },
        {
          "metadata": {
            "tags": null
          },
          "name": "stdout",
          "output_type": "stream",
          "text": [
            "                   all        219        650      0.938      0.923      0.972      0.744\n"
          ]
        },
        {
          "metadata": {
            "tags": null
          },
          "name": "stderr",
          "output_type": "stream",
          "text": [
            "\n"
          ]
        },
        {
          "metadata": {
            "tags": null
          },
          "name": "stdout",
          "output_type": "stream",
          "text": [
            "\n",
            "      Epoch    GPU_mem   box_loss   cls_loss   dfl_loss  Instances       Size\n"
          ]
        },
        {
          "metadata": {
            "tags": null
          },
          "name": "stderr",
          "output_type": "stream",
          "text": [
            "      11/50      4.34G      1.039     0.8035       1.07        138        640: 100%|██████████| 7/7 [00:02<00:00,  2.99it/s]\n",
            "                 Class     Images  Instances      Box(P          R      mAP50  mAP50-95): 100%|██████████| 4/4 [00:03<00:00,  1.18it/s]"
          ]
        },
        {
          "metadata": {
            "tags": null
          },
          "name": "stdout",
          "output_type": "stream",
          "text": [
            "                   all        219        650      0.915       0.94       0.97      0.745\n"
          ]
        },
        {
          "metadata": {
            "tags": null
          },
          "name": "stderr",
          "output_type": "stream",
          "text": [
            "\n"
          ]
        },
        {
          "metadata": {
            "tags": null
          },
          "name": "stdout",
          "output_type": "stream",
          "text": [
            "\n",
            "      Epoch    GPU_mem   box_loss   cls_loss   dfl_loss  Instances       Size\n"
          ]
        },
        {
          "metadata": {
            "tags": null
          },
          "name": "stderr",
          "output_type": "stream",
          "text": [
            "      12/50      4.35G      1.031     0.7859      1.085        122        640: 100%|██████████| 7/7 [00:03<00:00,  2.22it/s]\n",
            "                 Class     Images  Instances      Box(P          R      mAP50  mAP50-95): 100%|██████████| 4/4 [00:05<00:00,  1.40s/it]"
          ]
        },
        {
          "metadata": {
            "tags": null
          },
          "name": "stdout",
          "output_type": "stream",
          "text": [
            "                   all        219        650      0.911      0.923      0.965      0.716\n"
          ]
        },
        {
          "metadata": {
            "tags": null
          },
          "name": "stderr",
          "output_type": "stream",
          "text": [
            "\n"
          ]
        },
        {
          "metadata": {
            "tags": null
          },
          "name": "stdout",
          "output_type": "stream",
          "text": [
            "\n",
            "      Epoch    GPU_mem   box_loss   cls_loss   dfl_loss  Instances       Size\n"
          ]
        },
        {
          "metadata": {
            "tags": null
          },
          "name": "stderr",
          "output_type": "stream",
          "text": [
            "      13/50      4.35G      1.026     0.7669      1.065        149        640: 100%|██████████| 7/7 [00:02<00:00,  3.11it/s]\n",
            "                 Class     Images  Instances      Box(P          R      mAP50  mAP50-95): 100%|██████████| 4/4 [00:03<00:00,  1.25it/s]"
          ]
        },
        {
          "metadata": {
            "tags": null
          },
          "name": "stdout",
          "output_type": "stream",
          "text": [
            "                   all        219        650       0.88      0.919      0.966      0.725\n"
          ]
        },
        {
          "metadata": {
            "tags": null
          },
          "name": "stderr",
          "output_type": "stream",
          "text": [
            "\n"
          ]
        },
        {
          "metadata": {
            "tags": null
          },
          "name": "stdout",
          "output_type": "stream",
          "text": [
            "\n",
            "      Epoch    GPU_mem   box_loss   cls_loss   dfl_loss  Instances       Size\n"
          ]
        },
        {
          "metadata": {
            "tags": null
          },
          "name": "stderr",
          "output_type": "stream",
          "text": [
            "      14/50      4.44G      1.079     0.8057      1.083        122        640: 100%|██████████| 7/7 [00:02<00:00,  2.86it/s]\n",
            "                 Class     Images  Instances      Box(P          R      mAP50  mAP50-95): 100%|██████████| 4/4 [00:04<00:00,  1.12s/it]"
          ]
        },
        {
          "metadata": {
            "tags": null
          },
          "name": "stdout",
          "output_type": "stream",
          "text": [
            "                   all        219        650      0.857      0.904      0.963       0.71\n"
          ]
        },
        {
          "metadata": {
            "tags": null
          },
          "name": "stderr",
          "output_type": "stream",
          "text": [
            "\n"
          ]
        },
        {
          "metadata": {
            "tags": null
          },
          "name": "stdout",
          "output_type": "stream",
          "text": [
            "\n",
            "      Epoch    GPU_mem   box_loss   cls_loss   dfl_loss  Instances       Size\n"
          ]
        },
        {
          "metadata": {
            "tags": null
          },
          "name": "stderr",
          "output_type": "stream",
          "text": [
            "      15/50      4.29G      1.091     0.8198      1.098        129        640: 100%|██████████| 7/7 [00:02<00:00,  2.36it/s]\n",
            "                 Class     Images  Instances      Box(P          R      mAP50  mAP50-95): 100%|██████████| 4/4 [00:03<00:00,  1.14it/s]"
          ]
        },
        {
          "metadata": {
            "tags": null
          },
          "name": "stdout",
          "output_type": "stream",
          "text": [
            "                   all        219        650      0.911        0.9      0.964      0.715\n"
          ]
        },
        {
          "metadata": {
            "tags": null
          },
          "name": "stderr",
          "output_type": "stream",
          "text": [
            "\n"
          ]
        },
        {
          "metadata": {
            "tags": null
          },
          "name": "stdout",
          "output_type": "stream",
          "text": [
            "\n",
            "      Epoch    GPU_mem   box_loss   cls_loss   dfl_loss  Instances       Size\n"
          ]
        },
        {
          "metadata": {
            "tags": null
          },
          "name": "stderr",
          "output_type": "stream",
          "text": [
            "      16/50      4.29G      1.138     0.8387      1.132        144        640: 100%|██████████| 7/7 [00:02<00:00,  3.02it/s]\n",
            "                 Class     Images  Instances      Box(P          R      mAP50  mAP50-95): 100%|██████████| 4/4 [00:03<00:00,  1.11it/s]"
          ]
        },
        {
          "metadata": {
            "tags": null
          },
          "name": "stdout",
          "output_type": "stream",
          "text": [
            "                   all        219        650       0.92      0.912      0.962      0.706\n"
          ]
        },
        {
          "metadata": {
            "tags": null
          },
          "name": "stderr",
          "output_type": "stream",
          "text": [
            "\n"
          ]
        },
        {
          "metadata": {
            "tags": null
          },
          "name": "stdout",
          "output_type": "stream",
          "text": [
            "\n",
            "      Epoch    GPU_mem   box_loss   cls_loss   dfl_loss  Instances       Size\n"
          ]
        },
        {
          "metadata": {
            "tags": null
          },
          "name": "stderr",
          "output_type": "stream",
          "text": [
            "      17/50      4.34G      1.061     0.7755      1.081        169        640: 100%|██████████| 7/7 [00:03<00:00,  1.79it/s]\n",
            "                 Class     Images  Instances      Box(P          R      mAP50  mAP50-95): 100%|██████████| 4/4 [00:04<00:00,  1.06s/it]"
          ]
        },
        {
          "metadata": {
            "tags": null
          },
          "name": "stdout",
          "output_type": "stream",
          "text": [
            "                   all        219        650      0.889      0.914      0.959      0.724\n"
          ]
        },
        {
          "metadata": {
            "tags": null
          },
          "name": "stderr",
          "output_type": "stream",
          "text": [
            "\n"
          ]
        },
        {
          "metadata": {
            "tags": null
          },
          "name": "stdout",
          "output_type": "stream",
          "text": [
            "\n",
            "      Epoch    GPU_mem   box_loss   cls_loss   dfl_loss  Instances       Size\n"
          ]
        },
        {
          "metadata": {
            "tags": null
          },
          "name": "stderr",
          "output_type": "stream",
          "text": [
            "      18/50      4.34G      1.063     0.7903      1.068        153        640: 100%|██████████| 7/7 [00:02<00:00,  2.91it/s]\n",
            "                 Class     Images  Instances      Box(P          R      mAP50  mAP50-95): 100%|██████████| 4/4 [00:03<00:00,  1.19it/s]"
          ]
        },
        {
          "metadata": {
            "tags": null
          },
          "name": "stdout",
          "output_type": "stream",
          "text": [
            "                   all        219        650      0.911      0.926      0.969      0.738\n"
          ]
        },
        {
          "metadata": {
            "tags": null
          },
          "name": "stderr",
          "output_type": "stream",
          "text": [
            "\n"
          ]
        },
        {
          "metadata": {
            "tags": null
          },
          "name": "stdout",
          "output_type": "stream",
          "text": [
            "\n",
            "      Epoch    GPU_mem   box_loss   cls_loss   dfl_loss  Instances       Size\n"
          ]
        },
        {
          "metadata": {
            "tags": null
          },
          "name": "stderr",
          "output_type": "stream",
          "text": [
            "      19/50      4.29G      1.008      0.767      1.071        132        640: 100%|██████████| 7/7 [00:02<00:00,  2.78it/s]\n",
            "                 Class     Images  Instances      Box(P          R      mAP50  mAP50-95): 100%|██████████| 4/4 [00:05<00:00,  1.47s/it]"
          ]
        },
        {
          "metadata": {
            "tags": null
          },
          "name": "stdout",
          "output_type": "stream",
          "text": [
            "                   all        219        650      0.903      0.937      0.964      0.742\n"
          ]
        },
        {
          "metadata": {
            "tags": null
          },
          "name": "stderr",
          "output_type": "stream",
          "text": [
            "\n"
          ]
        },
        {
          "metadata": {
            "tags": null
          },
          "name": "stdout",
          "output_type": "stream",
          "text": [
            "\n",
            "      Epoch    GPU_mem   box_loss   cls_loss   dfl_loss  Instances       Size\n"
          ]
        },
        {
          "metadata": {
            "tags": null
          },
          "name": "stderr",
          "output_type": "stream",
          "text": [
            "      20/50      4.34G      1.021     0.8034      1.093        136        640: 100%|██████████| 7/7 [00:02<00:00,  2.97it/s]\n",
            "                 Class     Images  Instances      Box(P          R      mAP50  mAP50-95): 100%|██████████| 4/4 [00:03<00:00,  1.27it/s]"
          ]
        },
        {
          "metadata": {
            "tags": null
          },
          "name": "stdout",
          "output_type": "stream",
          "text": [
            "                   all        219        650      0.899      0.935      0.964      0.727\n"
          ]
        },
        {
          "metadata": {
            "tags": null
          },
          "name": "stderr",
          "output_type": "stream",
          "text": [
            "\n"
          ]
        },
        {
          "metadata": {
            "tags": null
          },
          "name": "stdout",
          "output_type": "stream",
          "text": [
            "\n",
            "      Epoch    GPU_mem   box_loss   cls_loss   dfl_loss  Instances       Size\n"
          ]
        },
        {
          "metadata": {
            "tags": null
          },
          "name": "stderr",
          "output_type": "stream",
          "text": [
            "      21/50      4.34G       1.03     0.7742      1.105        139        640: 100%|██████████| 7/7 [00:02<00:00,  3.04it/s]\n",
            "                 Class     Images  Instances      Box(P          R      mAP50  mAP50-95): 100%|██████████| 4/4 [00:04<00:00,  1.22s/it]"
          ]
        },
        {
          "metadata": {
            "tags": null
          },
          "name": "stdout",
          "output_type": "stream",
          "text": [
            "                   all        219        650      0.902      0.956      0.971      0.738\n"
          ]
        },
        {
          "metadata": {
            "tags": null
          },
          "name": "stderr",
          "output_type": "stream",
          "text": [
            "\n"
          ]
        },
        {
          "metadata": {
            "tags": null
          },
          "name": "stdout",
          "output_type": "stream",
          "text": [
            "\n",
            "      Epoch    GPU_mem   box_loss   cls_loss   dfl_loss  Instances       Size\n"
          ]
        },
        {
          "metadata": {
            "tags": null
          },
          "name": "stderr",
          "output_type": "stream",
          "text": [
            "      22/50      4.34G      1.055     0.7799      1.085        151        640: 100%|██████████| 7/7 [00:04<00:00,  1.69it/s]\n",
            "                 Class     Images  Instances      Box(P          R      mAP50  mAP50-95): 100%|██████████| 4/4 [00:04<00:00,  1.14s/it]"
          ]
        },
        {
          "metadata": {
            "tags": null
          },
          "name": "stdout",
          "output_type": "stream",
          "text": [
            "                   all        219        650       0.92      0.897      0.966      0.731\n"
          ]
        },
        {
          "metadata": {
            "tags": null
          },
          "name": "stderr",
          "output_type": "stream",
          "text": [
            "\n"
          ]
        },
        {
          "metadata": {
            "tags": null
          },
          "name": "stdout",
          "output_type": "stream",
          "text": [
            "\n",
            "      Epoch    GPU_mem   box_loss   cls_loss   dfl_loss  Instances       Size\n"
          ]
        },
        {
          "metadata": {
            "tags": null
          },
          "name": "stderr",
          "output_type": "stream",
          "text": [
            "      23/50      4.33G      1.033     0.7569      1.052        150        640: 100%|██████████| 7/7 [00:02<00:00,  2.86it/s]\n",
            "                 Class     Images  Instances      Box(P          R      mAP50  mAP50-95): 100%|██████████| 4/4 [00:04<00:00,  1.16s/it]"
          ]
        },
        {
          "metadata": {
            "tags": null
          },
          "name": "stdout",
          "output_type": "stream",
          "text": [
            "                   all        219        650      0.901      0.918       0.97      0.724\n"
          ]
        },
        {
          "metadata": {
            "tags": null
          },
          "name": "stderr",
          "output_type": "stream",
          "text": [
            "\n"
          ]
        },
        {
          "metadata": {
            "tags": null
          },
          "name": "stdout",
          "output_type": "stream",
          "text": [
            "\n",
            "      Epoch    GPU_mem   box_loss   cls_loss   dfl_loss  Instances       Size\n"
          ]
        },
        {
          "metadata": {
            "tags": null
          },
          "name": "stderr",
          "output_type": "stream",
          "text": [
            "      24/50      4.38G      1.018     0.7862      1.064        142        640: 100%|██████████| 7/7 [00:03<00:00,  1.99it/s]\n",
            "                 Class     Images  Instances      Box(P          R      mAP50  mAP50-95): 100%|██████████| 4/4 [00:03<00:00,  1.24it/s]"
          ]
        },
        {
          "metadata": {
            "tags": null
          },
          "name": "stdout",
          "output_type": "stream",
          "text": [
            "                   all        219        650      0.915      0.938       0.97      0.743\n"
          ]
        },
        {
          "metadata": {
            "tags": null
          },
          "name": "stderr",
          "output_type": "stream",
          "text": [
            "\n"
          ]
        },
        {
          "metadata": {
            "tags": null
          },
          "name": "stdout",
          "output_type": "stream",
          "text": [
            "\n",
            "      Epoch    GPU_mem   box_loss   cls_loss   dfl_loss  Instances       Size\n"
          ]
        },
        {
          "metadata": {
            "tags": null
          },
          "name": "stderr",
          "output_type": "stream",
          "text": [
            "      25/50      4.29G     0.9805     0.7235       1.05        217        640: 100%|██████████| 7/7 [00:02<00:00,  2.99it/s]\n",
            "                 Class     Images  Instances      Box(P          R      mAP50  mAP50-95): 100%|██████████| 4/4 [00:03<00:00,  1.20it/s]"
          ]
        },
        {
          "metadata": {
            "tags": null
          },
          "name": "stdout",
          "output_type": "stream",
          "text": [
            "                   all        219        650       0.89      0.937      0.974      0.741\n"
          ]
        },
        {
          "metadata": {
            "tags": null
          },
          "name": "stderr",
          "output_type": "stream",
          "text": [
            "\n"
          ]
        },
        {
          "metadata": {
            "tags": null
          },
          "name": "stdout",
          "output_type": "stream",
          "text": [
            "\n",
            "      Epoch    GPU_mem   box_loss   cls_loss   dfl_loss  Instances       Size\n"
          ]
        },
        {
          "metadata": {
            "tags": null
          },
          "name": "stderr",
          "output_type": "stream",
          "text": [
            "      26/50      4.33G     0.9838     0.7223      1.052        176        640: 100%|██████████| 7/7 [00:03<00:00,  1.84it/s]\n",
            "                 Class     Images  Instances      Box(P          R      mAP50  mAP50-95): 100%|██████████| 4/4 [00:04<00:00,  1.14s/it]"
          ]
        },
        {
          "metadata": {
            "tags": null
          },
          "name": "stdout",
          "output_type": "stream",
          "text": [
            "                   all        219        650       0.92      0.929      0.967      0.737\n"
          ]
        },
        {
          "metadata": {
            "tags": null
          },
          "name": "stderr",
          "output_type": "stream",
          "text": [
            "\n"
          ]
        },
        {
          "metadata": {
            "tags": null
          },
          "name": "stdout",
          "output_type": "stream",
          "text": [
            "\n",
            "      Epoch    GPU_mem   box_loss   cls_loss   dfl_loss  Instances       Size\n"
          ]
        },
        {
          "metadata": {
            "tags": null
          },
          "name": "stderr",
          "output_type": "stream",
          "text": [
            "      27/50      4.29G     0.9686     0.7127       1.05        131        640: 100%|██████████| 7/7 [00:02<00:00,  2.94it/s]\n",
            "                 Class     Images  Instances      Box(P          R      mAP50  mAP50-95): 100%|██████████| 4/4 [00:03<00:00,  1.21it/s]"
          ]
        },
        {
          "metadata": {
            "tags": null
          },
          "name": "stdout",
          "output_type": "stream",
          "text": [
            "                   all        219        650      0.937      0.894      0.965      0.748\n"
          ]
        },
        {
          "metadata": {
            "tags": null
          },
          "name": "stderr",
          "output_type": "stream",
          "text": [
            "\n"
          ]
        },
        {
          "metadata": {
            "tags": null
          },
          "name": "stdout",
          "output_type": "stream",
          "text": [
            "\n",
            "      Epoch    GPU_mem   box_loss   cls_loss   dfl_loss  Instances       Size\n"
          ]
        },
        {
          "metadata": {
            "tags": null
          },
          "name": "stderr",
          "output_type": "stream",
          "text": [
            "      28/50      4.34G     0.9412     0.7003      1.041        175        640: 100%|██████████| 7/7 [00:02<00:00,  2.38it/s]\n",
            "                 Class     Images  Instances      Box(P          R      mAP50  mAP50-95): 100%|██████████| 4/4 [00:05<00:00,  1.41s/it]"
          ]
        },
        {
          "metadata": {
            "tags": null
          },
          "name": "stdout",
          "output_type": "stream",
          "text": [
            "                   all        219        650      0.886       0.92      0.969       0.75\n"
          ]
        },
        {
          "metadata": {
            "tags": null
          },
          "name": "stderr",
          "output_type": "stream",
          "text": [
            "\n"
          ]
        },
        {
          "metadata": {
            "tags": null
          },
          "name": "stdout",
          "output_type": "stream",
          "text": [
            "\n",
            "      Epoch    GPU_mem   box_loss   cls_loss   dfl_loss  Instances       Size\n"
          ]
        },
        {
          "metadata": {
            "tags": null
          },
          "name": "stderr",
          "output_type": "stream",
          "text": [
            "      29/50      4.34G     0.9645     0.7022       1.04        152        640: 100%|██████████| 7/7 [00:02<00:00,  2.89it/s]\n",
            "                 Class     Images  Instances      Box(P          R      mAP50  mAP50-95): 100%|██████████| 4/4 [00:03<00:00,  1.23it/s]"
          ]
        },
        {
          "metadata": {
            "tags": null
          },
          "name": "stdout",
          "output_type": "stream",
          "text": [
            "                   all        219        650      0.886      0.936      0.967      0.748\n"
          ]
        },
        {
          "metadata": {
            "tags": null
          },
          "name": "stderr",
          "output_type": "stream",
          "text": [
            "\n"
          ]
        },
        {
          "metadata": {
            "tags": null
          },
          "name": "stdout",
          "output_type": "stream",
          "text": [
            "\n",
            "      Epoch    GPU_mem   box_loss   cls_loss   dfl_loss  Instances       Size\n"
          ]
        },
        {
          "metadata": {
            "tags": null
          },
          "name": "stderr",
          "output_type": "stream",
          "text": [
            "      30/50      4.35G     0.9579     0.7192       1.04        114        640: 100%|██████████| 7/7 [00:02<00:00,  2.92it/s]\n",
            "                 Class     Images  Instances      Box(P          R      mAP50  mAP50-95): 100%|██████████| 4/4 [00:04<00:00,  1.13s/it]"
          ]
        },
        {
          "metadata": {
            "tags": null
          },
          "name": "stdout",
          "output_type": "stream",
          "text": [
            "                   all        219        650      0.935      0.941      0.973      0.776\n"
          ]
        },
        {
          "metadata": {
            "tags": null
          },
          "name": "stderr",
          "output_type": "stream",
          "text": [
            "\n"
          ]
        },
        {
          "metadata": {
            "tags": null
          },
          "name": "stdout",
          "output_type": "stream",
          "text": [
            "\n",
            "      Epoch    GPU_mem   box_loss   cls_loss   dfl_loss  Instances       Size\n"
          ]
        },
        {
          "metadata": {
            "tags": null
          },
          "name": "stderr",
          "output_type": "stream",
          "text": [
            "      31/50      4.35G     0.9587      0.705      1.024        109        640: 100%|██████████| 7/7 [00:03<00:00,  1.83it/s]\n",
            "                 Class     Images  Instances      Box(P          R      mAP50  mAP50-95): 100%|██████████| 4/4 [00:03<00:00,  1.20it/s]"
          ]
        },
        {
          "metadata": {
            "tags": null
          },
          "name": "stdout",
          "output_type": "stream",
          "text": [
            "                   all        219        650      0.941      0.932      0.978      0.789\n"
          ]
        },
        {
          "metadata": {
            "tags": null
          },
          "name": "stderr",
          "output_type": "stream",
          "text": [
            "\n"
          ]
        },
        {
          "metadata": {
            "tags": null
          },
          "name": "stdout",
          "output_type": "stream",
          "text": [
            "\n",
            "      Epoch    GPU_mem   box_loss   cls_loss   dfl_loss  Instances       Size\n"
          ]
        },
        {
          "metadata": {
            "tags": null
          },
          "name": "stderr",
          "output_type": "stream",
          "text": [
            "      32/50      4.35G     0.9426     0.7202      1.033        141        640: 100%|██████████| 7/7 [00:02<00:00,  2.81it/s]\n",
            "                 Class     Images  Instances      Box(P          R      mAP50  mAP50-95): 100%|██████████| 4/4 [00:03<00:00,  1.31it/s]"
          ]
        },
        {
          "metadata": {
            "tags": null
          },
          "name": "stdout",
          "output_type": "stream",
          "text": [
            "                   all        219        650      0.919      0.944      0.978      0.788\n"
          ]
        },
        {
          "metadata": {
            "tags": null
          },
          "name": "stderr",
          "output_type": "stream",
          "text": [
            "\n"
          ]
        },
        {
          "metadata": {
            "tags": null
          },
          "name": "stdout",
          "output_type": "stream",
          "text": [
            "\n",
            "      Epoch    GPU_mem   box_loss   cls_loss   dfl_loss  Instances       Size\n"
          ]
        },
        {
          "metadata": {
            "tags": null
          },
          "name": "stderr",
          "output_type": "stream",
          "text": [
            "      33/50      4.38G     0.9445     0.6882      1.041        113        640: 100%|██████████| 7/7 [00:03<00:00,  1.79it/s]\n",
            "                 Class     Images  Instances      Box(P          R      mAP50  mAP50-95): 100%|██████████| 4/4 [00:04<00:00,  1.16s/it]"
          ]
        },
        {
          "metadata": {
            "tags": null
          },
          "name": "stdout",
          "output_type": "stream",
          "text": [
            "                   all        219        650      0.931       0.95      0.972      0.789\n"
          ]
        },
        {
          "metadata": {
            "tags": null
          },
          "name": "stderr",
          "output_type": "stream",
          "text": [
            "\n"
          ]
        },
        {
          "metadata": {
            "tags": null
          },
          "name": "stdout",
          "output_type": "stream",
          "text": [
            "\n",
            "      Epoch    GPU_mem   box_loss   cls_loss   dfl_loss  Instances       Size\n"
          ]
        },
        {
          "metadata": {
            "tags": null
          },
          "name": "stderr",
          "output_type": "stream",
          "text": [
            "      34/50      4.28G     0.9377     0.6983      1.031        126        640: 100%|██████████| 7/7 [00:02<00:00,  2.94it/s]\n",
            "                 Class     Images  Instances      Box(P          R      mAP50  mAP50-95): 100%|██████████| 4/4 [00:03<00:00,  1.25it/s]"
          ]
        },
        {
          "metadata": {
            "tags": null
          },
          "name": "stdout",
          "output_type": "stream",
          "text": [
            "                   all        219        650      0.943      0.952      0.977       0.79\n"
          ]
        },
        {
          "metadata": {
            "tags": null
          },
          "name": "stderr",
          "output_type": "stream",
          "text": [
            "\n"
          ]
        },
        {
          "metadata": {
            "tags": null
          },
          "name": "stdout",
          "output_type": "stream",
          "text": [
            "\n",
            "      Epoch    GPU_mem   box_loss   cls_loss   dfl_loss  Instances       Size\n"
          ]
        },
        {
          "metadata": {
            "tags": null
          },
          "name": "stderr",
          "output_type": "stream",
          "text": [
            "      35/50      4.36G     0.9359     0.6736       1.05        160        640: 100%|██████████| 7/7 [00:02<00:00,  2.73it/s]\n",
            "                 Class     Images  Instances      Box(P          R      mAP50  mAP50-95): 100%|██████████| 4/4 [00:05<00:00,  1.46s/it]"
          ]
        },
        {
          "metadata": {
            "tags": null
          },
          "name": "stdout",
          "output_type": "stream",
          "text": [
            "                   all        219        650      0.949      0.959      0.979      0.808\n"
          ]
        },
        {
          "metadata": {
            "tags": null
          },
          "name": "stderr",
          "output_type": "stream",
          "text": [
            "\n"
          ]
        },
        {
          "metadata": {
            "tags": null
          },
          "name": "stdout",
          "output_type": "stream",
          "text": [
            "\n",
            "      Epoch    GPU_mem   box_loss   cls_loss   dfl_loss  Instances       Size\n"
          ]
        },
        {
          "metadata": {
            "tags": null
          },
          "name": "stderr",
          "output_type": "stream",
          "text": [
            "      36/50      4.35G     0.9498     0.6959      1.016        156        640: 100%|██████████| 7/7 [00:02<00:00,  2.89it/s]\n",
            "                 Class     Images  Instances      Box(P          R      mAP50  mAP50-95): 100%|██████████| 4/4 [00:03<00:00,  1.21it/s]"
          ]
        },
        {
          "metadata": {
            "tags": null
          },
          "name": "stdout",
          "output_type": "stream",
          "text": [
            "                   all        219        650      0.965      0.936      0.978      0.807\n"
          ]
        },
        {
          "metadata": {
            "tags": null
          },
          "name": "stderr",
          "output_type": "stream",
          "text": [
            "\n"
          ]
        },
        {
          "metadata": {
            "tags": null
          },
          "name": "stdout",
          "output_type": "stream",
          "text": [
            "\n",
            "      Epoch    GPU_mem   box_loss   cls_loss   dfl_loss  Instances       Size\n"
          ]
        },
        {
          "metadata": {
            "tags": null
          },
          "name": "stderr",
          "output_type": "stream",
          "text": [
            "      37/50      4.29G     0.8609     0.6521      1.006        124        640: 100%|██████████| 7/7 [00:02<00:00,  3.08it/s]\n",
            "                 Class     Images  Instances      Box(P          R      mAP50  mAP50-95): 100%|██████████| 4/4 [00:04<00:00,  1.19s/it]"
          ]
        },
        {
          "metadata": {
            "tags": null
          },
          "name": "stdout",
          "output_type": "stream",
          "text": [
            "                   all        219        650      0.945       0.94      0.973      0.805\n"
          ]
        },
        {
          "metadata": {
            "tags": null
          },
          "name": "stderr",
          "output_type": "stream",
          "text": [
            "\n"
          ]
        },
        {
          "metadata": {
            "tags": null
          },
          "name": "stdout",
          "output_type": "stream",
          "text": [
            "\n",
            "      Epoch    GPU_mem   box_loss   cls_loss   dfl_loss  Instances       Size\n"
          ]
        },
        {
          "metadata": {
            "tags": null
          },
          "name": "stderr",
          "output_type": "stream",
          "text": [
            "      38/50      4.35G     0.8847     0.6481       1.01        141        640: 100%|██████████| 7/7 [00:03<00:00,  2.19it/s]\n",
            "                 Class     Images  Instances      Box(P          R      mAP50  mAP50-95): 100%|██████████| 4/4 [00:03<00:00,  1.22it/s]"
          ]
        },
        {
          "metadata": {
            "tags": null
          },
          "name": "stdout",
          "output_type": "stream",
          "text": [
            "                   all        219        650       0.94      0.948      0.978       0.81\n"
          ]
        },
        {
          "metadata": {
            "tags": null
          },
          "name": "stderr",
          "output_type": "stream",
          "text": [
            "\n"
          ]
        },
        {
          "metadata": {
            "tags": null
          },
          "name": "stdout",
          "output_type": "stream",
          "text": [
            "\n",
            "      Epoch    GPU_mem   box_loss   cls_loss   dfl_loss  Instances       Size\n"
          ]
        },
        {
          "metadata": {
            "tags": null
          },
          "name": "stderr",
          "output_type": "stream",
          "text": [
            "      39/50      4.29G     0.8887     0.6683      1.008        170        640: 100%|██████████| 7/7 [00:02<00:00,  3.05it/s]\n",
            "                 Class     Images  Instances      Box(P          R      mAP50  mAP50-95): 100%|██████████| 4/4 [00:04<00:00,  1.01s/it]"
          ]
        },
        {
          "metadata": {
            "tags": null
          },
          "name": "stdout",
          "output_type": "stream",
          "text": [
            "                   all        219        650       0.95      0.951      0.979      0.808\n"
          ]
        },
        {
          "metadata": {
            "tags": null
          },
          "name": "stderr",
          "output_type": "stream",
          "text": [
            "\n"
          ]
        },
        {
          "metadata": {
            "tags": null
          },
          "name": "stdout",
          "output_type": "stream",
          "text": [
            "\n",
            "      Epoch    GPU_mem   box_loss   cls_loss   dfl_loss  Instances       Size\n"
          ]
        },
        {
          "metadata": {
            "tags": null
          },
          "name": "stderr",
          "output_type": "stream",
          "text": [
            "      40/50      4.33G     0.8815     0.6586      1.016        184        640: 100%|██████████| 7/7 [00:03<00:00,  1.84it/s]\n",
            "                 Class     Images  Instances      Box(P          R      mAP50  mAP50-95): 100%|██████████| 4/4 [00:03<00:00,  1.26it/s]"
          ]
        },
        {
          "metadata": {
            "tags": null
          },
          "name": "stdout",
          "output_type": "stream",
          "text": [
            "                   all        219        650      0.954      0.952      0.981      0.815\n"
          ]
        },
        {
          "metadata": {
            "tags": null
          },
          "name": "stderr",
          "output_type": "stream",
          "text": [
            "\n"
          ]
        },
        {
          "metadata": {
            "tags": null
          },
          "name": "stdout",
          "output_type": "stream",
          "text": [
            "Closing dataloader mosaic\n",
            "\u001b[34m\u001b[1malbumentations: \u001b[0mBlur(p=0.01, blur_limit=(3, 7)), MedianBlur(p=0.01, blur_limit=(3, 7)), ToGray(p=0.01), CLAHE(p=0.01, clip_limit=(1, 4.0), tile_grid_size=(8, 8))\n",
            "\n",
            "      Epoch    GPU_mem   box_loss   cls_loss   dfl_loss  Instances       Size\n"
          ]
        },
        {
          "metadata": {
            "tags": null
          },
          "name": "stderr",
          "output_type": "stream",
          "text": [
            "      41/50      4.63G     0.8829     0.6758      1.031        100        640: 100%|██████████| 7/7 [00:07<00:00,  1.07s/it]\n",
            "                 Class     Images  Instances      Box(P          R      mAP50  mAP50-95): 100%|██████████| 4/4 [00:04<00:00,  1.21s/it]"
          ]
        },
        {
          "metadata": {
            "tags": null
          },
          "name": "stdout",
          "output_type": "stream",
          "text": [
            "                   all        219        650      0.961       0.94       0.98      0.811\n"
          ]
        },
        {
          "metadata": {
            "tags": null
          },
          "name": "stderr",
          "output_type": "stream",
          "text": [
            "\n"
          ]
        },
        {
          "metadata": {
            "tags": null
          },
          "name": "stdout",
          "output_type": "stream",
          "text": [
            "\n",
            "      Epoch    GPU_mem   box_loss   cls_loss   dfl_loss  Instances       Size\n"
          ]
        },
        {
          "metadata": {
            "tags": null
          },
          "name": "stderr",
          "output_type": "stream",
          "text": [
            "      42/50      4.34G      0.833     0.5898     0.9804         58        640: 100%|██████████| 7/7 [00:02<00:00,  2.55it/s]\n",
            "                 Class     Images  Instances      Box(P          R      mAP50  mAP50-95): 100%|██████████| 4/4 [00:02<00:00,  1.38it/s]"
          ]
        },
        {
          "metadata": {
            "tags": null
          },
          "name": "stdout",
          "output_type": "stream",
          "text": [
            "                   all        219        650      0.961      0.934      0.975      0.815\n"
          ]
        },
        {
          "metadata": {
            "tags": null
          },
          "name": "stderr",
          "output_type": "stream",
          "text": [
            "\n"
          ]
        },
        {
          "metadata": {
            "tags": null
          },
          "name": "stdout",
          "output_type": "stream",
          "text": [
            "\n",
            "      Epoch    GPU_mem   box_loss   cls_loss   dfl_loss  Instances       Size\n"
          ]
        },
        {
          "metadata": {
            "tags": null
          },
          "name": "stderr",
          "output_type": "stream",
          "text": [
            "      43/50      4.28G     0.8107     0.5793     0.9848         50        640: 100%|██████████| 7/7 [00:02<00:00,  2.97it/s]\n",
            "                 Class     Images  Instances      Box(P          R      mAP50  mAP50-95): 100%|██████████| 4/4 [00:05<00:00,  1.42s/it]"
          ]
        },
        {
          "metadata": {
            "tags": null
          },
          "name": "stdout",
          "output_type": "stream",
          "text": [
            "                   all        219        650      0.949      0.951      0.978      0.821\n"
          ]
        },
        {
          "metadata": {
            "tags": null
          },
          "name": "stderr",
          "output_type": "stream",
          "text": [
            "\n"
          ]
        },
        {
          "metadata": {
            "tags": null
          },
          "name": "stdout",
          "output_type": "stream",
          "text": [
            "\n",
            "      Epoch    GPU_mem   box_loss   cls_loss   dfl_loss  Instances       Size\n"
          ]
        },
        {
          "metadata": {
            "tags": null
          },
          "name": "stderr",
          "output_type": "stream",
          "text": [
            "      44/50      4.28G     0.8072     0.5713      0.985         90        640: 100%|██████████| 7/7 [00:02<00:00,  2.72it/s]\n",
            "                 Class     Images  Instances      Box(P          R      mAP50  mAP50-95): 100%|██████████| 4/4 [00:02<00:00,  1.49it/s]"
          ]
        },
        {
          "metadata": {
            "tags": null
          },
          "name": "stdout",
          "output_type": "stream",
          "text": [
            "                   all        219        650      0.958      0.951      0.981      0.826\n"
          ]
        },
        {
          "metadata": {
            "tags": null
          },
          "name": "stderr",
          "output_type": "stream",
          "text": [
            "\n"
          ]
        },
        {
          "metadata": {
            "tags": null
          },
          "name": "stdout",
          "output_type": "stream",
          "text": [
            "\n",
            "      Epoch    GPU_mem   box_loss   cls_loss   dfl_loss  Instances       Size\n"
          ]
        },
        {
          "metadata": {
            "tags": null
          },
          "name": "stderr",
          "output_type": "stream",
          "text": [
            "      45/50      4.32G     0.7895     0.5522     0.9646         89        640: 100%|██████████| 7/7 [00:02<00:00,  3.09it/s]\n",
            "                 Class     Images  Instances      Box(P          R      mAP50  mAP50-95): 100%|██████████| 4/4 [00:04<00:00,  1.16s/it]"
          ]
        },
        {
          "metadata": {
            "tags": null
          },
          "name": "stdout",
          "output_type": "stream",
          "text": [
            "                   all        219        650      0.953      0.964      0.982      0.822\n"
          ]
        },
        {
          "metadata": {
            "tags": null
          },
          "name": "stderr",
          "output_type": "stream",
          "text": [
            "\n"
          ]
        },
        {
          "metadata": {
            "tags": null
          },
          "name": "stdout",
          "output_type": "stream",
          "text": [
            "\n",
            "      Epoch    GPU_mem   box_loss   cls_loss   dfl_loss  Instances       Size\n"
          ]
        },
        {
          "metadata": {
            "tags": null
          },
          "name": "stderr",
          "output_type": "stream",
          "text": [
            "      46/50      4.32G     0.7754     0.5573     0.9722         71        640: 100%|██████████| 7/7 [00:03<00:00,  2.28it/s]\n",
            "                 Class     Images  Instances      Box(P          R      mAP50  mAP50-95): 100%|██████████| 4/4 [00:02<00:00,  1.41it/s]"
          ]
        },
        {
          "metadata": {
            "tags": null
          },
          "name": "stdout",
          "output_type": "stream",
          "text": [
            "                   all        219        650       0.96      0.961      0.981      0.825\n"
          ]
        },
        {
          "metadata": {
            "tags": null
          },
          "name": "stderr",
          "output_type": "stream",
          "text": [
            "\n"
          ]
        },
        {
          "metadata": {
            "tags": null
          },
          "name": "stdout",
          "output_type": "stream",
          "text": [
            "\n",
            "      Epoch    GPU_mem   box_loss   cls_loss   dfl_loss  Instances       Size\n"
          ]
        },
        {
          "metadata": {
            "tags": null
          },
          "name": "stderr",
          "output_type": "stream",
          "text": [
            "      47/50      4.28G     0.7674     0.5496      0.964         60        640: 100%|██████████| 7/7 [00:02<00:00,  3.00it/s]\n",
            "                 Class     Images  Instances      Box(P          R      mAP50  mAP50-95): 100%|██████████| 4/4 [00:02<00:00,  1.47it/s]"
          ]
        },
        {
          "metadata": {
            "tags": null
          },
          "name": "stdout",
          "output_type": "stream",
          "text": [
            "                   all        219        650      0.958      0.965      0.982      0.832\n"
          ]
        },
        {
          "metadata": {
            "tags": null
          },
          "name": "stderr",
          "output_type": "stream",
          "text": [
            "\n"
          ]
        },
        {
          "metadata": {
            "tags": null
          },
          "name": "stdout",
          "output_type": "stream",
          "text": [
            "\n",
            "      Epoch    GPU_mem   box_loss   cls_loss   dfl_loss  Instances       Size\n"
          ]
        },
        {
          "metadata": {
            "tags": null
          },
          "name": "stderr",
          "output_type": "stream",
          "text": [
            "      48/50      4.28G     0.7501     0.5356     0.9602         69        640: 100%|██████████| 7/7 [00:03<00:00,  2.20it/s]\n",
            "                 Class     Images  Instances      Box(P          R      mAP50  mAP50-95): 100%|██████████| 4/4 [00:03<00:00,  1.01it/s]"
          ]
        },
        {
          "metadata": {
            "tags": null
          },
          "name": "stdout",
          "output_type": "stream",
          "text": [
            "                   all        219        650      0.959      0.962      0.979      0.836\n"
          ]
        },
        {
          "metadata": {
            "tags": null
          },
          "name": "stderr",
          "output_type": "stream",
          "text": [
            "\n"
          ]
        },
        {
          "metadata": {
            "tags": null
          },
          "name": "stdout",
          "output_type": "stream",
          "text": [
            "\n",
            "      Epoch    GPU_mem   box_loss   cls_loss   dfl_loss  Instances       Size\n"
          ]
        },
        {
          "metadata": {
            "tags": null
          },
          "name": "stderr",
          "output_type": "stream",
          "text": [
            "      49/50      4.34G     0.7554     0.5223     0.9472         69        640: 100%|██████████| 7/7 [00:02<00:00,  3.13it/s]\n",
            "                 Class     Images  Instances      Box(P          R      mAP50  mAP50-95): 100%|██████████| 4/4 [00:02<00:00,  1.45it/s]"
          ]
        },
        {
          "metadata": {
            "tags": null
          },
          "name": "stdout",
          "output_type": "stream",
          "text": [
            "                   all        219        650      0.959      0.963      0.981      0.841\n"
          ]
        },
        {
          "metadata": {
            "tags": null
          },
          "name": "stderr",
          "output_type": "stream",
          "text": [
            "\n"
          ]
        },
        {
          "metadata": {
            "tags": null
          },
          "name": "stdout",
          "output_type": "stream",
          "text": [
            "\n",
            "      Epoch    GPU_mem   box_loss   cls_loss   dfl_loss  Instances       Size\n"
          ]
        },
        {
          "metadata": {
            "tags": null
          },
          "name": "stderr",
          "output_type": "stream",
          "text": [
            "      50/50      4.34G     0.7259     0.5176     0.9543         75        640: 100%|██████████| 7/7 [00:02<00:00,  2.80it/s]\n",
            "                 Class     Images  Instances      Box(P          R      mAP50  mAP50-95): 100%|██████████| 4/4 [00:04<00:00,  1.19s/it]"
          ]
        },
        {
          "metadata": {
            "tags": null
          },
          "name": "stdout",
          "output_type": "stream",
          "text": [
            "                   all        219        650       0.96      0.963      0.981      0.843\n"
          ]
        },
        {
          "metadata": {
            "tags": null
          },
          "name": "stderr",
          "output_type": "stream",
          "text": [
            "\n"
          ]
        },
        {
          "metadata": {
            "tags": null
          },
          "name": "stdout",
          "output_type": "stream",
          "text": [
            "\n",
            "50 epochs completed in 0.112 hours.\n",
            "Optimizer stripped from runs/detect/train2/weights/last.pt, 6.2MB\n",
            "Optimizer stripped from runs/detect/train2/weights/best.pt, 6.2MB\n",
            "\n",
            "Validating runs/detect/train2/weights/best.pt...\n",
            "Ultralytics YOLOv8.0.223 🚀 Python-3.10.12 torch-2.1.0+cu118 CUDA:0 (Tesla T4, 15102MiB)\n",
            "Model summary (fused): 168 layers, 3006818 parameters, 0 gradients, 8.1 GFLOPs\n"
          ]
        },
        {
          "output_type": "stream",
          "name": "stderr",
          "text": [
            "                 Class     Images  Instances      Box(P          R      mAP50  mAP50-95): 100%|██████████| 4/4 [00:05<00:00,  1.46s/it]\n"
          ]
        },
        {
          "output_type": "stream",
          "name": "stdout",
          "text": [
            "                   all        219        650       0.96      0.965      0.981      0.843\n",
            "                boneli        219         94      0.976      0.968      0.985      0.818\n",
            "               bonesiz        219        130      0.937      0.969      0.989      0.853\n",
            "               maskeli        219        179       0.95      0.947      0.972      0.795\n",
            "              maskesiz        219        153      0.952      0.905      0.951      0.785\n",
            "               onluklu        219         80      0.982          1      0.995      0.891\n",
            "              onluksuz        219         14      0.963          1      0.995      0.917\n",
            "Speed: 0.2ms preprocess, 3.1ms inference, 0.0ms loss, 3.9ms postprocess per image\n",
            "Results saved to \u001b[1mruns/detect/train2\u001b[0m\n"
          ]
        },
        {
          "output_type": "execute_result",
          "data": {
            "text/plain": [
              "ultralytics.utils.metrics.DetMetrics object with attributes:\n",
              "\n",
              "ap_class_index: array([0, 1, 2, 3, 4, 5])\n",
              "box: ultralytics.utils.metrics.Metric object\n",
              "confusion_matrix: <ultralytics.utils.metrics.ConfusionMatrix object at 0x7da8dedd75e0>\n",
              "curves: ['Precision-Recall(B)', 'F1-Confidence(B)', 'Precision-Confidence(B)', 'Recall-Confidence(B)']\n",
              "curves_results: [[array([          0,    0.001001,    0.002002,    0.003003,    0.004004,    0.005005,    0.006006,    0.007007,    0.008008,    0.009009,     0.01001,    0.011011,    0.012012,    0.013013,    0.014014,    0.015015,    0.016016,    0.017017,    0.018018,    0.019019,     0.02002,    0.021021,    0.022022,    0.023023,\n",
              "          0.024024,    0.025025,    0.026026,    0.027027,    0.028028,    0.029029,     0.03003,    0.031031,    0.032032,    0.033033,    0.034034,    0.035035,    0.036036,    0.037037,    0.038038,    0.039039,     0.04004,    0.041041,    0.042042,    0.043043,    0.044044,    0.045045,    0.046046,    0.047047,\n",
              "          0.048048,    0.049049,     0.05005,    0.051051,    0.052052,    0.053053,    0.054054,    0.055055,    0.056056,    0.057057,    0.058058,    0.059059,     0.06006,    0.061061,    0.062062,    0.063063,    0.064064,    0.065065,    0.066066,    0.067067,    0.068068,    0.069069,     0.07007,    0.071071,\n",
              "          0.072072,    0.073073,    0.074074,    0.075075,    0.076076,    0.077077,    0.078078,    0.079079,     0.08008,    0.081081,    0.082082,    0.083083,    0.084084,    0.085085,    0.086086,    0.087087,    0.088088,    0.089089,     0.09009,    0.091091,    0.092092,    0.093093,    0.094094,    0.095095,\n",
              "          0.096096,    0.097097,    0.098098,    0.099099,      0.1001,      0.1011,      0.1021,      0.1031,      0.1041,     0.10511,     0.10611,     0.10711,     0.10811,     0.10911,     0.11011,     0.11111,     0.11211,     0.11311,     0.11411,     0.11512,     0.11612,     0.11712,     0.11812,     0.11912,\n",
              "           0.12012,     0.12112,     0.12212,     0.12312,     0.12412,     0.12513,     0.12613,     0.12713,     0.12813,     0.12913,     0.13013,     0.13113,     0.13213,     0.13313,     0.13413,     0.13514,     0.13614,     0.13714,     0.13814,     0.13914,     0.14014,     0.14114,     0.14214,     0.14314,\n",
              "           0.14414,     0.14515,     0.14615,     0.14715,     0.14815,     0.14915,     0.15015,     0.15115,     0.15215,     0.15315,     0.15415,     0.15516,     0.15616,     0.15716,     0.15816,     0.15916,     0.16016,     0.16116,     0.16216,     0.16316,     0.16416,     0.16517,     0.16617,     0.16717,\n",
              "           0.16817,     0.16917,     0.17017,     0.17117,     0.17217,     0.17317,     0.17417,     0.17518,     0.17618,     0.17718,     0.17818,     0.17918,     0.18018,     0.18118,     0.18218,     0.18318,     0.18418,     0.18519,     0.18619,     0.18719,     0.18819,     0.18919,     0.19019,     0.19119,\n",
              "           0.19219,     0.19319,     0.19419,      0.1952,      0.1962,      0.1972,      0.1982,      0.1992,      0.2002,      0.2012,      0.2022,      0.2032,      0.2042,     0.20521,     0.20621,     0.20721,     0.20821,     0.20921,     0.21021,     0.21121,     0.21221,     0.21321,     0.21421,     0.21522,\n",
              "           0.21622,     0.21722,     0.21822,     0.21922,     0.22022,     0.22122,     0.22222,     0.22322,     0.22422,     0.22523,     0.22623,     0.22723,     0.22823,     0.22923,     0.23023,     0.23123,     0.23223,     0.23323,     0.23423,     0.23524,     0.23624,     0.23724,     0.23824,     0.23924,\n",
              "           0.24024,     0.24124,     0.24224,     0.24324,     0.24424,     0.24525,     0.24625,     0.24725,     0.24825,     0.24925,     0.25025,     0.25125,     0.25225,     0.25325,     0.25425,     0.25526,     0.25626,     0.25726,     0.25826,     0.25926,     0.26026,     0.26126,     0.26226,     0.26326,\n",
              "           0.26426,     0.26527,     0.26627,     0.26727,     0.26827,     0.26927,     0.27027,     0.27127,     0.27227,     0.27327,     0.27427,     0.27528,     0.27628,     0.27728,     0.27828,     0.27928,     0.28028,     0.28128,     0.28228,     0.28328,     0.28428,     0.28529,     0.28629,     0.28729,\n",
              "           0.28829,     0.28929,     0.29029,     0.29129,     0.29229,     0.29329,     0.29429,      0.2953,      0.2963,      0.2973,      0.2983,      0.2993,      0.3003,      0.3013,      0.3023,      0.3033,      0.3043,     0.30531,     0.30631,     0.30731,     0.30831,     0.30931,     0.31031,     0.31131,\n",
              "           0.31231,     0.31331,     0.31431,     0.31532,     0.31632,     0.31732,     0.31832,     0.31932,     0.32032,     0.32132,     0.32232,     0.32332,     0.32432,     0.32533,     0.32633,     0.32733,     0.32833,     0.32933,     0.33033,     0.33133,     0.33233,     0.33333,     0.33433,     0.33534,\n",
              "           0.33634,     0.33734,     0.33834,     0.33934,     0.34034,     0.34134,     0.34234,     0.34334,     0.34434,     0.34535,     0.34635,     0.34735,     0.34835,     0.34935,     0.35035,     0.35135,     0.35235,     0.35335,     0.35435,     0.35536,     0.35636,     0.35736,     0.35836,     0.35936,\n",
              "           0.36036,     0.36136,     0.36236,     0.36336,     0.36436,     0.36537,     0.36637,     0.36737,     0.36837,     0.36937,     0.37037,     0.37137,     0.37237,     0.37337,     0.37437,     0.37538,     0.37638,     0.37738,     0.37838,     0.37938,     0.38038,     0.38138,     0.38238,     0.38338,\n",
              "           0.38438,     0.38539,     0.38639,     0.38739,     0.38839,     0.38939,     0.39039,     0.39139,     0.39239,     0.39339,     0.39439,      0.3954,      0.3964,      0.3974,      0.3984,      0.3994,      0.4004,      0.4014,      0.4024,      0.4034,      0.4044,     0.40541,     0.40641,     0.40741,\n",
              "           0.40841,     0.40941,     0.41041,     0.41141,     0.41241,     0.41341,     0.41441,     0.41542,     0.41642,     0.41742,     0.41842,     0.41942,     0.42042,     0.42142,     0.42242,     0.42342,     0.42442,     0.42543,     0.42643,     0.42743,     0.42843,     0.42943,     0.43043,     0.43143,\n",
              "           0.43243,     0.43343,     0.43443,     0.43544,     0.43644,     0.43744,     0.43844,     0.43944,     0.44044,     0.44144,     0.44244,     0.44344,     0.44444,     0.44545,     0.44645,     0.44745,     0.44845,     0.44945,     0.45045,     0.45145,     0.45245,     0.45345,     0.45445,     0.45546,\n",
              "           0.45646,     0.45746,     0.45846,     0.45946,     0.46046,     0.46146,     0.46246,     0.46346,     0.46446,     0.46547,     0.46647,     0.46747,     0.46847,     0.46947,     0.47047,     0.47147,     0.47247,     0.47347,     0.47447,     0.47548,     0.47648,     0.47748,     0.47848,     0.47948,\n",
              "           0.48048,     0.48148,     0.48248,     0.48348,     0.48448,     0.48549,     0.48649,     0.48749,     0.48849,     0.48949,     0.49049,     0.49149,     0.49249,     0.49349,     0.49449,      0.4955,      0.4965,      0.4975,      0.4985,      0.4995,      0.5005,      0.5015,      0.5025,      0.5035,\n",
              "            0.5045,     0.50551,     0.50651,     0.50751,     0.50851,     0.50951,     0.51051,     0.51151,     0.51251,     0.51351,     0.51451,     0.51552,     0.51652,     0.51752,     0.51852,     0.51952,     0.52052,     0.52152,     0.52252,     0.52352,     0.52452,     0.52553,     0.52653,     0.52753,\n",
              "           0.52853,     0.52953,     0.53053,     0.53153,     0.53253,     0.53353,     0.53453,     0.53554,     0.53654,     0.53754,     0.53854,     0.53954,     0.54054,     0.54154,     0.54254,     0.54354,     0.54454,     0.54555,     0.54655,     0.54755,     0.54855,     0.54955,     0.55055,     0.55155,\n",
              "           0.55255,     0.55355,     0.55455,     0.55556,     0.55656,     0.55756,     0.55856,     0.55956,     0.56056,     0.56156,     0.56256,     0.56356,     0.56456,     0.56557,     0.56657,     0.56757,     0.56857,     0.56957,     0.57057,     0.57157,     0.57257,     0.57357,     0.57457,     0.57558,\n",
              "           0.57658,     0.57758,     0.57858,     0.57958,     0.58058,     0.58158,     0.58258,     0.58358,     0.58458,     0.58559,     0.58659,     0.58759,     0.58859,     0.58959,     0.59059,     0.59159,     0.59259,     0.59359,     0.59459,      0.5956,      0.5966,      0.5976,      0.5986,      0.5996,\n",
              "            0.6006,      0.6016,      0.6026,      0.6036,      0.6046,     0.60561,     0.60661,     0.60761,     0.60861,     0.60961,     0.61061,     0.61161,     0.61261,     0.61361,     0.61461,     0.61562,     0.61662,     0.61762,     0.61862,     0.61962,     0.62062,     0.62162,     0.62262,     0.62362,\n",
              "           0.62462,     0.62563,     0.62663,     0.62763,     0.62863,     0.62963,     0.63063,     0.63163,     0.63263,     0.63363,     0.63463,     0.63564,     0.63664,     0.63764,     0.63864,     0.63964,     0.64064,     0.64164,     0.64264,     0.64364,     0.64464,     0.64565,     0.64665,     0.64765,\n",
              "           0.64865,     0.64965,     0.65065,     0.65165,     0.65265,     0.65365,     0.65465,     0.65566,     0.65666,     0.65766,     0.65866,     0.65966,     0.66066,     0.66166,     0.66266,     0.66366,     0.66466,     0.66567,     0.66667,     0.66767,     0.66867,     0.66967,     0.67067,     0.67167,\n",
              "           0.67267,     0.67367,     0.67467,     0.67568,     0.67668,     0.67768,     0.67868,     0.67968,     0.68068,     0.68168,     0.68268,     0.68368,     0.68468,     0.68569,     0.68669,     0.68769,     0.68869,     0.68969,     0.69069,     0.69169,     0.69269,     0.69369,     0.69469,      0.6957,\n",
              "            0.6967,      0.6977,      0.6987,      0.6997,      0.7007,      0.7017,      0.7027,      0.7037,      0.7047,     0.70571,     0.70671,     0.70771,     0.70871,     0.70971,     0.71071,     0.71171,     0.71271,     0.71371,     0.71471,     0.71572,     0.71672,     0.71772,     0.71872,     0.71972,\n",
              "           0.72072,     0.72172,     0.72272,     0.72372,     0.72472,     0.72573,     0.72673,     0.72773,     0.72873,     0.72973,     0.73073,     0.73173,     0.73273,     0.73373,     0.73473,     0.73574,     0.73674,     0.73774,     0.73874,     0.73974,     0.74074,     0.74174,     0.74274,     0.74374,\n",
              "           0.74474,     0.74575,     0.74675,     0.74775,     0.74875,     0.74975,     0.75075,     0.75175,     0.75275,     0.75375,     0.75475,     0.75576,     0.75676,     0.75776,     0.75876,     0.75976,     0.76076,     0.76176,     0.76276,     0.76376,     0.76476,     0.76577,     0.76677,     0.76777,\n",
              "           0.76877,     0.76977,     0.77077,     0.77177,     0.77277,     0.77377,     0.77477,     0.77578,     0.77678,     0.77778,     0.77878,     0.77978,     0.78078,     0.78178,     0.78278,     0.78378,     0.78478,     0.78579,     0.78679,     0.78779,     0.78879,     0.78979,     0.79079,     0.79179,\n",
              "           0.79279,     0.79379,     0.79479,      0.7958,      0.7968,      0.7978,      0.7988,      0.7998,      0.8008,      0.8018,      0.8028,      0.8038,      0.8048,     0.80581,     0.80681,     0.80781,     0.80881,     0.80981,     0.81081,     0.81181,     0.81281,     0.81381,     0.81481,     0.81582,\n",
              "           0.81682,     0.81782,     0.81882,     0.81982,     0.82082,     0.82182,     0.82282,     0.82382,     0.82482,     0.82583,     0.82683,     0.82783,     0.82883,     0.82983,     0.83083,     0.83183,     0.83283,     0.83383,     0.83483,     0.83584,     0.83684,     0.83784,     0.83884,     0.83984,\n",
              "           0.84084,     0.84184,     0.84284,     0.84384,     0.84484,     0.84585,     0.84685,     0.84785,     0.84885,     0.84985,     0.85085,     0.85185,     0.85285,     0.85385,     0.85485,     0.85586,     0.85686,     0.85786,     0.85886,     0.85986,     0.86086,     0.86186,     0.86286,     0.86386,\n",
              "           0.86486,     0.86587,     0.86687,     0.86787,     0.86887,     0.86987,     0.87087,     0.87187,     0.87287,     0.87387,     0.87487,     0.87588,     0.87688,     0.87788,     0.87888,     0.87988,     0.88088,     0.88188,     0.88288,     0.88388,     0.88488,     0.88589,     0.88689,     0.88789,\n",
              "           0.88889,     0.88989,     0.89089,     0.89189,     0.89289,     0.89389,     0.89489,      0.8959,      0.8969,      0.8979,      0.8989,      0.8999,      0.9009,      0.9019,      0.9029,      0.9039,      0.9049,     0.90591,     0.90691,     0.90791,     0.90891,     0.90991,     0.91091,     0.91191,\n",
              "           0.91291,     0.91391,     0.91491,     0.91592,     0.91692,     0.91792,     0.91892,     0.91992,     0.92092,     0.92192,     0.92292,     0.92392,     0.92492,     0.92593,     0.92693,     0.92793,     0.92893,     0.92993,     0.93093,     0.93193,     0.93293,     0.93393,     0.93493,     0.93594,\n",
              "           0.93694,     0.93794,     0.93894,     0.93994,     0.94094,     0.94194,     0.94294,     0.94394,     0.94494,     0.94595,     0.94695,     0.94795,     0.94895,     0.94995,     0.95095,     0.95195,     0.95295,     0.95395,     0.95495,     0.95596,     0.95696,     0.95796,     0.95896,     0.95996,\n",
              "           0.96096,     0.96196,     0.96296,     0.96396,     0.96496,     0.96597,     0.96697,     0.96797,     0.96897,     0.96997,     0.97097,     0.97197,     0.97297,     0.97397,     0.97497,     0.97598,     0.97698,     0.97798,     0.97898,     0.97998,     0.98098,     0.98198,     0.98298,     0.98398,\n",
              "           0.98498,     0.98599,     0.98699,     0.98799,     0.98899,     0.98999,     0.99099,     0.99199,     0.99299,     0.99399,     0.99499,       0.996,       0.997,       0.998,       0.999,           1]), array([[          1,           1,           1, ...,     0.34815,     0.34815,           0],\n",
              "       [          1,           1,           1, ...,     0.06149,    0.030745,           0],\n",
              "       [          1,           1,           1, ...,      0.0268,      0.0134,           0],\n",
              "       [          1,           1,           1, ...,    0.011118,   0.0055589,           0],\n",
              "       [          1,           1,           1, ...,     0.98765,     0.98765,           0],\n",
              "       [          1,           1,           1, ...,           1,           1,           0]]), 'Recall', 'Precision'], [array([          0,    0.001001,    0.002002,    0.003003,    0.004004,    0.005005,    0.006006,    0.007007,    0.008008,    0.009009,     0.01001,    0.011011,    0.012012,    0.013013,    0.014014,    0.015015,    0.016016,    0.017017,    0.018018,    0.019019,     0.02002,    0.021021,    0.022022,    0.023023,\n",
              "          0.024024,    0.025025,    0.026026,    0.027027,    0.028028,    0.029029,     0.03003,    0.031031,    0.032032,    0.033033,    0.034034,    0.035035,    0.036036,    0.037037,    0.038038,    0.039039,     0.04004,    0.041041,    0.042042,    0.043043,    0.044044,    0.045045,    0.046046,    0.047047,\n",
              "          0.048048,    0.049049,     0.05005,    0.051051,    0.052052,    0.053053,    0.054054,    0.055055,    0.056056,    0.057057,    0.058058,    0.059059,     0.06006,    0.061061,    0.062062,    0.063063,    0.064064,    0.065065,    0.066066,    0.067067,    0.068068,    0.069069,     0.07007,    0.071071,\n",
              "          0.072072,    0.073073,    0.074074,    0.075075,    0.076076,    0.077077,    0.078078,    0.079079,     0.08008,    0.081081,    0.082082,    0.083083,    0.084084,    0.085085,    0.086086,    0.087087,    0.088088,    0.089089,     0.09009,    0.091091,    0.092092,    0.093093,    0.094094,    0.095095,\n",
              "          0.096096,    0.097097,    0.098098,    0.099099,      0.1001,      0.1011,      0.1021,      0.1031,      0.1041,     0.10511,     0.10611,     0.10711,     0.10811,     0.10911,     0.11011,     0.11111,     0.11211,     0.11311,     0.11411,     0.11512,     0.11612,     0.11712,     0.11812,     0.11912,\n",
              "           0.12012,     0.12112,     0.12212,     0.12312,     0.12412,     0.12513,     0.12613,     0.12713,     0.12813,     0.12913,     0.13013,     0.13113,     0.13213,     0.13313,     0.13413,     0.13514,     0.13614,     0.13714,     0.13814,     0.13914,     0.14014,     0.14114,     0.14214,     0.14314,\n",
              "           0.14414,     0.14515,     0.14615,     0.14715,     0.14815,     0.14915,     0.15015,     0.15115,     0.15215,     0.15315,     0.15415,     0.15516,     0.15616,     0.15716,     0.15816,     0.15916,     0.16016,     0.16116,     0.16216,     0.16316,     0.16416,     0.16517,     0.16617,     0.16717,\n",
              "           0.16817,     0.16917,     0.17017,     0.17117,     0.17217,     0.17317,     0.17417,     0.17518,     0.17618,     0.17718,     0.17818,     0.17918,     0.18018,     0.18118,     0.18218,     0.18318,     0.18418,     0.18519,     0.18619,     0.18719,     0.18819,     0.18919,     0.19019,     0.19119,\n",
              "           0.19219,     0.19319,     0.19419,      0.1952,      0.1962,      0.1972,      0.1982,      0.1992,      0.2002,      0.2012,      0.2022,      0.2032,      0.2042,     0.20521,     0.20621,     0.20721,     0.20821,     0.20921,     0.21021,     0.21121,     0.21221,     0.21321,     0.21421,     0.21522,\n",
              "           0.21622,     0.21722,     0.21822,     0.21922,     0.22022,     0.22122,     0.22222,     0.22322,     0.22422,     0.22523,     0.22623,     0.22723,     0.22823,     0.22923,     0.23023,     0.23123,     0.23223,     0.23323,     0.23423,     0.23524,     0.23624,     0.23724,     0.23824,     0.23924,\n",
              "           0.24024,     0.24124,     0.24224,     0.24324,     0.24424,     0.24525,     0.24625,     0.24725,     0.24825,     0.24925,     0.25025,     0.25125,     0.25225,     0.25325,     0.25425,     0.25526,     0.25626,     0.25726,     0.25826,     0.25926,     0.26026,     0.26126,     0.26226,     0.26326,\n",
              "           0.26426,     0.26527,     0.26627,     0.26727,     0.26827,     0.26927,     0.27027,     0.27127,     0.27227,     0.27327,     0.27427,     0.27528,     0.27628,     0.27728,     0.27828,     0.27928,     0.28028,     0.28128,     0.28228,     0.28328,     0.28428,     0.28529,     0.28629,     0.28729,\n",
              "           0.28829,     0.28929,     0.29029,     0.29129,     0.29229,     0.29329,     0.29429,      0.2953,      0.2963,      0.2973,      0.2983,      0.2993,      0.3003,      0.3013,      0.3023,      0.3033,      0.3043,     0.30531,     0.30631,     0.30731,     0.30831,     0.30931,     0.31031,     0.31131,\n",
              "           0.31231,     0.31331,     0.31431,     0.31532,     0.31632,     0.31732,     0.31832,     0.31932,     0.32032,     0.32132,     0.32232,     0.32332,     0.32432,     0.32533,     0.32633,     0.32733,     0.32833,     0.32933,     0.33033,     0.33133,     0.33233,     0.33333,     0.33433,     0.33534,\n",
              "           0.33634,     0.33734,     0.33834,     0.33934,     0.34034,     0.34134,     0.34234,     0.34334,     0.34434,     0.34535,     0.34635,     0.34735,     0.34835,     0.34935,     0.35035,     0.35135,     0.35235,     0.35335,     0.35435,     0.35536,     0.35636,     0.35736,     0.35836,     0.35936,\n",
              "           0.36036,     0.36136,     0.36236,     0.36336,     0.36436,     0.36537,     0.36637,     0.36737,     0.36837,     0.36937,     0.37037,     0.37137,     0.37237,     0.37337,     0.37437,     0.37538,     0.37638,     0.37738,     0.37838,     0.37938,     0.38038,     0.38138,     0.38238,     0.38338,\n",
              "           0.38438,     0.38539,     0.38639,     0.38739,     0.38839,     0.38939,     0.39039,     0.39139,     0.39239,     0.39339,     0.39439,      0.3954,      0.3964,      0.3974,      0.3984,      0.3994,      0.4004,      0.4014,      0.4024,      0.4034,      0.4044,     0.40541,     0.40641,     0.40741,\n",
              "           0.40841,     0.40941,     0.41041,     0.41141,     0.41241,     0.41341,     0.41441,     0.41542,     0.41642,     0.41742,     0.41842,     0.41942,     0.42042,     0.42142,     0.42242,     0.42342,     0.42442,     0.42543,     0.42643,     0.42743,     0.42843,     0.42943,     0.43043,     0.43143,\n",
              "           0.43243,     0.43343,     0.43443,     0.43544,     0.43644,     0.43744,     0.43844,     0.43944,     0.44044,     0.44144,     0.44244,     0.44344,     0.44444,     0.44545,     0.44645,     0.44745,     0.44845,     0.44945,     0.45045,     0.45145,     0.45245,     0.45345,     0.45445,     0.45546,\n",
              "           0.45646,     0.45746,     0.45846,     0.45946,     0.46046,     0.46146,     0.46246,     0.46346,     0.46446,     0.46547,     0.46647,     0.46747,     0.46847,     0.46947,     0.47047,     0.47147,     0.47247,     0.47347,     0.47447,     0.47548,     0.47648,     0.47748,     0.47848,     0.47948,\n",
              "           0.48048,     0.48148,     0.48248,     0.48348,     0.48448,     0.48549,     0.48649,     0.48749,     0.48849,     0.48949,     0.49049,     0.49149,     0.49249,     0.49349,     0.49449,      0.4955,      0.4965,      0.4975,      0.4985,      0.4995,      0.5005,      0.5015,      0.5025,      0.5035,\n",
              "            0.5045,     0.50551,     0.50651,     0.50751,     0.50851,     0.50951,     0.51051,     0.51151,     0.51251,     0.51351,     0.51451,     0.51552,     0.51652,     0.51752,     0.51852,     0.51952,     0.52052,     0.52152,     0.52252,     0.52352,     0.52452,     0.52553,     0.52653,     0.52753,\n",
              "           0.52853,     0.52953,     0.53053,     0.53153,     0.53253,     0.53353,     0.53453,     0.53554,     0.53654,     0.53754,     0.53854,     0.53954,     0.54054,     0.54154,     0.54254,     0.54354,     0.54454,     0.54555,     0.54655,     0.54755,     0.54855,     0.54955,     0.55055,     0.55155,\n",
              "           0.55255,     0.55355,     0.55455,     0.55556,     0.55656,     0.55756,     0.55856,     0.55956,     0.56056,     0.56156,     0.56256,     0.56356,     0.56456,     0.56557,     0.56657,     0.56757,     0.56857,     0.56957,     0.57057,     0.57157,     0.57257,     0.57357,     0.57457,     0.57558,\n",
              "           0.57658,     0.57758,     0.57858,     0.57958,     0.58058,     0.58158,     0.58258,     0.58358,     0.58458,     0.58559,     0.58659,     0.58759,     0.58859,     0.58959,     0.59059,     0.59159,     0.59259,     0.59359,     0.59459,      0.5956,      0.5966,      0.5976,      0.5986,      0.5996,\n",
              "            0.6006,      0.6016,      0.6026,      0.6036,      0.6046,     0.60561,     0.60661,     0.60761,     0.60861,     0.60961,     0.61061,     0.61161,     0.61261,     0.61361,     0.61461,     0.61562,     0.61662,     0.61762,     0.61862,     0.61962,     0.62062,     0.62162,     0.62262,     0.62362,\n",
              "           0.62462,     0.62563,     0.62663,     0.62763,     0.62863,     0.62963,     0.63063,     0.63163,     0.63263,     0.63363,     0.63463,     0.63564,     0.63664,     0.63764,     0.63864,     0.63964,     0.64064,     0.64164,     0.64264,     0.64364,     0.64464,     0.64565,     0.64665,     0.64765,\n",
              "           0.64865,     0.64965,     0.65065,     0.65165,     0.65265,     0.65365,     0.65465,     0.65566,     0.65666,     0.65766,     0.65866,     0.65966,     0.66066,     0.66166,     0.66266,     0.66366,     0.66466,     0.66567,     0.66667,     0.66767,     0.66867,     0.66967,     0.67067,     0.67167,\n",
              "           0.67267,     0.67367,     0.67467,     0.67568,     0.67668,     0.67768,     0.67868,     0.67968,     0.68068,     0.68168,     0.68268,     0.68368,     0.68468,     0.68569,     0.68669,     0.68769,     0.68869,     0.68969,     0.69069,     0.69169,     0.69269,     0.69369,     0.69469,      0.6957,\n",
              "            0.6967,      0.6977,      0.6987,      0.6997,      0.7007,      0.7017,      0.7027,      0.7037,      0.7047,     0.70571,     0.70671,     0.70771,     0.70871,     0.70971,     0.71071,     0.71171,     0.71271,     0.71371,     0.71471,     0.71572,     0.71672,     0.71772,     0.71872,     0.71972,\n",
              "           0.72072,     0.72172,     0.72272,     0.72372,     0.72472,     0.72573,     0.72673,     0.72773,     0.72873,     0.72973,     0.73073,     0.73173,     0.73273,     0.73373,     0.73473,     0.73574,     0.73674,     0.73774,     0.73874,     0.73974,     0.74074,     0.74174,     0.74274,     0.74374,\n",
              "           0.74474,     0.74575,     0.74675,     0.74775,     0.74875,     0.74975,     0.75075,     0.75175,     0.75275,     0.75375,     0.75475,     0.75576,     0.75676,     0.75776,     0.75876,     0.75976,     0.76076,     0.76176,     0.76276,     0.76376,     0.76476,     0.76577,     0.76677,     0.76777,\n",
              "           0.76877,     0.76977,     0.77077,     0.77177,     0.77277,     0.77377,     0.77477,     0.77578,     0.77678,     0.77778,     0.77878,     0.77978,     0.78078,     0.78178,     0.78278,     0.78378,     0.78478,     0.78579,     0.78679,     0.78779,     0.78879,     0.78979,     0.79079,     0.79179,\n",
              "           0.79279,     0.79379,     0.79479,      0.7958,      0.7968,      0.7978,      0.7988,      0.7998,      0.8008,      0.8018,      0.8028,      0.8038,      0.8048,     0.80581,     0.80681,     0.80781,     0.80881,     0.80981,     0.81081,     0.81181,     0.81281,     0.81381,     0.81481,     0.81582,\n",
              "           0.81682,     0.81782,     0.81882,     0.81982,     0.82082,     0.82182,     0.82282,     0.82382,     0.82482,     0.82583,     0.82683,     0.82783,     0.82883,     0.82983,     0.83083,     0.83183,     0.83283,     0.83383,     0.83483,     0.83584,     0.83684,     0.83784,     0.83884,     0.83984,\n",
              "           0.84084,     0.84184,     0.84284,     0.84384,     0.84484,     0.84585,     0.84685,     0.84785,     0.84885,     0.84985,     0.85085,     0.85185,     0.85285,     0.85385,     0.85485,     0.85586,     0.85686,     0.85786,     0.85886,     0.85986,     0.86086,     0.86186,     0.86286,     0.86386,\n",
              "           0.86486,     0.86587,     0.86687,     0.86787,     0.86887,     0.86987,     0.87087,     0.87187,     0.87287,     0.87387,     0.87487,     0.87588,     0.87688,     0.87788,     0.87888,     0.87988,     0.88088,     0.88188,     0.88288,     0.88388,     0.88488,     0.88589,     0.88689,     0.88789,\n",
              "           0.88889,     0.88989,     0.89089,     0.89189,     0.89289,     0.89389,     0.89489,      0.8959,      0.8969,      0.8979,      0.8989,      0.8999,      0.9009,      0.9019,      0.9029,      0.9039,      0.9049,     0.90591,     0.90691,     0.90791,     0.90891,     0.90991,     0.91091,     0.91191,\n",
              "           0.91291,     0.91391,     0.91491,     0.91592,     0.91692,     0.91792,     0.91892,     0.91992,     0.92092,     0.92192,     0.92292,     0.92392,     0.92492,     0.92593,     0.92693,     0.92793,     0.92893,     0.92993,     0.93093,     0.93193,     0.93293,     0.93393,     0.93493,     0.93594,\n",
              "           0.93694,     0.93794,     0.93894,     0.93994,     0.94094,     0.94194,     0.94294,     0.94394,     0.94494,     0.94595,     0.94695,     0.94795,     0.94895,     0.94995,     0.95095,     0.95195,     0.95295,     0.95395,     0.95495,     0.95596,     0.95696,     0.95796,     0.95896,     0.95996,\n",
              "           0.96096,     0.96196,     0.96296,     0.96396,     0.96496,     0.96597,     0.96697,     0.96797,     0.96897,     0.96997,     0.97097,     0.97197,     0.97297,     0.97397,     0.97497,     0.97598,     0.97698,     0.97798,     0.97898,     0.97998,     0.98098,     0.98198,     0.98298,     0.98398,\n",
              "           0.98498,     0.98599,     0.98699,     0.98799,     0.98899,     0.98999,     0.99099,     0.99199,     0.99299,     0.99399,     0.99499,       0.996,       0.997,       0.998,       0.999,           1]), array([[    0.26554,     0.26554,     0.38091, ...,           0,           0,           0],\n",
              "       [    0.38166,     0.38166,     0.49709, ...,           0,           0,           0],\n",
              "       [    0.45812,     0.45812,     0.55376, ...,           0,           0,           0],\n",
              "       [    0.35507,     0.35507,     0.44916, ...,           0,           0,           0],\n",
              "       [    0.21025,     0.21025,     0.43005, ...,           0,           0,           0],\n",
              "       [    0.24348,     0.24348,     0.33021, ...,           0,           0,           0]]), 'Confidence', 'F1'], [array([          0,    0.001001,    0.002002,    0.003003,    0.004004,    0.005005,    0.006006,    0.007007,    0.008008,    0.009009,     0.01001,    0.011011,    0.012012,    0.013013,    0.014014,    0.015015,    0.016016,    0.017017,    0.018018,    0.019019,     0.02002,    0.021021,    0.022022,    0.023023,\n",
              "          0.024024,    0.025025,    0.026026,    0.027027,    0.028028,    0.029029,     0.03003,    0.031031,    0.032032,    0.033033,    0.034034,    0.035035,    0.036036,    0.037037,    0.038038,    0.039039,     0.04004,    0.041041,    0.042042,    0.043043,    0.044044,    0.045045,    0.046046,    0.047047,\n",
              "          0.048048,    0.049049,     0.05005,    0.051051,    0.052052,    0.053053,    0.054054,    0.055055,    0.056056,    0.057057,    0.058058,    0.059059,     0.06006,    0.061061,    0.062062,    0.063063,    0.064064,    0.065065,    0.066066,    0.067067,    0.068068,    0.069069,     0.07007,    0.071071,\n",
              "          0.072072,    0.073073,    0.074074,    0.075075,    0.076076,    0.077077,    0.078078,    0.079079,     0.08008,    0.081081,    0.082082,    0.083083,    0.084084,    0.085085,    0.086086,    0.087087,    0.088088,    0.089089,     0.09009,    0.091091,    0.092092,    0.093093,    0.094094,    0.095095,\n",
              "          0.096096,    0.097097,    0.098098,    0.099099,      0.1001,      0.1011,      0.1021,      0.1031,      0.1041,     0.10511,     0.10611,     0.10711,     0.10811,     0.10911,     0.11011,     0.11111,     0.11211,     0.11311,     0.11411,     0.11512,     0.11612,     0.11712,     0.11812,     0.11912,\n",
              "           0.12012,     0.12112,     0.12212,     0.12312,     0.12412,     0.12513,     0.12613,     0.12713,     0.12813,     0.12913,     0.13013,     0.13113,     0.13213,     0.13313,     0.13413,     0.13514,     0.13614,     0.13714,     0.13814,     0.13914,     0.14014,     0.14114,     0.14214,     0.14314,\n",
              "           0.14414,     0.14515,     0.14615,     0.14715,     0.14815,     0.14915,     0.15015,     0.15115,     0.15215,     0.15315,     0.15415,     0.15516,     0.15616,     0.15716,     0.15816,     0.15916,     0.16016,     0.16116,     0.16216,     0.16316,     0.16416,     0.16517,     0.16617,     0.16717,\n",
              "           0.16817,     0.16917,     0.17017,     0.17117,     0.17217,     0.17317,     0.17417,     0.17518,     0.17618,     0.17718,     0.17818,     0.17918,     0.18018,     0.18118,     0.18218,     0.18318,     0.18418,     0.18519,     0.18619,     0.18719,     0.18819,     0.18919,     0.19019,     0.19119,\n",
              "           0.19219,     0.19319,     0.19419,      0.1952,      0.1962,      0.1972,      0.1982,      0.1992,      0.2002,      0.2012,      0.2022,      0.2032,      0.2042,     0.20521,     0.20621,     0.20721,     0.20821,     0.20921,     0.21021,     0.21121,     0.21221,     0.21321,     0.21421,     0.21522,\n",
              "           0.21622,     0.21722,     0.21822,     0.21922,     0.22022,     0.22122,     0.22222,     0.22322,     0.22422,     0.22523,     0.22623,     0.22723,     0.22823,     0.22923,     0.23023,     0.23123,     0.23223,     0.23323,     0.23423,     0.23524,     0.23624,     0.23724,     0.23824,     0.23924,\n",
              "           0.24024,     0.24124,     0.24224,     0.24324,     0.24424,     0.24525,     0.24625,     0.24725,     0.24825,     0.24925,     0.25025,     0.25125,     0.25225,     0.25325,     0.25425,     0.25526,     0.25626,     0.25726,     0.25826,     0.25926,     0.26026,     0.26126,     0.26226,     0.26326,\n",
              "           0.26426,     0.26527,     0.26627,     0.26727,     0.26827,     0.26927,     0.27027,     0.27127,     0.27227,     0.27327,     0.27427,     0.27528,     0.27628,     0.27728,     0.27828,     0.27928,     0.28028,     0.28128,     0.28228,     0.28328,     0.28428,     0.28529,     0.28629,     0.28729,\n",
              "           0.28829,     0.28929,     0.29029,     0.29129,     0.29229,     0.29329,     0.29429,      0.2953,      0.2963,      0.2973,      0.2983,      0.2993,      0.3003,      0.3013,      0.3023,      0.3033,      0.3043,     0.30531,     0.30631,     0.30731,     0.30831,     0.30931,     0.31031,     0.31131,\n",
              "           0.31231,     0.31331,     0.31431,     0.31532,     0.31632,     0.31732,     0.31832,     0.31932,     0.32032,     0.32132,     0.32232,     0.32332,     0.32432,     0.32533,     0.32633,     0.32733,     0.32833,     0.32933,     0.33033,     0.33133,     0.33233,     0.33333,     0.33433,     0.33534,\n",
              "           0.33634,     0.33734,     0.33834,     0.33934,     0.34034,     0.34134,     0.34234,     0.34334,     0.34434,     0.34535,     0.34635,     0.34735,     0.34835,     0.34935,     0.35035,     0.35135,     0.35235,     0.35335,     0.35435,     0.35536,     0.35636,     0.35736,     0.35836,     0.35936,\n",
              "           0.36036,     0.36136,     0.36236,     0.36336,     0.36436,     0.36537,     0.36637,     0.36737,     0.36837,     0.36937,     0.37037,     0.37137,     0.37237,     0.37337,     0.37437,     0.37538,     0.37638,     0.37738,     0.37838,     0.37938,     0.38038,     0.38138,     0.38238,     0.38338,\n",
              "           0.38438,     0.38539,     0.38639,     0.38739,     0.38839,     0.38939,     0.39039,     0.39139,     0.39239,     0.39339,     0.39439,      0.3954,      0.3964,      0.3974,      0.3984,      0.3994,      0.4004,      0.4014,      0.4024,      0.4034,      0.4044,     0.40541,     0.40641,     0.40741,\n",
              "           0.40841,     0.40941,     0.41041,     0.41141,     0.41241,     0.41341,     0.41441,     0.41542,     0.41642,     0.41742,     0.41842,     0.41942,     0.42042,     0.42142,     0.42242,     0.42342,     0.42442,     0.42543,     0.42643,     0.42743,     0.42843,     0.42943,     0.43043,     0.43143,\n",
              "           0.43243,     0.43343,     0.43443,     0.43544,     0.43644,     0.43744,     0.43844,     0.43944,     0.44044,     0.44144,     0.44244,     0.44344,     0.44444,     0.44545,     0.44645,     0.44745,     0.44845,     0.44945,     0.45045,     0.45145,     0.45245,     0.45345,     0.45445,     0.45546,\n",
              "           0.45646,     0.45746,     0.45846,     0.45946,     0.46046,     0.46146,     0.46246,     0.46346,     0.46446,     0.46547,     0.46647,     0.46747,     0.46847,     0.46947,     0.47047,     0.47147,     0.47247,     0.47347,     0.47447,     0.47548,     0.47648,     0.47748,     0.47848,     0.47948,\n",
              "           0.48048,     0.48148,     0.48248,     0.48348,     0.48448,     0.48549,     0.48649,     0.48749,     0.48849,     0.48949,     0.49049,     0.49149,     0.49249,     0.49349,     0.49449,      0.4955,      0.4965,      0.4975,      0.4985,      0.4995,      0.5005,      0.5015,      0.5025,      0.5035,\n",
              "            0.5045,     0.50551,     0.50651,     0.50751,     0.50851,     0.50951,     0.51051,     0.51151,     0.51251,     0.51351,     0.51451,     0.51552,     0.51652,     0.51752,     0.51852,     0.51952,     0.52052,     0.52152,     0.52252,     0.52352,     0.52452,     0.52553,     0.52653,     0.52753,\n",
              "           0.52853,     0.52953,     0.53053,     0.53153,     0.53253,     0.53353,     0.53453,     0.53554,     0.53654,     0.53754,     0.53854,     0.53954,     0.54054,     0.54154,     0.54254,     0.54354,     0.54454,     0.54555,     0.54655,     0.54755,     0.54855,     0.54955,     0.55055,     0.55155,\n",
              "           0.55255,     0.55355,     0.55455,     0.55556,     0.55656,     0.55756,     0.55856,     0.55956,     0.56056,     0.56156,     0.56256,     0.56356,     0.56456,     0.56557,     0.56657,     0.56757,     0.56857,     0.56957,     0.57057,     0.57157,     0.57257,     0.57357,     0.57457,     0.57558,\n",
              "           0.57658,     0.57758,     0.57858,     0.57958,     0.58058,     0.58158,     0.58258,     0.58358,     0.58458,     0.58559,     0.58659,     0.58759,     0.58859,     0.58959,     0.59059,     0.59159,     0.59259,     0.59359,     0.59459,      0.5956,      0.5966,      0.5976,      0.5986,      0.5996,\n",
              "            0.6006,      0.6016,      0.6026,      0.6036,      0.6046,     0.60561,     0.60661,     0.60761,     0.60861,     0.60961,     0.61061,     0.61161,     0.61261,     0.61361,     0.61461,     0.61562,     0.61662,     0.61762,     0.61862,     0.61962,     0.62062,     0.62162,     0.62262,     0.62362,\n",
              "           0.62462,     0.62563,     0.62663,     0.62763,     0.62863,     0.62963,     0.63063,     0.63163,     0.63263,     0.63363,     0.63463,     0.63564,     0.63664,     0.63764,     0.63864,     0.63964,     0.64064,     0.64164,     0.64264,     0.64364,     0.64464,     0.64565,     0.64665,     0.64765,\n",
              "           0.64865,     0.64965,     0.65065,     0.65165,     0.65265,     0.65365,     0.65465,     0.65566,     0.65666,     0.65766,     0.65866,     0.65966,     0.66066,     0.66166,     0.66266,     0.66366,     0.66466,     0.66567,     0.66667,     0.66767,     0.66867,     0.66967,     0.67067,     0.67167,\n",
              "           0.67267,     0.67367,     0.67467,     0.67568,     0.67668,     0.67768,     0.67868,     0.67968,     0.68068,     0.68168,     0.68268,     0.68368,     0.68468,     0.68569,     0.68669,     0.68769,     0.68869,     0.68969,     0.69069,     0.69169,     0.69269,     0.69369,     0.69469,      0.6957,\n",
              "            0.6967,      0.6977,      0.6987,      0.6997,      0.7007,      0.7017,      0.7027,      0.7037,      0.7047,     0.70571,     0.70671,     0.70771,     0.70871,     0.70971,     0.71071,     0.71171,     0.71271,     0.71371,     0.71471,     0.71572,     0.71672,     0.71772,     0.71872,     0.71972,\n",
              "           0.72072,     0.72172,     0.72272,     0.72372,     0.72472,     0.72573,     0.72673,     0.72773,     0.72873,     0.72973,     0.73073,     0.73173,     0.73273,     0.73373,     0.73473,     0.73574,     0.73674,     0.73774,     0.73874,     0.73974,     0.74074,     0.74174,     0.74274,     0.74374,\n",
              "           0.74474,     0.74575,     0.74675,     0.74775,     0.74875,     0.74975,     0.75075,     0.75175,     0.75275,     0.75375,     0.75475,     0.75576,     0.75676,     0.75776,     0.75876,     0.75976,     0.76076,     0.76176,     0.76276,     0.76376,     0.76476,     0.76577,     0.76677,     0.76777,\n",
              "           0.76877,     0.76977,     0.77077,     0.77177,     0.77277,     0.77377,     0.77477,     0.77578,     0.77678,     0.77778,     0.77878,     0.77978,     0.78078,     0.78178,     0.78278,     0.78378,     0.78478,     0.78579,     0.78679,     0.78779,     0.78879,     0.78979,     0.79079,     0.79179,\n",
              "           0.79279,     0.79379,     0.79479,      0.7958,      0.7968,      0.7978,      0.7988,      0.7998,      0.8008,      0.8018,      0.8028,      0.8038,      0.8048,     0.80581,     0.80681,     0.80781,     0.80881,     0.80981,     0.81081,     0.81181,     0.81281,     0.81381,     0.81481,     0.81582,\n",
              "           0.81682,     0.81782,     0.81882,     0.81982,     0.82082,     0.82182,     0.82282,     0.82382,     0.82482,     0.82583,     0.82683,     0.82783,     0.82883,     0.82983,     0.83083,     0.83183,     0.83283,     0.83383,     0.83483,     0.83584,     0.83684,     0.83784,     0.83884,     0.83984,\n",
              "           0.84084,     0.84184,     0.84284,     0.84384,     0.84484,     0.84585,     0.84685,     0.84785,     0.84885,     0.84985,     0.85085,     0.85185,     0.85285,     0.85385,     0.85485,     0.85586,     0.85686,     0.85786,     0.85886,     0.85986,     0.86086,     0.86186,     0.86286,     0.86386,\n",
              "           0.86486,     0.86587,     0.86687,     0.86787,     0.86887,     0.86987,     0.87087,     0.87187,     0.87287,     0.87387,     0.87487,     0.87588,     0.87688,     0.87788,     0.87888,     0.87988,     0.88088,     0.88188,     0.88288,     0.88388,     0.88488,     0.88589,     0.88689,     0.88789,\n",
              "           0.88889,     0.88989,     0.89089,     0.89189,     0.89289,     0.89389,     0.89489,      0.8959,      0.8969,      0.8979,      0.8989,      0.8999,      0.9009,      0.9019,      0.9029,      0.9039,      0.9049,     0.90591,     0.90691,     0.90791,     0.90891,     0.90991,     0.91091,     0.91191,\n",
              "           0.91291,     0.91391,     0.91491,     0.91592,     0.91692,     0.91792,     0.91892,     0.91992,     0.92092,     0.92192,     0.92292,     0.92392,     0.92492,     0.92593,     0.92693,     0.92793,     0.92893,     0.92993,     0.93093,     0.93193,     0.93293,     0.93393,     0.93493,     0.93594,\n",
              "           0.93694,     0.93794,     0.93894,     0.93994,     0.94094,     0.94194,     0.94294,     0.94394,     0.94494,     0.94595,     0.94695,     0.94795,     0.94895,     0.94995,     0.95095,     0.95195,     0.95295,     0.95395,     0.95495,     0.95596,     0.95696,     0.95796,     0.95896,     0.95996,\n",
              "           0.96096,     0.96196,     0.96296,     0.96396,     0.96496,     0.96597,     0.96697,     0.96797,     0.96897,     0.96997,     0.97097,     0.97197,     0.97297,     0.97397,     0.97497,     0.97598,     0.97698,     0.97798,     0.97898,     0.97998,     0.98098,     0.98198,     0.98298,     0.98398,\n",
              "           0.98498,     0.98599,     0.98699,     0.98799,     0.98899,     0.98999,     0.99099,     0.99199,     0.99299,     0.99399,     0.99499,       0.996,       0.997,       0.998,       0.999,           1]), array([[    0.15309,     0.15309,     0.23526, ...,           1,           1,           1],\n",
              "       [    0.23626,     0.23626,      0.3316, ...,           1,           1,           1],\n",
              "       [    0.29915,     0.29915,     0.38627, ...,           1,           1,           1],\n",
              "       [    0.21778,     0.21778,     0.29309, ...,           1,           1,           1],\n",
              "       [    0.11747,     0.11747,     0.27393, ...,           1,           1,           1],\n",
              "       [    0.13861,     0.13861,     0.19776, ...,           1,           1,           1]]), 'Confidence', 'Precision'], [array([          0,    0.001001,    0.002002,    0.003003,    0.004004,    0.005005,    0.006006,    0.007007,    0.008008,    0.009009,     0.01001,    0.011011,    0.012012,    0.013013,    0.014014,    0.015015,    0.016016,    0.017017,    0.018018,    0.019019,     0.02002,    0.021021,    0.022022,    0.023023,\n",
              "          0.024024,    0.025025,    0.026026,    0.027027,    0.028028,    0.029029,     0.03003,    0.031031,    0.032032,    0.033033,    0.034034,    0.035035,    0.036036,    0.037037,    0.038038,    0.039039,     0.04004,    0.041041,    0.042042,    0.043043,    0.044044,    0.045045,    0.046046,    0.047047,\n",
              "          0.048048,    0.049049,     0.05005,    0.051051,    0.052052,    0.053053,    0.054054,    0.055055,    0.056056,    0.057057,    0.058058,    0.059059,     0.06006,    0.061061,    0.062062,    0.063063,    0.064064,    0.065065,    0.066066,    0.067067,    0.068068,    0.069069,     0.07007,    0.071071,\n",
              "          0.072072,    0.073073,    0.074074,    0.075075,    0.076076,    0.077077,    0.078078,    0.079079,     0.08008,    0.081081,    0.082082,    0.083083,    0.084084,    0.085085,    0.086086,    0.087087,    0.088088,    0.089089,     0.09009,    0.091091,    0.092092,    0.093093,    0.094094,    0.095095,\n",
              "          0.096096,    0.097097,    0.098098,    0.099099,      0.1001,      0.1011,      0.1021,      0.1031,      0.1041,     0.10511,     0.10611,     0.10711,     0.10811,     0.10911,     0.11011,     0.11111,     0.11211,     0.11311,     0.11411,     0.11512,     0.11612,     0.11712,     0.11812,     0.11912,\n",
              "           0.12012,     0.12112,     0.12212,     0.12312,     0.12412,     0.12513,     0.12613,     0.12713,     0.12813,     0.12913,     0.13013,     0.13113,     0.13213,     0.13313,     0.13413,     0.13514,     0.13614,     0.13714,     0.13814,     0.13914,     0.14014,     0.14114,     0.14214,     0.14314,\n",
              "           0.14414,     0.14515,     0.14615,     0.14715,     0.14815,     0.14915,     0.15015,     0.15115,     0.15215,     0.15315,     0.15415,     0.15516,     0.15616,     0.15716,     0.15816,     0.15916,     0.16016,     0.16116,     0.16216,     0.16316,     0.16416,     0.16517,     0.16617,     0.16717,\n",
              "           0.16817,     0.16917,     0.17017,     0.17117,     0.17217,     0.17317,     0.17417,     0.17518,     0.17618,     0.17718,     0.17818,     0.17918,     0.18018,     0.18118,     0.18218,     0.18318,     0.18418,     0.18519,     0.18619,     0.18719,     0.18819,     0.18919,     0.19019,     0.19119,\n",
              "           0.19219,     0.19319,     0.19419,      0.1952,      0.1962,      0.1972,      0.1982,      0.1992,      0.2002,      0.2012,      0.2022,      0.2032,      0.2042,     0.20521,     0.20621,     0.20721,     0.20821,     0.20921,     0.21021,     0.21121,     0.21221,     0.21321,     0.21421,     0.21522,\n",
              "           0.21622,     0.21722,     0.21822,     0.21922,     0.22022,     0.22122,     0.22222,     0.22322,     0.22422,     0.22523,     0.22623,     0.22723,     0.22823,     0.22923,     0.23023,     0.23123,     0.23223,     0.23323,     0.23423,     0.23524,     0.23624,     0.23724,     0.23824,     0.23924,\n",
              "           0.24024,     0.24124,     0.24224,     0.24324,     0.24424,     0.24525,     0.24625,     0.24725,     0.24825,     0.24925,     0.25025,     0.25125,     0.25225,     0.25325,     0.25425,     0.25526,     0.25626,     0.25726,     0.25826,     0.25926,     0.26026,     0.26126,     0.26226,     0.26326,\n",
              "           0.26426,     0.26527,     0.26627,     0.26727,     0.26827,     0.26927,     0.27027,     0.27127,     0.27227,     0.27327,     0.27427,     0.27528,     0.27628,     0.27728,     0.27828,     0.27928,     0.28028,     0.28128,     0.28228,     0.28328,     0.28428,     0.28529,     0.28629,     0.28729,\n",
              "           0.28829,     0.28929,     0.29029,     0.29129,     0.29229,     0.29329,     0.29429,      0.2953,      0.2963,      0.2973,      0.2983,      0.2993,      0.3003,      0.3013,      0.3023,      0.3033,      0.3043,     0.30531,     0.30631,     0.30731,     0.30831,     0.30931,     0.31031,     0.31131,\n",
              "           0.31231,     0.31331,     0.31431,     0.31532,     0.31632,     0.31732,     0.31832,     0.31932,     0.32032,     0.32132,     0.32232,     0.32332,     0.32432,     0.32533,     0.32633,     0.32733,     0.32833,     0.32933,     0.33033,     0.33133,     0.33233,     0.33333,     0.33433,     0.33534,\n",
              "           0.33634,     0.33734,     0.33834,     0.33934,     0.34034,     0.34134,     0.34234,     0.34334,     0.34434,     0.34535,     0.34635,     0.34735,     0.34835,     0.34935,     0.35035,     0.35135,     0.35235,     0.35335,     0.35435,     0.35536,     0.35636,     0.35736,     0.35836,     0.35936,\n",
              "           0.36036,     0.36136,     0.36236,     0.36336,     0.36436,     0.36537,     0.36637,     0.36737,     0.36837,     0.36937,     0.37037,     0.37137,     0.37237,     0.37337,     0.37437,     0.37538,     0.37638,     0.37738,     0.37838,     0.37938,     0.38038,     0.38138,     0.38238,     0.38338,\n",
              "           0.38438,     0.38539,     0.38639,     0.38739,     0.38839,     0.38939,     0.39039,     0.39139,     0.39239,     0.39339,     0.39439,      0.3954,      0.3964,      0.3974,      0.3984,      0.3994,      0.4004,      0.4014,      0.4024,      0.4034,      0.4044,     0.40541,     0.40641,     0.40741,\n",
              "           0.40841,     0.40941,     0.41041,     0.41141,     0.41241,     0.41341,     0.41441,     0.41542,     0.41642,     0.41742,     0.41842,     0.41942,     0.42042,     0.42142,     0.42242,     0.42342,     0.42442,     0.42543,     0.42643,     0.42743,     0.42843,     0.42943,     0.43043,     0.43143,\n",
              "           0.43243,     0.43343,     0.43443,     0.43544,     0.43644,     0.43744,     0.43844,     0.43944,     0.44044,     0.44144,     0.44244,     0.44344,     0.44444,     0.44545,     0.44645,     0.44745,     0.44845,     0.44945,     0.45045,     0.45145,     0.45245,     0.45345,     0.45445,     0.45546,\n",
              "           0.45646,     0.45746,     0.45846,     0.45946,     0.46046,     0.46146,     0.46246,     0.46346,     0.46446,     0.46547,     0.46647,     0.46747,     0.46847,     0.46947,     0.47047,     0.47147,     0.47247,     0.47347,     0.47447,     0.47548,     0.47648,     0.47748,     0.47848,     0.47948,\n",
              "           0.48048,     0.48148,     0.48248,     0.48348,     0.48448,     0.48549,     0.48649,     0.48749,     0.48849,     0.48949,     0.49049,     0.49149,     0.49249,     0.49349,     0.49449,      0.4955,      0.4965,      0.4975,      0.4985,      0.4995,      0.5005,      0.5015,      0.5025,      0.5035,\n",
              "            0.5045,     0.50551,     0.50651,     0.50751,     0.50851,     0.50951,     0.51051,     0.51151,     0.51251,     0.51351,     0.51451,     0.51552,     0.51652,     0.51752,     0.51852,     0.51952,     0.52052,     0.52152,     0.52252,     0.52352,     0.52452,     0.52553,     0.52653,     0.52753,\n",
              "           0.52853,     0.52953,     0.53053,     0.53153,     0.53253,     0.53353,     0.53453,     0.53554,     0.53654,     0.53754,     0.53854,     0.53954,     0.54054,     0.54154,     0.54254,     0.54354,     0.54454,     0.54555,     0.54655,     0.54755,     0.54855,     0.54955,     0.55055,     0.55155,\n",
              "           0.55255,     0.55355,     0.55455,     0.55556,     0.55656,     0.55756,     0.55856,     0.55956,     0.56056,     0.56156,     0.56256,     0.56356,     0.56456,     0.56557,     0.56657,     0.56757,     0.56857,     0.56957,     0.57057,     0.57157,     0.57257,     0.57357,     0.57457,     0.57558,\n",
              "           0.57658,     0.57758,     0.57858,     0.57958,     0.58058,     0.58158,     0.58258,     0.58358,     0.58458,     0.58559,     0.58659,     0.58759,     0.58859,     0.58959,     0.59059,     0.59159,     0.59259,     0.59359,     0.59459,      0.5956,      0.5966,      0.5976,      0.5986,      0.5996,\n",
              "            0.6006,      0.6016,      0.6026,      0.6036,      0.6046,     0.60561,     0.60661,     0.60761,     0.60861,     0.60961,     0.61061,     0.61161,     0.61261,     0.61361,     0.61461,     0.61562,     0.61662,     0.61762,     0.61862,     0.61962,     0.62062,     0.62162,     0.62262,     0.62362,\n",
              "           0.62462,     0.62563,     0.62663,     0.62763,     0.62863,     0.62963,     0.63063,     0.63163,     0.63263,     0.63363,     0.63463,     0.63564,     0.63664,     0.63764,     0.63864,     0.63964,     0.64064,     0.64164,     0.64264,     0.64364,     0.64464,     0.64565,     0.64665,     0.64765,\n",
              "           0.64865,     0.64965,     0.65065,     0.65165,     0.65265,     0.65365,     0.65465,     0.65566,     0.65666,     0.65766,     0.65866,     0.65966,     0.66066,     0.66166,     0.66266,     0.66366,     0.66466,     0.66567,     0.66667,     0.66767,     0.66867,     0.66967,     0.67067,     0.67167,\n",
              "           0.67267,     0.67367,     0.67467,     0.67568,     0.67668,     0.67768,     0.67868,     0.67968,     0.68068,     0.68168,     0.68268,     0.68368,     0.68468,     0.68569,     0.68669,     0.68769,     0.68869,     0.68969,     0.69069,     0.69169,     0.69269,     0.69369,     0.69469,      0.6957,\n",
              "            0.6967,      0.6977,      0.6987,      0.6997,      0.7007,      0.7017,      0.7027,      0.7037,      0.7047,     0.70571,     0.70671,     0.70771,     0.70871,     0.70971,     0.71071,     0.71171,     0.71271,     0.71371,     0.71471,     0.71572,     0.71672,     0.71772,     0.71872,     0.71972,\n",
              "           0.72072,     0.72172,     0.72272,     0.72372,     0.72472,     0.72573,     0.72673,     0.72773,     0.72873,     0.72973,     0.73073,     0.73173,     0.73273,     0.73373,     0.73473,     0.73574,     0.73674,     0.73774,     0.73874,     0.73974,     0.74074,     0.74174,     0.74274,     0.74374,\n",
              "           0.74474,     0.74575,     0.74675,     0.74775,     0.74875,     0.74975,     0.75075,     0.75175,     0.75275,     0.75375,     0.75475,     0.75576,     0.75676,     0.75776,     0.75876,     0.75976,     0.76076,     0.76176,     0.76276,     0.76376,     0.76476,     0.76577,     0.76677,     0.76777,\n",
              "           0.76877,     0.76977,     0.77077,     0.77177,     0.77277,     0.77377,     0.77477,     0.77578,     0.77678,     0.77778,     0.77878,     0.77978,     0.78078,     0.78178,     0.78278,     0.78378,     0.78478,     0.78579,     0.78679,     0.78779,     0.78879,     0.78979,     0.79079,     0.79179,\n",
              "           0.79279,     0.79379,     0.79479,      0.7958,      0.7968,      0.7978,      0.7988,      0.7998,      0.8008,      0.8018,      0.8028,      0.8038,      0.8048,     0.80581,     0.80681,     0.80781,     0.80881,     0.80981,     0.81081,     0.81181,     0.81281,     0.81381,     0.81481,     0.81582,\n",
              "           0.81682,     0.81782,     0.81882,     0.81982,     0.82082,     0.82182,     0.82282,     0.82382,     0.82482,     0.82583,     0.82683,     0.82783,     0.82883,     0.82983,     0.83083,     0.83183,     0.83283,     0.83383,     0.83483,     0.83584,     0.83684,     0.83784,     0.83884,     0.83984,\n",
              "           0.84084,     0.84184,     0.84284,     0.84384,     0.84484,     0.84585,     0.84685,     0.84785,     0.84885,     0.84985,     0.85085,     0.85185,     0.85285,     0.85385,     0.85485,     0.85586,     0.85686,     0.85786,     0.85886,     0.85986,     0.86086,     0.86186,     0.86286,     0.86386,\n",
              "           0.86486,     0.86587,     0.86687,     0.86787,     0.86887,     0.86987,     0.87087,     0.87187,     0.87287,     0.87387,     0.87487,     0.87588,     0.87688,     0.87788,     0.87888,     0.87988,     0.88088,     0.88188,     0.88288,     0.88388,     0.88488,     0.88589,     0.88689,     0.88789,\n",
              "           0.88889,     0.88989,     0.89089,     0.89189,     0.89289,     0.89389,     0.89489,      0.8959,      0.8969,      0.8979,      0.8989,      0.8999,      0.9009,      0.9019,      0.9029,      0.9039,      0.9049,     0.90591,     0.90691,     0.90791,     0.90891,     0.90991,     0.91091,     0.91191,\n",
              "           0.91291,     0.91391,     0.91491,     0.91592,     0.91692,     0.91792,     0.91892,     0.91992,     0.92092,     0.92192,     0.92292,     0.92392,     0.92492,     0.92593,     0.92693,     0.92793,     0.92893,     0.92993,     0.93093,     0.93193,     0.93293,     0.93393,     0.93493,     0.93594,\n",
              "           0.93694,     0.93794,     0.93894,     0.93994,     0.94094,     0.94194,     0.94294,     0.94394,     0.94494,     0.94595,     0.94695,     0.94795,     0.94895,     0.94995,     0.95095,     0.95195,     0.95295,     0.95395,     0.95495,     0.95596,     0.95696,     0.95796,     0.95896,     0.95996,\n",
              "           0.96096,     0.96196,     0.96296,     0.96396,     0.96496,     0.96597,     0.96697,     0.96797,     0.96897,     0.96997,     0.97097,     0.97197,     0.97297,     0.97397,     0.97497,     0.97598,     0.97698,     0.97798,     0.97898,     0.97998,     0.98098,     0.98198,     0.98298,     0.98398,\n",
              "           0.98498,     0.98599,     0.98699,     0.98799,     0.98899,     0.98999,     0.99099,     0.99199,     0.99299,     0.99399,     0.99499,       0.996,       0.997,       0.998,       0.999,           1]), array([[          1,           1,           1, ...,           0,           0,           0],\n",
              "       [    0.99231,     0.99231,     0.99231, ...,           0,           0,           0],\n",
              "       [    0.97765,     0.97765,     0.97765, ...,           0,           0,           0],\n",
              "       [    0.96078,     0.96078,     0.96078, ...,           0,           0,           0],\n",
              "       [          1,           1,           1, ...,           0,           0,           0],\n",
              "       [          1,           1,           1, ...,           0,           0,           0]]), 'Confidence', 'Recall']]\n",
              "fitness: 0.8569925100422346\n",
              "keys: ['metrics/precision(B)', 'metrics/recall(B)', 'metrics/mAP50(B)', 'metrics/mAP50-95(B)']\n",
              "maps: array([    0.81777,      0.8533,      0.7954,     0.78478,     0.89105,     0.91682])\n",
              "names: {0: 'boneli', 1: 'bonesiz', 2: 'maskeli', 3: 'maskesiz', 4: 'onluklu', 5: 'onluksuz'}\n",
              "plot: True\n",
              "results_dict: {'metrics/precision(B)': 0.9598605101410568, 'metrics/recall(B)': 0.9647907980411096, 'metrics/mAP50(B)': 0.9812228501125441, 'metrics/mAP50-95(B)': 0.8431891389233114, 'fitness': 0.8569925100422346}\n",
              "save_dir: PosixPath('runs/detect/train2')\n",
              "speed: {'preprocess': 0.22906690972036423, 'inference': 3.105747100969428, 'loss': 0.0003766795815942494, 'postprocess': 3.9036448143388585}\n",
              "task: 'detect'"
            ]
          },
          "metadata": {},
          "execution_count": 4
        }
      ]
    },
    {
      "cell_type": "code",
      "source": [
        "from ultralytics import YOLO\n",
        "\n",
        "model=YOLO(\"/content/runs/detect/train2/weights/best.pt\")\n",
        "model.train(data=\"/content/drive/MyDrive/IMEP/data.yaml\", epochs=100, imgsz=640,lr0=0.001 ,batch=32 ,optimizer ='auto', weight_decay=0.0001, momentum=0.9)"
      ],
      "metadata": {
        "colab": {
          "base_uri": "https://localhost:8080/"
        },
        "id": "o89r_SvzLvyI",
        "outputId": "9086a2b2-806a-42cf-8eca-f2b37a7fda80"
      },
      "execution_count": null,
      "outputs": [
        {
          "output_type": "stream",
          "name": "stdout",
          "text": [
            "Ultralytics YOLOv8.0.223 🚀 Python-3.10.12 torch-2.1.0+cu118 CUDA:0 (Tesla T4, 15102MiB)\n",
            "\u001b[34m\u001b[1mengine/trainer: \u001b[0mtask=detect, mode=train, model=/content/runs/detect/train2/weights/best.pt, data=/content/drive/MyDrive/IMEP/data.yaml, epochs=100, patience=50, batch=32, imgsz=640, save=True, save_period=-1, cache=False, device=None, workers=8, project=None, name=train3, exist_ok=False, pretrained=True, optimizer=auto, verbose=True, seed=0, deterministic=True, single_cls=False, rect=False, cos_lr=False, close_mosaic=10, resume=False, amp=True, fraction=1.0, profile=False, freeze=None, overlap_mask=True, mask_ratio=4, dropout=0.0, val=True, split=val, save_json=False, save_hybrid=False, conf=None, iou=0.7, max_det=300, half=False, dnn=False, plots=True, source=None, vid_stride=1, stream_buffer=False, visualize=False, augment=False, agnostic_nms=False, classes=None, retina_masks=False, show=False, save_frames=False, save_txt=False, save_conf=False, save_crop=False, show_labels=True, show_conf=True, show_boxes=True, line_width=None, format=torchscript, keras=False, optimize=False, int8=False, dynamic=False, simplify=False, opset=None, workspace=4, nms=False, lr0=0.001, lrf=0.01, momentum=0.9, weight_decay=0.0001, warmup_epochs=3.0, warmup_momentum=0.8, warmup_bias_lr=0.1, box=7.5, cls=0.5, dfl=1.5, pose=12.0, kobj=1.0, label_smoothing=0.0, nbs=64, hsv_h=0.015, hsv_s=0.7, hsv_v=0.4, degrees=0.0, translate=0.1, scale=0.5, shear=0.0, perspective=0.0, flipud=0.0, fliplr=0.5, mosaic=1.0, mixup=0.0, copy_paste=0.0, cfg=None, tracker=botsort.yaml, save_dir=runs/detect/train3\n",
            "\n",
            "                   from  n    params  module                                       arguments                     \n",
            "  0                  -1  1       464  ultralytics.nn.modules.conv.Conv             [3, 16, 3, 2]                 \n",
            "  1                  -1  1      4672  ultralytics.nn.modules.conv.Conv             [16, 32, 3, 2]                \n",
            "  2                  -1  1      7360  ultralytics.nn.modules.block.C2f             [32, 32, 1, True]             \n",
            "  3                  -1  1     18560  ultralytics.nn.modules.conv.Conv             [32, 64, 3, 2]                \n",
            "  4                  -1  2     49664  ultralytics.nn.modules.block.C2f             [64, 64, 2, True]             \n",
            "  5                  -1  1     73984  ultralytics.nn.modules.conv.Conv             [64, 128, 3, 2]               \n",
            "  6                  -1  2    197632  ultralytics.nn.modules.block.C2f             [128, 128, 2, True]           \n",
            "  7                  -1  1    295424  ultralytics.nn.modules.conv.Conv             [128, 256, 3, 2]              \n",
            "  8                  -1  1    460288  ultralytics.nn.modules.block.C2f             [256, 256, 1, True]           \n",
            "  9                  -1  1    164608  ultralytics.nn.modules.block.SPPF            [256, 256, 5]                 \n",
            " 10                  -1  1         0  torch.nn.modules.upsampling.Upsample         [None, 2, 'nearest']          \n",
            " 11             [-1, 6]  1         0  ultralytics.nn.modules.conv.Concat           [1]                           \n",
            " 12                  -1  1    148224  ultralytics.nn.modules.block.C2f             [384, 128, 1]                 \n",
            " 13                  -1  1         0  torch.nn.modules.upsampling.Upsample         [None, 2, 'nearest']          \n",
            " 14             [-1, 4]  1         0  ultralytics.nn.modules.conv.Concat           [1]                           \n",
            " 15                  -1  1     37248  ultralytics.nn.modules.block.C2f             [192, 64, 1]                  \n",
            " 16                  -1  1     36992  ultralytics.nn.modules.conv.Conv             [64, 64, 3, 2]                \n",
            " 17            [-1, 12]  1         0  ultralytics.nn.modules.conv.Concat           [1]                           \n",
            " 18                  -1  1    123648  ultralytics.nn.modules.block.C2f             [192, 128, 1]                 \n",
            " 19                  -1  1    147712  ultralytics.nn.modules.conv.Conv             [128, 128, 3, 2]              \n",
            " 20             [-1, 9]  1         0  ultralytics.nn.modules.conv.Concat           [1]                           \n",
            " 21                  -1  1    493056  ultralytics.nn.modules.block.C2f             [384, 256, 1]                 \n",
            " 22        [15, 18, 21]  1    752482  ultralytics.nn.modules.head.Detect           [6, [64, 128, 256]]           \n",
            "Model summary: 225 layers, 3012018 parameters, 3012002 gradients, 8.2 GFLOPs\n",
            "\n",
            "Transferred 355/355 items from pretrained weights\n",
            "\u001b[34m\u001b[1mTensorBoard: \u001b[0mStart with 'tensorboard --logdir runs/detect/train3', view at http://localhost:6006/\n",
            "Freezing layer 'model.22.dfl.conv.weight'\n",
            "\u001b[34m\u001b[1mAMP: \u001b[0mrunning Automatic Mixed Precision (AMP) checks with YOLOv8n...\n",
            "\u001b[34m\u001b[1mAMP: \u001b[0mchecks passed ✅\n"
          ]
        },
        {
          "output_type": "stream",
          "name": "stderr",
          "text": [
            "\u001b[34m\u001b[1mtrain: \u001b[0mScanning /content/drive/MyDrive/IMEP/data/labels.cache... 214 images, 6 backgrounds, 1 corrupt: 100%|██████████| 220/220 [00:00<?, ?it/s]"
          ]
        },
        {
          "output_type": "stream",
          "name": "stdout",
          "text": [
            "\u001b[34m\u001b[1mtrain: \u001b[0mWARNING ⚠️ /content/drive/MyDrive/IMEP/data/images/re__image_1.jpg: ignoring corrupt image/label: setting an array element with a sequence. The requested array has an inhomogeneous shape after 1 dimensions. The detected shape was (3,) + inhomogeneous part.\n",
            "\u001b[34m\u001b[1malbumentations: \u001b[0mBlur(p=0.01, blur_limit=(3, 7)), MedianBlur(p=0.01, blur_limit=(3, 7)), ToGray(p=0.01), CLAHE(p=0.01, clip_limit=(1, 4.0), tile_grid_size=(8, 8))\n"
          ]
        },
        {
          "output_type": "stream",
          "name": "stderr",
          "text": [
            "\n",
            "\u001b[34m\u001b[1mval: \u001b[0mScanning /content/drive/MyDrive/IMEP/data/labels.cache... 214 images, 6 backgrounds, 1 corrupt: 100%|██████████| 220/220 [00:00<?, ?it/s]"
          ]
        },
        {
          "output_type": "stream",
          "name": "stdout",
          "text": [
            "\u001b[34m\u001b[1mtrain: \u001b[0mWARNING ⚠️ /content/drive/MyDrive/IMEP/data/images/re__image_1.jpg: ignoring corrupt image/label: setting an array element with a sequence. The requested array has an inhomogeneous shape after 1 dimensions. The detected shape was (3,) + inhomogeneous part.\n"
          ]
        },
        {
          "output_type": "stream",
          "name": "stderr",
          "text": [
            "\n"
          ]
        },
        {
          "output_type": "stream",
          "name": "stdout",
          "text": [
            "Plotting labels to runs/detect/train3/labels.jpg... \n",
            "\u001b[34m\u001b[1moptimizer:\u001b[0m 'optimizer=auto' found, ignoring 'lr0=0.001' and 'momentum=0.9' and determining best 'optimizer', 'lr0' and 'momentum' automatically... \n",
            "\u001b[34m\u001b[1moptimizer:\u001b[0m AdamW(lr=0.001, momentum=0.9) with parameter groups 57 weight(decay=0.0), 64 weight(decay=0.0001), 63 bias(decay=0.0)\n",
            "Image sizes 640 train, 640 val\n",
            "Using 2 dataloader workers\n",
            "Logging results to \u001b[1mruns/detect/train3\u001b[0m\n",
            "Starting training for 100 epochs...\n",
            "\n",
            "      Epoch    GPU_mem   box_loss   cls_loss   dfl_loss  Instances       Size\n"
          ]
        },
        {
          "output_type": "stream",
          "name": "stderr",
          "text": [
            "      1/100      4.87G     0.8638     0.6592      1.019        145        640: 100%|██████████| 7/7 [00:05<00:00,  1.22it/s]\n",
            "                 Class     Images  Instances      Box(P          R      mAP50  mAP50-95): 100%|██████████| 4/4 [00:05<00:00,  1.35s/it]"
          ]
        },
        {
          "output_type": "stream",
          "name": "stdout",
          "text": [
            "                   all        219        650      0.968      0.962      0.982       0.83\n"
          ]
        },
        {
          "output_type": "stream",
          "name": "stderr",
          "text": [
            "\n"
          ]
        },
        {
          "output_type": "stream",
          "name": "stdout",
          "text": [
            "\n",
            "      Epoch    GPU_mem   box_loss   cls_loss   dfl_loss  Instances       Size\n"
          ]
        },
        {
          "output_type": "stream",
          "name": "stderr",
          "text": [
            "      2/100      4.35G     0.7859     0.6116     0.9753        151        640: 100%|██████████| 7/7 [00:02<00:00,  2.52it/s]\n",
            "                 Class     Images  Instances      Box(P          R      mAP50  mAP50-95):  50%|█████     | 2/4 [00:01<00:01,  1.03it/s]"
          ]
        }
      ]
    },
    {
      "cell_type": "markdown",
      "source": [
        "# lables change demo shortway"
      ],
      "metadata": {
        "id": "CW8E8XolHQ_L"
      }
    },
    {
      "cell_type": "code",
      "source": [
        "from IPython.display import display, Image\n",
        "import ipywidgets as widgets\n",
        "import os\n",
        "\n",
        "# Etiket dizinini belirt\n",
        "label_folder = \"/content/runs/detect/predict3/labels\"\n",
        "\n",
        "# Etiket dosyalarını listele\n",
        "label_files = [file for file in os.listdir(label_folder) if file.endswith('.txt')]\n",
        "\n",
        "# İlk etiket dosyasını seç\n",
        "current_index = 0\n",
        "\n",
        "# Görseli görüntüle\n",
        "image_folder = \"/content/runs/detect/predict\"\n",
        "image_file = label_files[current_index].replace(\".txt\", \".jpg\")\n",
        "image_path = os.path.join(image_folder, image_file)\n",
        "image = Image(filename=image_path)\n",
        "display(image)\n",
        "\n",
        "# İlerleme ve geri gitme düğmelerini oluştur\n",
        "next_button = widgets.Button(description=\"Sonraki\")\n",
        "prev_button = widgets.Button(description=\"Önceki\")\n",
        "\n",
        "# Düğmelere tıklanınca yapılacak işlemler\n",
        "def on_next_button_click(b):\n",
        "    global current_index\n",
        "    current_index = (current_index + 1) % len(label_files)\n",
        "    update_image()\n",
        "\n",
        "def on_prev_button_click(b):\n",
        "    global current_index\n",
        "    current_index = (current_index - 1) % len(label_files)\n",
        "    update_image()\n",
        "\n",
        "# İlerleme ve geri gitme düğmelerine işlevsellik ekle\n",
        "next_button.on_click(on_next_button_click)\n",
        "prev_button.on_click(on_prev_button_click)\n",
        "\n",
        "# Düğmeleri görüntüle\n",
        "display(widgets.HBox([prev_button, next_button]))\n",
        "\n",
        "def update_image():\n",
        "    # Yeni etiket dosyasını seç\n",
        "    image_file = label_files[current_index].replace(\".txt\", \".jpg\")\n",
        "    image_path = os.path.join(image_folder, image_file)\n",
        "\n",
        "    # Görseli güncelle\n",
        "    image.value = open(image_path, \"rb\").read()\n",
        "\n",
        "# İlk etiket dosyasını seçildi olarak işaretle\n",
        "update_image()\n"
      ],
      "metadata": {
        "id": "HP2_IvNK9trE"
      },
      "execution_count": null,
      "outputs": []
    }
  ],
  "metadata": {
    "colab": {
      "provenance": [],
      "gpuType": "T4",
      "authorship_tag": "ABX9TyMDNc26EPYye4u46U/xRH5J",
      "include_colab_link": true
    },
    "kernelspec": {
      "display_name": "Python 3",
      "name": "python3"
    },
    "language_info": {
      "name": "python"
    },
    "accelerator": "GPU"
  },
  "nbformat": 4,
  "nbformat_minor": 0
}