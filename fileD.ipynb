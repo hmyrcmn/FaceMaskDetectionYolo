{
  "nbformat": 4,
  "nbformat_minor": 0,
  "metadata": {
    "colab": {
      "provenance": [],
      "mount_file_id": "1azRVBHRRHFKboTTYqhW7D8Tw1Or_KDYW",
      "authorship_tag": "ABX9TyM89Ch7VWc9oG+jgD9bWrHu",
      "include_colab_link": true
    },
    "kernelspec": {
      "name": "python3",
      "display_name": "Python 3"
    },
    "language_info": {
      "name": "python"
    }
  },
  "cells": [
    {
      "cell_type": "markdown",
      "metadata": {
        "id": "view-in-github",
        "colab_type": "text"
      },
      "source": [
        "<a href=\"https://colab.research.google.com/github/hmyrcmn/FaceMaskDetectionYolo/blob/main/fileD.ipynb\" target=\"_parent\"><img src=\"https://colab.research.google.com/assets/colab-badge.svg\" alt=\"Open In Colab\"/></a>"
      ]
    },
    {
      "cell_type": "code",
      "execution_count": 13,
      "metadata": {
        "colab": {
          "base_uri": "https://localhost:8080/"
        },
        "id": "sVwiZAAAMvKY",
        "outputId": "efbb98aa-fae0-4bb2-879d-d744443e25a8"
      },
      "outputs": [
        {
          "output_type": "stream",
          "name": "stdout",
          "text": [
            "/content/Hand_Yasin_2.zip dosyası /content/ klasörüne başarıyla çıkarıldı.\n"
          ]
        }
      ],
      "source": [
        "import zipfile\n",
        "\n",
        "# Zip dosyasının yolu\n",
        "zip_dosyasi = \"/content/Hand_Yasin_2.zip\"\n",
        "# Çıkarılacak klasörün yolu\n",
        "hedef_klasor = \"/content/\"\n",
        "\n",
        "# Zip dosyasını aç ve içindekileri çıkar\n",
        "with zipfile.ZipFile(zip_dosyasi, 'r') as zip_ref:\n",
        "    zip_ref.extractall(hedef_klasor)\n",
        "\n",
        "print(f\"{zip_dosyasi} dosyası {hedef_klasor} klasörüne başarıyla çıkarıldı.\")\n"
      ]
    },
    {
      "cell_type": "code",
      "source": [
        "%cp -r /content/Hand_Yasin_2  /content/drive/MyDrive"
      ],
      "metadata": {
        "id": "1-yDwLfGOpc_"
      },
      "execution_count": 15,
      "outputs": []
    },
    {
      "cell_type": "markdown",
      "source": [],
      "metadata": {
        "id": "WkSGXT6wOvVa"
      }
    },
    {
      "cell_type": "code",
      "source": [
        "import os\n",
        "\n",
        "# Klasörün yolunu belirleyin\n",
        "klasor_yolu = \"/content/Hand_Yasin_2\"\n",
        "\n",
        "# Klasördeki dosyaları listeleyin\n",
        "dosyalar = os.listdir(klasor_yolu)\n",
        "\n",
        "# Her dosya için\n",
        "for dosya in dosyalar:\n",
        "    eski_dosya_yolu = os.path.join(klasor_yolu, dosya)\n",
        "\n",
        "    # Sadece dosya olanları işleme almak için\n",
        "    if os.path.isfile(eski_dosya_yolu):\n",
        "        yeni_dosya_adi = \"h2-\" + dosya\n",
        "        yeni_dosya_yolu = os.path.join(klasor_yolu, yeni_dosya_adi)\n",
        "\n",
        "        # Dosyayı yeniden adlandırın\n",
        "        os.rename(eski_dosya_yolu, yeni_dosya_yolu)\n",
        "\n",
        "print(\"Dosya adları başarıyla güncellendi!\")\n"
      ],
      "metadata": {
        "colab": {
          "base_uri": "https://localhost:8080/"
        },
        "id": "mhWozlOuNxY2",
        "outputId": "451f3815-58b2-4bf8-b488-cae885d03e08"
      },
      "execution_count": 14,
      "outputs": [
        {
          "output_type": "stream",
          "name": "stdout",
          "text": [
            "Dosya adları başarıyla güncellendi!\n"
          ]
        }
      ]
    },
    {
      "cell_type": "code",
      "source": [
        "%cd /content/"
      ],
      "metadata": {
        "colab": {
          "base_uri": "https://localhost:8080/"
        },
        "id": "TCFFKfieOGXy",
        "outputId": "14338681-2055-4600-d1ff-dceb52794a81"
      },
      "execution_count": 4,
      "outputs": [
        {
          "output_type": "stream",
          "name": "stdout",
          "text": [
            "/content\n"
          ]
        }
      ]
    },
    {
      "cell_type": "code",
      "source": [
        "import zipfile\n",
        "\n",
        "def dosyayi_zipe_cevir(dosya_yolu, zip_adi):\n",
        "    with zipfile.ZipFile(zip_adi, 'w') as zipdosya:\n",
        "        zipdosya.write(dosya_yolu)\n",
        "\n",
        "# Kullanım\n",
        "dosya_yolu = \"/content/Hand_Yasin_2\"\n",
        "zip_adi = 'xx.zip'\n",
        "dosyayi_zipe_cevir(dosya_yolu, zip_adi)\n"
      ],
      "metadata": {
        "id": "brCboLMzN4p7"
      },
      "execution_count": 9,
      "outputs": []
    },
    {
      "cell_type": "code",
      "source": [],
      "metadata": {
        "id": "FIU6WT7OOMBL"
      },
      "execution_count": null,
      "outputs": []
    }
  ]
}