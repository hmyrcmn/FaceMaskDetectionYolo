{
  "nbformat": 4,
  "nbformat_minor": 0,
  "metadata": {
    "colab": {
      "provenance": [],
      "gpuType": "T4",
      "mount_file_id": "1rVAx1uE8qhXRqqKygj0PWedDzUVugpth",
      "authorship_tag": "ABX9TyOf1oCTjowsT0R9yAcCWvRU",
      "include_colab_link": true
    },
    "kernelspec": {
      "name": "python3",
      "display_name": "Python 3"
    },
    "language_info": {
      "name": "python"
    },
    "accelerator": "GPU"
  },
  "cells": [
    {
      "cell_type": "markdown",
      "metadata": {
        "id": "view-in-github",
        "colab_type": "text"
      },
      "source": [
        "<a href=\"https://colab.research.google.com/github/hmyrcmn/FaceMaskDetectionYolo/blob/main/shooseYOLO_jpynb.ipynb\" target=\"_parent\"><img src=\"https://colab.research.google.com/assets/colab-badge.svg\" alt=\"Open In Colab\"/></a>"
      ]
    },
    {
      "cell_type": "code",
      "execution_count": 1,
      "metadata": {
        "colab": {
          "base_uri": "https://localhost:8080/"
        },
        "id": "90k2gqDF_zjU",
        "outputId": "712619b0-54f9-41f5-eb2e-0cea7cc4359b"
      },
      "outputs": [
        {
          "output_type": "stream",
          "name": "stdout",
          "text": [
            "Mon Mar  3 14:02:14 2025       \n",
            "+-----------------------------------------------------------------------------------------+\n",
            "| NVIDIA-SMI 550.54.15              Driver Version: 550.54.15      CUDA Version: 12.4     |\n",
            "|-----------------------------------------+------------------------+----------------------+\n",
            "| GPU  Name                 Persistence-M | Bus-Id          Disp.A | Volatile Uncorr. ECC |\n",
            "| Fan  Temp   Perf          Pwr:Usage/Cap |           Memory-Usage | GPU-Util  Compute M. |\n",
            "|                                         |                        |               MIG M. |\n",
            "|=========================================+========================+======================|\n",
            "|   0  Tesla T4                       Off |   00000000:00:04.0 Off |                    0 |\n",
            "| N/A   49C    P8             10W /   70W |       0MiB /  15360MiB |      0%      Default |\n",
            "|                                         |                        |                  N/A |\n",
            "+-----------------------------------------+------------------------+----------------------+\n",
            "                                                                                         \n",
            "+-----------------------------------------------------------------------------------------+\n",
            "| Processes:                                                                              |\n",
            "|  GPU   GI   CI        PID   Type   Process name                              GPU Memory |\n",
            "|        ID   ID                                                               Usage      |\n",
            "|=========================================================================================|\n",
            "|  No running processes found                                                             |\n",
            "+-----------------------------------------------------------------------------------------+\n"
          ]
        }
      ],
      "source": [
        "!nvidia-smi\n"
      ]
    },
    {
      "cell_type": "code",
      "source": [
        "%pip install ultralytics\n",
        "import ultralytics\n",
        "ultralytics.checks()"
      ],
      "metadata": {
        "colab": {
          "base_uri": "https://localhost:8080/"
        },
        "id": "gu41iurmKpOS",
        "outputId": "aad52d66-1c46-4e10-a36d-0651c1ce4d37"
      },
      "execution_count": 2,
      "outputs": [
        {
          "output_type": "stream",
          "name": "stdout",
          "text": [
            "Ultralytics 8.3.82 🚀 Python-3.11.11 torch-2.5.1+cu124 CUDA:0 (Tesla T4, 15095MiB)\n",
            "Setup complete ✅ (2 CPUs, 12.7 GB RAM, 35.5/112.6 GB disk)\n"
          ]
        }
      ]
    },
    {
      "cell_type": "code",
      "source": [
        "from google.colab import drive\n",
        "drive.mount('/content/drive')"
      ],
      "metadata": {
        "colab": {
          "base_uri": "https://localhost:8080/"
        },
        "id": "zc36JxukUAH7",
        "outputId": "501128d5-b08f-4050-d8dd-2907fde3038a"
      },
      "execution_count": 3,
      "outputs": [
        {
          "output_type": "stream",
          "name": "stdout",
          "text": [
            "Drive already mounted at /content/drive; to attempt to forcibly remount, call drive.mount(\"/content/drive\", force_remount=True).\n"
          ]
        }
      ]
    },
    {
      "cell_type": "code",
      "source": [
        "import zipfile\n",
        "\n",
        "# Zip dosyasının yolu\n",
        "zip_dosyasi = \"/content/drive/MyDrive/HıjyenDatayolo/yoloShoseData.zip\"\n",
        "# Çıkarılacak klasörün yolu\n",
        "hedef_klasor = \"/content/\"\n",
        "\n",
        "# Zip dosyasını aç ve içindekileri çıkar\n",
        "with zipfile.ZipFile(zip_dosyasi, 'r') as zip_ref:\n",
        "    zip_ref.extractall(hedef_klasor)\n",
        "\n",
        "print(f\"{zip_dosyasi} dosyası {hedef_klasor} klasörüne başarıyla çıkarıldı.\")\n"
      ],
      "metadata": {
        "colab": {
          "base_uri": "https://localhost:8080/"
        },
        "id": "t4pfqAzxUrFz",
        "outputId": "26d22a81-a0df-4089-f4e9-9f4ee7e5e676"
      },
      "execution_count": 4,
      "outputs": [
        {
          "output_type": "stream",
          "name": "stdout",
          "text": [
            "/content/drive/MyDrive/HıjyenDatayolo/yoloShoseData.zip dosyası /content/ klasörüne başarıyla çıkarıldı.\n"
          ]
        }
      ]
    },
    {
      "cell_type": "code",
      "source": [
        "# /content/data\n",
        "import os\n",
        "if os.path.isfile(\"/content/drive/MyDrive/HıjyenDatayolo/Result/shooseRun\"):\n",
        "    print(\"Dosya mevcut! (There is folder!)\")\n",
        "else:\n",
        "    os.mkdir(\"/content/drive/MyDrive/HıjyenDatayolo/Result/shooseRun\")\n",
        "\n",
        "%cd /content/drive/MyDrive/HıjyenDatayolo/Result/shooseRun\n",
        "\n",
        "# YoloV8 modeli 50 adımlık eğitimi yapıyorum(I am doing YoloV8 model 50 step training)\n",
        "# data = \"Path to the file with .yaml extension(Oluşturduğunum .yaml uzantılı dosyanın yolu)\"\n",
        "# epochs = How many steps will you train?(Kaç adımlı eğitim yapacağınız)\n",
        "# imagsz = This is size of image at the training data(Eğitim verilerindeki resimlerin boyutu)\n",
        "!yolo train model=yolov8n.pt data=/content/yoloShoseData/dataset.yaml epochs=50 imgsz=640"
      ],
      "metadata": {
        "id": "MXXoJ7DqWlYg"
      },
      "execution_count": null,
      "outputs": []
    },
    {
      "cell_type": "code",
      "source": [
        "%cd /content/drive/MyDrive/HıjyenDatayolo/Result/shooseRun\n"
      ],
      "metadata": {
        "colab": {
          "base_uri": "https://localhost:8080/"
        },
        "id": "uNnzYpOuVAZh",
        "outputId": "23817c62-19d1-46d0-dd97-29463afb5fb7"
      },
      "execution_count": 9,
      "outputs": [
        {
          "output_type": "stream",
          "name": "stdout",
          "text": [
            "/content/drive/MyDrive/HıjyenDatayolo/Result/shooseRun\n"
          ]
        }
      ]
    },
    {
      "cell_type": "code",
      "source": [
        "%pwd\n"
      ],
      "metadata": {
        "colab": {
          "base_uri": "https://localhost:8080/",
          "height": 36
        },
        "id": "9dylhSM_WYzr",
        "outputId": "d9bc6ed4-789d-46c2-d888-37a27216e0be"
      },
      "execution_count": 11,
      "outputs": [
        {
          "output_type": "execute_result",
          "data": {
            "text/plain": [
              "'/content/drive/MyDrive/HıjyenDatayolo/Result/shooseRun'"
            ],
            "application/vnd.google.colaboratory.intrinsic+json": {
              "type": "string"
            }
          },
          "metadata": {},
          "execution_count": 11
        }
      ]
    },
    {
      "cell_type": "code",
      "source": [
        "!yolo train model=yolov8n.pt data=/content/yoloShoseData/dataset.yaml epochs=50 imgsz=640"
      ],
      "metadata": {
        "colab": {
          "base_uri": "https://localhost:8080/"
        },
        "id": "61tp0TSWWaTG",
        "outputId": "1bc08e0d-3e32-469b-9fc0-dbbab0f6e50e"
      },
      "execution_count": 12,
      "outputs": [
        {
          "output_type": "stream",
          "name": "stdout",
          "text": [
            "Downloading https://github.com/ultralytics/assets/releases/download/v8.3.0/yolov8n.pt to 'yolov8n.pt'...\n",
            "100% 6.25M/6.25M [00:00<00:00, 192MB/s]\n",
            "Ultralytics 8.3.82 🚀 Python-3.11.11 torch-2.5.1+cu124 CUDA:0 (Tesla T4, 15095MiB)\n",
            "\u001b[34m\u001b[1mengine/trainer: \u001b[0mtask=detect, mode=train, model=yolov8n.pt, data=/content/yoloShoseData/dataset.yaml, epochs=50, time=None, patience=100, batch=16, imgsz=640, save=True, save_period=-1, cache=False, device=None, workers=8, project=None, name=train, exist_ok=False, pretrained=True, optimizer=auto, verbose=True, seed=0, deterministic=True, single_cls=False, rect=False, cos_lr=False, close_mosaic=10, resume=False, amp=True, fraction=1.0, profile=False, freeze=None, multi_scale=False, overlap_mask=True, mask_ratio=4, dropout=0.0, val=True, split=val, save_json=False, save_hybrid=False, conf=None, iou=0.7, max_det=300, half=False, dnn=False, plots=True, source=None, vid_stride=1, stream_buffer=False, visualize=False, augment=False, agnostic_nms=False, classes=None, retina_masks=False, embed=None, show=False, save_frames=False, save_txt=False, save_conf=False, save_crop=False, show_labels=True, show_conf=True, show_boxes=True, line_width=None, format=torchscript, keras=False, optimize=False, int8=False, dynamic=False, simplify=True, opset=None, workspace=None, nms=False, lr0=0.01, lrf=0.01, momentum=0.937, weight_decay=0.0005, warmup_epochs=3.0, warmup_momentum=0.8, warmup_bias_lr=0.1, box=7.5, cls=0.5, dfl=1.5, pose=12.0, kobj=1.0, nbs=64, hsv_h=0.015, hsv_s=0.7, hsv_v=0.4, degrees=0.0, translate=0.1, scale=0.5, shear=0.0, perspective=0.0, flipud=0.0, fliplr=0.5, bgr=0.0, mosaic=1.0, mixup=0.0, copy_paste=0.0, copy_paste_mode=flip, auto_augment=randaugment, erasing=0.4, crop_fraction=1.0, cfg=None, tracker=botsort.yaml, save_dir=runs/detect/train\n",
            "Downloading https://ultralytics.com/assets/Arial.ttf to '/root/.config/Ultralytics/Arial.ttf'...\n",
            "100% 755k/755k [00:00<00:00, 158MB/s]\n",
            "WARNING: All log messages before absl::InitializeLog() is called are written to STDERR\n",
            "E0000 00:00:1741011160.408817    3376 cuda_dnn.cc:8310] Unable to register cuDNN factory: Attempting to register factory for plugin cuDNN when one has already been registered\n",
            "E0000 00:00:1741011160.503552    3376 cuda_blas.cc:1418] Unable to register cuBLAS factory: Attempting to register factory for plugin cuBLAS when one has already been registered\n",
            "Overriding model.yaml nc=80 with nc=2\n",
            "\n",
            "                   from  n    params  module                                       arguments                     \n",
            "  0                  -1  1       464  ultralytics.nn.modules.conv.Conv             [3, 16, 3, 2]                 \n",
            "  1                  -1  1      4672  ultralytics.nn.modules.conv.Conv             [16, 32, 3, 2]                \n",
            "  2                  -1  1      7360  ultralytics.nn.modules.block.C2f             [32, 32, 1, True]             \n",
            "  3                  -1  1     18560  ultralytics.nn.modules.conv.Conv             [32, 64, 3, 2]                \n",
            "  4                  -1  2     49664  ultralytics.nn.modules.block.C2f             [64, 64, 2, True]             \n",
            "  5                  -1  1     73984  ultralytics.nn.modules.conv.Conv             [64, 128, 3, 2]               \n",
            "  6                  -1  2    197632  ultralytics.nn.modules.block.C2f             [128, 128, 2, True]           \n",
            "  7                  -1  1    295424  ultralytics.nn.modules.conv.Conv             [128, 256, 3, 2]              \n",
            "  8                  -1  1    460288  ultralytics.nn.modules.block.C2f             [256, 256, 1, True]           \n",
            "  9                  -1  1    164608  ultralytics.nn.modules.block.SPPF            [256, 256, 5]                 \n",
            " 10                  -1  1         0  torch.nn.modules.upsampling.Upsample         [None, 2, 'nearest']          \n",
            " 11             [-1, 6]  1         0  ultralytics.nn.modules.conv.Concat           [1]                           \n",
            " 12                  -1  1    148224  ultralytics.nn.modules.block.C2f             [384, 128, 1]                 \n",
            " 13                  -1  1         0  torch.nn.modules.upsampling.Upsample         [None, 2, 'nearest']          \n",
            " 14             [-1, 4]  1         0  ultralytics.nn.modules.conv.Concat           [1]                           \n",
            " 15                  -1  1     37248  ultralytics.nn.modules.block.C2f             [192, 64, 1]                  \n",
            " 16                  -1  1     36992  ultralytics.nn.modules.conv.Conv             [64, 64, 3, 2]                \n",
            " 17            [-1, 12]  1         0  ultralytics.nn.modules.conv.Concat           [1]                           \n",
            " 18                  -1  1    123648  ultralytics.nn.modules.block.C2f             [192, 128, 1]                 \n",
            " 19                  -1  1    147712  ultralytics.nn.modules.conv.Conv             [128, 128, 3, 2]              \n",
            " 20             [-1, 9]  1         0  ultralytics.nn.modules.conv.Concat           [1]                           \n",
            " 21                  -1  1    493056  ultralytics.nn.modules.block.C2f             [384, 256, 1]                 \n",
            " 22        [15, 18, 21]  1    751702  ultralytics.nn.modules.head.Detect           [2, [64, 128, 256]]           \n",
            "Model summary: 129 layers, 3,011,238 parameters, 3,011,222 gradients, 8.2 GFLOPs\n",
            "\n",
            "Transferred 319/355 items from pretrained weights\n",
            "\u001b[34m\u001b[1mTensorBoard: \u001b[0mStart with 'tensorboard --logdir runs/detect/train', view at http://localhost:6006/\n",
            "Freezing layer 'model.22.dfl.conv.weight'\n",
            "\u001b[34m\u001b[1mAMP: \u001b[0mrunning Automatic Mixed Precision (AMP) checks...\n",
            "Downloading https://github.com/ultralytics/assets/releases/download/v8.3.0/yolo11n.pt to 'yolo11n.pt'...\n",
            "100% 5.35M/5.35M [00:00<00:00, 185MB/s]\n",
            "\u001b[34m\u001b[1mAMP: \u001b[0mchecks passed ✅\n",
            "\u001b[34m\u001b[1mtrain: \u001b[0mScanning /content/yoloShoseData/train/labels... 447 images, 0 backgrounds, 0 corrupt: 100% 447/447 [00:00<00:00, 2013.22it/s]\n",
            "\u001b[34m\u001b[1mtrain: \u001b[0mNew cache created: /content/yoloShoseData/train/labels.cache\n",
            "/usr/local/lib/python3.11/dist-packages/albumentations/__init__.py:28: UserWarning: A new version of Albumentations is available: '2.0.5' (you have '2.0.4'). Upgrade using: pip install -U albumentations. To disable automatic update checks, set the environment variable NO_ALBUMENTATIONS_UPDATE to 1.\n",
            "  check_for_updates()\n",
            "\u001b[34m\u001b[1malbumentations: \u001b[0mBlur(p=0.01, blur_limit=(3, 7)), MedianBlur(p=0.01, blur_limit=(3, 7)), ToGray(p=0.01, num_output_channels=3, method='weighted_average'), CLAHE(p=0.01, clip_limit=(1.0, 4.0), tile_grid_size=(8, 8))\n",
            "\u001b[34m\u001b[1mval: \u001b[0mScanning /content/yoloShoseData/valid/labels... 96 images, 0 backgrounds, 0 corrupt: 100% 96/96 [00:00<00:00, 1282.33it/s]\n",
            "\u001b[34m\u001b[1mval: \u001b[0mNew cache created: /content/yoloShoseData/valid/labels.cache\n",
            "Plotting labels to runs/detect/train/labels.jpg... \n",
            "\u001b[34m\u001b[1moptimizer:\u001b[0m 'optimizer=auto' found, ignoring 'lr0=0.01' and 'momentum=0.937' and determining best 'optimizer', 'lr0' and 'momentum' automatically... \n",
            "\u001b[34m\u001b[1moptimizer:\u001b[0m AdamW(lr=0.001667, momentum=0.9) with parameter groups 57 weight(decay=0.0), 64 weight(decay=0.0005), 63 bias(decay=0.0)\n",
            "\u001b[34m\u001b[1mTensorBoard: \u001b[0mmodel graph visualization added ✅\n",
            "Image sizes 640 train, 640 val\n",
            "Using 2 dataloader workers\n",
            "Logging results to \u001b[1mruns/detect/train\u001b[0m\n",
            "Starting training for 50 epochs...\n",
            "\n",
            "      Epoch    GPU_mem   box_loss   cls_loss   dfl_loss  Instances       Size\n",
            "       1/50      2.11G      2.626       4.06      2.104         87        640:  50% 14/28 [00:05<00:04,  2.96it/s]libpng warning: iCCP: known incorrect sRGB profile\n",
            "       1/50      2.12G      2.271      3.342      1.802         55        640: 100% 28/28 [00:12<00:00,  2.23it/s]\n",
            "                 Class     Images  Instances      Box(P          R      mAP50  mAP50-95): 100% 3/3 [00:02<00:00,  1.24it/s]\n",
            "                   all         96        258    0.00761       0.87      0.348      0.113\n",
            "\n",
            "      Epoch    GPU_mem   box_loss   cls_loss   dfl_loss  Instances       Size\n",
            "       2/50      2.03G       1.75      2.277      1.472         65        640:  82% 23/28 [00:07<00:02,  2.22it/s]libpng warning: iCCP: known incorrect sRGB profile\n",
            "       2/50      2.04G      1.748      2.261      1.479         76        640: 100% 28/28 [00:10<00:00,  2.72it/s]\n",
            "                 Class     Images  Instances      Box(P          R      mAP50  mAP50-95): 100% 3/3 [00:01<00:00,  2.32it/s]\n",
            "                   all         96        258    0.00756      0.875      0.464       0.19\n",
            "\n",
            "      Epoch    GPU_mem   box_loss   cls_loss   dfl_loss  Instances       Size\n",
            "       3/50      2.03G       1.71      2.031      1.489         70        640:  43% 12/28 [00:02<00:03,  4.20it/s]libpng warning: iCCP: known incorrect sRGB profile\n",
            "       3/50      2.03G      1.762      1.948      1.494         88        640: 100% 28/28 [00:10<00:00,  2.71it/s]\n",
            "                 Class     Images  Instances      Box(P          R      mAP50  mAP50-95): 100% 3/3 [00:01<00:00,  2.58it/s]\n",
            "                   all         96        258      0.825      0.272       0.43      0.191\n",
            "\n",
            "      Epoch    GPU_mem   box_loss   cls_loss   dfl_loss  Instances       Size\n",
            "       4/50      2.04G      1.797      1.807      1.469         79        640:  68% 19/28 [00:05<00:02,  3.36it/s]libpng warning: iCCP: known incorrect sRGB profile\n",
            "       4/50      2.04G      1.778      1.791      1.474         66        640: 100% 28/28 [00:08<00:00,  3.13it/s]\n",
            "                 Class     Images  Instances      Box(P          R      mAP50  mAP50-95): 100% 3/3 [00:01<00:00,  1.56it/s]\n",
            "                   all         96        258      0.702      0.685      0.746      0.345\n",
            "\n",
            "      Epoch    GPU_mem   box_loss   cls_loss   dfl_loss  Instances       Size\n",
            "       5/50      2.03G      1.753       1.67      1.463        117        640:  21% 6/28 [00:01<00:04,  4.50it/s]libpng warning: iCCP: known incorrect sRGB profile\n",
            "       5/50      2.03G      1.735       1.71      1.459         58        640: 100% 28/28 [00:08<00:00,  3.20it/s]\n",
            "                 Class     Images  Instances      Box(P          R      mAP50  mAP50-95): 100% 3/3 [00:01<00:00,  2.45it/s]\n",
            "                   all         96        258      0.744      0.775      0.853      0.379\n",
            "\n",
            "      Epoch    GPU_mem   box_loss   cls_loss   dfl_loss  Instances       Size\n",
            "       6/50      2.03G      1.718      1.705      1.476         51        640:  57% 16/28 [00:05<00:04,  2.94it/s]libpng warning: iCCP: known incorrect sRGB profile\n",
            "       6/50      2.03G      1.713      1.638      1.451         78        640: 100% 28/28 [00:09<00:00,  2.92it/s]\n",
            "                 Class     Images  Instances      Box(P          R      mAP50  mAP50-95): 100% 3/3 [00:01<00:00,  2.34it/s]\n",
            "                   all         96        258      0.764      0.817       0.87      0.421\n",
            "\n",
            "      Epoch    GPU_mem   box_loss   cls_loss   dfl_loss  Instances       Size\n",
            "       7/50      2.03G      1.762      1.541      1.435         56        640:  43% 12/28 [00:03<00:06,  2.43it/s]libpng warning: iCCP: known incorrect sRGB profile\n",
            "       7/50      2.03G      1.733      1.494      1.448         56        640: 100% 28/28 [00:10<00:00,  2.74it/s]\n",
            "                 Class     Images  Instances      Box(P          R      mAP50  mAP50-95): 100% 3/3 [00:01<00:00,  2.80it/s]\n",
            "                   all         96        258      0.815       0.83      0.905      0.438\n",
            "\n",
            "      Epoch    GPU_mem   box_loss   cls_loss   dfl_loss  Instances       Size\n",
            "       8/50      2.03G      1.752      1.406      1.431         99        640:  89% 25/28 [00:08<00:01,  2.42it/s]libpng warning: iCCP: known incorrect sRGB profile\n",
            "       8/50      2.04G      1.759      1.414      1.434         83        640: 100% 28/28 [00:10<00:00,  2.70it/s]\n",
            "                 Class     Images  Instances      Box(P          R      mAP50  mAP50-95): 100% 3/3 [00:01<00:00,  2.90it/s]\n",
            "                   all         96        258      0.774      0.711      0.787      0.366\n",
            "\n",
            "      Epoch    GPU_mem   box_loss   cls_loss   dfl_loss  Instances       Size\n",
            "       9/50      2.01G      1.737      1.362      1.435         70        640: 100% 28/28 [00:09<00:00,  3.06it/s]\n",
            "                 Class     Images  Instances      Box(P          R      mAP50  mAP50-95): 100% 3/3 [00:01<00:00,  2.24it/s]\n",
            "                   all         96        258      0.722      0.649      0.756       0.37\n",
            "\n",
            "      Epoch    GPU_mem   box_loss   cls_loss   dfl_loss  Instances       Size\n",
            "      10/50      2.03G      1.702      1.273      1.412         82        640:  14% 4/28 [00:00<00:05,  4.34it/s]libpng warning: iCCP: known incorrect sRGB profile\n",
            "      10/50      2.04G      1.697      1.279      1.397         97        640: 100% 28/28 [00:08<00:00,  3.29it/s]\n",
            "                 Class     Images  Instances      Box(P          R      mAP50  mAP50-95): 100% 3/3 [00:02<00:00,  1.44it/s]\n",
            "                   all         96        258      0.836      0.815      0.868      0.416\n",
            "\n",
            "      Epoch    GPU_mem   box_loss   cls_loss   dfl_loss  Instances       Size\n",
            "      11/50      2.01G      1.702      1.246      1.421         72        640:  68% 19/28 [00:04<00:02,  3.73it/s]libpng warning: iCCP: known incorrect sRGB profile\n",
            "      11/50      2.01G      1.685      1.252      1.411         60        640: 100% 28/28 [00:08<00:00,  3.26it/s]\n",
            "                 Class     Images  Instances      Box(P          R      mAP50  mAP50-95): 100% 3/3 [00:01<00:00,  2.84it/s]\n",
            "                   all         96        258      0.695       0.88      0.866      0.431\n",
            "\n",
            "      Epoch    GPU_mem   box_loss   cls_loss   dfl_loss  Instances       Size\n",
            "      12/50      2.06G      1.672      1.236      1.401         55        640:  50% 14/28 [00:04<00:04,  3.22it/s]libpng warning: iCCP: known incorrect sRGB profile\n",
            "      12/50      2.06G      1.687      1.205      1.404         82        640: 100% 28/28 [00:09<00:00,  2.85it/s]\n",
            "                 Class     Images  Instances      Box(P          R      mAP50  mAP50-95): 100% 3/3 [00:01<00:00,  2.60it/s]\n",
            "                   all         96        258      0.863      0.894      0.903      0.458\n",
            "\n",
            "      Epoch    GPU_mem   box_loss   cls_loss   dfl_loss  Instances       Size\n",
            "      13/50      2.03G      1.638      1.169      1.359         65        640:  11% 3/28 [00:00<00:04,  5.03it/s]libpng warning: iCCP: known incorrect sRGB profile\n",
            "      13/50      2.03G      1.702      1.217      1.402         68        640: 100% 28/28 [00:10<00:00,  2.79it/s]\n",
            "                 Class     Images  Instances      Box(P          R      mAP50  mAP50-95): 100% 3/3 [00:00<00:00,  3.06it/s]\n",
            "                   all         96        258      0.877      0.877      0.904      0.442\n",
            "\n",
            "      Epoch    GPU_mem   box_loss   cls_loss   dfl_loss  Instances       Size\n",
            "      14/50      2.03G      1.662      1.181      1.383         92        640:  29% 8/28 [00:01<00:05,  3.76it/s]libpng warning: iCCP: known incorrect sRGB profile\n",
            "      14/50      2.03G      1.679      1.188      1.401         58        640: 100% 28/28 [00:09<00:00,  2.82it/s]\n",
            "                 Class     Images  Instances      Box(P          R      mAP50  mAP50-95): 100% 3/3 [00:01<00:00,  2.45it/s]\n",
            "                   all         96        258      0.789      0.828      0.839      0.417\n",
            "\n",
            "      Epoch    GPU_mem   box_loss   cls_loss   dfl_loss  Instances       Size\n",
            "  0% 0/28 [00:00<?, ?it/s]libpng warning: iCCP: known incorrect sRGB profile\n",
            "      15/50      2.03G      1.665      1.202      1.428         61        640: 100% 28/28 [00:10<00:00,  2.76it/s]\n",
            "                 Class     Images  Instances      Box(P          R      mAP50  mAP50-95): 100% 3/3 [00:01<00:00,  2.69it/s]\n",
            "                   all         96        258      0.844      0.878      0.874      0.441\n",
            "\n",
            "      Epoch    GPU_mem   box_loss   cls_loss   dfl_loss  Instances       Size\n",
            "      16/50      2.02G      1.681      1.182      1.397         97        640:  32% 9/28 [00:02<00:04,  4.08it/s]libpng warning: iCCP: known incorrect sRGB profile\n",
            "      16/50      2.03G       1.63      1.129      1.372         54        640: 100% 28/28 [00:09<00:00,  3.04it/s]\n",
            "                 Class     Images  Instances      Box(P          R      mAP50  mAP50-95): 100% 3/3 [00:01<00:00,  1.85it/s]\n",
            "                   all         96        258      0.861      0.837      0.907      0.408\n",
            "\n",
            "      Epoch    GPU_mem   box_loss   cls_loss   dfl_loss  Instances       Size\n",
            "      17/50      2.03G      1.639      1.067      1.344         67        640:  29% 8/28 [00:01<00:04,  4.30it/s]libpng warning: iCCP: known incorrect sRGB profile\n",
            "      17/50      2.04G      1.654      1.087      1.369         54        640: 100% 28/28 [00:08<00:00,  3.27it/s]\n",
            "                 Class     Images  Instances      Box(P          R      mAP50  mAP50-95): 100% 3/3 [00:01<00:00,  2.54it/s]\n",
            "                   all         96        258       0.85      0.778       0.86      0.415\n",
            "\n",
            "      Epoch    GPU_mem   box_loss   cls_loss   dfl_loss  Instances       Size\n",
            "      18/50      2.03G      1.629      1.124      1.388         56        640:  54% 15/28 [00:05<00:04,  3.12it/s]libpng warning: iCCP: known incorrect sRGB profile\n",
            "      18/50      2.03G      1.629       1.13      1.388         65        640:  93% 26/28 [00:09<00:00,  3.67it/s]libpng warning: iCCP: known incorrect sRGB profile\n",
            "      18/50      2.03G      1.629      1.126      1.383         61        640: 100% 28/28 [00:09<00:00,  2.91it/s]\n",
            "                 Class     Images  Instances      Box(P          R      mAP50  mAP50-95): 100% 3/3 [00:01<00:00,  2.43it/s]\n",
            "                   all         96        258      0.789      0.848      0.854      0.419\n",
            "\n",
            "      Epoch    GPU_mem   box_loss   cls_loss   dfl_loss  Instances       Size\n",
            "      19/50      2.04G      1.593      1.047      1.341         54        640: 100% 28/28 [00:09<00:00,  2.95it/s]\n",
            "                 Class     Images  Instances      Box(P          R      mAP50  mAP50-95): 100% 3/3 [00:00<00:00,  3.02it/s]\n",
            "                   all         96        258      0.781      0.855      0.895       0.41\n",
            "\n",
            "      Epoch    GPU_mem   box_loss   cls_loss   dfl_loss  Instances       Size\n",
            "      20/50      2.03G      1.672      1.088      1.393         81        640:  14% 4/28 [00:00<00:05,  4.40it/s]libpng warning: iCCP: known incorrect sRGB profile\n",
            "      20/50      2.04G      1.665      1.049      1.392         77        640: 100% 28/28 [00:10<00:00,  2.79it/s]\n",
            "                 Class     Images  Instances      Box(P          R      mAP50  mAP50-95): 100% 3/3 [00:01<00:00,  2.89it/s]\n",
            "                   all         96        258      0.904      0.895      0.929      0.475\n",
            "\n",
            "      Epoch    GPU_mem   box_loss   cls_loss   dfl_loss  Instances       Size\n",
            "      21/50      2.02G      1.641       1.06      1.381         56        640:  54% 15/28 [00:03<00:03,  3.92it/s]libpng warning: iCCP: known incorrect sRGB profile\n",
            "      21/50      2.03G      1.642      1.061      1.386         67        640: 100% 28/28 [00:10<00:00,  2.76it/s]\n",
            "                 Class     Images  Instances      Box(P          R      mAP50  mAP50-95): 100% 3/3 [00:01<00:00,  2.15it/s]\n",
            "                   all         96        258      0.877      0.903      0.909      0.464\n",
            "\n",
            "      Epoch    GPU_mem   box_loss   cls_loss   dfl_loss  Instances       Size\n",
            "      22/50      2.01G      1.591     0.9845      1.361         47        640:  36% 10/28 [00:02<00:04,  3.79it/s]libpng warning: iCCP: known incorrect sRGB profile\n",
            "      22/50      2.01G      1.593     0.9926      1.355         84        640: 100% 28/28 [00:08<00:00,  3.30it/s]\n",
            "                 Class     Images  Instances      Box(P          R      mAP50  mAP50-95): 100% 3/3 [00:02<00:00,  1.49it/s]\n",
            "                   all         96        258      0.811      0.878      0.873      0.448\n",
            "\n",
            "      Epoch    GPU_mem   box_loss   cls_loss   dfl_loss  Instances       Size\n",
            "      23/50      2.03G      1.575     0.9994      1.345         70        640:  71% 20/28 [00:05<00:02,  3.42it/s]libpng warning: iCCP: known incorrect sRGB profile\n",
            "      23/50      2.03G      1.582     0.9917      1.344         75        640: 100% 28/28 [00:08<00:00,  3.41it/s]\n",
            "                 Class     Images  Instances      Box(P          R      mAP50  mAP50-95): 100% 3/3 [00:01<00:00,  2.34it/s]\n",
            "                   all         96        258      0.873       0.88      0.921       0.47\n",
            "\n",
            "      Epoch    GPU_mem   box_loss   cls_loss   dfl_loss  Instances       Size\n",
            "      24/50      2.04G      1.591     0.9637      1.343         59        640: 100% 28/28 [00:09<00:00,  3.01it/s]\n",
            "                 Class     Images  Instances      Box(P          R      mAP50  mAP50-95): 100% 3/3 [00:01<00:00,  2.60it/s]\n",
            "                   all         96        258       0.86      0.904       0.92      0.456\n",
            "\n",
            "      Epoch    GPU_mem   box_loss   cls_loss   dfl_loss  Instances       Size\n",
            "      25/50      2.01G      1.606     0.9853      1.358         86        640:  71% 20/28 [00:07<00:04,  1.95it/s]libpng warning: iCCP: known incorrect sRGB profile\n",
            "      25/50      2.01G      1.609     0.9784       1.35         74        640: 100% 28/28 [00:10<00:00,  2.70it/s]\n",
            "                 Class     Images  Instances      Box(P          R      mAP50  mAP50-95): 100% 3/3 [00:00<00:00,  3.11it/s]\n",
            "                   all         96        258      0.846      0.877      0.897      0.465\n",
            "\n",
            "      Epoch    GPU_mem   box_loss   cls_loss   dfl_loss  Instances       Size\n",
            "      26/50      2.02G      1.585     0.9572      1.343         78        640:  46% 13/28 [00:03<00:04,  3.38it/s]libpng warning: iCCP: known incorrect sRGB profile\n",
            "      26/50      2.03G       1.58     0.9502      1.322         79        640: 100% 28/28 [00:09<00:00,  2.81it/s]\n",
            "                 Class     Images  Instances      Box(P          R      mAP50  mAP50-95): 100% 3/3 [00:01<00:00,  2.69it/s]\n",
            "                   all         96        258      0.905      0.899      0.945      0.479\n",
            "\n",
            "      Epoch    GPU_mem   box_loss   cls_loss   dfl_loss  Instances       Size\n",
            "      27/50      2.03G      1.569     0.9153      1.352         99        640:  75% 21/28 [00:05<00:02,  3.46it/s]libpng warning: iCCP: known incorrect sRGB profile\n",
            "      27/50      2.03G      1.562     0.9064      1.346         75        640: 100% 28/28 [00:09<00:00,  2.99it/s]\n",
            "                 Class     Images  Instances      Box(P          R      mAP50  mAP50-95): 100% 3/3 [00:01<00:00,  1.67it/s]\n",
            "                   all         96        258      0.799      0.871      0.872      0.445\n",
            "\n",
            "      Epoch    GPU_mem   box_loss   cls_loss   dfl_loss  Instances       Size\n",
            "      28/50      2.04G      1.552     0.9109      1.332         69        640:  86% 24/28 [00:06<00:01,  2.99it/s]libpng warning: iCCP: known incorrect sRGB profile\n",
            "      28/50      2.04G      1.554     0.9069      1.335         47        640: 100% 28/28 [00:08<00:00,  3.24it/s]\n",
            "                 Class     Images  Instances      Box(P          R      mAP50  mAP50-95): 100% 3/3 [00:01<00:00,  2.25it/s]\n",
            "                   all         96        258      0.849      0.783      0.886      0.437\n",
            "\n",
            "      Epoch    GPU_mem   box_loss   cls_loss   dfl_loss  Instances       Size\n",
            "      29/50      2.03G      1.533     0.8844      1.298         66        640: 100% 28/28 [00:08<00:00,  3.24it/s]\n",
            "                 Class     Images  Instances      Box(P          R      mAP50  mAP50-95): 100% 3/3 [00:01<00:00,  2.64it/s]\n",
            "                   all         96        258      0.835       0.93      0.919      0.475\n",
            "\n",
            "      Epoch    GPU_mem   box_loss   cls_loss   dfl_loss  Instances       Size\n",
            "      30/50      2.01G      1.581     0.9334      1.356         72        640:  75% 21/28 [00:07<00:02,  3.31it/s]libpng warning: iCCP: known incorrect sRGB profile\n",
            "      30/50      2.01G      1.566     0.9185      1.345         63        640: 100% 28/28 [00:10<00:00,  2.77it/s]\n",
            "                 Class     Images  Instances      Box(P          R      mAP50  mAP50-95): 100% 3/3 [00:00<00:00,  3.01it/s]\n",
            "                   all         96        258       0.88      0.903      0.943       0.49\n",
            "\n",
            "      Epoch    GPU_mem   box_loss   cls_loss   dfl_loss  Instances       Size\n",
            "      31/50      2.03G      1.544     0.8876      1.336         73        640: 100% 28/28 [00:09<00:00,  2.96it/s]\n",
            "                 Class     Images  Instances      Box(P          R      mAP50  mAP50-95): 100% 3/3 [00:00<00:00,  3.03it/s]\n",
            "                   all         96        258      0.902      0.889      0.941      0.478\n",
            "\n",
            "      Epoch    GPU_mem   box_loss   cls_loss   dfl_loss  Instances       Size\n",
            "      32/50      2.03G      1.531     0.8446      1.293         75        640:  86% 24/28 [00:06<00:01,  2.70it/s]libpng warning: iCCP: known incorrect sRGB profile\n",
            "      32/50      2.03G      1.527     0.8538      1.299         60        640: 100% 28/28 [00:10<00:00,  2.77it/s]\n",
            "                 Class     Images  Instances      Box(P          R      mAP50  mAP50-95): 100% 3/3 [00:01<00:00,  2.55it/s]\n",
            "                   all         96        258      0.824      0.914      0.925      0.496\n",
            "\n",
            "      Epoch    GPU_mem   box_loss   cls_loss   dfl_loss  Instances       Size\n",
            "      33/50      2.01G      1.547     0.8576      1.339         70        640:  79% 22/28 [00:05<00:01,  3.59it/s]libpng warning: iCCP: known incorrect sRGB profile\n",
            "      33/50      2.01G      1.542     0.8503      1.332         60        640: 100% 28/28 [00:08<00:00,  3.25it/s]\n",
            "                 Class     Images  Instances      Box(P          R      mAP50  mAP50-95): 100% 3/3 [00:01<00:00,  1.96it/s]\n",
            "                   all         96        258      0.869      0.928      0.949      0.502\n",
            "\n",
            "      Epoch    GPU_mem   box_loss   cls_loss   dfl_loss  Instances       Size\n",
            "      34/50      2.01G      1.537     0.8509      1.303        101        640:  79% 22/28 [00:05<00:01,  3.78it/s]libpng warning: iCCP: known incorrect sRGB profile\n",
            "      34/50      2.01G      1.526     0.8561      1.303         65        640: 100% 28/28 [00:08<00:00,  3.19it/s]\n",
            "                 Class     Images  Instances      Box(P          R      mAP50  mAP50-95): 100% 3/3 [00:00<00:00,  3.21it/s]\n",
            "                   all         96        258      0.836      0.951      0.943      0.478\n",
            "\n",
            "      Epoch    GPU_mem   box_loss   cls_loss   dfl_loss  Instances       Size\n",
            "      35/50      2.01G      1.523      0.874      1.322         69        640: 100% 28/28 [00:09<00:00,  3.05it/s]\n",
            "                 Class     Images  Instances      Box(P          R      mAP50  mAP50-95): 100% 3/3 [00:01<00:00,  2.69it/s]\n",
            "                   all         96        258      0.877       0.94      0.956      0.493\n",
            "\n",
            "      Epoch    GPU_mem   box_loss   cls_loss   dfl_loss  Instances       Size\n",
            "      36/50      2.02G      1.461     0.8234      1.293         39        640:  68% 19/28 [00:05<00:03,  2.38it/s]libpng warning: iCCP: known incorrect sRGB profile\n",
            "      36/50      2.03G      1.465     0.8042       1.29         71        640: 100% 28/28 [00:10<00:00,  2.76it/s]\n",
            "                 Class     Images  Instances      Box(P          R      mAP50  mAP50-95): 100% 3/3 [00:01<00:00,  2.72it/s]\n",
            "                   all         96        258       0.83      0.927      0.927      0.483\n",
            "\n",
            "      Epoch    GPU_mem   box_loss   cls_loss   dfl_loss  Instances       Size\n",
            "      37/50      2.01G      1.484     0.8096      1.275         65        640: 100% 28/28 [00:09<00:00,  3.04it/s]\n",
            "                 Class     Images  Instances      Box(P          R      mAP50  mAP50-95): 100% 3/3 [00:01<00:00,  2.69it/s]\n",
            "                   all         96        258      0.881      0.929      0.946      0.493\n",
            "\n",
            "      Epoch    GPU_mem   box_loss   cls_loss   dfl_loss  Instances       Size\n",
            "      38/50      2.03G       1.51     0.8304      1.307         84        640:  39% 11/28 [00:02<00:04,  4.16it/s]libpng warning: iCCP: known incorrect sRGB profile\n",
            "      38/50      2.03G      1.508     0.8187      1.304         64        640: 100% 28/28 [00:08<00:00,  3.39it/s]\n",
            "                 Class     Images  Instances      Box(P          R      mAP50  mAP50-95): 100% 3/3 [00:01<00:00,  1.69it/s]\n",
            "                   all         96        258      0.863      0.909      0.937      0.481\n",
            "\n",
            "      Epoch    GPU_mem   box_loss   cls_loss   dfl_loss  Instances       Size\n",
            "      39/50      2.02G      1.454     0.7971      1.306         81        640:  43% 12/28 [00:03<00:03,  4.06it/s]libpng warning: iCCP: known incorrect sRGB profile\n",
            "      39/50      2.03G      1.473     0.8015      1.302         46        640: 100% 28/28 [00:08<00:00,  3.23it/s]\n",
            "                 Class     Images  Instances      Box(P          R      mAP50  mAP50-95): 100% 3/3 [00:01<00:00,  2.76it/s]\n",
            "                   all         96        258      0.882      0.904      0.939      0.503\n",
            "\n",
            "      Epoch    GPU_mem   box_loss   cls_loss   dfl_loss  Instances       Size\n",
            "      40/50      2.02G      1.495     0.8163      1.288         93        640:  86% 24/28 [00:07<00:01,  3.29it/s]libpng warning: iCCP: known incorrect sRGB profile\n",
            "      40/50      2.03G      1.496     0.8143       1.28         63        640: 100% 28/28 [00:09<00:00,  2.81it/s]\n",
            "                 Class     Images  Instances      Box(P          R      mAP50  mAP50-95): 100% 3/3 [00:01<00:00,  2.52it/s]\n",
            "                   all         96        258      0.881      0.956       0.96      0.488\n",
            "Closing dataloader mosaic\n",
            "\u001b[34m\u001b[1malbumentations: \u001b[0mBlur(p=0.01, blur_limit=(3, 7)), MedianBlur(p=0.01, blur_limit=(3, 7)), ToGray(p=0.01, num_output_channels=3, method='weighted_average'), CLAHE(p=0.01, clip_limit=(1.0, 4.0), tile_grid_size=(8, 8))\n",
            "\n",
            "      Epoch    GPU_mem   box_loss   cls_loss   dfl_loss  Instances       Size\n",
            "      41/50      1.99G      1.499     0.9107      1.294         44        640:  14% 4/28 [00:01<00:10,  2.31it/s]libpng warning: iCCP: known incorrect sRGB profile\n",
            "      41/50      1.99G      1.488     0.8519      1.298         26        640: 100% 28/28 [00:11<00:00,  2.43it/s]\n",
            "                 Class     Images  Instances      Box(P          R      mAP50  mAP50-95): 100% 3/3 [00:01<00:00,  2.86it/s]\n",
            "                   all         96        258      0.843      0.923      0.933      0.494\n",
            "\n",
            "      Epoch    GPU_mem   box_loss   cls_loss   dfl_loss  Instances       Size\n",
            "      42/50         2G      1.497     0.8719      1.297         37        640:  39% 11/28 [00:02<00:03,  4.50it/s]libpng warning: iCCP: known incorrect sRGB profile\n",
            "      42/50         2G      1.478     0.8687      1.313         39        640:  96% 27/28 [00:09<00:00,  3.54it/s]libpng warning: iCCP: known incorrect sRGB profile\n",
            "      42/50      2.01G      1.478     0.8733      1.307         28        640: 100% 28/28 [00:09<00:00,  2.90it/s]\n",
            "                 Class     Images  Instances      Box(P          R      mAP50  mAP50-95): 100% 3/3 [00:01<00:00,  2.47it/s]\n",
            "                   all         96        258      0.874      0.921      0.944      0.497\n",
            "\n",
            "      Epoch    GPU_mem   box_loss   cls_loss   dfl_loss  Instances       Size\n",
            "      43/50      2.03G      1.484     0.8203       1.31         50        640: 100% 28/28 [00:08<00:00,  3.15it/s]\n",
            "                 Class     Images  Instances      Box(P          R      mAP50  mAP50-95): 100% 3/3 [00:01<00:00,  2.63it/s]\n",
            "                   all         96        258      0.884      0.931      0.958      0.499\n",
            "\n",
            "      Epoch    GPU_mem   box_loss   cls_loss   dfl_loss  Instances       Size\n",
            "      44/50      2.01G      1.454     0.7901      1.303         31        640:  57% 16/28 [00:04<00:04,  2.92it/s]libpng warning: iCCP: known incorrect sRGB profile\n",
            "      44/50      2.01G      1.466     0.8003      1.315         33        640: 100% 28/28 [00:08<00:00,  3.40it/s]\n",
            "                 Class     Images  Instances      Box(P          R      mAP50  mAP50-95): 100% 3/3 [00:01<00:00,  2.12it/s]\n",
            "                   all         96        258      0.874       0.95      0.958      0.483\n",
            "\n",
            "      Epoch    GPU_mem   box_loss   cls_loss   dfl_loss  Instances       Size\n",
            "      45/50      2.03G      1.472     0.8398        1.3         36        640:  82% 23/28 [00:06<00:01,  3.51it/s]libpng warning: iCCP: known incorrect sRGB profile\n",
            "      45/50      2.04G      1.482     0.8394      1.305         32        640: 100% 28/28 [00:08<00:00,  3.19it/s]\n",
            "                 Class     Images  Instances      Box(P          R      mAP50  mAP50-95): 100% 3/3 [00:01<00:00,  2.88it/s]\n",
            "                   all         96        258      0.858      0.932      0.933      0.476\n",
            "\n",
            "      Epoch    GPU_mem   box_loss   cls_loss   dfl_loss  Instances       Size\n",
            "      46/50      1.99G      1.473     0.8189      1.301         35        640:  68% 19/28 [00:06<00:02,  3.45it/s]libpng warning: iCCP: known incorrect sRGB profile\n",
            "      46/50      1.99G      1.487     0.8325      1.311         37        640: 100% 28/28 [00:09<00:00,  2.85it/s]\n",
            "                 Class     Images  Instances      Box(P          R      mAP50  mAP50-95): 100% 3/3 [00:01<00:00,  2.78it/s]\n",
            "                   all         96        258      0.864      0.938      0.944      0.491\n",
            "\n",
            "      Epoch    GPU_mem   box_loss   cls_loss   dfl_loss  Instances       Size\n",
            "      47/50      2.03G       1.47     0.8173       1.32         38        640:  54% 15/28 [00:03<00:04,  3.01it/s]libpng warning: iCCP: known incorrect sRGB profile\n",
            "      47/50      2.03G      1.461     0.8045      1.317         35        640: 100% 28/28 [00:09<00:00,  2.89it/s]\n",
            "                 Class     Images  Instances      Box(P          R      mAP50  mAP50-95): 100% 3/3 [00:00<00:00,  3.07it/s]\n",
            "                   all         96        258      0.861       0.95      0.957      0.492\n",
            "\n",
            "      Epoch    GPU_mem   box_loss   cls_loss   dfl_loss  Instances       Size\n",
            "      48/50      2.03G      1.459     0.8268      1.316         46        640:  64% 18/28 [00:04<00:02,  3.36it/s]libpng warning: iCCP: known incorrect sRGB profile\n",
            "      48/50      2.04G      1.469     0.8327      1.318         35        640: 100% 28/28 [00:09<00:00,  3.04it/s]\n",
            "                 Class     Images  Instances      Box(P          R      mAP50  mAP50-95): 100% 3/3 [00:01<00:00,  1.85it/s]\n",
            "                   all         96        258      0.912      0.898      0.954      0.491\n",
            "\n",
            "      Epoch    GPU_mem   box_loss   cls_loss   dfl_loss  Instances       Size\n",
            "      49/50      2.02G      1.439     0.7631      1.274         52        640:  43% 12/28 [00:02<00:04,  3.91it/s]libpng warning: iCCP: known incorrect sRGB profile\n",
            "      49/50      2.03G      1.474     0.7859       1.29         31        640: 100% 28/28 [00:08<00:00,  3.43it/s]\n",
            "                 Class     Images  Instances      Box(P          R      mAP50  mAP50-95): 100% 3/3 [00:01<00:00,  2.96it/s]\n",
            "                   all         96        258      0.907      0.894      0.951      0.494\n",
            "\n",
            "      Epoch    GPU_mem   box_loss   cls_loss   dfl_loss  Instances       Size\n",
            "      50/50      1.99G      1.412     0.7568      1.269         42        640:  54% 15/28 [00:04<00:03,  3.53it/s]libpng warning: iCCP: known incorrect sRGB profile\n",
            "      50/50      1.99G      1.412     0.7682      1.271         29        640: 100% 28/28 [00:09<00:00,  2.95it/s]\n",
            "                 Class     Images  Instances      Box(P          R      mAP50  mAP50-95): 100% 3/3 [00:01<00:00,  2.87it/s]\n",
            "                   all         96        258      0.867      0.946      0.953      0.494\n",
            "\n",
            "50 epochs completed in 0.163 hours.\n",
            "Optimizer stripped from runs/detect/train/weights/last.pt, 6.2MB\n",
            "Optimizer stripped from runs/detect/train/weights/best.pt, 6.2MB\n",
            "\n",
            "Validating runs/detect/train/weights/best.pt...\n",
            "Ultralytics 8.3.82 🚀 Python-3.11.11 torch-2.5.1+cu124 CUDA:0 (Tesla T4, 15095MiB)\n",
            "Model summary (fused): 72 layers, 3,006,038 parameters, 0 gradients, 8.1 GFLOPs\n",
            "                 Class     Images  Instances      Box(P          R      mAP50  mAP50-95): 100% 3/3 [00:01<00:00,  1.84it/s]\n",
            "                   all         96        258       0.87      0.925      0.949      0.502\n",
            "               badshoe         68        196       0.91      0.908       0.97      0.537\n",
            "                  shoe         31         62       0.83      0.943      0.928      0.468\n",
            "Speed: 0.2ms preprocess, 2.0ms inference, 0.0ms loss, 1.8ms postprocess per image\n",
            "Results saved to \u001b[1mruns/detect/train\u001b[0m\n",
            "💡 Learn more at https://docs.ultralytics.com/modes/train\n"
          ]
        }
      ]
    },
    {
      "cell_type": "code",
      "source": [],
      "metadata": {
        "id": "Y7CiulQRWeCq"
      },
      "execution_count": null,
      "outputs": []
    }
  ]
}