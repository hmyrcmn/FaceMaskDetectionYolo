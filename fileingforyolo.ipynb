{
  "nbformat": 4,
  "nbformat_minor": 0,
  "metadata": {
    "colab": {
      "provenance": [],
      "authorship_tag": "ABX9TyMD1DnseJsjgZd8+3WtTOX9",
      "include_colab_link": true
    },
    "kernelspec": {
      "name": "python3",
      "display_name": "Python 3"
    },
    "language_info": {
      "name": "python"
    }
  },
  "cells": [
    {
      "cell_type": "markdown",
      "metadata": {
        "id": "view-in-github",
        "colab_type": "text"
      },
      "source": [
        "<a href=\"https://colab.research.google.com/github/hmyrcmn/FaceMaskDetectionYolo/blob/main/fileingforyolo.ipynb\" target=\"_parent\"><img src=\"https://colab.research.google.com/assets/colab-badge.svg\" alt=\"Open In Colab\"/></a>"
      ]
    },
    {
      "cell_type": "code",
      "source": [
        "from google.colab import drive\n",
        "drive.mount('/content/drive')"
      ],
      "metadata": {
        "colab": {
          "base_uri": "https://localhost:8080/"
        },
        "id": "Ja4W7kAZD-19",
        "outputId": "56f6e729-3de5-49e5-9764-84a840d01726"
      },
      "execution_count": 1,
      "outputs": [
        {
          "output_type": "stream",
          "name": "stdout",
          "text": [
            "Mounted at /content/drive\n"
          ]
        }
      ]
    },
    {
      "cell_type": "code",
      "source": [
        "from zipfile import ZipFile\n",
        "\n",
        "def unzip(zip_path, extract_path):\n",
        "    with ZipFile(zip_path, 'r') as zip_ref:\n",
        "        zip_ref.extractall(extract_path)\n",
        "\n",
        "# Kullanım örneği\n",
        "# Lütfen aşağıdaki dosya yollarını kendi projenize uygun şekilde güncelleyin.\n",
        "zip_file_path = '/content/drive/MyDrive/kısa/TurnikeKısaINPUT.zip'\n",
        "extracted_path = '/content/data/images'\n",
        "\n",
        "unzip(zip_file_path, extracted_path)\n"
      ],
      "metadata": {
        "id": "D_G_2deOE1uW"
      },
      "execution_count": 16,
      "outputs": []
    },
    {
      "cell_type": "code",
      "source": [
        "import os\n",
        "import shutil\n",
        "\n",
        "def move_images_with_labels(label_folder, image_folder, destination_folder):\n",
        "    moved_files = []  # Taşınan dosyaların listesi\n",
        "\n",
        "    # Label klasöründeki .txt dosyalarını listele\n",
        "    txt_files = [file for file in os.listdir(label_folder) if file.endswith('.txt')]\n",
        "\n",
        "    # Her .txt dosyası için işlem yap\n",
        "    for txt_file in txt_files:\n",
        "        # .txt dosyanın adı (uzantısız)\n",
        "        base_name = os.path.splitext(txt_file)[0]\n",
        "\n",
        "        # .png dosyasının adı\n",
        "        png_file = f\"{base_name}.png\"\n",
        "\n",
        "        # .png dosyasının tam yolu\n",
        "        source_png = os.path.join(image_folder, png_file)\n",
        "\n",
        "        # Eğer .png dosyası varsa taşı\n",
        "        if os.path.exists(source_png):\n",
        "            # .png dosyasını yeni klasöre taşı\n",
        "            destination_png = os.path.join(destination_folder, png_file)\n",
        "            shutil.move(source_png, destination_png)\n",
        "\n",
        "            # Taşınan dosyaların adını listeye ekle\n",
        "            moved_files.append(png_file)\n",
        "\n",
        "    return moved_files\n",
        "\n",
        "# Kaynak ve hedef klasörlerini belirt\n",
        "label_folder = '/content/data/labels'  # Etiket dosyalarının bulunduğu klasör\n",
        "image_folder = '/content/data/images'  # Resim dosyalarının bulunduğu klasör\n",
        "destination_folder = '/content/t'  # Resim dosyalarının taşınacağı klasör\n",
        "\n",
        "# Dosyaları taşı ve taşınan dosyaları yazdır\n",
        "moved_files = move_images_with_labels(label_folder, image_folder, destination_folder)\n",
        "print(\"Taşınan dosyalar:\")\n",
        "for moved_file in moved_files:\n",
        "    print(moved_file)\n"
      ],
      "metadata": {
        "colab": {
          "base_uri": "https://localhost:8080/"
        },
        "id": "ZYLI4N4PKngT",
        "outputId": "9832c5f3-b099-40a2-eb43-3d6f40016da8"
      },
      "execution_count": 20,
      "outputs": [
        {
          "output_type": "stream",
          "name": "stdout",
          "text": [
            "Taşınan dosyalar:\n"
          ]
        }
      ]
    },
    {
      "cell_type": "code",
      "source": [
        "import os\n",
        "from zipfile import ZipFile\n",
        "\n",
        "def zip_files(folder_path, zip_name):\n",
        "    with ZipFile(zip_name, 'w') as zipf:\n",
        "        for root, _, files in os.walk(folder_path):\n",
        "            for file in files:\n",
        "                file_path = os.path.join(root, file)\n",
        "                zipf.write(file_path, os.path.relpath(file_path, folder_path))\n",
        "\n",
        "# Örnek kullanım\n",
        "zip_files('/content/t', '/content/t.zip')\n"
      ],
      "metadata": {
        "id": "0Da7jLj4E3uF"
      },
      "execution_count": 24,
      "outputs": []
    }
  ]
}