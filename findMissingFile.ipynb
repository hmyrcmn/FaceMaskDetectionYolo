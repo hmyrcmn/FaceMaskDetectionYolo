{
  "nbformat": 4,
  "nbformat_minor": 0,
  "metadata": {
    "colab": {
      "provenance": [],
      "authorship_tag": "ABX9TyMtAt+2cAIY+4Wu8uc5i89k",
      "include_colab_link": true
    },
    "kernelspec": {
      "name": "python3",
      "display_name": "Python 3"
    },
    "language_info": {
      "name": "python"
    }
  },
  "cells": [
    {
      "cell_type": "markdown",
      "metadata": {
        "id": "view-in-github",
        "colab_type": "text"
      },
      "source": [
        "<a href=\"https://colab.research.google.com/github/hmyrcmn/FaceMaskDetectionYolo/blob/main/findMissingFile.ipynb\" target=\"_parent\"><img src=\"https://colab.research.google.com/assets/colab-badge.svg\" alt=\"Open In Colab\"/></a>"
      ]
    },
    {
      "cell_type": "code",
      "execution_count": 3,
      "metadata": {
        "colab": {
          "base_uri": "https://localhost:8080/"
        },
        "id": "KUSTUs1Luq9e",
        "outputId": "0b5f838b-dfb3-474f-d5d9-fa1da80f11a0"
      },
      "outputs": [
        {
          "output_type": "stream",
          "name": "stdout",
          "text": [
            "Aşağıdaki resimler için JSON dosyası eksik:\n",
            "- Hand__Yasin_1/istockphoto-1165036626-170667a\n",
            "- Hand__Yasin_1/istockphoto-1135844902-1024x1024\n",
            "- Hand__Yasin_1/istockphoto-1203867768-612x612\n",
            "- Hand__Yasin_1/depositphotos_232402884-stock-photo-set-of-woman-hands-showing\n",
            "- Hand__Yasin_1/depositphotos_546486000-stock-photo-elegant-female-palm-or-wrist\n",
            "- Hand__Yasin_1/depositphotos_477178218-stock-photo-gestures-one-person-hand-shows\n",
            "- Hand__Yasin_1/depositphotos_175295806-stock-photo-male-hand-with-four-fingers\n",
            "- Hand__Yasin_1/ff15d0e099eb03c03ba375261e6b8831_res\n",
            "- Hand__Yasin_1/child-hand-counting-fingers-five_628469-497\n"
          ]
        }
      ],
      "source": [
        "import zipfile\n",
        "import os\n",
        "\n",
        "# Zip dosyasının yolunu belirtin\n",
        "zip_file_path = '/content/hıjyerndata.zip'\n",
        "\n",
        "# Zip dosyasını açın\n",
        "with zipfile.ZipFile(zip_file_path, 'r') as zip_ref:\n",
        "    # Tüm dosyaların listesini al\n",
        "    file_list = zip_ref.namelist()\n",
        "\n",
        "    # JSON ve resim dosyalarını iki ayrı listeye ayır\n",
        "    json_files = [os.path.splitext(f)[0] for f in file_list if f.endswith('.json')]\n",
        "    image_files = [os.path.splitext(f)[0] for f in file_list if f.endswith(('.png', '.jpg', '.jpeg'))]\n",
        "\n",
        "    # Her bir resim dosyası için aynı isimde JSON dosyası olup olmadığını kontrol et\n",
        "    missing_json = [img for img in image_files if img not in json_files]\n",
        "\n",
        "    if missing_json:\n",
        "        print(\"Aşağıdaki resimler için JSON dosyası eksik:\")\n",
        "        for img in missing_json:\n",
        "            print(f\"- {img}\")\n",
        "    else:\n",
        "        print(\"Tüm resimler için JSON dosyası mevcut.\")\n"
      ]
    },
    {
      "cell_type": "code",
      "source": [],
      "metadata": {
        "id": "d-G819EyvM4c"
      },
      "execution_count": null,
      "outputs": []
    }
  ]
}