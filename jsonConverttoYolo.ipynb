{
  "nbformat": 4,
  "nbformat_minor": 0,
  "metadata": {
    "colab": {
      "provenance": [],
      "authorship_tag": "ABX9TyOKupjbidUdzSRRoe03KZZ1",
      "include_colab_link": true
    },
    "kernelspec": {
      "name": "python3",
      "display_name": "Python 3"
    },
    "language_info": {
      "name": "python"
    }
  },
  "cells": [
    {
      "cell_type": "markdown",
      "metadata": {
        "id": "view-in-github",
        "colab_type": "text"
      },
      "source": [
        "<a href=\"https://colab.research.google.com/github/hmyrcmn/FaceMaskDetectionYolo/blob/main/jsonConverttoYolo.ipynb\" target=\"_parent\"><img src=\"https://colab.research.google.com/assets/colab-badge.svg\" alt=\"Open In Colab\"/></a>"
      ]
    },
    {
      "cell_type": "code",
      "execution_count": null,
      "metadata": {
        "id": "4HNH8GsQ7TEv"
      },
      "outputs": [],
      "source": [
        "import os\n",
        "import json\n",
        "\n",
        "def json_to_yolov8(json_path, label_mapping, image_width, image_height):\n",
        "    with open(json_path, 'r') as file:\n",
        "        json_data = json.load(file)\n",
        "\n",
        "    image_path = json_data.get(\"imagePath\", \"\")\n",
        "    shapes = json_data.get(\"shapes\", [])\n",
        "\n",
        "    labels = []\n",
        "\n",
        "    for shape in shapes:\n",
        "        label = shape.get(\"label\", \"\")\n",
        "        points = shape.get(\"points\", [])\n",
        "\n",
        "        if label in label_mapping:\n",
        "            class_id = label_mapping[label]\n",
        "            for point in points:\n",
        "                x, y = point\n",
        "                # Görüntü boyutlarına göre normalize et\n",
        "                normalized_x = x / image_width\n",
        "                normalized_y = y / image_height\n",
        "                labels.append(f\"{class_id} {normalized_x} {normalized_y} 1.0 1.0\")\n",
        "\n",
        "    return image_path, labels\n",
        "\n",
        "def process_json_files(json_folder, output_folder, image_width, image_height):\n",
        "    label_mapping = {\n",
        "        \"maskesiz\": 1,\n",
        "        \"maskeli\": 2,\n",
        "        \"boneli\": 3,\n",
        "        \"maskesiz\": 4,\n",
        "        \"onluklu\": 5,\n",
        "        \"onluksuz\": 6\n",
        "    }  # Burada kendi etiketlerinizi ve numaralandırmalarınızı ekleyin.\n",
        "\n",
        "    for filename in os.listdir(json_folder):\n",
        "        if filename.endswith(\".json\"):\n",
        "            json_path = os.path.join(json_folder, filename)\n",
        "            image_path, labels = json_to_yolov8(json_path, label_mapping, image_width, image_height)\n",
        "\n",
        "            output_path = os.path.join(output_folder, f\"{os.path.splitext(filename)[0]}.txt\")\n",
        "\n",
        "            with open(output_path, 'w') as output_file:\n",
        "                output_file.write('\\n'.join(labels))\n",
        "\n",
        "            print(f\"Processed: {json_path} -> {output_path}\")\n",
        "\n",
        "# JSON dosyalarının bulunduğu klasör, çıkış klasörü, görüntü genişliği ve yüksekliğini belirtin\n",
        "json_folder = \"/content/data\"\n",
        "output_folder = \"/content/labels\"\n",
        "image_width = 800  # Görüntü genişliği\n",
        "image_height = 600  # Görüntü yüksekliği\n",
        "\n",
        "# İşlemi başlat\n",
        "process_json_files(json_folder, output_folder, image_width, image_height)\n"
      ]
    },
    {
      "cell_type": "code",
      "source": [
        "import os\n",
        "from zipfile import ZipFile\n",
        "\n",
        "def zip_directory(directory_path, zip_path):\n",
        "    with ZipFile(zip_path, 'w') as zipf:\n",
        "        for root, dirs, files in os.walk(directory_path):\n",
        "            for file in files:\n",
        "                file_path = os.path.join(root, file)\n",
        "                arcname = os.path.relpath(file_path, directory_path)\n",
        "                zipf.write(file_path, arcname=arcname)\n",
        "\n",
        "# Kullanım örneği\n",
        "directory_to_zip = '/content/labels'\n",
        "zip_file_path = '/content/labels.zip'\n",
        "\n",
        "zip_directory(directory_to_zip, zip_file_path)\n"
      ],
      "metadata": {
        "id": "XLGQe-5g7Zxs"
      },
      "execution_count": null,
      "outputs": []
    }
  ]
}