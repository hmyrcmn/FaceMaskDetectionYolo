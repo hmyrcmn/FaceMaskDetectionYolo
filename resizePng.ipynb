{
  "nbformat": 4,
  "nbformat_minor": 0,
  "metadata": {
    "colab": {
      "provenance": [],
      "authorship_tag": "ABX9TyPRnE9Eg005xs4rDJ4UmEAg",
      "include_colab_link": true
    },
    "kernelspec": {
      "name": "python3",
      "display_name": "Python 3"
    },
    "language_info": {
      "name": "python"
    }
  },
  "cells": [
    {
      "cell_type": "markdown",
      "metadata": {
        "id": "view-in-github",
        "colab_type": "text"
      },
      "source": [
        "<a href=\"https://colab.research.google.com/github/hmyrcmn/FaceMaskDetectionYolo/blob/main/resizePng.ipynb\" target=\"_parent\"><img src=\"https://colab.research.google.com/assets/colab-badge.svg\" alt=\"Open In Colab\"/></a>"
      ]
    },
    {
      "cell_type": "code",
      "execution_count": null,
      "metadata": {
        "id": "DkNbdm9R3UDh"
      },
      "outputs": [],
      "source": [
        "import os\n",
        "import shutil\n",
        "\n",
        "def move_images_with_labels(label_folder, image_folder, destination_folder):\n",
        "    moved_files = []  # Taşınan dosyaların listesi\n",
        "\n",
        "    # Label klasöründeki .txt dosyalarını listele\n",
        "    txt_files = [file for file in os.listdir(label_folder) if file.endswith('.txt')]\n",
        "\n",
        "    # Her .txt dosyası için işlem yap\n",
        "    for txt_file in txt_files:\n",
        "        # .txt dosyanın adı (uzantısız)\n",
        "        base_name = os.path.splitext(txt_file)[0]\n",
        "\n",
        "        # .png dosyasının adı\n",
        "        png_file = f\"{base_name}.png\"\n",
        "\n",
        "        # .png dosyasının tam yolu\n",
        "        source_png = os.path.join(image_folder, png_file)\n",
        "\n",
        "        # Eğer .png dosyası varsa taşı\n",
        "        if os.path.exists(source_png):\n",
        "            # .png dosyasını yeni klasöre taşı\n",
        "            destination_png = os.path.join(destination_folder, png_file)\n",
        "            shutil.move(source_png, destination_png)\n",
        "\n",
        "            # Taşınan dosyaların adını listeye ekle\n",
        "            moved_files.append(png_file)\n",
        "\n",
        "    return moved_files\n",
        "\n",
        "# Kaynak ve hedef klasörlerini belirt\n",
        "label_folder = '/content/data/labels'  # Etiket dosyalarının bulunduğu klasör\n",
        "image_folder = '/content/data/images/koridorInput'  # Resim dosyalarının bulunduğu klasör\n",
        "destination_folder = '/content/t'  # Resim dosyalarının taşınacağı klasör\n",
        "\n",
        "# Dosyaları taşı ve taşınan dosyaları yazdır\n",
        "moved_files = move_images_with_labels(label_folder, image_folder, destination_folder)\n",
        "print(\"Taşınan dosyalar:\")\n",
        "for moved_file in moved_files:\n",
        "    print(moved_file)\n"
      ]
    },
    {
      "cell_type": "code",
      "source": [
        "import os\n",
        "from zipfile import ZipFile\n",
        "\n",
        "def zip_files(folder_path, zip_name):\n",
        "    with ZipFile(zip_name, 'w') as zipf:\n",
        "        for root, _, files in os.walk(folder_path):\n",
        "            for file in files:\n",
        "                file_path = os.path.join(root, file)\n",
        "                zipf.write(file_path, os.path.relpath(file_path, folder_path))\n",
        "\n",
        "# Örnek kullanım\n",
        "zip_files('/content/a/l', '/content/a/l.zip')\n"
      ],
      "metadata": {
        "id": "siOaViij3W5C"
      },
      "execution_count": null,
      "outputs": []
    }
  ]
}